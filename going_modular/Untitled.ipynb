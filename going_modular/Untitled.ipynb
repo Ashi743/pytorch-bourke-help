{
 "cells": [
  {
   "cell_type": "code",
   "execution_count": null,
   "id": "bfbfafa4-d5c4-4fcc-bb4e-04271b5f94f8",
   "metadata": {},
   "outputs": [],
   "source": []
  }
 ],
 "metadata": {
  "kernelspec": {
   "display_name": ".venv_pytorch_gpu (py311)",
   "language": "python",
   "name": ".venv_pytorch_gpu"
  },
  "language_info": {
   "codemirror_mode": {
    "name": "ipython",
    "version": 3
   },
   "file_extension": ".py",
   "mimetype": "text/x-python",
   "name": "python",
   "nbconvert_exporter": "python",
   "pygments_lexer": "ipython3",
   "version": "3.10.14"
  }
 },
 "nbformat": 4,
 "nbformat_minor": 5
}
