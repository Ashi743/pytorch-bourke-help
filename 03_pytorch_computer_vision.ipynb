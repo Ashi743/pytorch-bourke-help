{
 "cells": [
  {
   "cell_type": "markdown",
   "id": "c2dc16c4-c7f4-4945-ba91-6430a51e6f5a",
   "metadata": {
    "id": "c2dc16c4-c7f4-4945-ba91-6430a51e6f5a"
   },
   "source": [
    "<a href=\"https://colab.research.google.com/github/mrdbourke/pytorch-deep-learning/blob/main/03_pytorch_computer_vision.ipynb\" target=\"_parent\"><img src=\"https://colab.research.google.com/assets/colab-badge.svg\" alt=\"Open In Colab\"/></a>\n",
    "\n",
    "[View Source Code](https://github.com/mrdbourke/pytorch-deep-learning/blob/main/03_pytorch_computer_vision.ipynb) | [View Slides](https://github.com/mrdbourke/pytorch-deep-learning/blob/main/slides/03_pytorch_computer_vision.pdf) | [Watch Video Walkthrough](https://youtu.be/Z_ikDlimN6A?t=50417) "
   ]
  },
  {
   "cell_type": "markdown",
   "id": "08f47c6a-3318-4e3f-8bb3-c520e00e63dd",
   "metadata": {
    "id": "08f47c6a-3318-4e3f-8bb3-c520e00e63dd"
   },
   "source": [
    "# 03. PyTorch Computer Vision\n",
    "\n",
    "[Computer vision](https://en.wikipedia.org/wiki/Computer_vision) is the art of teaching a computer to see.\n",
    "\n",
    "For example, it could involve building a model to classify whether a photo is of a cat or a dog ([binary classification](https://developers.google.com/machine-learning/glossary#binary-classification)).\n",
    "\n",
    "Or whether a photo is of a cat, dog or chicken ([multi-class classification](https://developers.google.com/machine-learning/glossary#multi-class-classification)).\n",
    "\n",
    "Or identifying where a car appears in a video frame ([object detection](https://en.wikipedia.org/wiki/Object_detection)).\n",
    "\n",
    "Or figuring out where different objects in an image can be separated ([panoptic segmentation](https://arxiv.org/abs/1801.00868)).\n",
    "\n",
    "![example computer vision problems](https://raw.githubusercontent.com/mrdbourke/pytorch-deep-learning/main/images/03-computer-vision-problems.png)\n",
    "*Example computer vision problems for binary classification, multiclass classification, object detection and segmentation.*"
   ]
  },
  {
   "cell_type": "markdown",
   "id": "19179a39-0c6c-40f7-9891-09e17d107ecf",
   "metadata": {
    "id": "19179a39-0c6c-40f7-9891-09e17d107ecf"
   },
   "source": [
    "## Where does computer vision get used?\n",
    "\n",
    "If you use a smartphone, you've already used computer vision.\n",
    "\n",
    "Camera and photo apps use [computer vision to enhance](https://machinelearning.apple.com/research/panoptic-segmentation) and sort images.\n",
    "\n",
    "Modern cars use [computer vision](https://youtu.be/j0z4FweCy4M?t=2989) to avoid other cars and stay within lane lines.\n",
    "\n",
    "Manufacturers use computer vision to identify defects in various products.\n",
    "\n",
    "Security cameras use computer vision to detect potential intruders.\n",
    "\n",
    "In essence, anything that can described in a visual sense can be a potential computer vision problem."
   ]
  },
  {
   "cell_type": "markdown",
   "id": "412e8bd1-0e6b-4ad6-8506-b28a8f669dc1",
   "metadata": {
    "id": "412e8bd1-0e6b-4ad6-8506-b28a8f669dc1"
   },
   "source": [
    "## What we're going to cover\n",
    "\n",
    "We're going to apply the PyTorch Workflow we've been learning in the past couple of sections to computer vision.\n",
    "\n",
    "![a PyTorch workflow with a computer vision focus](https://raw.githubusercontent.com/mrdbourke/pytorch-deep-learning/main/images/03-pytorch-computer-vision-workflow.png)\n",
    "\n",
    "Specifically, we're going to cover:\n",
    "\n",
    "| **Topic** | **Contents** |\n",
    "| ----- | ----- |\n",
    "| **0. Computer vision libraries in PyTorch** | PyTorch has a bunch of built-in helpful computer vision libraries, let's check them out.  |\n",
    "| **1. Load data** | To practice computer vision, we'll start with some images of different pieces of clothing from [FashionMNIST](https://github.com/zalandoresearch/fashion-mnist). |\n",
    "| **2. Prepare data** | We've got some images, let's load them in with a [PyTorch `DataLoader`](https://pytorch.org/docs/stable/data.html) so we can use them with our training loop. |\n",
    "| **3. Model 0: Building a baseline model** | Here we'll create a multi-class classification model to learn patterns in the data, we'll also choose a **loss function**, **optimizer** and build a **training loop**. | \n",
    "| **4. Making predictions and evaluting model 0** | Let's make some predictions with our baseline model and evaluate them. |\n",
    "| **5. Setup device agnostic code for future models** | It's best practice to write device-agnostic code, so let's set it up. |\n",
    "| **6. Model 1: Adding non-linearity** | Experimenting is a large part of machine learning, let's try and improve upon our baseline model by adding non-linear layers. |\n",
    "| **7. Model 2: Convolutional Neural Network (CNN)** | Time to get computer vision specific and introduce the powerful convolutional neural network architecture. |\n",
    "| **8. Comparing our models** | We've built three different models, let's compare them. |\n",
    "| **9. Evaluating our best model** | Let's make some predictons on random images and evaluate our best model. |\n",
    "| **10. Making a confusion matrix** | A confusion matrix is a great way to evaluate a classification model, let's see how we can make one. |\n",
    "| **11. Saving and loading the best performing model** | Since we might want to use our model for later, let's save it and make sure it loads back in correctly. |"
   ]
  },
  {
   "cell_type": "markdown",
   "id": "cddf62c3-f5e5-4f7e-852a-2ad6d38b7399",
   "metadata": {
    "id": "cddf62c3-f5e5-4f7e-852a-2ad6d38b7399"
   },
   "source": [
    "## Where can can you get help?\n",
    "\n",
    "All of the materials for this course [live on GitHub](https://github.com/mrdbourke/pytorch-deep-learning).\n",
    "\n",
    "If you run into trouble, you can ask a question on the course [GitHub Discussions page](https://github.com/mrdbourke/pytorch-deep-learning/discussions) there too.\n",
    "\n",
    "And of course, there's the [PyTorch documentation](https://pytorch.org/docs/stable/index.html) and [PyTorch developer forums](https://discuss.pytorch.org/), a very helpful place for all things PyTorch. "
   ]
  },
  {
   "cell_type": "markdown",
   "id": "a0bedcfc-e12a-4a81-9913-84c6a888742a",
   "metadata": {
    "id": "a0bedcfc-e12a-4a81-9913-84c6a888742a"
   },
   "source": [
    "## 0. Computer vision libraries in PyTorch\n",
    "\n",
    "Before we get started writing code, let's talk about some PyTorch computer vision libraries you should be aware of.\n",
    "\n",
    "| PyTorch module | What does it do? |\n",
    "| ----- | ----- |\n",
    "| [`torchvision`](https://pytorch.org/vision/stable/index.html) | Contains datasets, model architectures and image transformations often used for computer vision problems. |\n",
    "| [`torchvision.datasets`](https://pytorch.org/vision/stable/datasets.html) | Here you'll find many example computer vision datasets for a range of problems from image classification, object detection, image captioning, video classification and more. It also contains [a series of base classes for making custom datasets](https://pytorch.org/vision/stable/datasets.html#base-classes-for-custom-datasets). |\n",
    "| [`torchvision.models`](https://pytorch.org/vision/stable/models.html) | This module contains well-performing and commonly used computer vision model architectures implemented in PyTorch, you can use these with your own problems. | \n",
    "| [`torchvision.transforms`](https://pytorch.org/vision/stable/transforms.html) | Often images need to be transformed (turned into numbers/processed/augmented) before being used with a model, common image transformations are found here. | \n",
    "| [`torch.utils.data.Dataset`](https://pytorch.org/docs/stable/data.html#torch.utils.data.Dataset) | Base dataset class for PyTorch.  | \n",
    "| [`torch.utils.data.DataLoader`](https://pytorch.org/docs/stable/data.html#module-torch.utils.data) | Creates a Python iterable over a dataset (created with `torch.utils.data.Dataset`). |\n",
    "\n",
    "> **Note:** The `torch.utils.data.Dataset` and `torch.utils.data.DataLoader` classes aren't only for computer vision in PyTorch, they are capable of dealing with many different types of data.\n",
    "\n",
    "Now we've covered some of the most important PyTorch computer vision libraries, let's import the relevant dependencies.\n"
   ]
  },
  {
   "cell_type": "code",
   "execution_count": 1,
   "id": "c263a60d-d788-482f-b9e7-9cab4f6b1f72",
   "metadata": {
    "colab": {
     "base_uri": "https://localhost:8080/"
    },
    "id": "c263a60d-d788-482f-b9e7-9cab4f6b1f72",
    "outputId": "20ba933b-6026-475f-a8d9-12cf416aff74"
   },
   "outputs": [
    {
     "name": "stdout",
     "output_type": "stream",
     "text": [
      "PyTorch version: 2.4.1\n",
      "torchvision version: 0.19.1\n"
     ]
    }
   ],
   "source": [
    "# Import PyTorch\n",
    "import torch\n",
    "from torch import nn\n",
    "\n",
    "# Import torchvision \n",
    "import torchvision\n",
    "from torchvision import datasets\n",
    "from torchvision.transforms import ToTensor\n",
    "\n",
    "# Import matplotlib for visualization\n",
    "import matplotlib.pyplot as plt\n",
    "\n",
    "# Check versions\n",
    "# Note: your PyTorch version shouldn't be lower than 1.10.0 and torchvision version shouldn't be lower than 0.11\n",
    "print(f\"PyTorch version: {torch.__version__}\\ntorchvision version: {torchvision.__version__}\")"
   ]
  },
  {
   "cell_type": "markdown",
   "id": "48d6bfe7-91da-44eb-9ab6-7c41c1e9fa8e",
   "metadata": {
    "id": "48d6bfe7-91da-44eb-9ab6-7c41c1e9fa8e"
   },
   "source": [
    "## 1. Getting a dataset\n",
    "\n",
    "To begin working on a computer vision problem, let's get a computer vision dataset.\n",
    "\n",
    "We're going to start with FashionMNIST.\n",
    "\n",
    "MNIST stands for Modified National Institute of Standards and Technology.\n",
    "\n",
    "The [original MNIST dataset](https://en.wikipedia.org/wiki/MNIST_database) contains thousands of examples of handwritten digits (from 0 to 9) and was used to build computer vision models to identify numbers for postal services.\n",
    "\n",
    "[FashionMNIST](https://github.com/zalandoresearch/fashion-mnist), made by Zalando Research, is a similar setup. \n",
    "\n",
    "Except it contains grayscale images of 10 different kinds of clothing.\n",
    "\n",
    "![example image of FashionMNIST](https://raw.githubusercontent.com/mrdbourke/pytorch-deep-learning/main/images/03-fashion-mnist-slide.png)\n",
    "*`torchvision.datasets` contains a lot of example datasets you can use to practice writing computer vision code on. FashionMNIST is one of those datasets. And since it has 10 different image classes (different types of clothing), it's a multi-class classification problem.*\n",
    "\n",
    "Later, we'll be building a computer vision neural network to identify the different styles of clothing in these images.\n",
    "\n",
    "PyTorch has a bunch of common computer vision datasets stored in `torchvision.datasets`.\n",
    "\n",
    "Including FashionMNIST in [`torchvision.datasets.FashionMNIST()`](https://pytorch.org/vision/main/generated/torchvision.datasets.FashionMNIST.html).\n",
    "\n",
    "To download it, we provide the following parameters:\n",
    "* `root: str` - which folder do you want to download the data to?\n",
    "* `train: Bool` - do you want the training or test split?\n",
    "* `download: Bool` - should the data be downloaded?\n",
    "* `transform: torchvision.transforms` - what transformations would you like to do on the data?\n",
    "* `target_transform` - you can transform the targets (labels) if you like too.\n",
    "\n",
    "Many other datasets in `torchvision` have these parameter options."
   ]
  },
  {
   "cell_type": "code",
   "execution_count": 2,
   "id": "486f8377-6810-4367-859d-69dccc7aef95",
   "metadata": {
    "colab": {
     "base_uri": "https://localhost:8080/"
    },
    "id": "486f8377-6810-4367-859d-69dccc7aef95",
    "outputId": "877f93b2-12c5-477e-92bf-3ec3f1449282"
   },
   "outputs": [],
   "source": [
    "# Setup training data\n",
    "train_data = datasets.FashionMNIST(\n",
    "    root=\"data\", # where to download data to?\n",
    "    train=True, # get training data\n",
    "    download=True, # download data if it doesn't exist on disk\n",
    "    transform=ToTensor(), # images come as PIL format, we want to turn into Torch tensors\n",
    "    target_transform=None # you can transform labels as well\n",
    ")\n",
    "\n",
    "# Setup testing data\n",
    "test_data = datasets.FashionMNIST(\n",
    "    root=\"data\",\n",
    "    train=False, # get test data\n",
    "    download=True,\n",
    "    transform=ToTensor()\n",
    ")"
   ]
  },
  {
   "cell_type": "markdown",
   "id": "a63246f6-3645-49de-88fe-ec18e78bfbaf",
   "metadata": {
    "id": "a63246f6-3645-49de-88fe-ec18e78bfbaf"
   },
   "source": [
    "Let's check out the first sample of the training data."
   ]
  },
  {
   "cell_type": "code",
   "execution_count": 3,
   "id": "43bfd3d9-a132-41e8-8ccd-5ae25a7da59a",
   "metadata": {
    "colab": {
     "base_uri": "https://localhost:8080/"
    },
    "id": "43bfd3d9-a132-41e8-8ccd-5ae25a7da59a",
    "outputId": "1595e80b-6a3f-4171-a128-ec506b4d8326"
   },
   "outputs": [
    {
     "data": {
      "text/plain": [
       "(tensor([[[0.0000, 0.0000, 0.0000, 0.0000, 0.0000, 0.0000, 0.0000, 0.0000,\n",
       "           0.0000, 0.0000, 0.0000, 0.0000, 0.0000, 0.0000, 0.0000, 0.0000,\n",
       "           0.0000, 0.0000, 0.0000, 0.0000, 0.0000, 0.0000, 0.0000, 0.0000,\n",
       "           0.0000, 0.0000, 0.0000, 0.0000],\n",
       "          [0.0000, 0.0000, 0.0000, 0.0000, 0.0000, 0.0000, 0.0000, 0.0000,\n",
       "           0.0000, 0.0000, 0.0000, 0.0000, 0.0000, 0.0000, 0.0000, 0.0000,\n",
       "           0.0000, 0.0000, 0.0000, 0.0000, 0.0000, 0.0000, 0.0000, 0.0000,\n",
       "           0.0000, 0.0000, 0.0000, 0.0000],\n",
       "          [0.0000, 0.0000, 0.0000, 0.0000, 0.0000, 0.0000, 0.0000, 0.0000,\n",
       "           0.0000, 0.0000, 0.0000, 0.0000, 0.0000, 0.0000, 0.0000, 0.0000,\n",
       "           0.0000, 0.0000, 0.0000, 0.0000, 0.0000, 0.0000, 0.0000, 0.0000,\n",
       "           0.0000, 0.0000, 0.0000, 0.0000],\n",
       "          [0.0000, 0.0000, 0.0000, 0.0000, 0.0000, 0.0000, 0.0000, 0.0000,\n",
       "           0.0000, 0.0000, 0.0000, 0.0000, 0.0039, 0.0000, 0.0000, 0.0510,\n",
       "           0.2863, 0.0000, 0.0000, 0.0039, 0.0157, 0.0000, 0.0000, 0.0000,\n",
       "           0.0000, 0.0039, 0.0039, 0.0000],\n",
       "          [0.0000, 0.0000, 0.0000, 0.0000, 0.0000, 0.0000, 0.0000, 0.0000,\n",
       "           0.0000, 0.0000, 0.0000, 0.0000, 0.0118, 0.0000, 0.1412, 0.5333,\n",
       "           0.4980, 0.2431, 0.2118, 0.0000, 0.0000, 0.0000, 0.0039, 0.0118,\n",
       "           0.0157, 0.0000, 0.0000, 0.0118],\n",
       "          [0.0000, 0.0000, 0.0000, 0.0000, 0.0000, 0.0000, 0.0000, 0.0000,\n",
       "           0.0000, 0.0000, 0.0000, 0.0000, 0.0235, 0.0000, 0.4000, 0.8000,\n",
       "           0.6902, 0.5255, 0.5647, 0.4824, 0.0902, 0.0000, 0.0000, 0.0000,\n",
       "           0.0000, 0.0471, 0.0392, 0.0000],\n",
       "          [0.0000, 0.0000, 0.0000, 0.0000, 0.0000, 0.0000, 0.0000, 0.0000,\n",
       "           0.0000, 0.0000, 0.0000, 0.0000, 0.0000, 0.0000, 0.6078, 0.9255,\n",
       "           0.8118, 0.6980, 0.4196, 0.6118, 0.6314, 0.4275, 0.2510, 0.0902,\n",
       "           0.3020, 0.5098, 0.2824, 0.0588],\n",
       "          [0.0000, 0.0000, 0.0000, 0.0000, 0.0000, 0.0000, 0.0000, 0.0000,\n",
       "           0.0000, 0.0000, 0.0000, 0.0039, 0.0000, 0.2706, 0.8118, 0.8745,\n",
       "           0.8549, 0.8471, 0.8471, 0.6392, 0.4980, 0.4745, 0.4784, 0.5725,\n",
       "           0.5529, 0.3451, 0.6745, 0.2588],\n",
       "          [0.0000, 0.0000, 0.0000, 0.0000, 0.0000, 0.0000, 0.0000, 0.0000,\n",
       "           0.0000, 0.0039, 0.0039, 0.0039, 0.0000, 0.7843, 0.9098, 0.9098,\n",
       "           0.9137, 0.8980, 0.8745, 0.8745, 0.8431, 0.8353, 0.6431, 0.4980,\n",
       "           0.4824, 0.7686, 0.8980, 0.0000],\n",
       "          [0.0000, 0.0000, 0.0000, 0.0000, 0.0000, 0.0000, 0.0000, 0.0000,\n",
       "           0.0000, 0.0000, 0.0000, 0.0000, 0.0000, 0.7176, 0.8824, 0.8471,\n",
       "           0.8745, 0.8941, 0.9216, 0.8902, 0.8784, 0.8706, 0.8784, 0.8667,\n",
       "           0.8745, 0.9608, 0.6784, 0.0000],\n",
       "          [0.0000, 0.0000, 0.0000, 0.0000, 0.0000, 0.0000, 0.0000, 0.0000,\n",
       "           0.0000, 0.0000, 0.0000, 0.0000, 0.0000, 0.7569, 0.8941, 0.8549,\n",
       "           0.8353, 0.7765, 0.7059, 0.8314, 0.8235, 0.8275, 0.8353, 0.8745,\n",
       "           0.8627, 0.9529, 0.7922, 0.0000],\n",
       "          [0.0000, 0.0000, 0.0000, 0.0000, 0.0000, 0.0000, 0.0000, 0.0000,\n",
       "           0.0000, 0.0039, 0.0118, 0.0000, 0.0471, 0.8588, 0.8627, 0.8314,\n",
       "           0.8549, 0.7529, 0.6627, 0.8902, 0.8157, 0.8549, 0.8784, 0.8314,\n",
       "           0.8863, 0.7725, 0.8196, 0.2039],\n",
       "          [0.0000, 0.0000, 0.0000, 0.0000, 0.0000, 0.0000, 0.0000, 0.0000,\n",
       "           0.0000, 0.0000, 0.0235, 0.0000, 0.3882, 0.9569, 0.8706, 0.8627,\n",
       "           0.8549, 0.7961, 0.7765, 0.8667, 0.8431, 0.8353, 0.8706, 0.8627,\n",
       "           0.9608, 0.4667, 0.6549, 0.2196],\n",
       "          [0.0000, 0.0000, 0.0000, 0.0000, 0.0000, 0.0000, 0.0000, 0.0000,\n",
       "           0.0000, 0.0157, 0.0000, 0.0000, 0.2157, 0.9255, 0.8941, 0.9020,\n",
       "           0.8941, 0.9412, 0.9098, 0.8353, 0.8549, 0.8745, 0.9176, 0.8510,\n",
       "           0.8510, 0.8196, 0.3608, 0.0000],\n",
       "          [0.0000, 0.0000, 0.0039, 0.0157, 0.0235, 0.0275, 0.0078, 0.0000,\n",
       "           0.0000, 0.0000, 0.0000, 0.0000, 0.9294, 0.8863, 0.8510, 0.8745,\n",
       "           0.8706, 0.8588, 0.8706, 0.8667, 0.8471, 0.8745, 0.8980, 0.8431,\n",
       "           0.8549, 1.0000, 0.3020, 0.0000],\n",
       "          [0.0000, 0.0118, 0.0000, 0.0000, 0.0000, 0.0000, 0.0000, 0.0000,\n",
       "           0.0000, 0.2431, 0.5686, 0.8000, 0.8941, 0.8118, 0.8353, 0.8667,\n",
       "           0.8549, 0.8157, 0.8275, 0.8549, 0.8784, 0.8745, 0.8588, 0.8431,\n",
       "           0.8784, 0.9569, 0.6235, 0.0000],\n",
       "          [0.0000, 0.0000, 0.0000, 0.0000, 0.0706, 0.1725, 0.3216, 0.4196,\n",
       "           0.7412, 0.8941, 0.8627, 0.8706, 0.8510, 0.8863, 0.7843, 0.8039,\n",
       "           0.8275, 0.9020, 0.8784, 0.9176, 0.6902, 0.7373, 0.9804, 0.9725,\n",
       "           0.9137, 0.9333, 0.8431, 0.0000],\n",
       "          [0.0000, 0.2235, 0.7333, 0.8157, 0.8784, 0.8667, 0.8784, 0.8157,\n",
       "           0.8000, 0.8392, 0.8157, 0.8196, 0.7843, 0.6235, 0.9608, 0.7569,\n",
       "           0.8078, 0.8745, 1.0000, 1.0000, 0.8667, 0.9176, 0.8667, 0.8275,\n",
       "           0.8627, 0.9098, 0.9647, 0.0000],\n",
       "          [0.0118, 0.7922, 0.8941, 0.8784, 0.8667, 0.8275, 0.8275, 0.8392,\n",
       "           0.8039, 0.8039, 0.8039, 0.8627, 0.9412, 0.3137, 0.5882, 1.0000,\n",
       "           0.8980, 0.8667, 0.7373, 0.6039, 0.7490, 0.8235, 0.8000, 0.8196,\n",
       "           0.8706, 0.8941, 0.8824, 0.0000],\n",
       "          [0.3843, 0.9137, 0.7765, 0.8235, 0.8706, 0.8980, 0.8980, 0.9176,\n",
       "           0.9765, 0.8627, 0.7608, 0.8431, 0.8510, 0.9451, 0.2549, 0.2863,\n",
       "           0.4157, 0.4588, 0.6588, 0.8588, 0.8667, 0.8431, 0.8510, 0.8745,\n",
       "           0.8745, 0.8784, 0.8980, 0.1137],\n",
       "          [0.2941, 0.8000, 0.8314, 0.8000, 0.7569, 0.8039, 0.8275, 0.8824,\n",
       "           0.8471, 0.7255, 0.7725, 0.8078, 0.7765, 0.8353, 0.9412, 0.7647,\n",
       "           0.8902, 0.9608, 0.9373, 0.8745, 0.8549, 0.8314, 0.8196, 0.8706,\n",
       "           0.8627, 0.8667, 0.9020, 0.2627],\n",
       "          [0.1882, 0.7961, 0.7176, 0.7608, 0.8353, 0.7725, 0.7255, 0.7451,\n",
       "           0.7608, 0.7529, 0.7922, 0.8392, 0.8588, 0.8667, 0.8627, 0.9255,\n",
       "           0.8824, 0.8471, 0.7804, 0.8078, 0.7294, 0.7098, 0.6941, 0.6745,\n",
       "           0.7098, 0.8039, 0.8078, 0.4510],\n",
       "          [0.0000, 0.4784, 0.8588, 0.7569, 0.7020, 0.6706, 0.7176, 0.7686,\n",
       "           0.8000, 0.8235, 0.8353, 0.8118, 0.8275, 0.8235, 0.7843, 0.7686,\n",
       "           0.7608, 0.7490, 0.7647, 0.7490, 0.7765, 0.7529, 0.6902, 0.6118,\n",
       "           0.6549, 0.6941, 0.8235, 0.3608],\n",
       "          [0.0000, 0.0000, 0.2902, 0.7412, 0.8314, 0.7490, 0.6863, 0.6745,\n",
       "           0.6863, 0.7098, 0.7255, 0.7373, 0.7412, 0.7373, 0.7569, 0.7765,\n",
       "           0.8000, 0.8196, 0.8235, 0.8235, 0.8275, 0.7373, 0.7373, 0.7608,\n",
       "           0.7529, 0.8471, 0.6667, 0.0000],\n",
       "          [0.0078, 0.0000, 0.0000, 0.0000, 0.2588, 0.7843, 0.8706, 0.9294,\n",
       "           0.9373, 0.9490, 0.9647, 0.9529, 0.9569, 0.8667, 0.8627, 0.7569,\n",
       "           0.7490, 0.7020, 0.7137, 0.7137, 0.7098, 0.6902, 0.6510, 0.6588,\n",
       "           0.3882, 0.2275, 0.0000, 0.0000],\n",
       "          [0.0000, 0.0000, 0.0000, 0.0000, 0.0000, 0.0000, 0.0000, 0.1569,\n",
       "           0.2392, 0.1725, 0.2824, 0.1608, 0.1373, 0.0000, 0.0000, 0.0000,\n",
       "           0.0000, 0.0000, 0.0000, 0.0000, 0.0000, 0.0000, 0.0000, 0.0000,\n",
       "           0.0000, 0.0000, 0.0000, 0.0000],\n",
       "          [0.0000, 0.0000, 0.0000, 0.0000, 0.0000, 0.0000, 0.0000, 0.0000,\n",
       "           0.0000, 0.0000, 0.0000, 0.0000, 0.0000, 0.0000, 0.0000, 0.0000,\n",
       "           0.0000, 0.0000, 0.0000, 0.0000, 0.0000, 0.0000, 0.0000, 0.0000,\n",
       "           0.0000, 0.0000, 0.0000, 0.0000],\n",
       "          [0.0000, 0.0000, 0.0000, 0.0000, 0.0000, 0.0000, 0.0000, 0.0000,\n",
       "           0.0000, 0.0000, 0.0000, 0.0000, 0.0000, 0.0000, 0.0000, 0.0000,\n",
       "           0.0000, 0.0000, 0.0000, 0.0000, 0.0000, 0.0000, 0.0000, 0.0000,\n",
       "           0.0000, 0.0000, 0.0000, 0.0000]]]),\n",
       " 9,\n",
       " 60000)"
      ]
     },
     "execution_count": 3,
     "metadata": {},
     "output_type": "execute_result"
    }
   ],
   "source": [
    "# See first training sample\n",
    "image, label = train_data[0]\n",
    "image, label, len(train_data)"
   ]
  },
  {
   "cell_type": "code",
   "execution_count": 4,
   "id": "8400d003",
   "metadata": {},
   "outputs": [
    {
     "data": {
      "text/plain": [
       "{'T-shirt/top': 0,\n",
       " 'Trouser': 1,\n",
       " 'Pullover': 2,\n",
       " 'Dress': 3,\n",
       " 'Coat': 4,\n",
       " 'Sandal': 5,\n",
       " 'Shirt': 6,\n",
       " 'Sneaker': 7,\n",
       " 'Bag': 8,\n",
       " 'Ankle boot': 9}"
      ]
     },
     "execution_count": 4,
     "metadata": {},
     "output_type": "execute_result"
    }
   ],
   "source": [
    "class_to_idx = train_data.class_to_idx\n",
    "class_to_idx"
   ]
  },
  {
   "cell_type": "markdown",
   "id": "9ad9d782-06cb-4591-ae3c-3a8b2389a1b2",
   "metadata": {
    "id": "9ad9d782-06cb-4591-ae3c-3a8b2389a1b2"
   },
   "source": [
    "### 1.1 Input and output shapes of a computer vision model\n",
    "\n",
    "We've got a big tensor of values (the image) leading to a single value for the target (the label).\n",
    "\n",
    "Let's see the image shape."
   ]
  },
  {
   "cell_type": "code",
   "execution_count": 5,
   "id": "c2997d9f-b574-4d23-aa34-1a4df1751226",
   "metadata": {
    "colab": {
     "base_uri": "https://localhost:8080/"
    },
    "id": "c2997d9f-b574-4d23-aa34-1a4df1751226",
    "outputId": "d9c4283b-aab8-410f-dd7f-03f08d943366"
   },
   "outputs": [
    {
     "data": {
      "text/plain": [
       "torch.Size([1, 28, 28])"
      ]
     },
     "execution_count": 5,
     "metadata": {},
     "output_type": "execute_result"
    }
   ],
   "source": [
    "# What's the shape of the image?\n",
    "image.shape"
   ]
  },
  {
   "cell_type": "code",
   "execution_count": 6,
   "id": "c6a0a8bb",
   "metadata": {},
   "outputs": [
    {
     "data": {
      "text/plain": [
       "9"
      ]
     },
     "execution_count": 6,
     "metadata": {},
     "output_type": "execute_result"
    }
   ],
   "source": [
    "label"
   ]
  },
  {
   "cell_type": "markdown",
   "id": "b5326a05-f807-448d-99a3-6d03fc8739f8",
   "metadata": {
    "id": "b5326a05-f807-448d-99a3-6d03fc8739f8"
   },
   "source": [
    "The shape of the image tensor is `[1, 28, 28]` or more specifically:\n",
    "\n",
    "```\n",
    "[color_channels=1, height=28, width=28]\n",
    "```\n",
    "\n",
    "Having `color_channels=1` means the image is grayscale.\n",
    "\n",
    "![example input and output shapes of the fashionMNIST problem](https://raw.githubusercontent.com/mrdbourke/pytorch-deep-learning/main/images/03-computer-vision-input-and-output-shapes.png)\n",
    "*Various problems will have various input and output shapes. But the premise remains: encode data into numbers, build a model to find patterns in those numbers, convert those patterns into something meaningful.*\n",
    "\n",
    "If `color_channels=3`, the image comes in pixel values for red, green and blue (this is also known a the [RGB color model](https://en.wikipedia.org/wiki/RGB_color_model)).\n",
    "\n",
    "The order of our current tensor is often referred to as `CHW` (Color Channels, Height, Width).\n",
    "\n",
    "There's debate on whether images should be represented as `CHW` (color channels first) or `HWC` (color channels last).\n",
    "\n",
    "> **Note:** You'll also see `NCHW` and `NHWC` formats where `N` stands for *number of images*. For example if you have a `batch_size=32`, your tensor shape may be `[32, 1, 28, 28]`. We'll cover batch sizes later.\n",
    "\n",
    "PyTorch generally accepts `NCHW` (channels first) as the default for many operators.\n",
    "\n",
    "However, PyTorch also explains that `NHWC` (channels last) performs better and is [considered best practice](https://pytorch.org/blog/tensor-memory-format-matters/#pytorch-best-practice). \n",
    "\n",
    "For now, since our dataset and models are relatively small, this won't make too much of a difference.\n",
    "\n",
    "But keep it in mind for when you're working on larger image datasets and using convolutional neural networks (we'll see these later).\n",
    "\n",
    "Let's check out more shapes of our data."
   ]
  },
  {
   "cell_type": "code",
   "execution_count": 7,
   "id": "fc4f768c-c3f6-454d-a633-673ad1d6eca0",
   "metadata": {
    "colab": {
     "base_uri": "https://localhost:8080/"
    },
    "id": "fc4f768c-c3f6-454d-a633-673ad1d6eca0",
    "outputId": "fcac1ff4-5b9a-4459-a05e-77482f0e6776"
   },
   "outputs": [
    {
     "data": {
      "text/plain": [
       "(60000, 60000, 10000, 10000)"
      ]
     },
     "execution_count": 7,
     "metadata": {},
     "output_type": "execute_result"
    }
   ],
   "source": [
    "# How many samples are there? \n",
    "len(train_data.data), len(train_data.targets), len(test_data.data), len(test_data.targets)"
   ]
  },
  {
   "cell_type": "markdown",
   "id": "6e0267d5-946b-4c53-af69-61acd3527972",
   "metadata": {
    "id": "6e0267d5-946b-4c53-af69-61acd3527972"
   },
   "source": [
    "So we've got 60,000 training samples and 10,000 testing samples.\n",
    "\n",
    "What classes are there?\n",
    "\n",
    "We can find these via the `.classes` attribute."
   ]
  },
  {
   "cell_type": "code",
   "execution_count": 8,
   "id": "e22849c6-d93f-4b38-8403-5ebf0deaf008",
   "metadata": {
    "colab": {
     "base_uri": "https://localhost:8080/"
    },
    "id": "e22849c6-d93f-4b38-8403-5ebf0deaf008",
    "outputId": "6e18aa0f-b8a0-45ee-9f4e-8931bcdfbec0"
   },
   "outputs": [
    {
     "data": {
      "text/plain": [
       "['T-shirt/top',\n",
       " 'Trouser',\n",
       " 'Pullover',\n",
       " 'Dress',\n",
       " 'Coat',\n",
       " 'Sandal',\n",
       " 'Shirt',\n",
       " 'Sneaker',\n",
       " 'Bag',\n",
       " 'Ankle boot']"
      ]
     },
     "execution_count": 8,
     "metadata": {},
     "output_type": "execute_result"
    }
   ],
   "source": [
    "# See classes\n",
    "class_names = train_data.classes\n",
    "class_names"
   ]
  },
  {
   "cell_type": "code",
   "execution_count": 9,
   "id": "89483b15",
   "metadata": {},
   "outputs": [
    {
     "data": {
      "text/plain": [
       "(torch.Size([1, 28, 28]), 9)"
      ]
     },
     "execution_count": 9,
     "metadata": {},
     "output_type": "execute_result"
    }
   ],
   "source": [
    "image.shape, label"
   ]
  },
  {
   "cell_type": "markdown",
   "id": "abdd225c-5742-4d9c-8e8d-fb30a9c3cb6e",
   "metadata": {
    "id": "abdd225c-5742-4d9c-8e8d-fb30a9c3cb6e"
   },
   "source": [
    "Sweet! It looks like we're dealing with 10 different kinds of clothes.\n",
    "\n",
    "Because we're working with 10 different classes, it means our problem is **multi-class classification**.\n",
    "\n",
    "Let's get visual."
   ]
  },
  {
   "cell_type": "markdown",
   "id": "fb625d80-6a98-471e-a758-4de0ce0f3a64",
   "metadata": {
    "id": "fb625d80-6a98-471e-a758-4de0ce0f3a64"
   },
   "source": [
    "### 1.2 Visualizing our data"
   ]
  },
  {
   "cell_type": "code",
   "execution_count": 10,
   "id": "b1df1f2c-28c9-43bf-aaef-cf996c9ae1c5",
   "metadata": {
    "colab": {
     "base_uri": "https://localhost:8080/",
     "height": 469
    },
    "id": "b1df1f2c-28c9-43bf-aaef-cf996c9ae1c5",
    "outputId": "9bbdbb0d-eed3-408a-bd7b-03aa22cb35bb"
   },
   "outputs": [
    {
     "name": "stdout",
     "output_type": "stream",
     "text": [
      "Image shape: torch.Size([1, 28, 28])\n"
     ]
    },
    {
     "data": {
      "image/png": "[encoded data removed]",
      "text/plain": [
       "<Figure size 640x480 with 1 Axes>"
      ]
     },
     "metadata": {},
     "output_type": "display_data"
    }
   ],
   "source": [
    "import matplotlib.pyplot as plt\n",
    "image, label = train_data[0]\n",
    "print(f\"Image shape: {image.shape}\")\n",
    "plt.imshow(image.squeeze()) # image shape is [1, 28, 28] (colour channels, height, width)\n",
    "plt.title(label);"
   ]
  },
  {
   "cell_type": "markdown",
   "id": "adb19c5c-2f2b-4aaf-8300-256f3594e2db",
   "metadata": {
    "id": "adb19c5c-2f2b-4aaf-8300-256f3594e2db"
   },
   "source": [
    "We can turn the image into grayscale using the `cmap` parameter of `plt.imshow()`."
   ]
  },
  {
   "cell_type": "code",
   "execution_count": 11,
   "id": "92f09917-88f7-4446-b65f-baae586914c9",
   "metadata": {
    "colab": {
     "base_uri": "https://localhost:8080/",
     "height": 452
    },
    "id": "92f09917-88f7-4446-b65f-baae586914c9",
    "outputId": "c702456b-607c-4214-8e03-4bd0b22b097f"
   },
   "outputs": [
    {
     "data": {
      "image/png": "[encoded data removed]",
      "text/plain": [
       "<Figure size 640x480 with 1 Axes>"
      ]
     },
     "metadata": {},
     "output_type": "display_data"
    }
   ],
   "source": [
    "plt.imshow(image.squeeze(), cmap=\"gray\")\n",
    "plt.title(class_names[label]);"
   ]
  },
  {
   "cell_type": "markdown",
   "id": "9a09388a-d754-485f-aa26-4e7a0f782967",
   "metadata": {
    "id": "9a09388a-d754-485f-aa26-4e7a0f782967"
   },
   "source": [
    "Beautiful, well as beautiful as a pixelated grayscale ankle boot can get.\n",
    "\n",
    "Let's view a few more."
   ]
  },
  {
   "cell_type": "code",
   "execution_count": 12,
   "id": "7188ed7a-5959-48c4-ac7f-19129a2adc83",
   "metadata": {
    "colab": {
     "base_uri": "https://localhost:8080/",
     "height": 752
    },
    "id": "7188ed7a-5959-48c4-ac7f-19129a2adc83",
    "outputId": "98d50938-b984-4725-8949-d85bf3143555"
   },
   "outputs": [
    {
     "data": {
      "image/png": "[encoded data removed]",
      "text/plain": [
       "<Figure size 900x900 with 16 Axes>"
      ]
     },
     "metadata": {},
     "output_type": "display_data"
    }
   ],
   "source": [
    "# Plot more images\n",
    "torch.manual_seed(42)\n",
    "fig = plt.figure(figsize=(9, 9))\n",
    "rows, cols = 4, 4\n",
    "for i in range(1, rows * cols + 1):\n",
    "    random_idx = torch.randint(0, len(train_data), size=[1]).item()\n",
    "    img, label = train_data[random_idx]\n",
    "    fig.add_subplot(rows, cols, i)\n",
    "    plt.imshow(img.squeeze(), cmap=\"gray\")\n",
    "    plt.title(class_names[label])\n",
    "    plt.axis(False);"
   ]
  },
  {
   "cell_type": "markdown",
   "id": "f356fbe9-95b1-4f81-a82d-dc15b3adc06a",
   "metadata": {
    "id": "f356fbe9-95b1-4f81-a82d-dc15b3adc06a"
   },
   "source": [
    "Hmmm, this dataset doesn't look too aesthetic.\n",
    "\n",
    "But the principles we're going to learn on how to build a model for it will be similar across a wide range of computer vision problems.\n",
    "\n",
    "In essence, taking pixel values and building a model to find patterns in them to use on future pixel values.\n",
    "\n",
    "Plus, even for this small dataset (yes, even 60,000 images in deep learning is considered quite small), could you write a program to classify each one of them?\n",
    "\n",
    "You probably could.\n",
    "\n",
    "But I think coding a model in PyTorch would be faster.\n",
    "\n",
    "> **Question:** Do you think the above data can be model with only straight (linear) lines? Or do you think you'd also need non-straight (non-linear) lines?\n",
    "\n",
    "**Non-linearity required**"
   ]
  },
  {
   "cell_type": "markdown",
   "id": "43cdd23d-bd1f-4e8c-ba20-22d2b6ac14b1",
   "metadata": {
    "id": "43cdd23d-bd1f-4e8c-ba20-22d2b6ac14b1"
   },
   "source": [
    "## 2. Prepare DataLoader\n",
    "\n",
    "Now we've got a dataset ready to go.\n",
    "\n",
    "The next step is to prepare it with a [`torch.utils.data.DataLoader`](https://pytorch.org/docs/stable/data.html#torch.utils.data.Dataset) or `DataLoader` for short.\n",
    "\n",
    "The `DataLoader` does what you think it might do.\n",
    "\n",
    "It helps load data into a model.\n",
    "\n",
    "For training and for inference.\n",
    "\n",
    "It turns a large `Dataset` into a Python iterable of smaller chunks.\n",
    "\n",
    "These smaller chunks are called **batches** or **mini-batches** and can be set by the `batch_size` parameter.\n",
    "\n",
    "Why do this?\n",
    "\n",
    "Because it's more computationally efficient.\n",
    "\n",
    "In an ideal world you could do the forward pass and backward pass across all of your data at once.\n",
    "\n",
    "But once you start using really large datasets, unless you've got infinite computing power, it's easier to break them up into batches.\n",
    "\n",
    "It also gives your model more opportunities to improve.\n",
    "\n",
    "With **mini-batches** (small portions of the data), gradient descent is performed more often per epoch (once per mini-batch rather than once per epoch).\n",
    "\n",
    "What's a good batch size?\n",
    "\n",
    "[32 is a good place to start](https://twitter.com/ylecun/status/989610208497360896?s=20&t=N96J_jotN--PYuJk2WcjMw) for a fair amount of problems.\n",
    "\n",
    "But since this is a value you can set (a **hyperparameter**) you can try all different kinds of values, though generally powers of 2 are used most often (e.g. 32, 64, 128, 256, 512).\n",
    "\n",
    "![an example of what a batched dataset looks like](https://raw.githubusercontent.com/mrdbourke/pytorch-deep-learning/main/images/03-batching-fashionmnist.png)\n",
    "*Batching FashionMNIST with a batch size of 32 and shuffle turned on. A similar batching process will occur for other datasets but will differ depending on the batch size.*\n",
    "\n",
    "Let's create `DataLoader`'s for our training and test sets. "
   ]
  },
  {
   "cell_type": "code",
   "execution_count": 13,
   "id": "bb2dbf90-a326-43cb-b25b-71af142fafeb",
   "metadata": {
    "colab": {
     "base_uri": "https://localhost:8080/"
    },
    "id": "bb2dbf90-a326-43cb-b25b-71af142fafeb",
    "outputId": "1f563408-3f50-4e8c-a15f-53e2f918b1ac"
   },
   "outputs": [
    {
     "name": "stdout",
     "output_type": "stream",
     "text": [
      "Dataloaders: (<torch.utils.data.dataloader.DataLoader object at 0x000002468D428F70>, <torch.utils.data.dataloader.DataLoader object at 0x000002468D4903D0>)\n",
      "Length of train dataloader: 1875 batches of 32\n",
      "Length of test dataloader: 313 batches of 32\n"
     ]
    }
   ],
   "source": [
    "from torch.utils.data import DataLoader\n",
    "\n",
    "# Setup the batch size hyperparameter\n",
    "BATCH_SIZE = 32\n",
    "\n",
    "# Turn datasets into iterables (batches)\n",
    "train_dataloader = DataLoader(train_data, # dataset to turn into iterable\n",
    "    batch_size=BATCH_SIZE, # how many samples per batch? \n",
    "    shuffle=True # shuffle data every epoch?\n",
    ")\n",
    "\n",
    "test_dataloader = DataLoader(test_data,\n",
    "    batch_size=BATCH_SIZE,\n",
    "    shuffle=False # don't necessarily have to shuffle the testing data\n",
    ")\n",
    "\n",
    "# Let's check out what we've created\n",
    "print(f\"Dataloaders: {train_dataloader, test_dataloader}\") \n",
    "print(f\"Length of train dataloader: {len(train_dataloader)} batches of {BATCH_SIZE}\")\n",
    "print(f\"Length of test dataloader: {len(test_dataloader)} batches of {BATCH_SIZE}\")"
   ]
  },
  {
   "cell_type": "code",
   "execution_count": 14,
   "id": "1656401b",
   "metadata": {},
   "outputs": [],
   "source": [
    "#loader_iter = iter(train_dataloader)\n",
    "#loader_iter"
   ]
  },
  {
   "cell_type": "code",
   "execution_count": 15,
   "id": "7a925ee7-484b-4149-be8f-3ad790172a5f",
   "metadata": {
    "colab": {
     "base_uri": "https://localhost:8080/"
    },
    "id": "7a925ee7-484b-4149-be8f-3ad790172a5f",
    "outputId": "85815bd7-39e9-44ed-b974-9e30fff5b5ad"
   },
   "outputs": [
    {
     "data": {
      "text/plain": [
       "(torch.Size([32, 1, 28, 28]), torch.Size([32]))"
      ]
     },
     "execution_count": 15,
     "metadata": {},
     "output_type": "execute_result"
    }
   ],
   "source": [
    "# Check out what's inside the training dataloader\n",
    "iterator = iter(train_dataloader)\n",
    "train_features_batch, train_labels_batch = next(iterator)\n",
    "train_features_batch.shape, train_labels_batch.shape"
   ]
  },
  {
   "cell_type": "code",
   "execution_count": 16,
   "id": "07182f5f",
   "metadata": {},
   "outputs": [
    {
     "data": {
      "text/plain": [
       "(torch.Size([32, 1, 28, 28]), torch.Size([32]))"
      ]
     },
     "execution_count": 16,
     "metadata": {},
     "output_type": "execute_result"
    }
   ],
   "source": [
    "train_features_batch2, train_labels_batch2 = next(iterator)\n",
    "train_features_batch2.shape, train_labels_batch2.shape"
   ]
  },
  {
   "cell_type": "code",
   "execution_count": 17,
   "id": "d7139311",
   "metadata": {},
   "outputs": [
    {
     "name": "stdout",
     "output_type": "stream",
     "text": [
      "torch.Size([32, 1, 28, 28]) torch.Size([32])\n",
      "torch.Size([32, 1, 28, 28]) torch.Size([32])\n",
      "torch.Size([32, 1, 28, 28]) torch.Size([32])\n",
      "torch.Size([32, 1, 28, 28]) torch.Size([32])\n",
      "torch.Size([32, 1, 28, 28]) torch.Size([32])\n",
      "torch.Size([32, 1, 28, 28]) torch.Size([32])\n",
      "torch.Size([32, 1, 28, 28]) torch.Size([32])\n",
      "torch.Size([32, 1, 28, 28]) torch.Size([32])\n",
      "torch.Size([32, 1, 28, 28]) torch.Size([32])\n",
      "torch.Size([32, 1, 28, 28]) torch.Size([32])\n",
      "torch.Size([32, 1, 28, 28]) torch.Size([32])\n",
      "torch.Size([32, 1, 28, 28]) torch.Size([32])\n",
      "torch.Size([32, 1, 28, 28]) torch.Size([32])\n",
      "torch.Size([32, 1, 28, 28]) torch.Size([32])\n",
      "torch.Size([32, 1, 28, 28]) torch.Size([32])\n",
      "torch.Size([32, 1, 28, 28]) torch.Size([32])\n",
      "torch.Size([32, 1, 28, 28]) torch.Size([32])\n",
      "torch.Size([32, 1, 28, 28]) torch.Size([32])\n",
      "torch.Size([32, 1, 28, 28]) torch.Size([32])\n",
      "torch.Size([32, 1, 28, 28]) torch.Size([32])\n",
      "torch.Size([32, 1, 28, 28]) torch.Size([32])\n",
      "torch.Size([32, 1, 28, 28]) torch.Size([32])\n",
      "torch.Size([32, 1, 28, 28]) torch.Size([32])\n",
      "torch.Size([32, 1, 28, 28]) torch.Size([32])\n",
      "torch.Size([32, 1, 28, 28]) torch.Size([32])\n",
      "torch.Size([32, 1, 28, 28]) torch.Size([32])\n",
      "torch.Size([32, 1, 28, 28]) torch.Size([32])\n",
      "torch.Size([32, 1, 28, 28]) torch.Size([32])\n",
      "torch.Size([32, 1, 28, 28]) torch.Size([32])\n",
      "torch.Size([32, 1, 28, 28]) torch.Size([32])\n",
      "torch.Size([32, 1, 28, 28]) torch.Size([32])\n",
      "torch.Size([32, 1, 28, 28]) torch.Size([32])\n",
      "torch.Size([32, 1, 28, 28]) torch.Size([32])\n",
      "torch.Size([32, 1, 28, 28]) torch.Size([32])\n",
      "torch.Size([32, 1, 28, 28]) torch.Size([32])\n",
      "torch.Size([32, 1, 28, 28]) torch.Size([32])\n",
      "torch.Size([32, 1, 28, 28]) torch.Size([32])\n",
      "torch.Size([32, 1, 28, 28]) torch.Size([32])\n",
      "torch.Size([32, 1, 28, 28]) torch.Size([32])\n",
      "torch.Size([32, 1, 28, 28]) torch.Size([32])\n",
      "torch.Size([32, 1, 28, 28]) torch.Size([32])\n",
      "torch.Size([32, 1, 28, 28]) torch.Size([32])\n",
      "torch.Size([32, 1, 28, 28]) torch.Size([32])\n",
      "torch.Size([32, 1, 28, 28]) torch.Size([32])\n",
      "torch.Size([32, 1, 28, 28]) torch.Size([32])\n",
      "torch.Size([32, 1, 28, 28]) torch.Size([32])\n",
      "torch.Size([32, 1, 28, 28]) torch.Size([32])\n",
      "torch.Size([32, 1, 28, 28]) torch.Size([32])\n",
      "torch.Size([32, 1, 28, 28]) torch.Size([32])\n",
      "torch.Size([32, 1, 28, 28]) torch.Size([32])\n",
      "torch.Size([32, 1, 28, 28]) torch.Size([32])\n",
      "torch.Size([32, 1, 28, 28]) torch.Size([32])\n",
      "torch.Size([32, 1, 28, 28]) torch.Size([32])\n",
      "torch.Size([32, 1, 28, 28]) torch.Size([32])\n",
      "torch.Size([32, 1, 28, 28]) torch.Size([32])\n",
      "torch.Size([32, 1, 28, 28]) torch.Size([32])\n",
      "torch.Size([32, 1, 28, 28]) torch.Size([32])\n",
      "torch.Size([32, 1, 28, 28]) torch.Size([32])\n",
      "torch.Size([32, 1, 28, 28]) torch.Size([32])\n",
      "torch.Size([32, 1, 28, 28]) torch.Size([32])\n",
      "torch.Size([32, 1, 28, 28]) torch.Size([32])\n",
      "torch.Size([32, 1, 28, 28]) torch.Size([32])\n",
      "torch.Size([32, 1, 28, 28]) torch.Size([32])\n",
      "torch.Size([32, 1, 28, 28]) torch.Size([32])\n",
      "torch.Size([32, 1, 28, 28]) torch.Size([32])\n",
      "torch.Size([32, 1, 28, 28]) torch.Size([32])\n",
      "torch.Size([32, 1, 28, 28]) torch.Size([32])\n",
      "torch.Size([32, 1, 28, 28]) torch.Size([32])\n",
      "torch.Size([32, 1, 28, 28]) torch.Size([32])\n",
      "torch.Size([32, 1, 28, 28]) torch.Size([32])\n",
      "torch.Size([32, 1, 28, 28]) torch.Size([32])\n",
      "torch.Size([32, 1, 28, 28]) torch.Size([32])\n",
      "torch.Size([32, 1, 28, 28]) torch.Size([32])\n",
      "torch.Size([32, 1, 28, 28]) torch.Size([32])\n",
      "torch.Size([32, 1, 28, 28]) torch.Size([32])\n",
      "torch.Size([32, 1, 28, 28]) torch.Size([32])\n",
      "torch.Size([32, 1, 28, 28]) torch.Size([32])\n",
      "torch.Size([32, 1, 28, 28]) torch.Size([32])\n",
      "torch.Size([32, 1, 28, 28]) torch.Size([32])\n",
      "torch.Size([32, 1, 28, 28]) torch.Size([32])\n",
      "torch.Size([32, 1, 28, 28]) torch.Size([32])\n",
      "torch.Size([32, 1, 28, 28]) torch.Size([32])\n",
      "torch.Size([32, 1, 28, 28]) torch.Size([32])\n",
      "torch.Size([32, 1, 28, 28]) torch.Size([32])\n",
      "torch.Size([32, 1, 28, 28]) torch.Size([32])\n",
      "torch.Size([32, 1, 28, 28]) torch.Size([32])\n",
      "torch.Size([32, 1, 28, 28]) torch.Size([32])\n",
      "torch.Size([32, 1, 28, 28]) torch.Size([32])\n",
      "torch.Size([32, 1, 28, 28]) torch.Size([32])\n",
      "torch.Size([32, 1, 28, 28]) torch.Size([32])\n",
      "torch.Size([32, 1, 28, 28]) torch.Size([32])\n",
      "torch.Size([32, 1, 28, 28]) torch.Size([32])\n",
      "torch.Size([32, 1, 28, 28]) torch.Size([32])\n",
      "torch.Size([32, 1, 28, 28]) torch.Size([32])\n",
      "torch.Size([32, 1, 28, 28]) torch.Size([32])\n",
      "torch.Size([32, 1, 28, 28]) torch.Size([32])\n",
      "torch.Size([32, 1, 28, 28]) torch.Size([32])\n",
      "torch.Size([32, 1, 28, 28]) torch.Size([32])\n",
      "torch.Size([32, 1, 28, 28]) torch.Size([32])\n",
      "torch.Size([32, 1, 28, 28]) torch.Size([32])\n",
      "torch.Size([32, 1, 28, 28]) torch.Size([32])\n",
      "torch.Size([32, 1, 28, 28]) torch.Size([32])\n",
      "torch.Size([32, 1, 28, 28]) torch.Size([32])\n",
      "torch.Size([32, 1, 28, 28]) torch.Size([32])\n",
      "torch.Size([32, 1, 28, 28]) torch.Size([32])\n",
      "torch.Size([32, 1, 28, 28]) torch.Size([32])\n",
      "torch.Size([32, 1, 28, 28]) torch.Size([32])\n",
      "torch.Size([32, 1, 28, 28]) torch.Size([32])\n",
      "torch.Size([32, 1, 28, 28]) torch.Size([32])\n",
      "torch.Size([32, 1, 28, 28]) torch.Size([32])\n",
      "torch.Size([32, 1, 28, 28]) torch.Size([32])\n",
      "torch.Size([32, 1, 28, 28]) torch.Size([32])\n",
      "torch.Size([32, 1, 28, 28]) torch.Size([32])\n",
      "torch.Size([32, 1, 28, 28]) torch.Size([32])\n",
      "torch.Size([32, 1, 28, 28]) torch.Size([32])\n",
      "torch.Size([32, 1, 28, 28]) torch.Size([32])\n",
      "torch.Size([32, 1, 28, 28]) torch.Size([32])\n",
      "torch.Size([32, 1, 28, 28]) torch.Size([32])\n",
      "torch.Size([32, 1, 28, 28]) torch.Size([32])\n",
      "torch.Size([32, 1, 28, 28]) torch.Size([32])\n",
      "torch.Size([32, 1, 28, 28]) torch.Size([32])\n",
      "torch.Size([32, 1, 28, 28]) torch.Size([32])\n",
      "torch.Size([32, 1, 28, 28]) torch.Size([32])\n",
      "torch.Size([32, 1, 28, 28]) torch.Size([32])\n",
      "torch.Size([32, 1, 28, 28]) torch.Size([32])\n",
      "torch.Size([32, 1, 28, 28]) torch.Size([32])\n",
      "torch.Size([32, 1, 28, 28]) torch.Size([32])\n",
      "torch.Size([32, 1, 28, 28]) torch.Size([32])\n",
      "torch.Size([32, 1, 28, 28]) torch.Size([32])\n",
      "torch.Size([32, 1, 28, 28]) torch.Size([32])\n",
      "torch.Size([32, 1, 28, 28]) torch.Size([32])\n",
      "torch.Size([32, 1, 28, 28]) torch.Size([32])\n",
      "torch.Size([32, 1, 28, 28]) torch.Size([32])\n",
      "torch.Size([32, 1, 28, 28]) torch.Size([32])\n",
      "torch.Size([32, 1, 28, 28]) torch.Size([32])\n",
      "torch.Size([32, 1, 28, 28]) torch.Size([32])\n",
      "torch.Size([32, 1, 28, 28]) torch.Size([32])\n",
      "torch.Size([32, 1, 28, 28]) torch.Size([32])\n",
      "torch.Size([32, 1, 28, 28]) torch.Size([32])\n",
      "torch.Size([32, 1, 28, 28]) torch.Size([32])\n",
      "torch.Size([32, 1, 28, 28]) torch.Size([32])\n",
      "torch.Size([32, 1, 28, 28]) torch.Size([32])\n",
      "torch.Size([32, 1, 28, 28]) torch.Size([32])\n",
      "torch.Size([32, 1, 28, 28]) torch.Size([32])\n",
      "torch.Size([32, 1, 28, 28]) torch.Size([32])\n",
      "torch.Size([32, 1, 28, 28]) torch.Size([32])\n",
      "torch.Size([32, 1, 28, 28]) torch.Size([32])\n",
      "torch.Size([32, 1, 28, 28]) torch.Size([32])\n",
      "torch.Size([32, 1, 28, 28]) torch.Size([32])\n",
      "torch.Size([32, 1, 28, 28]) torch.Size([32])\n",
      "torch.Size([32, 1, 28, 28]) torch.Size([32])\n",
      "torch.Size([32, 1, 28, 28]) torch.Size([32])\n",
      "torch.Size([32, 1, 28, 28]) torch.Size([32])\n",
      "torch.Size([32, 1, 28, 28]) torch.Size([32])\n",
      "torch.Size([32, 1, 28, 28]) torch.Size([32])\n",
      "torch.Size([32, 1, 28, 28]) torch.Size([32])\n",
      "torch.Size([32, 1, 28, 28]) torch.Size([32])\n",
      "torch.Size([32, 1, 28, 28]) torch.Size([32])\n",
      "torch.Size([32, 1, 28, 28]) torch.Size([32])\n",
      "torch.Size([32, 1, 28, 28]) torch.Size([32])\n",
      "torch.Size([32, 1, 28, 28]) torch.Size([32])\n",
      "torch.Size([32, 1, 28, 28]) torch.Size([32])\n",
      "torch.Size([32, 1, 28, 28]) torch.Size([32])\n",
      "torch.Size([32, 1, 28, 28]) torch.Size([32])\n",
      "torch.Size([32, 1, 28, 28]) torch.Size([32])\n",
      "torch.Size([32, 1, 28, 28]) torch.Size([32])\n",
      "torch.Size([32, 1, 28, 28]) torch.Size([32])\n",
      "torch.Size([32, 1, 28, 28]) torch.Size([32])\n",
      "torch.Size([32, 1, 28, 28]) torch.Size([32])\n",
      "torch.Size([32, 1, 28, 28]) torch.Size([32])\n",
      "torch.Size([32, 1, 28, 28]) torch.Size([32])\n",
      "torch.Size([32, 1, 28, 28]) torch.Size([32])\n",
      "torch.Size([32, 1, 28, 28]) torch.Size([32])\n",
      "torch.Size([32, 1, 28, 28]) torch.Size([32])\n",
      "torch.Size([32, 1, 28, 28]) torch.Size([32])\n",
      "torch.Size([32, 1, 28, 28]) torch.Size([32])\n",
      "torch.Size([32, 1, 28, 28]) torch.Size([32])\n",
      "torch.Size([32, 1, 28, 28]) torch.Size([32])\n",
      "torch.Size([32, 1, 28, 28]) torch.Size([32])\n",
      "torch.Size([32, 1, 28, 28]) torch.Size([32])\n",
      "torch.Size([32, 1, 28, 28]) torch.Size([32])\n",
      "torch.Size([32, 1, 28, 28]) torch.Size([32])\n",
      "torch.Size([32, 1, 28, 28]) torch.Size([32])\n",
      "torch.Size([32, 1, 28, 28]) torch.Size([32])\n",
      "torch.Size([32, 1, 28, 28]) torch.Size([32])\n",
      "torch.Size([32, 1, 28, 28]) torch.Size([32])\n",
      "torch.Size([32, 1, 28, 28]) torch.Size([32])\n",
      "torch.Size([32, 1, 28, 28]) torch.Size([32])\n",
      "torch.Size([32, 1, 28, 28]) torch.Size([32])\n",
      "torch.Size([32, 1, 28, 28]) torch.Size([32])\n",
      "torch.Size([32, 1, 28, 28]) torch.Size([32])\n",
      "torch.Size([32, 1, 28, 28]) torch.Size([32])\n",
      "torch.Size([32, 1, 28, 28]) torch.Size([32])\n",
      "torch.Size([32, 1, 28, 28]) torch.Size([32])\n",
      "torch.Size([32, 1, 28, 28]) torch.Size([32])\n",
      "torch.Size([32, 1, 28, 28]) torch.Size([32])\n",
      "torch.Size([32, 1, 28, 28]) torch.Size([32])\n",
      "torch.Size([32, 1, 28, 28]) torch.Size([32])\n",
      "torch.Size([32, 1, 28, 28]) torch.Size([32])\n",
      "torch.Size([32, 1, 28, 28]) torch.Size([32])\n",
      "torch.Size([32, 1, 28, 28]) torch.Size([32])\n",
      "torch.Size([32, 1, 28, 28]) torch.Size([32])\n",
      "torch.Size([32, 1, 28, 28]) torch.Size([32])\n",
      "torch.Size([32, 1, 28, 28]) torch.Size([32])\n",
      "torch.Size([32, 1, 28, 28]) torch.Size([32])\n",
      "torch.Size([32, 1, 28, 28]) torch.Size([32])\n",
      "torch.Size([32, 1, 28, 28]) torch.Size([32])\n",
      "torch.Size([32, 1, 28, 28]) torch.Size([32])\n",
      "torch.Size([32, 1, 28, 28]) torch.Size([32])\n",
      "torch.Size([32, 1, 28, 28]) torch.Size([32])\n",
      "torch.Size([32, 1, 28, 28]) torch.Size([32])\n",
      "torch.Size([32, 1, 28, 28]) torch.Size([32])\n",
      "torch.Size([32, 1, 28, 28]) torch.Size([32])\n",
      "torch.Size([32, 1, 28, 28]) torch.Size([32])\n",
      "torch.Size([32, 1, 28, 28]) torch.Size([32])\n",
      "torch.Size([32, 1, 28, 28]) torch.Size([32])\n",
      "torch.Size([32, 1, 28, 28]) torch.Size([32])\n",
      "torch.Size([32, 1, 28, 28]) torch.Size([32])\n",
      "torch.Size([32, 1, 28, 28]) torch.Size([32])\n",
      "torch.Size([32, 1, 28, 28]) torch.Size([32])\n",
      "torch.Size([32, 1, 28, 28]) torch.Size([32])\n",
      "torch.Size([32, 1, 28, 28]) torch.Size([32])\n",
      "torch.Size([32, 1, 28, 28]) torch.Size([32])\n",
      "torch.Size([32, 1, 28, 28]) torch.Size([32])\n",
      "torch.Size([32, 1, 28, 28]) torch.Size([32])\n",
      "torch.Size([32, 1, 28, 28]) torch.Size([32])\n",
      "torch.Size([32, 1, 28, 28]) torch.Size([32])\n",
      "torch.Size([32, 1, 28, 28]) torch.Size([32])\n",
      "torch.Size([32, 1, 28, 28]) torch.Size([32])\n",
      "torch.Size([32, 1, 28, 28]) torch.Size([32])\n",
      "torch.Size([32, 1, 28, 28]) torch.Size([32])\n",
      "torch.Size([32, 1, 28, 28]) torch.Size([32])\n",
      "torch.Size([32, 1, 28, 28]) torch.Size([32])\n",
      "torch.Size([32, 1, 28, 28]) torch.Size([32])\n",
      "torch.Size([32, 1, 28, 28]) torch.Size([32])\n",
      "torch.Size([32, 1, 28, 28]) torch.Size([32])\n",
      "torch.Size([32, 1, 28, 28]) torch.Size([32])\n",
      "torch.Size([32, 1, 28, 28]) torch.Size([32])\n",
      "torch.Size([32, 1, 28, 28]) torch.Size([32])\n",
      "torch.Size([32, 1, 28, 28]) torch.Size([32])\n",
      "torch.Size([32, 1, 28, 28]) torch.Size([32])\n",
      "torch.Size([32, 1, 28, 28]) torch.Size([32])\n",
      "torch.Size([32, 1, 28, 28]) torch.Size([32])\n",
      "torch.Size([32, 1, 28, 28]) torch.Size([32])\n",
      "torch.Size([32, 1, 28, 28]) torch.Size([32])\n",
      "torch.Size([32, 1, 28, 28]) torch.Size([32])\n",
      "torch.Size([32, 1, 28, 28]) torch.Size([32])\n",
      "torch.Size([32, 1, 28, 28]) torch.Size([32])\n",
      "torch.Size([32, 1, 28, 28]) torch.Size([32])\n",
      "torch.Size([32, 1, 28, 28]) torch.Size([32])\n",
      "torch.Size([32, 1, 28, 28]) torch.Size([32])\n",
      "torch.Size([32, 1, 28, 28]) torch.Size([32])\n",
      "torch.Size([32, 1, 28, 28]) torch.Size([32])\n",
      "torch.Size([32, 1, 28, 28]) torch.Size([32])\n",
      "torch.Size([32, 1, 28, 28]) torch.Size([32])\n",
      "torch.Size([32, 1, 28, 28]) torch.Size([32])\n",
      "torch.Size([32, 1, 28, 28]) torch.Size([32])\n",
      "torch.Size([32, 1, 28, 28]) torch.Size([32])\n",
      "torch.Size([32, 1, 28, 28]) torch.Size([32])\n",
      "torch.Size([32, 1, 28, 28]) torch.Size([32])\n",
      "torch.Size([32, 1, 28, 28]) torch.Size([32])\n",
      "torch.Size([32, 1, 28, 28]) torch.Size([32])\n",
      "torch.Size([32, 1, 28, 28]) torch.Size([32])\n",
      "torch.Size([32, 1, 28, 28]) torch.Size([32])\n",
      "torch.Size([32, 1, 28, 28]) torch.Size([32])\n",
      "torch.Size([32, 1, 28, 28]) torch.Size([32])\n",
      "torch.Size([32, 1, 28, 28]) torch.Size([32])\n",
      "torch.Size([32, 1, 28, 28]) torch.Size([32])\n",
      "torch.Size([32, 1, 28, 28]) torch.Size([32])\n",
      "torch.Size([32, 1, 28, 28]) torch.Size([32])\n",
      "torch.Size([32, 1, 28, 28]) torch.Size([32])\n",
      "torch.Size([32, 1, 28, 28]) torch.Size([32])\n",
      "torch.Size([32, 1, 28, 28]) torch.Size([32])\n",
      "torch.Size([32, 1, 28, 28]) torch.Size([32])\n",
      "torch.Size([32, 1, 28, 28]) torch.Size([32])\n",
      "torch.Size([32, 1, 28, 28]) torch.Size([32])\n",
      "torch.Size([32, 1, 28, 28]) torch.Size([32])\n",
      "torch.Size([32, 1, 28, 28]) torch.Size([32])\n",
      "torch.Size([32, 1, 28, 28]) torch.Size([32])\n",
      "torch.Size([32, 1, 28, 28]) torch.Size([32])\n",
      "torch.Size([32, 1, 28, 28]) torch.Size([32])\n",
      "torch.Size([32, 1, 28, 28]) torch.Size([32])\n",
      "torch.Size([32, 1, 28, 28]) torch.Size([32])\n",
      "torch.Size([32, 1, 28, 28]) torch.Size([32])\n",
      "torch.Size([32, 1, 28, 28]) torch.Size([32])\n",
      "torch.Size([32, 1, 28, 28]) torch.Size([32])\n",
      "torch.Size([32, 1, 28, 28]) torch.Size([32])\n",
      "torch.Size([32, 1, 28, 28]) torch.Size([32])\n",
      "torch.Size([32, 1, 28, 28]) torch.Size([32])\n",
      "torch.Size([32, 1, 28, 28]) torch.Size([32])\n",
      "torch.Size([32, 1, 28, 28]) torch.Size([32])\n",
      "torch.Size([32, 1, 28, 28]) torch.Size([32])\n",
      "torch.Size([32, 1, 28, 28]) torch.Size([32])\n",
      "torch.Size([32, 1, 28, 28]) torch.Size([32])\n",
      "torch.Size([32, 1, 28, 28]) torch.Size([32])\n",
      "torch.Size([32, 1, 28, 28]) torch.Size([32])\n",
      "torch.Size([32, 1, 28, 28]) torch.Size([32])\n",
      "torch.Size([32, 1, 28, 28]) torch.Size([32])\n",
      "torch.Size([32, 1, 28, 28]) torch.Size([32])\n",
      "torch.Size([32, 1, 28, 28]) torch.Size([32])\n",
      "torch.Size([32, 1, 28, 28]) torch.Size([32])\n",
      "torch.Size([32, 1, 28, 28]) torch.Size([32])\n",
      "torch.Size([32, 1, 28, 28]) torch.Size([32])\n",
      "torch.Size([32, 1, 28, 28]) torch.Size([32])\n",
      "torch.Size([32, 1, 28, 28]) torch.Size([32])\n",
      "torch.Size([32, 1, 28, 28]) torch.Size([32])\n",
      "torch.Size([32, 1, 28, 28]) torch.Size([32])\n",
      "torch.Size([32, 1, 28, 28]) torch.Size([32])\n",
      "torch.Size([32, 1, 28, 28]) torch.Size([32])\n",
      "torch.Size([32, 1, 28, 28]) torch.Size([32])\n",
      "torch.Size([32, 1, 28, 28]) torch.Size([32])\n",
      "torch.Size([32, 1, 28, 28]) torch.Size([32])\n",
      "torch.Size([32, 1, 28, 28]) torch.Size([32])\n",
      "torch.Size([32, 1, 28, 28]) torch.Size([32])\n",
      "torch.Size([32, 1, 28, 28]) torch.Size([32])\n",
      "torch.Size([32, 1, 28, 28]) torch.Size([32])\n",
      "torch.Size([32, 1, 28, 28]) torch.Size([32])\n",
      "torch.Size([32, 1, 28, 28]) torch.Size([32])\n",
      "torch.Size([32, 1, 28, 28]) torch.Size([32])\n",
      "torch.Size([32, 1, 28, 28]) torch.Size([32])\n",
      "torch.Size([32, 1, 28, 28]) torch.Size([32])\n",
      "torch.Size([32, 1, 28, 28]) torch.Size([32])\n",
      "torch.Size([32, 1, 28, 28]) torch.Size([32])\n",
      "torch.Size([32, 1, 28, 28]) torch.Size([32])\n",
      "torch.Size([32, 1, 28, 28]) torch.Size([32])\n",
      "torch.Size([32, 1, 28, 28]) torch.Size([32])\n",
      "torch.Size([32, 1, 28, 28]) torch.Size([32])\n",
      "torch.Size([32, 1, 28, 28]) torch.Size([32])\n",
      "torch.Size([32, 1, 28, 28]) torch.Size([32])\n",
      "torch.Size([32, 1, 28, 28]) torch.Size([32])\n",
      "torch.Size([32, 1, 28, 28]) torch.Size([32])\n",
      "torch.Size([32, 1, 28, 28]) torch.Size([32])\n",
      "torch.Size([32, 1, 28, 28]) torch.Size([32])\n",
      "torch.Size([32, 1, 28, 28]) torch.Size([32])\n",
      "torch.Size([32, 1, 28, 28]) torch.Size([32])\n",
      "torch.Size([32, 1, 28, 28]) torch.Size([32])\n",
      "torch.Size([32, 1, 28, 28]) torch.Size([32])\n",
      "torch.Size([32, 1, 28, 28]) torch.Size([32])\n",
      "torch.Size([32, 1, 28, 28]) torch.Size([32])\n",
      "torch.Size([32, 1, 28, 28]) torch.Size([32])\n",
      "torch.Size([32, 1, 28, 28]) torch.Size([32])\n",
      "torch.Size([32, 1, 28, 28]) torch.Size([32])\n",
      "torch.Size([32, 1, 28, 28]) torch.Size([32])\n",
      "torch.Size([32, 1, 28, 28]) torch.Size([32])\n",
      "torch.Size([32, 1, 28, 28]) torch.Size([32])\n",
      "torch.Size([32, 1, 28, 28]) torch.Size([32])\n",
      "torch.Size([32, 1, 28, 28]) torch.Size([32])\n",
      "torch.Size([32, 1, 28, 28]) torch.Size([32])\n",
      "torch.Size([32, 1, 28, 28]) torch.Size([32])\n",
      "torch.Size([32, 1, 28, 28]) torch.Size([32])\n",
      "torch.Size([32, 1, 28, 28]) torch.Size([32])\n",
      "torch.Size([32, 1, 28, 28]) torch.Size([32])\n",
      "torch.Size([32, 1, 28, 28]) torch.Size([32])\n",
      "torch.Size([32, 1, 28, 28]) torch.Size([32])\n",
      "torch.Size([32, 1, 28, 28]) torch.Size([32])\n",
      "torch.Size([32, 1, 28, 28]) torch.Size([32])\n",
      "torch.Size([32, 1, 28, 28]) torch.Size([32])\n",
      "torch.Size([32, 1, 28, 28]) torch.Size([32])\n",
      "torch.Size([32, 1, 28, 28]) torch.Size([32])\n",
      "torch.Size([32, 1, 28, 28]) torch.Size([32])\n",
      "torch.Size([32, 1, 28, 28]) torch.Size([32])\n",
      "torch.Size([32, 1, 28, 28]) torch.Size([32])\n",
      "torch.Size([32, 1, 28, 28]) torch.Size([32])\n",
      "torch.Size([32, 1, 28, 28]) torch.Size([32])\n",
      "torch.Size([32, 1, 28, 28]) torch.Size([32])\n",
      "torch.Size([32, 1, 28, 28]) torch.Size([32])\n",
      "torch.Size([32, 1, 28, 28]) torch.Size([32])\n",
      "torch.Size([32, 1, 28, 28]) torch.Size([32])\n",
      "torch.Size([32, 1, 28, 28]) torch.Size([32])\n",
      "torch.Size([32, 1, 28, 28]) torch.Size([32])\n",
      "torch.Size([32, 1, 28, 28]) torch.Size([32])\n",
      "torch.Size([32, 1, 28, 28]) torch.Size([32])\n",
      "torch.Size([32, 1, 28, 28]) torch.Size([32])\n",
      "torch.Size([32, 1, 28, 28]) torch.Size([32])\n",
      "torch.Size([32, 1, 28, 28]) torch.Size([32])\n",
      "torch.Size([32, 1, 28, 28]) torch.Size([32])\n",
      "torch.Size([32, 1, 28, 28]) torch.Size([32])\n",
      "torch.Size([32, 1, 28, 28]) torch.Size([32])\n",
      "torch.Size([32, 1, 28, 28]) torch.Size([32])\n",
      "torch.Size([32, 1, 28, 28]) torch.Size([32])\n",
      "torch.Size([32, 1, 28, 28]) torch.Size([32])\n",
      "torch.Size([32, 1, 28, 28]) torch.Size([32])\n",
      "torch.Size([32, 1, 28, 28]) torch.Size([32])\n",
      "torch.Size([32, 1, 28, 28]) torch.Size([32])\n",
      "torch.Size([32, 1, 28, 28]) torch.Size([32])\n",
      "torch.Size([32, 1, 28, 28]) torch.Size([32])\n",
      "torch.Size([32, 1, 28, 28]) torch.Size([32])\n",
      "torch.Size([32, 1, 28, 28]) torch.Size([32])\n",
      "torch.Size([32, 1, 28, 28]) torch.Size([32])\n",
      "torch.Size([32, 1, 28, 28]) torch.Size([32])\n",
      "torch.Size([32, 1, 28, 28]) torch.Size([32])\n",
      "torch.Size([32, 1, 28, 28]) torch.Size([32])\n",
      "torch.Size([32, 1, 28, 28]) torch.Size([32])\n",
      "torch.Size([32, 1, 28, 28]) torch.Size([32])\n",
      "torch.Size([32, 1, 28, 28]) torch.Size([32])\n",
      "torch.Size([32, 1, 28, 28]) torch.Size([32])\n",
      "torch.Size([32, 1, 28, 28]) torch.Size([32])\n",
      "torch.Size([32, 1, 28, 28]) torch.Size([32])\n",
      "torch.Size([32, 1, 28, 28]) torch.Size([32])\n",
      "torch.Size([32, 1, 28, 28]) torch.Size([32])\n",
      "torch.Size([32, 1, 28, 28]) torch.Size([32])\n",
      "torch.Size([32, 1, 28, 28]) torch.Size([32])\n",
      "torch.Size([32, 1, 28, 28]) torch.Size([32])\n",
      "torch.Size([32, 1, 28, 28]) torch.Size([32])\n",
      "torch.Size([32, 1, 28, 28]) torch.Size([32])\n",
      "torch.Size([32, 1, 28, 28]) torch.Size([32])\n",
      "torch.Size([32, 1, 28, 28]) torch.Size([32])\n",
      "torch.Size([32, 1, 28, 28]) torch.Size([32])\n",
      "torch.Size([32, 1, 28, 28]) torch.Size([32])\n",
      "torch.Size([32, 1, 28, 28]) torch.Size([32])\n",
      "torch.Size([32, 1, 28, 28]) torch.Size([32])\n",
      "torch.Size([32, 1, 28, 28]) torch.Size([32])\n",
      "torch.Size([32, 1, 28, 28]) torch.Size([32])\n",
      "torch.Size([32, 1, 28, 28]) torch.Size([32])\n",
      "torch.Size([32, 1, 28, 28]) torch.Size([32])\n",
      "torch.Size([32, 1, 28, 28]) torch.Size([32])\n",
      "torch.Size([32, 1, 28, 28]) torch.Size([32])\n",
      "torch.Size([32, 1, 28, 28]) torch.Size([32])\n",
      "torch.Size([32, 1, 28, 28]) torch.Size([32])\n",
      "torch.Size([32, 1, 28, 28]) torch.Size([32])\n",
      "torch.Size([32, 1, 28, 28]) torch.Size([32])\n",
      "torch.Size([32, 1, 28, 28]) torch.Size([32])\n",
      "torch.Size([32, 1, 28, 28]) torch.Size([32])\n",
      "torch.Size([32, 1, 28, 28]) torch.Size([32])\n",
      "torch.Size([32, 1, 28, 28]) torch.Size([32])\n",
      "torch.Size([32, 1, 28, 28]) torch.Size([32])\n",
      "torch.Size([32, 1, 28, 28]) torch.Size([32])\n",
      "torch.Size([32, 1, 28, 28]) torch.Size([32])\n",
      "torch.Size([32, 1, 28, 28]) torch.Size([32])\n",
      "torch.Size([32, 1, 28, 28]) torch.Size([32])\n",
      "torch.Size([32, 1, 28, 28]) torch.Size([32])\n",
      "torch.Size([32, 1, 28, 28]) torch.Size([32])\n",
      "torch.Size([32, 1, 28, 28]) torch.Size([32])\n",
      "torch.Size([32, 1, 28, 28]) torch.Size([32])\n",
      "torch.Size([32, 1, 28, 28]) torch.Size([32])\n",
      "torch.Size([32, 1, 28, 28]) torch.Size([32])\n",
      "torch.Size([32, 1, 28, 28]) torch.Size([32])\n",
      "torch.Size([32, 1, 28, 28]) torch.Size([32])\n",
      "torch.Size([32, 1, 28, 28]) torch.Size([32])\n",
      "torch.Size([32, 1, 28, 28]) torch.Size([32])\n",
      "torch.Size([32, 1, 28, 28]) torch.Size([32])\n",
      "torch.Size([32, 1, 28, 28]) torch.Size([32])\n",
      "torch.Size([32, 1, 28, 28]) torch.Size([32])\n",
      "torch.Size([32, 1, 28, 28]) torch.Size([32])\n",
      "torch.Size([32, 1, 28, 28]) torch.Size([32])\n",
      "torch.Size([32, 1, 28, 28]) torch.Size([32])\n",
      "torch.Size([32, 1, 28, 28]) torch.Size([32])\n",
      "torch.Size([32, 1, 28, 28]) torch.Size([32])\n",
      "torch.Size([32, 1, 28, 28]) torch.Size([32])\n",
      "torch.Size([32, 1, 28, 28]) torch.Size([32])\n",
      "torch.Size([32, 1, 28, 28]) torch.Size([32])\n",
      "torch.Size([32, 1, 28, 28]) torch.Size([32])\n",
      "torch.Size([32, 1, 28, 28]) torch.Size([32])\n",
      "torch.Size([32, 1, 28, 28]) torch.Size([32])\n",
      "torch.Size([32, 1, 28, 28]) torch.Size([32])\n",
      "torch.Size([32, 1, 28, 28]) torch.Size([32])\n",
      "torch.Size([32, 1, 28, 28]) torch.Size([32])\n",
      "torch.Size([32, 1, 28, 28]) torch.Size([32])\n",
      "torch.Size([32, 1, 28, 28]) torch.Size([32])\n",
      "torch.Size([32, 1, 28, 28]) torch.Size([32])\n",
      "torch.Size([32, 1, 28, 28]) torch.Size([32])\n",
      "torch.Size([32, 1, 28, 28]) torch.Size([32])\n",
      "torch.Size([32, 1, 28, 28]) torch.Size([32])\n",
      "torch.Size([32, 1, 28, 28]) torch.Size([32])\n",
      "torch.Size([32, 1, 28, 28]) torch.Size([32])\n",
      "torch.Size([32, 1, 28, 28]) torch.Size([32])\n",
      "torch.Size([32, 1, 28, 28]) torch.Size([32])\n",
      "torch.Size([32, 1, 28, 28]) torch.Size([32])\n",
      "torch.Size([32, 1, 28, 28]) torch.Size([32])\n",
      "torch.Size([32, 1, 28, 28]) torch.Size([32])\n",
      "torch.Size([32, 1, 28, 28]) torch.Size([32])\n",
      "torch.Size([32, 1, 28, 28]) torch.Size([32])\n",
      "torch.Size([32, 1, 28, 28]) torch.Size([32])\n",
      "torch.Size([32, 1, 28, 28]) torch.Size([32])\n",
      "torch.Size([32, 1, 28, 28]) torch.Size([32])\n",
      "torch.Size([32, 1, 28, 28]) torch.Size([32])\n",
      "torch.Size([32, 1, 28, 28]) torch.Size([32])\n",
      "torch.Size([32, 1, 28, 28]) torch.Size([32])\n",
      "torch.Size([32, 1, 28, 28]) torch.Size([32])\n",
      "torch.Size([32, 1, 28, 28]) torch.Size([32])\n",
      "torch.Size([32, 1, 28, 28]) torch.Size([32])\n",
      "torch.Size([32, 1, 28, 28]) torch.Size([32])\n",
      "torch.Size([32, 1, 28, 28]) torch.Size([32])\n",
      "torch.Size([32, 1, 28, 28]) torch.Size([32])\n",
      "torch.Size([32, 1, 28, 28]) torch.Size([32])\n",
      "torch.Size([32, 1, 28, 28]) torch.Size([32])\n",
      "torch.Size([32, 1, 28, 28]) torch.Size([32])\n",
      "torch.Size([32, 1, 28, 28]) torch.Size([32])\n",
      "torch.Size([32, 1, 28, 28]) torch.Size([32])\n",
      "torch.Size([32, 1, 28, 28]) torch.Size([32])\n",
      "torch.Size([32, 1, 28, 28]) torch.Size([32])\n",
      "torch.Size([32, 1, 28, 28]) torch.Size([32])\n",
      "torch.Size([32, 1, 28, 28]) torch.Size([32])\n",
      "torch.Size([32, 1, 28, 28]) torch.Size([32])\n",
      "torch.Size([32, 1, 28, 28]) torch.Size([32])\n",
      "torch.Size([32, 1, 28, 28]) torch.Size([32])\n",
      "torch.Size([32, 1, 28, 28]) torch.Size([32])\n",
      "torch.Size([32, 1, 28, 28]) torch.Size([32])\n",
      "torch.Size([32, 1, 28, 28]) torch.Size([32])\n",
      "torch.Size([32, 1, 28, 28]) torch.Size([32])\n",
      "torch.Size([32, 1, 28, 28]) torch.Size([32])\n",
      "torch.Size([32, 1, 28, 28]) torch.Size([32])\n",
      "torch.Size([32, 1, 28, 28]) torch.Size([32])\n",
      "torch.Size([32, 1, 28, 28]) torch.Size([32])\n",
      "torch.Size([32, 1, 28, 28]) torch.Size([32])\n",
      "torch.Size([32, 1, 28, 28]) torch.Size([32])\n",
      "torch.Size([32, 1, 28, 28]) torch.Size([32])\n",
      "torch.Size([32, 1, 28, 28]) torch.Size([32])\n",
      "torch.Size([32, 1, 28, 28]) torch.Size([32])\n",
      "torch.Size([32, 1, 28, 28]) torch.Size([32])\n",
      "torch.Size([32, 1, 28, 28]) torch.Size([32])\n",
      "torch.Size([32, 1, 28, 28]) torch.Size([32])\n",
      "torch.Size([32, 1, 28, 28]) torch.Size([32])\n",
      "torch.Size([32, 1, 28, 28]) torch.Size([32])\n",
      "torch.Size([32, 1, 28, 28]) torch.Size([32])\n",
      "torch.Size([32, 1, 28, 28]) torch.Size([32])\n",
      "torch.Size([32, 1, 28, 28]) torch.Size([32])\n",
      "torch.Size([32, 1, 28, 28]) torch.Size([32])\n",
      "torch.Size([32, 1, 28, 28]) torch.Size([32])\n",
      "torch.Size([32, 1, 28, 28]) torch.Size([32])\n",
      "torch.Size([32, 1, 28, 28]) torch.Size([32])\n",
      "torch.Size([32, 1, 28, 28]) torch.Size([32])\n",
      "torch.Size([32, 1, 28, 28]) torch.Size([32])\n",
      "torch.Size([32, 1, 28, 28]) torch.Size([32])\n",
      "torch.Size([32, 1, 28, 28]) torch.Size([32])\n",
      "torch.Size([32, 1, 28, 28]) torch.Size([32])\n",
      "torch.Size([32, 1, 28, 28]) torch.Size([32])\n",
      "torch.Size([32, 1, 28, 28]) torch.Size([32])\n",
      "torch.Size([32, 1, 28, 28]) torch.Size([32])\n",
      "torch.Size([32, 1, 28, 28]) torch.Size([32])\n",
      "torch.Size([32, 1, 28, 28]) torch.Size([32])\n",
      "torch.Size([32, 1, 28, 28]) torch.Size([32])\n",
      "torch.Size([32, 1, 28, 28]) torch.Size([32])\n",
      "torch.Size([32, 1, 28, 28]) torch.Size([32])\n",
      "torch.Size([32, 1, 28, 28]) torch.Size([32])\n",
      "torch.Size([32, 1, 28, 28]) torch.Size([32])\n",
      "torch.Size([32, 1, 28, 28]) torch.Size([32])\n",
      "torch.Size([32, 1, 28, 28]) torch.Size([32])\n",
      "torch.Size([32, 1, 28, 28]) torch.Size([32])\n",
      "torch.Size([32, 1, 28, 28]) torch.Size([32])\n",
      "torch.Size([32, 1, 28, 28]) torch.Size([32])\n",
      "torch.Size([32, 1, 28, 28]) torch.Size([32])\n",
      "torch.Size([32, 1, 28, 28]) torch.Size([32])\n",
      "torch.Size([32, 1, 28, 28]) torch.Size([32])\n",
      "torch.Size([32, 1, 28, 28]) torch.Size([32])\n",
      "torch.Size([32, 1, 28, 28]) torch.Size([32])\n",
      "torch.Size([32, 1, 28, 28]) torch.Size([32])\n",
      "torch.Size([32, 1, 28, 28]) torch.Size([32])\n",
      "torch.Size([32, 1, 28, 28]) torch.Size([32])\n",
      "torch.Size([32, 1, 28, 28]) torch.Size([32])\n",
      "torch.Size([32, 1, 28, 28]) torch.Size([32])\n",
      "torch.Size([32, 1, 28, 28]) torch.Size([32])\n",
      "torch.Size([32, 1, 28, 28]) torch.Size([32])\n",
      "torch.Size([32, 1, 28, 28]) torch.Size([32])\n",
      "torch.Size([32, 1, 28, 28]) torch.Size([32])\n",
      "torch.Size([32, 1, 28, 28]) torch.Size([32])\n",
      "torch.Size([32, 1, 28, 28]) torch.Size([32])\n",
      "torch.Size([32, 1, 28, 28]) torch.Size([32])\n",
      "torch.Size([32, 1, 28, 28]) torch.Size([32])\n",
      "torch.Size([32, 1, 28, 28]) torch.Size([32])\n",
      "torch.Size([32, 1, 28, 28]) torch.Size([32])\n",
      "torch.Size([32, 1, 28, 28]) torch.Size([32])\n",
      "torch.Size([32, 1, 28, 28]) torch.Size([32])\n",
      "torch.Size([32, 1, 28, 28]) torch.Size([32])\n",
      "torch.Size([32, 1, 28, 28]) torch.Size([32])\n",
      "torch.Size([32, 1, 28, 28]) torch.Size([32])\n",
      "torch.Size([32, 1, 28, 28]) torch.Size([32])\n",
      "torch.Size([32, 1, 28, 28]) torch.Size([32])\n",
      "torch.Size([32, 1, 28, 28]) torch.Size([32])\n",
      "torch.Size([32, 1, 28, 28]) torch.Size([32])\n",
      "torch.Size([32, 1, 28, 28]) torch.Size([32])\n",
      "torch.Size([32, 1, 28, 28]) torch.Size([32])\n",
      "torch.Size([32, 1, 28, 28]) torch.Size([32])\n",
      "torch.Size([32, 1, 28, 28]) torch.Size([32])\n",
      "torch.Size([32, 1, 28, 28]) torch.Size([32])\n",
      "torch.Size([32, 1, 28, 28]) torch.Size([32])\n",
      "torch.Size([32, 1, 28, 28]) torch.Size([32])\n",
      "torch.Size([32, 1, 28, 28]) torch.Size([32])\n",
      "torch.Size([32, 1, 28, 28]) torch.Size([32])\n",
      "torch.Size([32, 1, 28, 28]) torch.Size([32])\n",
      "torch.Size([32, 1, 28, 28]) torch.Size([32])\n",
      "torch.Size([32, 1, 28, 28]) torch.Size([32])\n",
      "torch.Size([32, 1, 28, 28]) torch.Size([32])\n",
      "torch.Size([32, 1, 28, 28]) torch.Size([32])\n",
      "torch.Size([32, 1, 28, 28]) torch.Size([32])\n",
      "torch.Size([32, 1, 28, 28]) torch.Size([32])\n",
      "torch.Size([32, 1, 28, 28]) torch.Size([32])\n",
      "torch.Size([32, 1, 28, 28]) torch.Size([32])\n",
      "torch.Size([32, 1, 28, 28]) torch.Size([32])\n",
      "torch.Size([32, 1, 28, 28]) torch.Size([32])\n",
      "torch.Size([32, 1, 28, 28]) torch.Size([32])\n",
      "torch.Size([32, 1, 28, 28]) torch.Size([32])\n",
      "torch.Size([32, 1, 28, 28]) torch.Size([32])\n",
      "torch.Size([32, 1, 28, 28]) torch.Size([32])\n",
      "torch.Size([32, 1, 28, 28]) torch.Size([32])\n",
      "torch.Size([32, 1, 28, 28]) torch.Size([32])\n",
      "torch.Size([32, 1, 28, 28]) torch.Size([32])\n",
      "torch.Size([32, 1, 28, 28]) torch.Size([32])\n",
      "torch.Size([32, 1, 28, 28]) torch.Size([32])\n",
      "torch.Size([32, 1, 28, 28]) torch.Size([32])\n",
      "torch.Size([32, 1, 28, 28]) torch.Size([32])\n",
      "torch.Size([32, 1, 28, 28]) torch.Size([32])\n",
      "torch.Size([32, 1, 28, 28]) torch.Size([32])\n",
      "torch.Size([32, 1, 28, 28]) torch.Size([32])\n",
      "torch.Size([32, 1, 28, 28]) torch.Size([32])\n",
      "torch.Size([32, 1, 28, 28]) torch.Size([32])\n",
      "torch.Size([32, 1, 28, 28]) torch.Size([32])\n",
      "torch.Size([32, 1, 28, 28]) torch.Size([32])\n",
      "torch.Size([32, 1, 28, 28]) torch.Size([32])\n",
      "torch.Size([32, 1, 28, 28]) torch.Size([32])\n",
      "torch.Size([32, 1, 28, 28]) torch.Size([32])\n",
      "torch.Size([32, 1, 28, 28]) torch.Size([32])\n",
      "torch.Size([32, 1, 28, 28]) torch.Size([32])\n",
      "torch.Size([32, 1, 28, 28]) torch.Size([32])\n",
      "torch.Size([32, 1, 28, 28]) torch.Size([32])\n",
      "torch.Size([32, 1, 28, 28]) torch.Size([32])\n",
      "torch.Size([32, 1, 28, 28]) torch.Size([32])\n",
      "torch.Size([32, 1, 28, 28]) torch.Size([32])\n",
      "torch.Size([32, 1, 28, 28]) torch.Size([32])\n",
      "torch.Size([32, 1, 28, 28]) torch.Size([32])\n",
      "torch.Size([32, 1, 28, 28]) torch.Size([32])\n",
      "torch.Size([32, 1, 28, 28]) torch.Size([32])\n",
      "torch.Size([32, 1, 28, 28]) torch.Size([32])\n",
      "torch.Size([32, 1, 28, 28]) torch.Size([32])\n",
      "torch.Size([32, 1, 28, 28]) torch.Size([32])\n",
      "torch.Size([32, 1, 28, 28]) torch.Size([32])\n",
      "torch.Size([32, 1, 28, 28]) torch.Size([32])\n",
      "torch.Size([32, 1, 28, 28]) torch.Size([32])\n",
      "torch.Size([32, 1, 28, 28]) torch.Size([32])\n",
      "torch.Size([32, 1, 28, 28]) torch.Size([32])\n",
      "torch.Size([32, 1, 28, 28]) torch.Size([32])\n",
      "torch.Size([32, 1, 28, 28]) torch.Size([32])\n",
      "torch.Size([32, 1, 28, 28]) torch.Size([32])\n",
      "torch.Size([32, 1, 28, 28]) torch.Size([32])\n",
      "torch.Size([32, 1, 28, 28]) torch.Size([32])\n",
      "torch.Size([32, 1, 28, 28]) torch.Size([32])\n",
      "torch.Size([32, 1, 28, 28]) torch.Size([32])\n",
      "torch.Size([32, 1, 28, 28]) torch.Size([32])\n",
      "torch.Size([32, 1, 28, 28]) torch.Size([32])\n",
      "torch.Size([32, 1, 28, 28]) torch.Size([32])\n",
      "torch.Size([32, 1, 28, 28]) torch.Size([32])\n",
      "torch.Size([32, 1, 28, 28]) torch.Size([32])\n",
      "torch.Size([32, 1, 28, 28]) torch.Size([32])\n",
      "torch.Size([32, 1, 28, 28]) torch.Size([32])\n",
      "torch.Size([32, 1, 28, 28]) torch.Size([32])\n",
      "torch.Size([32, 1, 28, 28]) torch.Size([32])\n",
      "torch.Size([32, 1, 28, 28]) torch.Size([32])\n",
      "torch.Size([32, 1, 28, 28]) torch.Size([32])\n",
      "torch.Size([32, 1, 28, 28]) torch.Size([32])\n",
      "torch.Size([32, 1, 28, 28]) torch.Size([32])\n",
      "torch.Size([32, 1, 28, 28]) torch.Size([32])\n",
      "torch.Size([32, 1, 28, 28]) torch.Size([32])\n",
      "torch.Size([32, 1, 28, 28]) torch.Size([32])\n",
      "torch.Size([32, 1, 28, 28]) torch.Size([32])\n",
      "torch.Size([32, 1, 28, 28]) torch.Size([32])\n",
      "torch.Size([32, 1, 28, 28]) torch.Size([32])\n",
      "torch.Size([32, 1, 28, 28]) torch.Size([32])\n",
      "torch.Size([32, 1, 28, 28]) torch.Size([32])\n",
      "torch.Size([32, 1, 28, 28]) torch.Size([32])\n",
      "torch.Size([32, 1, 28, 28]) torch.Size([32])\n",
      "torch.Size([32, 1, 28, 28]) torch.Size([32])\n",
      "torch.Size([32, 1, 28, 28]) torch.Size([32])\n",
      "torch.Size([32, 1, 28, 28]) torch.Size([32])\n",
      "torch.Size([32, 1, 28, 28]) torch.Size([32])\n",
      "torch.Size([32, 1, 28, 28]) torch.Size([32])\n",
      "torch.Size([32, 1, 28, 28]) torch.Size([32])\n",
      "torch.Size([32, 1, 28, 28]) torch.Size([32])\n",
      "torch.Size([32, 1, 28, 28]) torch.Size([32])\n",
      "torch.Size([32, 1, 28, 28]) torch.Size([32])\n",
      "torch.Size([32, 1, 28, 28]) torch.Size([32])\n",
      "torch.Size([32, 1, 28, 28]) torch.Size([32])\n",
      "torch.Size([32, 1, 28, 28]) torch.Size([32])\n",
      "torch.Size([32, 1, 28, 28]) torch.Size([32])\n",
      "torch.Size([32, 1, 28, 28]) torch.Size([32])\n",
      "torch.Size([32, 1, 28, 28]) torch.Size([32])\n",
      "torch.Size([32, 1, 28, 28]) torch.Size([32])\n",
      "torch.Size([32, 1, 28, 28]) torch.Size([32])\n",
      "torch.Size([32, 1, 28, 28]) torch.Size([32])\n",
      "torch.Size([32, 1, 28, 28]) torch.Size([32])\n",
      "torch.Size([32, 1, 28, 28]) torch.Size([32])\n",
      "torch.Size([32, 1, 28, 28]) torch.Size([32])\n",
      "torch.Size([32, 1, 28, 28]) torch.Size([32])\n",
      "torch.Size([32, 1, 28, 28]) torch.Size([32])\n",
      "torch.Size([32, 1, 28, 28]) torch.Size([32])\n",
      "torch.Size([32, 1, 28, 28]) torch.Size([32])\n",
      "torch.Size([32, 1, 28, 28]) torch.Size([32])\n",
      "torch.Size([32, 1, 28, 28]) torch.Size([32])\n",
      "torch.Size([32, 1, 28, 28]) torch.Size([32])\n",
      "torch.Size([32, 1, 28, 28]) torch.Size([32])\n",
      "torch.Size([32, 1, 28, 28]) torch.Size([32])\n",
      "torch.Size([32, 1, 28, 28]) torch.Size([32])\n",
      "torch.Size([32, 1, 28, 28]) torch.Size([32])\n",
      "torch.Size([32, 1, 28, 28]) torch.Size([32])\n",
      "torch.Size([32, 1, 28, 28]) torch.Size([32])\n",
      "torch.Size([32, 1, 28, 28]) torch.Size([32])\n",
      "torch.Size([32, 1, 28, 28]) torch.Size([32])\n",
      "torch.Size([32, 1, 28, 28]) torch.Size([32])\n",
      "torch.Size([32, 1, 28, 28]) torch.Size([32])\n",
      "torch.Size([32, 1, 28, 28]) torch.Size([32])\n",
      "torch.Size([32, 1, 28, 28]) torch.Size([32])\n",
      "torch.Size([32, 1, 28, 28]) torch.Size([32])\n",
      "torch.Size([32, 1, 28, 28]) torch.Size([32])\n",
      "torch.Size([32, 1, 28, 28]) torch.Size([32])\n",
      "torch.Size([32, 1, 28, 28]) torch.Size([32])\n",
      "torch.Size([32, 1, 28, 28]) torch.Size([32])\n",
      "torch.Size([32, 1, 28, 28]) torch.Size([32])\n",
      "torch.Size([32, 1, 28, 28]) torch.Size([32])\n",
      "torch.Size([32, 1, 28, 28]) torch.Size([32])\n",
      "torch.Size([32, 1, 28, 28]) torch.Size([32])\n",
      "torch.Size([32, 1, 28, 28]) torch.Size([32])\n",
      "torch.Size([32, 1, 28, 28]) torch.Size([32])\n",
      "torch.Size([32, 1, 28, 28]) torch.Size([32])\n",
      "torch.Size([32, 1, 28, 28]) torch.Size([32])\n",
      "torch.Size([32, 1, 28, 28]) torch.Size([32])\n",
      "torch.Size([32, 1, 28, 28]) torch.Size([32])\n",
      "torch.Size([32, 1, 28, 28]) torch.Size([32])\n",
      "torch.Size([32, 1, 28, 28]) torch.Size([32])\n",
      "torch.Size([32, 1, 28, 28]) torch.Size([32])\n",
      "torch.Size([32, 1, 28, 28]) torch.Size([32])\n",
      "torch.Size([32, 1, 28, 28]) torch.Size([32])\n",
      "torch.Size([32, 1, 28, 28]) torch.Size([32])\n",
      "torch.Size([32, 1, 28, 28]) torch.Size([32])\n",
      "torch.Size([32, 1, 28, 28]) torch.Size([32])\n",
      "torch.Size([32, 1, 28, 28]) torch.Size([32])\n",
      "torch.Size([32, 1, 28, 28]) torch.Size([32])\n",
      "torch.Size([32, 1, 28, 28]) torch.Size([32])\n",
      "torch.Size([32, 1, 28, 28]) torch.Size([32])\n",
      "torch.Size([32, 1, 28, 28]) torch.Size([32])\n",
      "torch.Size([32, 1, 28, 28]) torch.Size([32])\n",
      "torch.Size([32, 1, 28, 28]) torch.Size([32])\n",
      "torch.Size([32, 1, 28, 28]) torch.Size([32])\n",
      "torch.Size([32, 1, 28, 28]) torch.Size([32])\n",
      "torch.Size([32, 1, 28, 28]) torch.Size([32])\n",
      "torch.Size([32, 1, 28, 28]) torch.Size([32])\n",
      "torch.Size([32, 1, 28, 28]) torch.Size([32])\n",
      "torch.Size([32, 1, 28, 28]) torch.Size([32])\n",
      "torch.Size([32, 1, 28, 28]) torch.Size([32])\n",
      "torch.Size([32, 1, 28, 28]) torch.Size([32])\n",
      "torch.Size([32, 1, 28, 28]) torch.Size([32])\n",
      "torch.Size([32, 1, 28, 28]) torch.Size([32])\n",
      "torch.Size([32, 1, 28, 28]) torch.Size([32])\n",
      "torch.Size([32, 1, 28, 28]) torch.Size([32])\n",
      "torch.Size([32, 1, 28, 28]) torch.Size([32])\n",
      "torch.Size([32, 1, 28, 28]) torch.Size([32])\n",
      "torch.Size([32, 1, 28, 28]) torch.Size([32])\n",
      "torch.Size([32, 1, 28, 28]) torch.Size([32])\n",
      "torch.Size([32, 1, 28, 28]) torch.Size([32])\n",
      "torch.Size([32, 1, 28, 28]) torch.Size([32])\n",
      "torch.Size([32, 1, 28, 28]) torch.Size([32])\n",
      "torch.Size([32, 1, 28, 28]) torch.Size([32])\n",
      "torch.Size([32, 1, 28, 28]) torch.Size([32])\n",
      "torch.Size([32, 1, 28, 28]) torch.Size([32])\n",
      "torch.Size([32, 1, 28, 28]) torch.Size([32])\n",
      "torch.Size([32, 1, 28, 28]) torch.Size([32])\n",
      "torch.Size([32, 1, 28, 28]) torch.Size([32])\n",
      "torch.Size([32, 1, 28, 28]) torch.Size([32])\n",
      "torch.Size([32, 1, 28, 28]) torch.Size([32])\n",
      "torch.Size([32, 1, 28, 28]) torch.Size([32])\n",
      "torch.Size([32, 1, 28, 28]) torch.Size([32])\n",
      "torch.Size([32, 1, 28, 28]) torch.Size([32])\n",
      "torch.Size([32, 1, 28, 28]) torch.Size([32])\n",
      "torch.Size([32, 1, 28, 28]) torch.Size([32])\n",
      "torch.Size([32, 1, 28, 28]) torch.Size([32])\n",
      "torch.Size([32, 1, 28, 28]) torch.Size([32])\n",
      "torch.Size([32, 1, 28, 28]) torch.Size([32])\n",
      "torch.Size([32, 1, 28, 28]) torch.Size([32])\n",
      "torch.Size([32, 1, 28, 28]) torch.Size([32])\n",
      "torch.Size([32, 1, 28, 28]) torch.Size([32])\n",
      "torch.Size([32, 1, 28, 28]) torch.Size([32])\n",
      "torch.Size([32, 1, 28, 28]) torch.Size([32])\n",
      "torch.Size([32, 1, 28, 28]) torch.Size([32])\n",
      "torch.Size([32, 1, 28, 28]) torch.Size([32])\n",
      "torch.Size([32, 1, 28, 28]) torch.Size([32])\n",
      "torch.Size([32, 1, 28, 28]) torch.Size([32])\n",
      "torch.Size([32, 1, 28, 28]) torch.Size([32])\n",
      "torch.Size([32, 1, 28, 28]) torch.Size([32])\n",
      "torch.Size([32, 1, 28, 28]) torch.Size([32])\n",
      "torch.Size([32, 1, 28, 28]) torch.Size([32])\n",
      "torch.Size([32, 1, 28, 28]) torch.Size([32])\n",
      "torch.Size([32, 1, 28, 28]) torch.Size([32])\n",
      "torch.Size([32, 1, 28, 28]) torch.Size([32])\n",
      "torch.Size([32, 1, 28, 28]) torch.Size([32])\n",
      "torch.Size([32, 1, 28, 28]) torch.Size([32])\n",
      "torch.Size([32, 1, 28, 28]) torch.Size([32])\n",
      "torch.Size([32, 1, 28, 28]) torch.Size([32])\n",
      "torch.Size([32, 1, 28, 28]) torch.Size([32])\n",
      "torch.Size([32, 1, 28, 28]) torch.Size([32])\n",
      "torch.Size([32, 1, 28, 28]) torch.Size([32])\n",
      "torch.Size([32, 1, 28, 28]) torch.Size([32])\n",
      "torch.Size([32, 1, 28, 28]) torch.Size([32])\n",
      "torch.Size([32, 1, 28, 28]) torch.Size([32])\n",
      "torch.Size([32, 1, 28, 28]) torch.Size([32])\n",
      "torch.Size([32, 1, 28, 28]) torch.Size([32])\n",
      "torch.Size([32, 1, 28, 28]) torch.Size([32])\n",
      "torch.Size([32, 1, 28, 28]) torch.Size([32])\n",
      "torch.Size([32, 1, 28, 28]) torch.Size([32])\n",
      "torch.Size([32, 1, 28, 28]) torch.Size([32])\n",
      "torch.Size([32, 1, 28, 28]) torch.Size([32])\n",
      "torch.Size([32, 1, 28, 28]) torch.Size([32])\n",
      "torch.Size([32, 1, 28, 28]) torch.Size([32])\n",
      "torch.Size([32, 1, 28, 28]) torch.Size([32])\n",
      "torch.Size([32, 1, 28, 28]) torch.Size([32])\n",
      "torch.Size([32, 1, 28, 28]) torch.Size([32])\n",
      "torch.Size([32, 1, 28, 28]) torch.Size([32])\n",
      "torch.Size([32, 1, 28, 28]) torch.Size([32])\n",
      "torch.Size([32, 1, 28, 28]) torch.Size([32])\n",
      "torch.Size([32, 1, 28, 28]) torch.Size([32])\n",
      "torch.Size([32, 1, 28, 28]) torch.Size([32])\n",
      "torch.Size([32, 1, 28, 28]) torch.Size([32])\n",
      "torch.Size([32, 1, 28, 28]) torch.Size([32])\n",
      "torch.Size([32, 1, 28, 28]) torch.Size([32])\n",
      "torch.Size([32, 1, 28, 28]) torch.Size([32])\n",
      "torch.Size([32, 1, 28, 28]) torch.Size([32])\n",
      "torch.Size([32, 1, 28, 28]) torch.Size([32])\n",
      "torch.Size([32, 1, 28, 28]) torch.Size([32])\n",
      "torch.Size([32, 1, 28, 28]) torch.Size([32])\n",
      "torch.Size([32, 1, 28, 28]) torch.Size([32])\n",
      "torch.Size([32, 1, 28, 28]) torch.Size([32])\n",
      "torch.Size([32, 1, 28, 28]) torch.Size([32])\n",
      "torch.Size([32, 1, 28, 28]) torch.Size([32])\n",
      "torch.Size([32, 1, 28, 28]) torch.Size([32])\n",
      "torch.Size([32, 1, 28, 28]) torch.Size([32])\n",
      "torch.Size([32, 1, 28, 28]) torch.Size([32])\n",
      "torch.Size([32, 1, 28, 28]) torch.Size([32])\n",
      "torch.Size([32, 1, 28, 28]) torch.Size([32])\n",
      "torch.Size([32, 1, 28, 28]) torch.Size([32])\n",
      "torch.Size([32, 1, 28, 28]) torch.Size([32])\n",
      "torch.Size([32, 1, 28, 28]) torch.Size([32])\n",
      "torch.Size([32, 1, 28, 28]) torch.Size([32])\n",
      "torch.Size([32, 1, 28, 28]) torch.Size([32])\n",
      "torch.Size([32, 1, 28, 28]) torch.Size([32])\n",
      "torch.Size([32, 1, 28, 28]) torch.Size([32])\n",
      "torch.Size([32, 1, 28, 28]) torch.Size([32])\n",
      "torch.Size([32, 1, 28, 28]) torch.Size([32])\n",
      "torch.Size([32, 1, 28, 28]) torch.Size([32])\n",
      "torch.Size([32, 1, 28, 28]) torch.Size([32])\n",
      "torch.Size([32, 1, 28, 28]) torch.Size([32])\n",
      "torch.Size([32, 1, 28, 28]) torch.Size([32])\n",
      "torch.Size([32, 1, 28, 28]) torch.Size([32])\n",
      "torch.Size([32, 1, 28, 28]) torch.Size([32])\n",
      "torch.Size([32, 1, 28, 28]) torch.Size([32])\n",
      "torch.Size([32, 1, 28, 28]) torch.Size([32])\n",
      "torch.Size([32, 1, 28, 28]) torch.Size([32])\n",
      "torch.Size([32, 1, 28, 28]) torch.Size([32])\n",
      "torch.Size([32, 1, 28, 28]) torch.Size([32])\n",
      "torch.Size([32, 1, 28, 28]) torch.Size([32])\n",
      "torch.Size([32, 1, 28, 28]) torch.Size([32])\n",
      "torch.Size([32, 1, 28, 28]) torch.Size([32])\n",
      "torch.Size([32, 1, 28, 28]) torch.Size([32])\n",
      "torch.Size([32, 1, 28, 28]) torch.Size([32])\n",
      "torch.Size([32, 1, 28, 28]) torch.Size([32])\n",
      "torch.Size([32, 1, 28, 28]) torch.Size([32])\n",
      "torch.Size([32, 1, 28, 28]) torch.Size([32])\n",
      "torch.Size([32, 1, 28, 28]) torch.Size([32])\n",
      "torch.Size([32, 1, 28, 28]) torch.Size([32])\n",
      "torch.Size([32, 1, 28, 28]) torch.Size([32])\n",
      "torch.Size([32, 1, 28, 28]) torch.Size([32])\n",
      "torch.Size([32, 1, 28, 28]) torch.Size([32])\n",
      "torch.Size([32, 1, 28, 28]) torch.Size([32])\n",
      "torch.Size([32, 1, 28, 28]) torch.Size([32])\n",
      "torch.Size([32, 1, 28, 28]) torch.Size([32])\n",
      "torch.Size([32, 1, 28, 28]) torch.Size([32])\n",
      "torch.Size([32, 1, 28, 28]) torch.Size([32])\n",
      "torch.Size([32, 1, 28, 28]) torch.Size([32])\n",
      "torch.Size([32, 1, 28, 28]) torch.Size([32])\n",
      "torch.Size([32, 1, 28, 28]) torch.Size([32])\n",
      "torch.Size([32, 1, 28, 28]) torch.Size([32])\n",
      "torch.Size([32, 1, 28, 28]) torch.Size([32])\n",
      "torch.Size([32, 1, 28, 28]) torch.Size([32])\n",
      "torch.Size([32, 1, 28, 28]) torch.Size([32])\n",
      "torch.Size([32, 1, 28, 28]) torch.Size([32])\n",
      "torch.Size([32, 1, 28, 28]) torch.Size([32])\n",
      "torch.Size([32, 1, 28, 28]) torch.Size([32])\n",
      "torch.Size([32, 1, 28, 28]) torch.Size([32])\n",
      "torch.Size([32, 1, 28, 28]) torch.Size([32])\n",
      "torch.Size([32, 1, 28, 28]) torch.Size([32])\n",
      "torch.Size([32, 1, 28, 28]) torch.Size([32])\n",
      "torch.Size([32, 1, 28, 28]) torch.Size([32])\n",
      "torch.Size([32, 1, 28, 28]) torch.Size([32])\n",
      "torch.Size([32, 1, 28, 28]) torch.Size([32])\n",
      "torch.Size([32, 1, 28, 28]) torch.Size([32])\n",
      "torch.Size([32, 1, 28, 28]) torch.Size([32])\n",
      "torch.Size([32, 1, 28, 28]) torch.Size([32])\n",
      "torch.Size([32, 1, 28, 28]) torch.Size([32])\n",
      "torch.Size([32, 1, 28, 28]) torch.Size([32])\n",
      "torch.Size([32, 1, 28, 28]) torch.Size([32])\n",
      "torch.Size([32, 1, 28, 28]) torch.Size([32])\n",
      "torch.Size([32, 1, 28, 28]) torch.Size([32])\n",
      "torch.Size([32, 1, 28, 28]) torch.Size([32])\n",
      "torch.Size([32, 1, 28, 28]) torch.Size([32])\n",
      "torch.Size([32, 1, 28, 28]) torch.Size([32])\n",
      "torch.Size([32, 1, 28, 28]) torch.Size([32])\n",
      "torch.Size([32, 1, 28, 28]) torch.Size([32])\n",
      "torch.Size([32, 1, 28, 28]) torch.Size([32])\n",
      "torch.Size([32, 1, 28, 28]) torch.Size([32])\n",
      "torch.Size([32, 1, 28, 28]) torch.Size([32])\n",
      "torch.Size([32, 1, 28, 28]) torch.Size([32])\n",
      "torch.Size([32, 1, 28, 28]) torch.Size([32])\n",
      "torch.Size([32, 1, 28, 28]) torch.Size([32])\n",
      "torch.Size([32, 1, 28, 28]) torch.Size([32])\n",
      "torch.Size([32, 1, 28, 28]) torch.Size([32])\n",
      "torch.Size([32, 1, 28, 28]) torch.Size([32])\n",
      "torch.Size([32, 1, 28, 28]) torch.Size([32])\n",
      "torch.Size([32, 1, 28, 28]) torch.Size([32])\n",
      "torch.Size([32, 1, 28, 28]) torch.Size([32])\n",
      "torch.Size([32, 1, 28, 28]) torch.Size([32])\n",
      "torch.Size([32, 1, 28, 28]) torch.Size([32])\n",
      "torch.Size([32, 1, 28, 28]) torch.Size([32])\n",
      "torch.Size([32, 1, 28, 28]) torch.Size([32])\n",
      "torch.Size([32, 1, 28, 28]) torch.Size([32])\n",
      "torch.Size([32, 1, 28, 28]) torch.Size([32])\n",
      "torch.Size([32, 1, 28, 28]) torch.Size([32])\n",
      "torch.Size([32, 1, 28, 28]) torch.Size([32])\n",
      "torch.Size([32, 1, 28, 28]) torch.Size([32])\n",
      "torch.Size([32, 1, 28, 28]) torch.Size([32])\n",
      "torch.Size([32, 1, 28, 28]) torch.Size([32])\n",
      "torch.Size([32, 1, 28, 28]) torch.Size([32])\n",
      "torch.Size([32, 1, 28, 28]) torch.Size([32])\n",
      "torch.Size([32, 1, 28, 28]) torch.Size([32])\n",
      "torch.Size([32, 1, 28, 28]) torch.Size([32])\n",
      "torch.Size([32, 1, 28, 28]) torch.Size([32])\n",
      "torch.Size([32, 1, 28, 28]) torch.Size([32])\n",
      "torch.Size([32, 1, 28, 28]) torch.Size([32])\n",
      "torch.Size([32, 1, 28, 28]) torch.Size([32])\n",
      "torch.Size([32, 1, 28, 28]) torch.Size([32])\n",
      "torch.Size([32, 1, 28, 28]) torch.Size([32])\n",
      "torch.Size([32, 1, 28, 28]) torch.Size([32])\n",
      "torch.Size([32, 1, 28, 28]) torch.Size([32])\n",
      "torch.Size([32, 1, 28, 28]) torch.Size([32])\n",
      "torch.Size([32, 1, 28, 28]) torch.Size([32])\n",
      "torch.Size([32, 1, 28, 28]) torch.Size([32])\n",
      "torch.Size([32, 1, 28, 28]) torch.Size([32])\n",
      "torch.Size([32, 1, 28, 28]) torch.Size([32])\n",
      "torch.Size([32, 1, 28, 28]) torch.Size([32])\n",
      "torch.Size([32, 1, 28, 28]) torch.Size([32])\n",
      "torch.Size([32, 1, 28, 28]) torch.Size([32])\n",
      "torch.Size([32, 1, 28, 28]) torch.Size([32])\n",
      "torch.Size([32, 1, 28, 28]) torch.Size([32])\n",
      "torch.Size([32, 1, 28, 28]) torch.Size([32])\n",
      "torch.Size([32, 1, 28, 28]) torch.Size([32])\n",
      "torch.Size([32, 1, 28, 28]) torch.Size([32])\n",
      "torch.Size([32, 1, 28, 28]) torch.Size([32])\n",
      "torch.Size([32, 1, 28, 28]) torch.Size([32])\n",
      "torch.Size([32, 1, 28, 28]) torch.Size([32])\n",
      "torch.Size([32, 1, 28, 28]) torch.Size([32])\n",
      "torch.Size([32, 1, 28, 28]) torch.Size([32])\n",
      "torch.Size([32, 1, 28, 28]) torch.Size([32])\n",
      "torch.Size([32, 1, 28, 28]) torch.Size([32])\n",
      "torch.Size([32, 1, 28, 28]) torch.Size([32])\n",
      "torch.Size([32, 1, 28, 28]) torch.Size([32])\n",
      "torch.Size([32, 1, 28, 28]) torch.Size([32])\n",
      "torch.Size([32, 1, 28, 28]) torch.Size([32])\n",
      "torch.Size([32, 1, 28, 28]) torch.Size([32])\n",
      "torch.Size([32, 1, 28, 28]) torch.Size([32])\n",
      "torch.Size([32, 1, 28, 28]) torch.Size([32])\n",
      "torch.Size([32, 1, 28, 28]) torch.Size([32])\n",
      "torch.Size([32, 1, 28, 28]) torch.Size([32])\n",
      "torch.Size([32, 1, 28, 28]) torch.Size([32])\n",
      "torch.Size([32, 1, 28, 28]) torch.Size([32])\n",
      "torch.Size([32, 1, 28, 28]) torch.Size([32])\n",
      "torch.Size([32, 1, 28, 28]) torch.Size([32])\n",
      "torch.Size([32, 1, 28, 28]) torch.Size([32])\n",
      "torch.Size([32, 1, 28, 28]) torch.Size([32])\n",
      "torch.Size([32, 1, 28, 28]) torch.Size([32])\n",
      "torch.Size([32, 1, 28, 28]) torch.Size([32])\n",
      "torch.Size([32, 1, 28, 28]) torch.Size([32])\n",
      "torch.Size([32, 1, 28, 28]) torch.Size([32])\n",
      "torch.Size([32, 1, 28, 28]) torch.Size([32])\n",
      "torch.Size([32, 1, 28, 28]) torch.Size([32])\n",
      "torch.Size([32, 1, 28, 28]) torch.Size([32])\n",
      "torch.Size([32, 1, 28, 28]) torch.Size([32])\n",
      "torch.Size([32, 1, 28, 28]) torch.Size([32])\n",
      "torch.Size([32, 1, 28, 28]) torch.Size([32])\n",
      "torch.Size([32, 1, 28, 28]) torch.Size([32])\n",
      "torch.Size([32, 1, 28, 28]) torch.Size([32])\n",
      "torch.Size([32, 1, 28, 28]) torch.Size([32])\n",
      "torch.Size([32, 1, 28, 28]) torch.Size([32])\n",
      "torch.Size([32, 1, 28, 28]) torch.Size([32])\n",
      "torch.Size([32, 1, 28, 28]) torch.Size([32])\n",
      "torch.Size([32, 1, 28, 28]) torch.Size([32])\n",
      "torch.Size([32, 1, 28, 28]) torch.Size([32])\n",
      "torch.Size([32, 1, 28, 28]) torch.Size([32])\n",
      "torch.Size([32, 1, 28, 28]) torch.Size([32])\n",
      "torch.Size([32, 1, 28, 28]) torch.Size([32])\n",
      "torch.Size([32, 1, 28, 28]) torch.Size([32])\n",
      "torch.Size([32, 1, 28, 28]) torch.Size([32])\n",
      "torch.Size([32, 1, 28, 28]) torch.Size([32])\n",
      "torch.Size([32, 1, 28, 28]) torch.Size([32])\n",
      "torch.Size([32, 1, 28, 28]) torch.Size([32])\n",
      "torch.Size([32, 1, 28, 28]) torch.Size([32])\n",
      "torch.Size([32, 1, 28, 28]) torch.Size([32])\n",
      "torch.Size([32, 1, 28, 28]) torch.Size([32])\n",
      "torch.Size([32, 1, 28, 28]) torch.Size([32])\n",
      "torch.Size([32, 1, 28, 28]) torch.Size([32])\n",
      "torch.Size([32, 1, 28, 28]) torch.Size([32])\n",
      "torch.Size([32, 1, 28, 28]) torch.Size([32])\n",
      "torch.Size([32, 1, 28, 28]) torch.Size([32])\n",
      "torch.Size([32, 1, 28, 28]) torch.Size([32])\n",
      "torch.Size([32, 1, 28, 28]) torch.Size([32])\n",
      "torch.Size([32, 1, 28, 28]) torch.Size([32])\n",
      "torch.Size([32, 1, 28, 28]) torch.Size([32])\n",
      "torch.Size([32, 1, 28, 28]) torch.Size([32])\n",
      "torch.Size([32, 1, 28, 28]) torch.Size([32])\n",
      "torch.Size([32, 1, 28, 28]) torch.Size([32])\n",
      "torch.Size([32, 1, 28, 28]) torch.Size([32])\n",
      "torch.Size([32, 1, 28, 28]) torch.Size([32])\n",
      "torch.Size([32, 1, 28, 28]) torch.Size([32])\n",
      "torch.Size([32, 1, 28, 28]) torch.Size([32])\n",
      "torch.Size([32, 1, 28, 28]) torch.Size([32])\n",
      "torch.Size([32, 1, 28, 28]) torch.Size([32])\n",
      "torch.Size([32, 1, 28, 28]) torch.Size([32])\n",
      "torch.Size([32, 1, 28, 28]) torch.Size([32])\n",
      "torch.Size([32, 1, 28, 28]) torch.Size([32])\n",
      "torch.Size([32, 1, 28, 28]) torch.Size([32])\n",
      "torch.Size([32, 1, 28, 28]) torch.Size([32])\n",
      "torch.Size([32, 1, 28, 28]) torch.Size([32])\n",
      "torch.Size([32, 1, 28, 28]) torch.Size([32])\n",
      "torch.Size([32, 1, 28, 28]) torch.Size([32])\n",
      "torch.Size([32, 1, 28, 28]) torch.Size([32])\n",
      "torch.Size([32, 1, 28, 28]) torch.Size([32])\n",
      "torch.Size([32, 1, 28, 28]) torch.Size([32])\n",
      "torch.Size([32, 1, 28, 28]) torch.Size([32])\n",
      "torch.Size([32, 1, 28, 28]) torch.Size([32])\n",
      "torch.Size([32, 1, 28, 28]) torch.Size([32])\n",
      "torch.Size([32, 1, 28, 28]) torch.Size([32])\n",
      "torch.Size([32, 1, 28, 28]) torch.Size([32])\n",
      "torch.Size([32, 1, 28, 28]) torch.Size([32])\n",
      "torch.Size([32, 1, 28, 28]) torch.Size([32])\n",
      "torch.Size([32, 1, 28, 28]) torch.Size([32])\n",
      "torch.Size([32, 1, 28, 28]) torch.Size([32])\n",
      "torch.Size([32, 1, 28, 28]) torch.Size([32])\n",
      "torch.Size([32, 1, 28, 28]) torch.Size([32])\n",
      "torch.Size([32, 1, 28, 28]) torch.Size([32])\n",
      "torch.Size([32, 1, 28, 28]) torch.Size([32])\n",
      "torch.Size([32, 1, 28, 28]) torch.Size([32])\n",
      "torch.Size([32, 1, 28, 28]) torch.Size([32])\n",
      "torch.Size([32, 1, 28, 28]) torch.Size([32])\n",
      "torch.Size([32, 1, 28, 28]) torch.Size([32])\n",
      "torch.Size([32, 1, 28, 28]) torch.Size([32])\n",
      "torch.Size([32, 1, 28, 28]) torch.Size([32])\n",
      "torch.Size([32, 1, 28, 28]) torch.Size([32])\n",
      "torch.Size([32, 1, 28, 28]) torch.Size([32])\n",
      "torch.Size([32, 1, 28, 28]) torch.Size([32])\n",
      "torch.Size([32, 1, 28, 28]) torch.Size([32])\n",
      "torch.Size([32, 1, 28, 28]) torch.Size([32])\n",
      "torch.Size([32, 1, 28, 28]) torch.Size([32])\n",
      "torch.Size([32, 1, 28, 28]) torch.Size([32])\n",
      "torch.Size([32, 1, 28, 28]) torch.Size([32])\n",
      "torch.Size([32, 1, 28, 28]) torch.Size([32])\n",
      "torch.Size([32, 1, 28, 28]) torch.Size([32])\n",
      "torch.Size([32, 1, 28, 28]) torch.Size([32])\n",
      "torch.Size([32, 1, 28, 28]) torch.Size([32])\n",
      "torch.Size([32, 1, 28, 28]) torch.Size([32])\n",
      "torch.Size([32, 1, 28, 28]) torch.Size([32])\n",
      "torch.Size([32, 1, 28, 28]) torch.Size([32])\n",
      "torch.Size([32, 1, 28, 28]) torch.Size([32])\n",
      "torch.Size([32, 1, 28, 28]) torch.Size([32])\n",
      "torch.Size([32, 1, 28, 28]) torch.Size([32])\n",
      "torch.Size([32, 1, 28, 28]) torch.Size([32])\n",
      "torch.Size([32, 1, 28, 28]) torch.Size([32])\n",
      "torch.Size([32, 1, 28, 28]) torch.Size([32])\n",
      "torch.Size([32, 1, 28, 28]) torch.Size([32])\n",
      "torch.Size([32, 1, 28, 28]) torch.Size([32])\n",
      "torch.Size([32, 1, 28, 28]) torch.Size([32])\n",
      "torch.Size([32, 1, 28, 28]) torch.Size([32])\n",
      "torch.Size([32, 1, 28, 28]) torch.Size([32])\n",
      "torch.Size([32, 1, 28, 28]) torch.Size([32])\n",
      "torch.Size([32, 1, 28, 28]) torch.Size([32])\n",
      "torch.Size([32, 1, 28, 28]) torch.Size([32])\n",
      "torch.Size([32, 1, 28, 28]) torch.Size([32])\n",
      "torch.Size([32, 1, 28, 28]) torch.Size([32])\n",
      "torch.Size([32, 1, 28, 28]) torch.Size([32])\n",
      "torch.Size([32, 1, 28, 28]) torch.Size([32])\n",
      "torch.Size([32, 1, 28, 28]) torch.Size([32])\n",
      "torch.Size([32, 1, 28, 28]) torch.Size([32])\n",
      "torch.Size([32, 1, 28, 28]) torch.Size([32])\n",
      "torch.Size([32, 1, 28, 28]) torch.Size([32])\n",
      "torch.Size([32, 1, 28, 28]) torch.Size([32])\n",
      "torch.Size([32, 1, 28, 28]) torch.Size([32])\n",
      "torch.Size([32, 1, 28, 28]) torch.Size([32])\n",
      "torch.Size([32, 1, 28, 28]) torch.Size([32])\n",
      "torch.Size([32, 1, 28, 28]) torch.Size([32])\n",
      "torch.Size([32, 1, 28, 28]) torch.Size([32])\n",
      "torch.Size([32, 1, 28, 28]) torch.Size([32])\n",
      "torch.Size([32, 1, 28, 28]) torch.Size([32])\n",
      "torch.Size([32, 1, 28, 28]) torch.Size([32])\n",
      "torch.Size([32, 1, 28, 28]) torch.Size([32])\n",
      "torch.Size([32, 1, 28, 28]) torch.Size([32])\n",
      "torch.Size([32, 1, 28, 28]) torch.Size([32])\n",
      "torch.Size([32, 1, 28, 28]) torch.Size([32])\n",
      "torch.Size([32, 1, 28, 28]) torch.Size([32])\n",
      "torch.Size([32, 1, 28, 28]) torch.Size([32])\n",
      "torch.Size([32, 1, 28, 28]) torch.Size([32])\n",
      "torch.Size([32, 1, 28, 28]) torch.Size([32])\n",
      "torch.Size([32, 1, 28, 28]) torch.Size([32])\n",
      "torch.Size([32, 1, 28, 28]) torch.Size([32])\n",
      "torch.Size([32, 1, 28, 28]) torch.Size([32])\n",
      "torch.Size([32, 1, 28, 28]) torch.Size([32])\n",
      "torch.Size([32, 1, 28, 28]) torch.Size([32])\n",
      "torch.Size([32, 1, 28, 28]) torch.Size([32])\n",
      "torch.Size([32, 1, 28, 28]) torch.Size([32])\n",
      "torch.Size([32, 1, 28, 28]) torch.Size([32])\n",
      "torch.Size([32, 1, 28, 28]) torch.Size([32])\n",
      "torch.Size([32, 1, 28, 28]) torch.Size([32])\n",
      "torch.Size([32, 1, 28, 28]) torch.Size([32])\n",
      "torch.Size([32, 1, 28, 28]) torch.Size([32])\n",
      "torch.Size([32, 1, 28, 28]) torch.Size([32])\n",
      "torch.Size([32, 1, 28, 28]) torch.Size([32])\n",
      "torch.Size([32, 1, 28, 28]) torch.Size([32])\n",
      "torch.Size([32, 1, 28, 28]) torch.Size([32])\n",
      "torch.Size([32, 1, 28, 28]) torch.Size([32])\n",
      "torch.Size([32, 1, 28, 28]) torch.Size([32])\n",
      "torch.Size([32, 1, 28, 28]) torch.Size([32])\n",
      "torch.Size([32, 1, 28, 28]) torch.Size([32])\n",
      "torch.Size([32, 1, 28, 28]) torch.Size([32])\n",
      "torch.Size([32, 1, 28, 28]) torch.Size([32])\n",
      "torch.Size([32, 1, 28, 28]) torch.Size([32])\n",
      "torch.Size([32, 1, 28, 28]) torch.Size([32])\n",
      "torch.Size([32, 1, 28, 28]) torch.Size([32])\n",
      "torch.Size([32, 1, 28, 28]) torch.Size([32])\n",
      "torch.Size([32, 1, 28, 28]) torch.Size([32])\n",
      "torch.Size([32, 1, 28, 28]) torch.Size([32])\n",
      "torch.Size([32, 1, 28, 28]) torch.Size([32])\n",
      "torch.Size([32, 1, 28, 28]) torch.Size([32])\n",
      "torch.Size([32, 1, 28, 28]) torch.Size([32])\n",
      "torch.Size([32, 1, 28, 28]) torch.Size([32])\n",
      "torch.Size([32, 1, 28, 28]) torch.Size([32])\n",
      "torch.Size([32, 1, 28, 28]) torch.Size([32])\n",
      "torch.Size([32, 1, 28, 28]) torch.Size([32])\n",
      "torch.Size([32, 1, 28, 28]) torch.Size([32])\n",
      "torch.Size([32, 1, 28, 28]) torch.Size([32])\n",
      "torch.Size([32, 1, 28, 28]) torch.Size([32])\n",
      "torch.Size([32, 1, 28, 28]) torch.Size([32])\n",
      "torch.Size([32, 1, 28, 28]) torch.Size([32])\n",
      "torch.Size([32, 1, 28, 28]) torch.Size([32])\n",
      "torch.Size([32, 1, 28, 28]) torch.Size([32])\n",
      "torch.Size([32, 1, 28, 28]) torch.Size([32])\n",
      "torch.Size([32, 1, 28, 28]) torch.Size([32])\n",
      "torch.Size([32, 1, 28, 28]) torch.Size([32])\n",
      "torch.Size([32, 1, 28, 28]) torch.Size([32])\n",
      "torch.Size([32, 1, 28, 28]) torch.Size([32])\n",
      "torch.Size([32, 1, 28, 28]) torch.Size([32])\n",
      "torch.Size([32, 1, 28, 28]) torch.Size([32])\n",
      "torch.Size([32, 1, 28, 28]) torch.Size([32])\n",
      "torch.Size([32, 1, 28, 28]) torch.Size([32])\n",
      "torch.Size([32, 1, 28, 28]) torch.Size([32])\n",
      "torch.Size([32, 1, 28, 28]) torch.Size([32])\n",
      "torch.Size([32, 1, 28, 28]) torch.Size([32])\n",
      "torch.Size([32, 1, 28, 28]) torch.Size([32])\n",
      "torch.Size([32, 1, 28, 28]) torch.Size([32])\n",
      "torch.Size([32, 1, 28, 28]) torch.Size([32])\n",
      "torch.Size([32, 1, 28, 28]) torch.Size([32])\n",
      "torch.Size([32, 1, 28, 28]) torch.Size([32])\n",
      "torch.Size([32, 1, 28, 28]) torch.Size([32])\n",
      "torch.Size([32, 1, 28, 28]) torch.Size([32])\n",
      "torch.Size([32, 1, 28, 28]) torch.Size([32])\n",
      "torch.Size([32, 1, 28, 28]) torch.Size([32])\n",
      "torch.Size([32, 1, 28, 28]) torch.Size([32])\n",
      "torch.Size([32, 1, 28, 28]) torch.Size([32])\n",
      "torch.Size([32, 1, 28, 28]) torch.Size([32])\n",
      "torch.Size([32, 1, 28, 28]) torch.Size([32])\n",
      "torch.Size([32, 1, 28, 28]) torch.Size([32])\n",
      "torch.Size([32, 1, 28, 28]) torch.Size([32])\n",
      "torch.Size([32, 1, 28, 28]) torch.Size([32])\n",
      "torch.Size([32, 1, 28, 28]) torch.Size([32])\n",
      "torch.Size([32, 1, 28, 28]) torch.Size([32])\n",
      "torch.Size([32, 1, 28, 28]) torch.Size([32])\n",
      "torch.Size([32, 1, 28, 28]) torch.Size([32])\n",
      "torch.Size([32, 1, 28, 28]) torch.Size([32])\n",
      "torch.Size([32, 1, 28, 28]) torch.Size([32])\n",
      "torch.Size([32, 1, 28, 28]) torch.Size([32])\n",
      "torch.Size([32, 1, 28, 28]) torch.Size([32])\n",
      "torch.Size([32, 1, 28, 28]) torch.Size([32])\n",
      "torch.Size([32, 1, 28, 28]) torch.Size([32])\n",
      "torch.Size([32, 1, 28, 28]) torch.Size([32])\n",
      "torch.Size([32, 1, 28, 28]) torch.Size([32])\n",
      "torch.Size([32, 1, 28, 28]) torch.Size([32])\n",
      "torch.Size([32, 1, 28, 28]) torch.Size([32])\n",
      "torch.Size([32, 1, 28, 28]) torch.Size([32])\n",
      "torch.Size([32, 1, 28, 28]) torch.Size([32])\n",
      "torch.Size([32, 1, 28, 28]) torch.Size([32])\n",
      "torch.Size([32, 1, 28, 28]) torch.Size([32])\n",
      "torch.Size([32, 1, 28, 28]) torch.Size([32])\n",
      "torch.Size([32, 1, 28, 28]) torch.Size([32])\n",
      "torch.Size([32, 1, 28, 28]) torch.Size([32])\n",
      "torch.Size([32, 1, 28, 28]) torch.Size([32])\n",
      "torch.Size([32, 1, 28, 28]) torch.Size([32])\n",
      "torch.Size([32, 1, 28, 28]) torch.Size([32])\n",
      "torch.Size([32, 1, 28, 28]) torch.Size([32])\n",
      "torch.Size([32, 1, 28, 28]) torch.Size([32])\n",
      "torch.Size([32, 1, 28, 28]) torch.Size([32])\n",
      "torch.Size([32, 1, 28, 28]) torch.Size([32])\n",
      "torch.Size([32, 1, 28, 28]) torch.Size([32])\n",
      "torch.Size([32, 1, 28, 28]) torch.Size([32])\n",
      "torch.Size([32, 1, 28, 28]) torch.Size([32])\n",
      "torch.Size([32, 1, 28, 28]) torch.Size([32])\n",
      "torch.Size([32, 1, 28, 28]) torch.Size([32])\n",
      "torch.Size([32, 1, 28, 28]) torch.Size([32])\n",
      "torch.Size([32, 1, 28, 28]) torch.Size([32])\n",
      "torch.Size([32, 1, 28, 28]) torch.Size([32])\n",
      "torch.Size([32, 1, 28, 28]) torch.Size([32])\n",
      "torch.Size([32, 1, 28, 28]) torch.Size([32])\n",
      "torch.Size([32, 1, 28, 28]) torch.Size([32])\n",
      "torch.Size([32, 1, 28, 28]) torch.Size([32])\n",
      "torch.Size([32, 1, 28, 28]) torch.Size([32])\n",
      "torch.Size([32, 1, 28, 28]) torch.Size([32])\n",
      "torch.Size([32, 1, 28, 28]) torch.Size([32])\n",
      "torch.Size([32, 1, 28, 28]) torch.Size([32])\n",
      "torch.Size([32, 1, 28, 28]) torch.Size([32])\n",
      "torch.Size([32, 1, 28, 28]) torch.Size([32])\n",
      "torch.Size([32, 1, 28, 28]) torch.Size([32])\n",
      "torch.Size([32, 1, 28, 28]) torch.Size([32])\n",
      "torch.Size([32, 1, 28, 28]) torch.Size([32])\n",
      "torch.Size([32, 1, 28, 28]) torch.Size([32])\n",
      "torch.Size([32, 1, 28, 28]) torch.Size([32])\n",
      "torch.Size([32, 1, 28, 28]) torch.Size([32])\n",
      "torch.Size([32, 1, 28, 28]) torch.Size([32])\n",
      "torch.Size([32, 1, 28, 28]) torch.Size([32])\n",
      "torch.Size([32, 1, 28, 28]) torch.Size([32])\n",
      "torch.Size([32, 1, 28, 28]) torch.Size([32])\n",
      "torch.Size([32, 1, 28, 28]) torch.Size([32])\n",
      "torch.Size([32, 1, 28, 28]) torch.Size([32])\n",
      "torch.Size([32, 1, 28, 28]) torch.Size([32])\n",
      "torch.Size([32, 1, 28, 28]) torch.Size([32])\n",
      "torch.Size([32, 1, 28, 28]) torch.Size([32])\n",
      "torch.Size([32, 1, 28, 28]) torch.Size([32])\n",
      "torch.Size([32, 1, 28, 28]) torch.Size([32])\n",
      "torch.Size([32, 1, 28, 28]) torch.Size([32])\n",
      "torch.Size([32, 1, 28, 28]) torch.Size([32])\n",
      "torch.Size([32, 1, 28, 28]) torch.Size([32])\n",
      "torch.Size([32, 1, 28, 28]) torch.Size([32])\n",
      "torch.Size([32, 1, 28, 28]) torch.Size([32])\n",
      "torch.Size([32, 1, 28, 28]) torch.Size([32])\n",
      "torch.Size([32, 1, 28, 28]) torch.Size([32])\n",
      "torch.Size([32, 1, 28, 28]) torch.Size([32])\n",
      "torch.Size([32, 1, 28, 28]) torch.Size([32])\n",
      "torch.Size([32, 1, 28, 28]) torch.Size([32])\n",
      "torch.Size([32, 1, 28, 28]) torch.Size([32])\n",
      "torch.Size([32, 1, 28, 28]) torch.Size([32])\n",
      "torch.Size([32, 1, 28, 28]) torch.Size([32])\n",
      "torch.Size([32, 1, 28, 28]) torch.Size([32])\n",
      "torch.Size([32, 1, 28, 28]) torch.Size([32])\n",
      "torch.Size([32, 1, 28, 28]) torch.Size([32])\n",
      "torch.Size([32, 1, 28, 28]) torch.Size([32])\n",
      "torch.Size([32, 1, 28, 28]) torch.Size([32])\n",
      "torch.Size([32, 1, 28, 28]) torch.Size([32])\n",
      "torch.Size([32, 1, 28, 28]) torch.Size([32])\n",
      "torch.Size([32, 1, 28, 28]) torch.Size([32])\n",
      "torch.Size([32, 1, 28, 28]) torch.Size([32])\n",
      "torch.Size([32, 1, 28, 28]) torch.Size([32])\n",
      "torch.Size([32, 1, 28, 28]) torch.Size([32])\n",
      "torch.Size([32, 1, 28, 28]) torch.Size([32])\n",
      "torch.Size([32, 1, 28, 28]) torch.Size([32])\n",
      "torch.Size([32, 1, 28, 28]) torch.Size([32])\n",
      "torch.Size([32, 1, 28, 28]) torch.Size([32])\n",
      "torch.Size([32, 1, 28, 28]) torch.Size([32])\n",
      "torch.Size([32, 1, 28, 28]) torch.Size([32])\n",
      "torch.Size([32, 1, 28, 28]) torch.Size([32])\n",
      "torch.Size([32, 1, 28, 28]) torch.Size([32])\n",
      "torch.Size([32, 1, 28, 28]) torch.Size([32])\n",
      "torch.Size([32, 1, 28, 28]) torch.Size([32])\n",
      "torch.Size([32, 1, 28, 28]) torch.Size([32])\n",
      "torch.Size([32, 1, 28, 28]) torch.Size([32])\n",
      "torch.Size([32, 1, 28, 28]) torch.Size([32])\n",
      "torch.Size([32, 1, 28, 28]) torch.Size([32])\n",
      "torch.Size([32, 1, 28, 28]) torch.Size([32])\n",
      "torch.Size([32, 1, 28, 28]) torch.Size([32])\n",
      "torch.Size([32, 1, 28, 28]) torch.Size([32])\n",
      "torch.Size([32, 1, 28, 28]) torch.Size([32])\n",
      "torch.Size([32, 1, 28, 28]) torch.Size([32])\n",
      "torch.Size([32, 1, 28, 28]) torch.Size([32])\n",
      "torch.Size([32, 1, 28, 28]) torch.Size([32])\n",
      "torch.Size([32, 1, 28, 28]) torch.Size([32])\n",
      "torch.Size([32, 1, 28, 28]) torch.Size([32])\n",
      "torch.Size([32, 1, 28, 28]) torch.Size([32])\n",
      "torch.Size([32, 1, 28, 28]) torch.Size([32])\n",
      "torch.Size([32, 1, 28, 28]) torch.Size([32])\n",
      "torch.Size([32, 1, 28, 28]) torch.Size([32])\n",
      "torch.Size([32, 1, 28, 28]) torch.Size([32])\n",
      "torch.Size([32, 1, 28, 28]) torch.Size([32])\n",
      "torch.Size([32, 1, 28, 28]) torch.Size([32])\n",
      "torch.Size([32, 1, 28, 28]) torch.Size([32])\n",
      "torch.Size([32, 1, 28, 28]) torch.Size([32])\n",
      "torch.Size([32, 1, 28, 28]) torch.Size([32])\n",
      "torch.Size([32, 1, 28, 28]) torch.Size([32])\n",
      "torch.Size([32, 1, 28, 28]) torch.Size([32])\n",
      "torch.Size([32, 1, 28, 28]) torch.Size([32])\n",
      "torch.Size([32, 1, 28, 28]) torch.Size([32])\n",
      "torch.Size([32, 1, 28, 28]) torch.Size([32])\n",
      "torch.Size([32, 1, 28, 28]) torch.Size([32])\n",
      "torch.Size([32, 1, 28, 28]) torch.Size([32])\n",
      "torch.Size([32, 1, 28, 28]) torch.Size([32])\n",
      "torch.Size([32, 1, 28, 28]) torch.Size([32])\n",
      "torch.Size([32, 1, 28, 28]) torch.Size([32])\n",
      "torch.Size([32, 1, 28, 28]) torch.Size([32])\n",
      "torch.Size([32, 1, 28, 28]) torch.Size([32])\n",
      "torch.Size([32, 1, 28, 28]) torch.Size([32])\n",
      "torch.Size([32, 1, 28, 28]) torch.Size([32])\n",
      "torch.Size([32, 1, 28, 28]) torch.Size([32])\n",
      "torch.Size([32, 1, 28, 28]) torch.Size([32])\n",
      "torch.Size([32, 1, 28, 28]) torch.Size([32])\n",
      "torch.Size([32, 1, 28, 28]) torch.Size([32])\n",
      "torch.Size([32, 1, 28, 28]) torch.Size([32])\n",
      "torch.Size([32, 1, 28, 28]) torch.Size([32])\n",
      "torch.Size([32, 1, 28, 28]) torch.Size([32])\n",
      "torch.Size([32, 1, 28, 28]) torch.Size([32])\n",
      "torch.Size([32, 1, 28, 28]) torch.Size([32])\n",
      "torch.Size([32, 1, 28, 28]) torch.Size([32])\n",
      "torch.Size([32, 1, 28, 28]) torch.Size([32])\n",
      "torch.Size([32, 1, 28, 28]) torch.Size([32])\n",
      "torch.Size([32, 1, 28, 28]) torch.Size([32])\n",
      "torch.Size([32, 1, 28, 28]) torch.Size([32])\n",
      "torch.Size([32, 1, 28, 28]) torch.Size([32])\n",
      "torch.Size([32, 1, 28, 28]) torch.Size([32])\n",
      "torch.Size([32, 1, 28, 28]) torch.Size([32])\n",
      "torch.Size([32, 1, 28, 28]) torch.Size([32])\n",
      "torch.Size([32, 1, 28, 28]) torch.Size([32])\n",
      "torch.Size([32, 1, 28, 28]) torch.Size([32])\n",
      "torch.Size([32, 1, 28, 28]) torch.Size([32])\n",
      "torch.Size([32, 1, 28, 28]) torch.Size([32])\n",
      "torch.Size([32, 1, 28, 28]) torch.Size([32])\n",
      "torch.Size([32, 1, 28, 28]) torch.Size([32])\n",
      "torch.Size([32, 1, 28, 28]) torch.Size([32])\n",
      "torch.Size([32, 1, 28, 28]) torch.Size([32])\n",
      "torch.Size([32, 1, 28, 28]) torch.Size([32])\n",
      "torch.Size([32, 1, 28, 28]) torch.Size([32])\n",
      "torch.Size([32, 1, 28, 28]) torch.Size([32])\n",
      "torch.Size([32, 1, 28, 28]) torch.Size([32])\n",
      "torch.Size([32, 1, 28, 28]) torch.Size([32])\n",
      "torch.Size([32, 1, 28, 28]) torch.Size([32])\n",
      "torch.Size([32, 1, 28, 28]) torch.Size([32])\n",
      "torch.Size([32, 1, 28, 28]) torch.Size([32])\n",
      "torch.Size([32, 1, 28, 28]) torch.Size([32])\n",
      "torch.Size([32, 1, 28, 28]) torch.Size([32])\n",
      "torch.Size([32, 1, 28, 28]) torch.Size([32])\n",
      "torch.Size([32, 1, 28, 28]) torch.Size([32])\n",
      "torch.Size([32, 1, 28, 28]) torch.Size([32])\n",
      "torch.Size([32, 1, 28, 28]) torch.Size([32])\n",
      "torch.Size([32, 1, 28, 28]) torch.Size([32])\n",
      "torch.Size([32, 1, 28, 28]) torch.Size([32])\n",
      "torch.Size([32, 1, 28, 28]) torch.Size([32])\n",
      "torch.Size([32, 1, 28, 28]) torch.Size([32])\n",
      "torch.Size([32, 1, 28, 28]) torch.Size([32])\n",
      "torch.Size([32, 1, 28, 28]) torch.Size([32])\n",
      "torch.Size([32, 1, 28, 28]) torch.Size([32])\n",
      "torch.Size([32, 1, 28, 28]) torch.Size([32])\n",
      "torch.Size([32, 1, 28, 28]) torch.Size([32])\n",
      "torch.Size([32, 1, 28, 28]) torch.Size([32])\n",
      "torch.Size([32, 1, 28, 28]) torch.Size([32])\n",
      "torch.Size([32, 1, 28, 28]) torch.Size([32])\n",
      "torch.Size([32, 1, 28, 28]) torch.Size([32])\n",
      "torch.Size([32, 1, 28, 28]) torch.Size([32])\n",
      "torch.Size([32, 1, 28, 28]) torch.Size([32])\n",
      "torch.Size([32, 1, 28, 28]) torch.Size([32])\n",
      "torch.Size([32, 1, 28, 28]) torch.Size([32])\n",
      "torch.Size([32, 1, 28, 28]) torch.Size([32])\n",
      "torch.Size([32, 1, 28, 28]) torch.Size([32])\n",
      "torch.Size([32, 1, 28, 28]) torch.Size([32])\n",
      "torch.Size([32, 1, 28, 28]) torch.Size([32])\n",
      "torch.Size([32, 1, 28, 28]) torch.Size([32])\n",
      "torch.Size([32, 1, 28, 28]) torch.Size([32])\n",
      "torch.Size([32, 1, 28, 28]) torch.Size([32])\n",
      "torch.Size([32, 1, 28, 28]) torch.Size([32])\n",
      "torch.Size([32, 1, 28, 28]) torch.Size([32])\n",
      "torch.Size([32, 1, 28, 28]) torch.Size([32])\n",
      "torch.Size([32, 1, 28, 28]) torch.Size([32])\n",
      "torch.Size([32, 1, 28, 28]) torch.Size([32])\n",
      "torch.Size([32, 1, 28, 28]) torch.Size([32])\n",
      "torch.Size([32, 1, 28, 28]) torch.Size([32])\n",
      "torch.Size([32, 1, 28, 28]) torch.Size([32])\n",
      "torch.Size([32, 1, 28, 28]) torch.Size([32])\n",
      "torch.Size([32, 1, 28, 28]) torch.Size([32])\n",
      "torch.Size([32, 1, 28, 28]) torch.Size([32])\n",
      "torch.Size([32, 1, 28, 28]) torch.Size([32])\n",
      "torch.Size([32, 1, 28, 28]) torch.Size([32])\n",
      "torch.Size([32, 1, 28, 28]) torch.Size([32])\n",
      "torch.Size([32, 1, 28, 28]) torch.Size([32])\n",
      "torch.Size([32, 1, 28, 28]) torch.Size([32])\n",
      "torch.Size([32, 1, 28, 28]) torch.Size([32])\n",
      "torch.Size([32, 1, 28, 28]) torch.Size([32])\n",
      "torch.Size([32, 1, 28, 28]) torch.Size([32])\n",
      "torch.Size([32, 1, 28, 28]) torch.Size([32])\n",
      "torch.Size([32, 1, 28, 28]) torch.Size([32])\n",
      "torch.Size([32, 1, 28, 28]) torch.Size([32])\n",
      "torch.Size([32, 1, 28, 28]) torch.Size([32])\n",
      "torch.Size([32, 1, 28, 28]) torch.Size([32])\n",
      "torch.Size([32, 1, 28, 28]) torch.Size([32])\n",
      "torch.Size([32, 1, 28, 28]) torch.Size([32])\n",
      "torch.Size([32, 1, 28, 28]) torch.Size([32])\n",
      "torch.Size([32, 1, 28, 28]) torch.Size([32])\n",
      "torch.Size([32, 1, 28, 28]) torch.Size([32])\n",
      "torch.Size([32, 1, 28, 28]) torch.Size([32])\n",
      "torch.Size([32, 1, 28, 28]) torch.Size([32])\n",
      "torch.Size([32, 1, 28, 28]) torch.Size([32])\n",
      "torch.Size([32, 1, 28, 28]) torch.Size([32])\n",
      "torch.Size([32, 1, 28, 28]) torch.Size([32])\n",
      "torch.Size([32, 1, 28, 28]) torch.Size([32])\n",
      "torch.Size([32, 1, 28, 28]) torch.Size([32])\n",
      "torch.Size([32, 1, 28, 28]) torch.Size([32])\n",
      "torch.Size([32, 1, 28, 28]) torch.Size([32])\n",
      "torch.Size([32, 1, 28, 28]) torch.Size([32])\n",
      "torch.Size([32, 1, 28, 28]) torch.Size([32])\n",
      "torch.Size([32, 1, 28, 28]) torch.Size([32])\n",
      "torch.Size([32, 1, 28, 28]) torch.Size([32])\n",
      "torch.Size([32, 1, 28, 28]) torch.Size([32])\n",
      "torch.Size([32, 1, 28, 28]) torch.Size([32])\n",
      "torch.Size([32, 1, 28, 28]) torch.Size([32])\n",
      "torch.Size([32, 1, 28, 28]) torch.Size([32])\n",
      "torch.Size([32, 1, 28, 28]) torch.Size([32])\n",
      "torch.Size([32, 1, 28, 28]) torch.Size([32])\n",
      "torch.Size([32, 1, 28, 28]) torch.Size([32])\n",
      "torch.Size([32, 1, 28, 28]) torch.Size([32])\n",
      "torch.Size([32, 1, 28, 28]) torch.Size([32])\n",
      "torch.Size([32, 1, 28, 28]) torch.Size([32])\n",
      "torch.Size([32, 1, 28, 28]) torch.Size([32])\n",
      "torch.Size([32, 1, 28, 28]) torch.Size([32])\n",
      "torch.Size([32, 1, 28, 28]) torch.Size([32])\n",
      "torch.Size([32, 1, 28, 28]) torch.Size([32])\n",
      "torch.Size([32, 1, 28, 28]) torch.Size([32])\n",
      "torch.Size([32, 1, 28, 28]) torch.Size([32])\n",
      "torch.Size([32, 1, 28, 28]) torch.Size([32])\n",
      "torch.Size([32, 1, 28, 28]) torch.Size([32])\n",
      "torch.Size([32, 1, 28, 28]) torch.Size([32])\n",
      "torch.Size([32, 1, 28, 28]) torch.Size([32])\n",
      "torch.Size([32, 1, 28, 28]) torch.Size([32])\n",
      "torch.Size([32, 1, 28, 28]) torch.Size([32])\n",
      "torch.Size([32, 1, 28, 28]) torch.Size([32])\n",
      "torch.Size([32, 1, 28, 28]) torch.Size([32])\n",
      "torch.Size([32, 1, 28, 28]) torch.Size([32])\n",
      "torch.Size([32, 1, 28, 28]) torch.Size([32])\n",
      "torch.Size([32, 1, 28, 28]) torch.Size([32])\n",
      "torch.Size([32, 1, 28, 28]) torch.Size([32])\n",
      "torch.Size([32, 1, 28, 28]) torch.Size([32])\n",
      "torch.Size([32, 1, 28, 28]) torch.Size([32])\n",
      "torch.Size([32, 1, 28, 28]) torch.Size([32])\n",
      "torch.Size([32, 1, 28, 28]) torch.Size([32])\n",
      "torch.Size([32, 1, 28, 28]) torch.Size([32])\n",
      "torch.Size([32, 1, 28, 28]) torch.Size([32])\n",
      "torch.Size([32, 1, 28, 28]) torch.Size([32])\n",
      "torch.Size([32, 1, 28, 28]) torch.Size([32])\n",
      "torch.Size([32, 1, 28, 28]) torch.Size([32])\n",
      "torch.Size([32, 1, 28, 28]) torch.Size([32])\n",
      "torch.Size([32, 1, 28, 28]) torch.Size([32])\n",
      "torch.Size([32, 1, 28, 28]) torch.Size([32])\n",
      "torch.Size([32, 1, 28, 28]) torch.Size([32])\n",
      "torch.Size([32, 1, 28, 28]) torch.Size([32])\n",
      "torch.Size([32, 1, 28, 28]) torch.Size([32])\n",
      "torch.Size([32, 1, 28, 28]) torch.Size([32])\n",
      "torch.Size([32, 1, 28, 28]) torch.Size([32])\n",
      "torch.Size([32, 1, 28, 28]) torch.Size([32])\n",
      "torch.Size([32, 1, 28, 28]) torch.Size([32])\n",
      "torch.Size([32, 1, 28, 28]) torch.Size([32])\n",
      "torch.Size([32, 1, 28, 28]) torch.Size([32])\n",
      "torch.Size([32, 1, 28, 28]) torch.Size([32])\n",
      "torch.Size([32, 1, 28, 28]) torch.Size([32])\n",
      "torch.Size([32, 1, 28, 28]) torch.Size([32])\n",
      "torch.Size([32, 1, 28, 28]) torch.Size([32])\n",
      "torch.Size([32, 1, 28, 28]) torch.Size([32])\n",
      "torch.Size([32, 1, 28, 28]) torch.Size([32])\n",
      "torch.Size([32, 1, 28, 28]) torch.Size([32])\n",
      "torch.Size([32, 1, 28, 28]) torch.Size([32])\n",
      "torch.Size([32, 1, 28, 28]) torch.Size([32])\n",
      "torch.Size([32, 1, 28, 28]) torch.Size([32])\n",
      "torch.Size([32, 1, 28, 28]) torch.Size([32])\n",
      "torch.Size([32, 1, 28, 28]) torch.Size([32])\n",
      "torch.Size([32, 1, 28, 28]) torch.Size([32])\n",
      "torch.Size([32, 1, 28, 28]) torch.Size([32])\n",
      "torch.Size([32, 1, 28, 28]) torch.Size([32])\n",
      "torch.Size([32, 1, 28, 28]) torch.Size([32])\n",
      "torch.Size([32, 1, 28, 28]) torch.Size([32])\n",
      "torch.Size([32, 1, 28, 28]) torch.Size([32])\n",
      "torch.Size([32, 1, 28, 28]) torch.Size([32])\n",
      "torch.Size([32, 1, 28, 28]) torch.Size([32])\n",
      "torch.Size([32, 1, 28, 28]) torch.Size([32])\n",
      "torch.Size([32, 1, 28, 28]) torch.Size([32])\n",
      "torch.Size([32, 1, 28, 28]) torch.Size([32])\n",
      "torch.Size([32, 1, 28, 28]) torch.Size([32])\n",
      "torch.Size([32, 1, 28, 28]) torch.Size([32])\n",
      "torch.Size([32, 1, 28, 28]) torch.Size([32])\n",
      "torch.Size([32, 1, 28, 28]) torch.Size([32])\n",
      "torch.Size([32, 1, 28, 28]) torch.Size([32])\n",
      "torch.Size([32, 1, 28, 28]) torch.Size([32])\n",
      "torch.Size([32, 1, 28, 28]) torch.Size([32])\n",
      "torch.Size([32, 1, 28, 28]) torch.Size([32])\n",
      "torch.Size([32, 1, 28, 28]) torch.Size([32])\n",
      "torch.Size([32, 1, 28, 28]) torch.Size([32])\n",
      "torch.Size([32, 1, 28, 28]) torch.Size([32])\n",
      "torch.Size([32, 1, 28, 28]) torch.Size([32])\n",
      "torch.Size([32, 1, 28, 28]) torch.Size([32])\n",
      "torch.Size([32, 1, 28, 28]) torch.Size([32])\n",
      "torch.Size([32, 1, 28, 28]) torch.Size([32])\n",
      "torch.Size([32, 1, 28, 28]) torch.Size([32])\n",
      "torch.Size([32, 1, 28, 28]) torch.Size([32])\n",
      "torch.Size([32, 1, 28, 28]) torch.Size([32])\n",
      "torch.Size([32, 1, 28, 28]) torch.Size([32])\n",
      "torch.Size([32, 1, 28, 28]) torch.Size([32])\n",
      "torch.Size([32, 1, 28, 28]) torch.Size([32])\n",
      "torch.Size([32, 1, 28, 28]) torch.Size([32])\n",
      "torch.Size([32, 1, 28, 28]) torch.Size([32])\n",
      "torch.Size([32, 1, 28, 28]) torch.Size([32])\n",
      "torch.Size([32, 1, 28, 28]) torch.Size([32])\n",
      "torch.Size([32, 1, 28, 28]) torch.Size([32])\n",
      "torch.Size([32, 1, 28, 28]) torch.Size([32])\n",
      "torch.Size([32, 1, 28, 28]) torch.Size([32])\n",
      "torch.Size([32, 1, 28, 28]) torch.Size([32])\n",
      "torch.Size([32, 1, 28, 28]) torch.Size([32])\n",
      "torch.Size([32, 1, 28, 28]) torch.Size([32])\n",
      "torch.Size([32, 1, 28, 28]) torch.Size([32])\n",
      "torch.Size([32, 1, 28, 28]) torch.Size([32])\n",
      "torch.Size([32, 1, 28, 28]) torch.Size([32])\n",
      "torch.Size([32, 1, 28, 28]) torch.Size([32])\n",
      "torch.Size([32, 1, 28, 28]) torch.Size([32])\n",
      "torch.Size([32, 1, 28, 28]) torch.Size([32])\n",
      "torch.Size([32, 1, 28, 28]) torch.Size([32])\n",
      "torch.Size([32, 1, 28, 28]) torch.Size([32])\n",
      "torch.Size([32, 1, 28, 28]) torch.Size([32])\n",
      "torch.Size([32, 1, 28, 28]) torch.Size([32])\n",
      "torch.Size([32, 1, 28, 28]) torch.Size([32])\n",
      "torch.Size([32, 1, 28, 28]) torch.Size([32])\n",
      "torch.Size([32, 1, 28, 28]) torch.Size([32])\n",
      "torch.Size([32, 1, 28, 28]) torch.Size([32])\n",
      "torch.Size([32, 1, 28, 28]) torch.Size([32])\n",
      "torch.Size([32, 1, 28, 28]) torch.Size([32])\n",
      "torch.Size([32, 1, 28, 28]) torch.Size([32])\n",
      "torch.Size([32, 1, 28, 28]) torch.Size([32])\n",
      "torch.Size([32, 1, 28, 28]) torch.Size([32])\n",
      "torch.Size([32, 1, 28, 28]) torch.Size([32])\n",
      "torch.Size([32, 1, 28, 28]) torch.Size([32])\n",
      "torch.Size([32, 1, 28, 28]) torch.Size([32])\n",
      "torch.Size([32, 1, 28, 28]) torch.Size([32])\n",
      "torch.Size([32, 1, 28, 28]) torch.Size([32])\n",
      "torch.Size([32, 1, 28, 28]) torch.Size([32])\n",
      "torch.Size([32, 1, 28, 28]) torch.Size([32])\n",
      "torch.Size([32, 1, 28, 28]) torch.Size([32])\n",
      "torch.Size([32, 1, 28, 28]) torch.Size([32])\n",
      "torch.Size([32, 1, 28, 28]) torch.Size([32])\n",
      "torch.Size([32, 1, 28, 28]) torch.Size([32])\n",
      "torch.Size([32, 1, 28, 28]) torch.Size([32])\n",
      "torch.Size([32, 1, 28, 28]) torch.Size([32])\n",
      "torch.Size([32, 1, 28, 28]) torch.Size([32])\n",
      "torch.Size([32, 1, 28, 28]) torch.Size([32])\n",
      "torch.Size([32, 1, 28, 28]) torch.Size([32])\n",
      "torch.Size([32, 1, 28, 28]) torch.Size([32])\n",
      "torch.Size([32, 1, 28, 28]) torch.Size([32])\n",
      "torch.Size([32, 1, 28, 28]) torch.Size([32])\n",
      "torch.Size([32, 1, 28, 28]) torch.Size([32])\n",
      "torch.Size([32, 1, 28, 28]) torch.Size([32])\n",
      "torch.Size([32, 1, 28, 28]) torch.Size([32])\n",
      "torch.Size([32, 1, 28, 28]) torch.Size([32])\n",
      "torch.Size([32, 1, 28, 28]) torch.Size([32])\n",
      "torch.Size([32, 1, 28, 28]) torch.Size([32])\n",
      "torch.Size([32, 1, 28, 28]) torch.Size([32])\n",
      "torch.Size([32, 1, 28, 28]) torch.Size([32])\n",
      "torch.Size([32, 1, 28, 28]) torch.Size([32])\n",
      "torch.Size([32, 1, 28, 28]) torch.Size([32])\n",
      "torch.Size([32, 1, 28, 28]) torch.Size([32])\n",
      "torch.Size([32, 1, 28, 28]) torch.Size([32])\n",
      "torch.Size([32, 1, 28, 28]) torch.Size([32])\n",
      "torch.Size([32, 1, 28, 28]) torch.Size([32])\n",
      "torch.Size([32, 1, 28, 28]) torch.Size([32])\n",
      "torch.Size([32, 1, 28, 28]) torch.Size([32])\n",
      "torch.Size([32, 1, 28, 28]) torch.Size([32])\n",
      "torch.Size([32, 1, 28, 28]) torch.Size([32])\n",
      "torch.Size([32, 1, 28, 28]) torch.Size([32])\n",
      "torch.Size([32, 1, 28, 28]) torch.Size([32])\n",
      "torch.Size([32, 1, 28, 28]) torch.Size([32])\n",
      "torch.Size([32, 1, 28, 28]) torch.Size([32])\n",
      "torch.Size([32, 1, 28, 28]) torch.Size([32])\n",
      "torch.Size([32, 1, 28, 28]) torch.Size([32])\n",
      "torch.Size([32, 1, 28, 28]) torch.Size([32])\n",
      "torch.Size([32, 1, 28, 28]) torch.Size([32])\n",
      "torch.Size([32, 1, 28, 28]) torch.Size([32])\n",
      "torch.Size([32, 1, 28, 28]) torch.Size([32])\n",
      "torch.Size([32, 1, 28, 28]) torch.Size([32])\n",
      "torch.Size([32, 1, 28, 28]) torch.Size([32])\n",
      "torch.Size([32, 1, 28, 28]) torch.Size([32])\n",
      "torch.Size([32, 1, 28, 28]) torch.Size([32])\n",
      "torch.Size([32, 1, 28, 28]) torch.Size([32])\n",
      "torch.Size([32, 1, 28, 28]) torch.Size([32])\n",
      "torch.Size([32, 1, 28, 28]) torch.Size([32])\n",
      "torch.Size([32, 1, 28, 28]) torch.Size([32])\n",
      "torch.Size([32, 1, 28, 28]) torch.Size([32])\n",
      "torch.Size([32, 1, 28, 28]) torch.Size([32])\n",
      "torch.Size([32, 1, 28, 28]) torch.Size([32])\n",
      "torch.Size([32, 1, 28, 28]) torch.Size([32])\n",
      "torch.Size([32, 1, 28, 28]) torch.Size([32])\n",
      "torch.Size([32, 1, 28, 28]) torch.Size([32])\n",
      "torch.Size([32, 1, 28, 28]) torch.Size([32])\n",
      "torch.Size([32, 1, 28, 28]) torch.Size([32])\n",
      "torch.Size([32, 1, 28, 28]) torch.Size([32])\n",
      "torch.Size([32, 1, 28, 28]) torch.Size([32])\n",
      "torch.Size([32, 1, 28, 28]) torch.Size([32])\n",
      "torch.Size([32, 1, 28, 28]) torch.Size([32])\n",
      "torch.Size([32, 1, 28, 28]) torch.Size([32])\n",
      "torch.Size([32, 1, 28, 28]) torch.Size([32])\n",
      "torch.Size([32, 1, 28, 28]) torch.Size([32])\n",
      "torch.Size([32, 1, 28, 28]) torch.Size([32])\n",
      "torch.Size([32, 1, 28, 28]) torch.Size([32])\n",
      "torch.Size([32, 1, 28, 28]) torch.Size([32])\n",
      "torch.Size([32, 1, 28, 28]) torch.Size([32])\n",
      "torch.Size([32, 1, 28, 28]) torch.Size([32])\n",
      "torch.Size([32, 1, 28, 28]) torch.Size([32])\n",
      "torch.Size([32, 1, 28, 28]) torch.Size([32])\n",
      "torch.Size([32, 1, 28, 28]) torch.Size([32])\n",
      "torch.Size([32, 1, 28, 28]) torch.Size([32])\n",
      "torch.Size([32, 1, 28, 28]) torch.Size([32])\n",
      "torch.Size([32, 1, 28, 28]) torch.Size([32])\n",
      "torch.Size([32, 1, 28, 28]) torch.Size([32])\n",
      "torch.Size([32, 1, 28, 28]) torch.Size([32])\n",
      "torch.Size([32, 1, 28, 28]) torch.Size([32])\n",
      "torch.Size([32, 1, 28, 28]) torch.Size([32])\n",
      "torch.Size([32, 1, 28, 28]) torch.Size([32])\n",
      "torch.Size([32, 1, 28, 28]) torch.Size([32])\n",
      "torch.Size([32, 1, 28, 28]) torch.Size([32])\n",
      "torch.Size([32, 1, 28, 28]) torch.Size([32])\n",
      "torch.Size([32, 1, 28, 28]) torch.Size([32])\n",
      "torch.Size([32, 1, 28, 28]) torch.Size([32])\n",
      "torch.Size([32, 1, 28, 28]) torch.Size([32])\n",
      "torch.Size([32, 1, 28, 28]) torch.Size([32])\n",
      "torch.Size([32, 1, 28, 28]) torch.Size([32])\n",
      "torch.Size([32, 1, 28, 28]) torch.Size([32])\n",
      "torch.Size([32, 1, 28, 28]) torch.Size([32])\n",
      "torch.Size([32, 1, 28, 28]) torch.Size([32])\n",
      "torch.Size([32, 1, 28, 28]) torch.Size([32])\n",
      "torch.Size([32, 1, 28, 28]) torch.Size([32])\n",
      "torch.Size([32, 1, 28, 28]) torch.Size([32])\n",
      "torch.Size([32, 1, 28, 28]) torch.Size([32])\n",
      "torch.Size([32, 1, 28, 28]) torch.Size([32])\n",
      "torch.Size([32, 1, 28, 28]) torch.Size([32])\n",
      "torch.Size([32, 1, 28, 28]) torch.Size([32])\n",
      "torch.Size([32, 1, 28, 28]) torch.Size([32])\n",
      "torch.Size([32, 1, 28, 28]) torch.Size([32])\n",
      "torch.Size([32, 1, 28, 28]) torch.Size([32])\n",
      "torch.Size([32, 1, 28, 28]) torch.Size([32])\n",
      "torch.Size([32, 1, 28, 28]) torch.Size([32])\n",
      "torch.Size([32, 1, 28, 28]) torch.Size([32])\n",
      "torch.Size([32, 1, 28, 28]) torch.Size([32])\n",
      "torch.Size([32, 1, 28, 28]) torch.Size([32])\n",
      "torch.Size([32, 1, 28, 28]) torch.Size([32])\n",
      "torch.Size([32, 1, 28, 28]) torch.Size([32])\n",
      "torch.Size([32, 1, 28, 28]) torch.Size([32])\n",
      "torch.Size([32, 1, 28, 28]) torch.Size([32])\n",
      "torch.Size([32, 1, 28, 28]) torch.Size([32])\n",
      "torch.Size([32, 1, 28, 28]) torch.Size([32])\n",
      "torch.Size([32, 1, 28, 28]) torch.Size([32])\n",
      "torch.Size([32, 1, 28, 28]) torch.Size([32])\n",
      "torch.Size([32, 1, 28, 28]) torch.Size([32])\n",
      "torch.Size([32, 1, 28, 28]) torch.Size([32])\n",
      "torch.Size([32, 1, 28, 28]) torch.Size([32])\n",
      "torch.Size([32, 1, 28, 28]) torch.Size([32])\n",
      "torch.Size([32, 1, 28, 28]) torch.Size([32])\n",
      "torch.Size([32, 1, 28, 28]) torch.Size([32])\n",
      "torch.Size([32, 1, 28, 28]) torch.Size([32])\n",
      "torch.Size([32, 1, 28, 28]) torch.Size([32])\n",
      "torch.Size([32, 1, 28, 28]) torch.Size([32])\n",
      "torch.Size([32, 1, 28, 28]) torch.Size([32])\n",
      "torch.Size([32, 1, 28, 28]) torch.Size([32])\n",
      "torch.Size([32, 1, 28, 28]) torch.Size([32])\n",
      "torch.Size([32, 1, 28, 28]) torch.Size([32])\n",
      "torch.Size([32, 1, 28, 28]) torch.Size([32])\n",
      "torch.Size([32, 1, 28, 28]) torch.Size([32])\n",
      "torch.Size([32, 1, 28, 28]) torch.Size([32])\n",
      "torch.Size([32, 1, 28, 28]) torch.Size([32])\n",
      "torch.Size([32, 1, 28, 28]) torch.Size([32])\n",
      "torch.Size([32, 1, 28, 28]) torch.Size([32])\n",
      "torch.Size([32, 1, 28, 28]) torch.Size([32])\n",
      "torch.Size([32, 1, 28, 28]) torch.Size([32])\n",
      "torch.Size([32, 1, 28, 28]) torch.Size([32])\n",
      "torch.Size([32, 1, 28, 28]) torch.Size([32])\n",
      "torch.Size([32, 1, 28, 28]) torch.Size([32])\n",
      "torch.Size([32, 1, 28, 28]) torch.Size([32])\n",
      "torch.Size([32, 1, 28, 28]) torch.Size([32])\n",
      "torch.Size([32, 1, 28, 28]) torch.Size([32])\n",
      "torch.Size([32, 1, 28, 28]) torch.Size([32])\n",
      "torch.Size([32, 1, 28, 28]) torch.Size([32])\n",
      "torch.Size([32, 1, 28, 28]) torch.Size([32])\n",
      "torch.Size([32, 1, 28, 28]) torch.Size([32])\n",
      "torch.Size([32, 1, 28, 28]) torch.Size([32])\n",
      "torch.Size([32, 1, 28, 28]) torch.Size([32])\n",
      "torch.Size([32, 1, 28, 28]) torch.Size([32])\n",
      "torch.Size([32, 1, 28, 28]) torch.Size([32])\n",
      "torch.Size([32, 1, 28, 28]) torch.Size([32])\n",
      "torch.Size([32, 1, 28, 28]) torch.Size([32])\n",
      "torch.Size([32, 1, 28, 28]) torch.Size([32])\n",
      "torch.Size([32, 1, 28, 28]) torch.Size([32])\n",
      "torch.Size([32, 1, 28, 28]) torch.Size([32])\n",
      "torch.Size([32, 1, 28, 28]) torch.Size([32])\n",
      "torch.Size([32, 1, 28, 28]) torch.Size([32])\n",
      "torch.Size([32, 1, 28, 28]) torch.Size([32])\n",
      "torch.Size([32, 1, 28, 28]) torch.Size([32])\n",
      "torch.Size([32, 1, 28, 28]) torch.Size([32])\n",
      "torch.Size([32, 1, 28, 28]) torch.Size([32])\n",
      "torch.Size([32, 1, 28, 28]) torch.Size([32])\n",
      "torch.Size([32, 1, 28, 28]) torch.Size([32])\n",
      "torch.Size([32, 1, 28, 28]) torch.Size([32])\n",
      "torch.Size([32, 1, 28, 28]) torch.Size([32])\n",
      "torch.Size([32, 1, 28, 28]) torch.Size([32])\n",
      "torch.Size([32, 1, 28, 28]) torch.Size([32])\n",
      "torch.Size([32, 1, 28, 28]) torch.Size([32])\n",
      "torch.Size([32, 1, 28, 28]) torch.Size([32])\n",
      "torch.Size([32, 1, 28, 28]) torch.Size([32])\n",
      "torch.Size([32, 1, 28, 28]) torch.Size([32])\n",
      "torch.Size([32, 1, 28, 28]) torch.Size([32])\n",
      "torch.Size([32, 1, 28, 28]) torch.Size([32])\n",
      "torch.Size([32, 1, 28, 28]) torch.Size([32])\n",
      "torch.Size([32, 1, 28, 28]) torch.Size([32])\n",
      "torch.Size([32, 1, 28, 28]) torch.Size([32])\n",
      "torch.Size([32, 1, 28, 28]) torch.Size([32])\n",
      "torch.Size([32, 1, 28, 28]) torch.Size([32])\n",
      "torch.Size([32, 1, 28, 28]) torch.Size([32])\n",
      "torch.Size([32, 1, 28, 28]) torch.Size([32])\n",
      "torch.Size([32, 1, 28, 28]) torch.Size([32])\n",
      "torch.Size([32, 1, 28, 28]) torch.Size([32])\n",
      "torch.Size([32, 1, 28, 28]) torch.Size([32])\n",
      "torch.Size([32, 1, 28, 28]) torch.Size([32])\n",
      "torch.Size([32, 1, 28, 28]) torch.Size([32])\n",
      "torch.Size([32, 1, 28, 28]) torch.Size([32])\n",
      "torch.Size([32, 1, 28, 28]) torch.Size([32])\n",
      "torch.Size([32, 1, 28, 28]) torch.Size([32])\n",
      "torch.Size([32, 1, 28, 28]) torch.Size([32])\n",
      "torch.Size([32, 1, 28, 28]) torch.Size([32])\n",
      "torch.Size([32, 1, 28, 28]) torch.Size([32])\n",
      "torch.Size([32, 1, 28, 28]) torch.Size([32])\n",
      "torch.Size([32, 1, 28, 28]) torch.Size([32])\n",
      "torch.Size([32, 1, 28, 28]) torch.Size([32])\n",
      "torch.Size([32, 1, 28, 28]) torch.Size([32])\n",
      "torch.Size([32, 1, 28, 28]) torch.Size([32])\n",
      "torch.Size([32, 1, 28, 28]) torch.Size([32])\n",
      "torch.Size([32, 1, 28, 28]) torch.Size([32])\n",
      "torch.Size([32, 1, 28, 28]) torch.Size([32])\n",
      "torch.Size([32, 1, 28, 28]) torch.Size([32])\n",
      "torch.Size([32, 1, 28, 28]) torch.Size([32])\n",
      "torch.Size([32, 1, 28, 28]) torch.Size([32])\n",
      "torch.Size([32, 1, 28, 28]) torch.Size([32])\n",
      "torch.Size([32, 1, 28, 28]) torch.Size([32])\n",
      "torch.Size([32, 1, 28, 28]) torch.Size([32])\n",
      "torch.Size([32, 1, 28, 28]) torch.Size([32])\n",
      "torch.Size([32, 1, 28, 28]) torch.Size([32])\n",
      "torch.Size([32, 1, 28, 28]) torch.Size([32])\n",
      "torch.Size([32, 1, 28, 28]) torch.Size([32])\n",
      "torch.Size([32, 1, 28, 28]) torch.Size([32])\n",
      "torch.Size([32, 1, 28, 28]) torch.Size([32])\n",
      "torch.Size([32, 1, 28, 28]) torch.Size([32])\n",
      "torch.Size([32, 1, 28, 28]) torch.Size([32])\n",
      "torch.Size([32, 1, 28, 28]) torch.Size([32])\n",
      "torch.Size([32, 1, 28, 28]) torch.Size([32])\n",
      "torch.Size([32, 1, 28, 28]) torch.Size([32])\n",
      "torch.Size([32, 1, 28, 28]) torch.Size([32])\n",
      "torch.Size([32, 1, 28, 28]) torch.Size([32])\n",
      "torch.Size([32, 1, 28, 28]) torch.Size([32])\n",
      "torch.Size([32, 1, 28, 28]) torch.Size([32])\n",
      "torch.Size([32, 1, 28, 28]) torch.Size([32])\n",
      "torch.Size([32, 1, 28, 28]) torch.Size([32])\n",
      "torch.Size([32, 1, 28, 28]) torch.Size([32])\n",
      "torch.Size([32, 1, 28, 28]) torch.Size([32])\n",
      "torch.Size([32, 1, 28, 28]) torch.Size([32])\n",
      "torch.Size([32, 1, 28, 28]) torch.Size([32])\n",
      "torch.Size([32, 1, 28, 28]) torch.Size([32])\n",
      "torch.Size([32, 1, 28, 28]) torch.Size([32])\n",
      "torch.Size([32, 1, 28, 28]) torch.Size([32])\n",
      "torch.Size([32, 1, 28, 28]) torch.Size([32])\n",
      "torch.Size([32, 1, 28, 28]) torch.Size([32])\n",
      "torch.Size([32, 1, 28, 28]) torch.Size([32])\n",
      "torch.Size([32, 1, 28, 28]) torch.Size([32])\n",
      "torch.Size([32, 1, 28, 28]) torch.Size([32])\n",
      "torch.Size([32, 1, 28, 28]) torch.Size([32])\n",
      "torch.Size([32, 1, 28, 28]) torch.Size([32])\n",
      "torch.Size([32, 1, 28, 28]) torch.Size([32])\n",
      "torch.Size([32, 1, 28, 28]) torch.Size([32])\n",
      "torch.Size([32, 1, 28, 28]) torch.Size([32])\n",
      "torch.Size([32, 1, 28, 28]) torch.Size([32])\n",
      "torch.Size([32, 1, 28, 28]) torch.Size([32])\n",
      "torch.Size([32, 1, 28, 28]) torch.Size([32])\n",
      "torch.Size([32, 1, 28, 28]) torch.Size([32])\n",
      "torch.Size([32, 1, 28, 28]) torch.Size([32])\n",
      "torch.Size([32, 1, 28, 28]) torch.Size([32])\n",
      "torch.Size([32, 1, 28, 28]) torch.Size([32])\n",
      "torch.Size([32, 1, 28, 28]) torch.Size([32])\n",
      "torch.Size([32, 1, 28, 28]) torch.Size([32])\n",
      "torch.Size([32, 1, 28, 28]) torch.Size([32])\n",
      "torch.Size([32, 1, 28, 28]) torch.Size([32])\n",
      "torch.Size([32, 1, 28, 28]) torch.Size([32])\n",
      "torch.Size([32, 1, 28, 28]) torch.Size([32])\n",
      "torch.Size([32, 1, 28, 28]) torch.Size([32])\n",
      "torch.Size([32, 1, 28, 28]) torch.Size([32])\n",
      "torch.Size([32, 1, 28, 28]) torch.Size([32])\n",
      "torch.Size([32, 1, 28, 28]) torch.Size([32])\n",
      "torch.Size([32, 1, 28, 28]) torch.Size([32])\n",
      "torch.Size([32, 1, 28, 28]) torch.Size([32])\n",
      "torch.Size([32, 1, 28, 28]) torch.Size([32])\n",
      "torch.Size([32, 1, 28, 28]) torch.Size([32])\n",
      "torch.Size([32, 1, 28, 28]) torch.Size([32])\n",
      "torch.Size([32, 1, 28, 28]) torch.Size([32])\n",
      "torch.Size([32, 1, 28, 28]) torch.Size([32])\n",
      "torch.Size([32, 1, 28, 28]) torch.Size([32])\n",
      "torch.Size([32, 1, 28, 28]) torch.Size([32])\n",
      "torch.Size([32, 1, 28, 28]) torch.Size([32])\n",
      "torch.Size([32, 1, 28, 28]) torch.Size([32])\n",
      "torch.Size([32, 1, 28, 28]) torch.Size([32])\n",
      "torch.Size([32, 1, 28, 28]) torch.Size([32])\n",
      "torch.Size([32, 1, 28, 28]) torch.Size([32])\n",
      "torch.Size([32, 1, 28, 28]) torch.Size([32])\n",
      "torch.Size([32, 1, 28, 28]) torch.Size([32])\n",
      "torch.Size([32, 1, 28, 28]) torch.Size([32])\n",
      "torch.Size([32, 1, 28, 28]) torch.Size([32])\n",
      "torch.Size([32, 1, 28, 28]) torch.Size([32])\n",
      "torch.Size([32, 1, 28, 28]) torch.Size([32])\n",
      "torch.Size([32, 1, 28, 28]) torch.Size([32])\n",
      "torch.Size([32, 1, 28, 28]) torch.Size([32])\n",
      "torch.Size([32, 1, 28, 28]) torch.Size([32])\n",
      "torch.Size([32, 1, 28, 28]) torch.Size([32])\n",
      "torch.Size([32, 1, 28, 28]) torch.Size([32])\n",
      "torch.Size([32, 1, 28, 28]) torch.Size([32])\n",
      "torch.Size([32, 1, 28, 28]) torch.Size([32])\n",
      "torch.Size([32, 1, 28, 28]) torch.Size([32])\n",
      "torch.Size([32, 1, 28, 28]) torch.Size([32])\n",
      "torch.Size([32, 1, 28, 28]) torch.Size([32])\n",
      "torch.Size([32, 1, 28, 28]) torch.Size([32])\n",
      "torch.Size([32, 1, 28, 28]) torch.Size([32])\n",
      "torch.Size([32, 1, 28, 28]) torch.Size([32])\n",
      "torch.Size([32, 1, 28, 28]) torch.Size([32])\n",
      "torch.Size([32, 1, 28, 28]) torch.Size([32])\n",
      "torch.Size([32, 1, 28, 28]) torch.Size([32])\n",
      "torch.Size([32, 1, 28, 28]) torch.Size([32])\n",
      "torch.Size([32, 1, 28, 28]) torch.Size([32])\n",
      "torch.Size([32, 1, 28, 28]) torch.Size([32])\n",
      "torch.Size([32, 1, 28, 28]) torch.Size([32])\n",
      "torch.Size([32, 1, 28, 28]) torch.Size([32])\n",
      "torch.Size([32, 1, 28, 28]) torch.Size([32])\n",
      "torch.Size([32, 1, 28, 28]) torch.Size([32])\n",
      "torch.Size([32, 1, 28, 28]) torch.Size([32])\n",
      "torch.Size([32, 1, 28, 28]) torch.Size([32])\n",
      "torch.Size([32, 1, 28, 28]) torch.Size([32])\n",
      "torch.Size([32, 1, 28, 28]) torch.Size([32])\n",
      "torch.Size([32, 1, 28, 28]) torch.Size([32])\n",
      "torch.Size([32, 1, 28, 28]) torch.Size([32])\n",
      "torch.Size([32, 1, 28, 28]) torch.Size([32])\n",
      "torch.Size([32, 1, 28, 28]) torch.Size([32])\n",
      "torch.Size([32, 1, 28, 28]) torch.Size([32])\n",
      "torch.Size([32, 1, 28, 28]) torch.Size([32])\n",
      "torch.Size([32, 1, 28, 28]) torch.Size([32])\n",
      "torch.Size([32, 1, 28, 28]) torch.Size([32])\n",
      "torch.Size([32, 1, 28, 28]) torch.Size([32])\n",
      "torch.Size([32, 1, 28, 28]) torch.Size([32])\n",
      "torch.Size([32, 1, 28, 28]) torch.Size([32])\n",
      "torch.Size([32, 1, 28, 28]) torch.Size([32])\n",
      "torch.Size([32, 1, 28, 28]) torch.Size([32])\n",
      "torch.Size([32, 1, 28, 28]) torch.Size([32])\n",
      "torch.Size([32, 1, 28, 28]) torch.Size([32])\n",
      "torch.Size([32, 1, 28, 28]) torch.Size([32])\n",
      "torch.Size([32, 1, 28, 28]) torch.Size([32])\n",
      "torch.Size([32, 1, 28, 28]) torch.Size([32])\n",
      "torch.Size([32, 1, 28, 28]) torch.Size([32])\n",
      "torch.Size([32, 1, 28, 28]) torch.Size([32])\n",
      "torch.Size([32, 1, 28, 28]) torch.Size([32])\n",
      "torch.Size([32, 1, 28, 28]) torch.Size([32])\n",
      "torch.Size([32, 1, 28, 28]) torch.Size([32])\n",
      "torch.Size([32, 1, 28, 28]) torch.Size([32])\n",
      "torch.Size([32, 1, 28, 28]) torch.Size([32])\n",
      "torch.Size([32, 1, 28, 28]) torch.Size([32])\n",
      "torch.Size([32, 1, 28, 28]) torch.Size([32])\n",
      "torch.Size([32, 1, 28, 28]) torch.Size([32])\n",
      "torch.Size([32, 1, 28, 28]) torch.Size([32])\n",
      "torch.Size([32, 1, 28, 28]) torch.Size([32])\n",
      "torch.Size([32, 1, 28, 28]) torch.Size([32])\n",
      "torch.Size([32, 1, 28, 28]) torch.Size([32])\n",
      "torch.Size([32, 1, 28, 28]) torch.Size([32])\n",
      "torch.Size([32, 1, 28, 28]) torch.Size([32])\n",
      "torch.Size([32, 1, 28, 28]) torch.Size([32])\n",
      "torch.Size([32, 1, 28, 28]) torch.Size([32])\n",
      "torch.Size([32, 1, 28, 28]) torch.Size([32])\n",
      "torch.Size([32, 1, 28, 28]) torch.Size([32])\n",
      "torch.Size([32, 1, 28, 28]) torch.Size([32])\n",
      "torch.Size([32, 1, 28, 28]) torch.Size([32])\n",
      "torch.Size([32, 1, 28, 28]) torch.Size([32])\n"
     ]
    }
   ],
   "source": [
    "for features, labels in train_dataloader:\n",
    "    print(features.shape, labels.shape)"
   ]
  },
  {
   "cell_type": "markdown",
   "id": "4fee4cf8-ab73-4c81-8e5e-3c81691e799c",
   "metadata": {
    "id": "4fee4cf8-ab73-4c81-8e5e-3c81691e799c"
   },
   "source": [
    "And we can see that the data remains unchanged by checking a single sample. "
   ]
  },
  {
   "cell_type": "code",
   "execution_count": 18,
   "id": "c863d66a-49be-43be-84dc-372a5d6fc2c2",
   "metadata": {
    "colab": {
     "base_uri": "https://localhost:8080/",
     "height": 463
    },
    "id": "c863d66a-49be-43be-84dc-372a5d6fc2c2",
    "outputId": "1052cbcb-6186-4dfe-b5f0-6968bde9fb21"
   },
   "outputs": [
    {
     "name": "stdout",
     "output_type": "stream",
     "text": [
      "Image size: torch.Size([1, 28, 28])\n",
      "Label: 5, label size: torch.Size([])\n"
     ]
    },
    {
     "data": {
      "image/png": "[encoded data removed]",
      "text/plain": [
       "<Figure size 640x480 with 1 Axes>"
      ]
     },
     "metadata": {},
     "output_type": "display_data"
    }
   ],
   "source": [
    "# Show a sample\n",
    "#torch.manual_seed(42)\n",
    "random_idx = torch.randint(0, len(train_features_batch), size=[1]).item()\n",
    "img, label = train_features_batch[random_idx], train_labels_batch[random_idx]\n",
    "plt.imshow(img.squeeze(), cmap=\"gray\")\n",
    "plt.title(class_names[label])\n",
    "plt.axis(\"Off\");\n",
    "print(f\"Image size: {img.shape}\")\n",
    "print(f\"Label: {label}, label size: {label.shape}\")"
   ]
  },
  {
   "cell_type": "markdown",
   "id": "db1695cf-f53d-4c7c-ad39-dfed76533125",
   "metadata": {
    "id": "db1695cf-f53d-4c7c-ad39-dfed76533125"
   },
   "source": [
    "## 3. Model 0: Build a baseline model\n",
    "\n",
    "Data loaded and prepared!\n",
    "\n",
    "Time to build a **baseline model** by subclassing `nn.Module`.\n",
    "\n",
    "A **baseline model** is one of the simplest models you can imagine.\n",
    "\n",
    "You use the baseline as a starting point and try to improve upon it with subsequent, more complicated models.\n",
    "\n",
    "Our baseline will consist of two [`nn.Linear()`](https://pytorch.org/docs/stable/generated/torch.nn.Linear.html) layers.\n",
    "\n",
    "We've done this in a previous section but there's going to one slight difference.\n",
    "\n",
    "Because we're working with image data, we're going to use a different layer to start things off.\n",
    "\n",
    "And that's the [`nn.Flatten()`](https://pytorch.org/docs/stable/generated/torch.nn.Flatten.html) layer.\n",
    "\n",
    "`nn.Flatten()` compresses the dimensions of a tensor into a single vector.\n",
    "\n",
    "This is easier to understand when you see it."
   ]
  },
  {
   "cell_type": "code",
   "execution_count": 19,
   "id": "8d99bafd",
   "metadata": {},
   "outputs": [
    {
     "data": {
      "text/plain": [
       "torch.Size([1, 28, 28])"
      ]
     },
     "execution_count": 19,
     "metadata": {},
     "output_type": "execute_result"
    }
   ],
   "source": [
    "train_features_batch[0].shape"
   ]
  },
  {
   "cell_type": "code",
   "execution_count": 20,
   "id": "405319f1-f242-4bd9-90f5-3abdc50782ac",
   "metadata": {
    "colab": {
     "base_uri": "https://localhost:8080/"
    },
    "id": "405319f1-f242-4bd9-90f5-3abdc50782ac",
    "outputId": "742cd0fe-c95f-4201-a469-f12733625784"
   },
   "outputs": [
    {
     "name": "stdout",
     "output_type": "stream",
     "text": [
      "Shape before flattening: torch.Size([1, 28, 28]) -> [color_channels, height, width]\n",
      "Shape after flattening: torch.Size([1, 784]) -> [color_channels, height*width]\n"
     ]
    }
   ],
   "source": [
    "# Create a flatten layer\n",
    "flatten_model = nn.Flatten() # all nn modules function as a model (can do a forward pass)\n",
    "\n",
    "# Get a single sample\n",
    "x = train_features_batch[0]\n",
    "\n",
    "# Flatten the sample\n",
    "output = flatten_model(x) # perform forward pass\n",
    "\n",
    "# Print out what happened\n",
    "print(f\"Shape before flattening: {x.shape} -> [color_channels, height, width]\")\n",
    "print(f\"Shape after flattening: {output.shape} -> [color_channels, height*width]\")\n",
    "\n",
    "# Try uncommenting below and see what happens\n",
    "#print(x)\n",
    "#print(output)"
   ]
  },
  {
   "cell_type": "markdown",
   "id": "86bb7806-fca6-45af-8111-3e00e38f5be9",
   "metadata": {
    "id": "86bb7806-fca6-45af-8111-3e00e38f5be9"
   },
   "source": [
    "The `nn.Flatten()` layer took our shape from `[color_channels, height, width]` to `[color_channels, height*width]`.\n",
    "\n",
    "Why do this?\n",
    "\n",
    "Because we've now turned our pixel data from height and width dimensions into one long **feature vector**.\n",
    "\n",
    "And `nn.Linear()` layers like their inputs to be in the form of feature vectors.\n",
    "\n",
    "Let's create our first model using `nn.Flatten()` as the first layer. "
   ]
  },
  {
   "cell_type": "code",
   "execution_count": 21,
   "id": "1449f427-6859-41ae-8133-50b58ffbce72",
   "metadata": {
    "id": "1449f427-6859-41ae-8133-50b58ffbce72"
   },
   "outputs": [],
   "source": [
    "from torch import nn\n",
    "class FashionMNISTModelV0(nn.Module):\n",
    "    def __init__(self, input_shape: int, hidden_units: int, output_shape: int):\n",
    "        super().__init__()\n",
    "        self.layer_stack = nn.Sequential(\n",
    "            nn.Flatten(), # neural networks like their inputs in vector form\n",
    "            nn.Linear(in_features=input_shape, out_features=hidden_units), # in_features = number of features in a data sample (784 pixels)\n",
    "            nn.Linear(in_features=hidden_units, out_features=output_shape)\n",
    "        )\n",
    "    \n",
    "    def forward(self, x):\n",
    "        return self.layer_stack(x)"
   ]
  },
  {
   "cell_type": "markdown",
   "id": "4d1b50bf-d00b-485c-be00-b3e4de156fab",
   "metadata": {
    "id": "4d1b50bf-d00b-485c-be00-b3e4de156fab"
   },
   "source": [
    "Wonderful!\n",
    "\n",
    "We've got a baseline model class we can use, now let's instantiate a model.\n",
    "\n",
    "We'll need to set the following parameters:\n",
    "* `input_shape=784` - this is how many features you've got going in the model, in our case, it's one for every pixel in the target image (28 pixels high by 28 pixels wide = 784 features).\n",
    "* `hidden_units=10` - number of units/neurons in the hidden layer(s), this number could be whatever you want but to keep the model small we'll start with `10`.\n",
    "* `output_shape=len(class_names)` - since we're working with a multi-class classification problem, we need an output neuron per class in our dataset.\n",
    "\n",
    "Let's create an instance of our model and send to the CPU for now (we'll run a small test for running `model_0` on CPU vs. a similar model on GPU soon)."
   ]
  },
  {
   "cell_type": "code",
   "execution_count": 22,
   "id": "dd18384a-76f9-4b5a-a013-fda077f16865",
   "metadata": {
    "colab": {
     "base_uri": "https://localhost:8080/"
    },
    "id": "dd18384a-76f9-4b5a-a013-fda077f16865",
    "outputId": "e4b63839-d012-40db-a7f7-967a146fe566"
   },
   "outputs": [
    {
     "data": {
      "text/plain": [
       "FashionMNISTModelV0(\n",
       "  (layer_stack): Sequential(\n",
       "    (0): Flatten(start_dim=1, end_dim=-1)\n",
       "    (1): Linear(in_features=784, out_features=10, bias=True)\n",
       "    (2): Linear(in_features=10, out_features=10, bias=True)\n",
       "  )\n",
       ")"
      ]
     },
     "execution_count": 22,
     "metadata": {},
     "output_type": "execute_result"
    }
   ],
   "source": [
    "torch.manual_seed(42)\n",
    "\n",
    "# Need to setup model with input parameters\n",
    "model_0 = FashionMNISTModelV0(input_shape=train_features_batch[0].shape[1] * train_features_batch[0].shape[2], # 784, # one for every pixel (28x28)\n",
    "    hidden_units=10, # how many units in the hiden layer\n",
    "    output_shape=len(class_names) # one for every class\n",
    ")\n",
    "model_0.to(\"cpu\") # keep model on CPU to begin with "
   ]
  },
  {
   "cell_type": "code",
   "execution_count": 23,
   "id": "271b9e23",
   "metadata": {},
   "outputs": [
    {
     "data": {
      "text/plain": [
       "tensor([[-0.0315,  0.3171,  0.0531, -0.2525,  0.5959,  0.2112,  0.3233,  0.2694,\n",
       "         -0.1004,  0.0157]], grad_fn=<AddmmBackward0>)"
      ]
     },
     "execution_count": 23,
     "metadata": {},
     "output_type": "execute_result"
    }
   ],
   "source": [
    "dummy_x = torch.rand([1,1,28,28])\n",
    "model_0(dummy_x)"
   ]
  },
  {
   "cell_type": "markdown",
   "id": "03243179-1cdc-45d9-8b8c-82538ac02e9c",
   "metadata": {
    "id": "03243179-1cdc-45d9-8b8c-82538ac02e9c"
   },
   "source": [
    "### 3.1 Setup loss, optimizer and evaluation metrics\n",
    "\n",
    "Since we're working on a classification problem, let's bring in our [`helper_functions.py` script](https://github.com/mrdbourke/pytorch-deep-learning/blob/main/helper_functions.py) and subsequently the `accuracy_fn()` we defined in [notebook 02](https://www.learnpytorch.io/02_pytorch_classification/).\n",
    "\n",
    "> **Note:** Rather than importing and using our own accuracy function or evaluation metric(s), you could import various evaluation metrics from the [TorchMetrics package](https://torchmetrics.readthedocs.io/en/latest/)."
   ]
  },
  {
   "cell_type": "code",
   "execution_count": 24,
   "id": "31c91f17-d810-46a4-97c3-c734f93430b1",
   "metadata": {
    "colab": {
     "base_uri": "https://localhost:8080/"
    },
    "id": "31c91f17-d810-46a4-97c3-c734f93430b1",
    "outputId": "d2333811-f5fa-426f-90a7-c884fe2493df"
   },
   "outputs": [
    {
     "name": "stdout",
     "output_type": "stream",
     "text": [
      "helper_functions.py already exists, skipping download\n"
     ]
    }
   ],
   "source": [
    "import requests\n",
    "from pathlib import Path \n",
    "\n",
    "# Download helper functions from Learn PyTorch repo (if not already downloaded)\n",
    "if Path(\"helper_functions.py\").is_file():\n",
    "  print(\"helper_functions.py already exists, skipping download\")\n",
    "else:\n",
    "  print(\"Downloading helper_functions.py\")\n",
    "  # Note: you need the \"raw\" GitHub URL for this to work\n",
    "  request = requests.get(\"https://raw.githubusercontent.com/mrdbourke/pytorch-deep-learning/main/helper_functions.py\")\n",
    "  with open(\"helper_functions.py\", \"wb\") as f:\n",
    "    f.write(request.content)"
   ]
  },
  {
   "cell_type": "code",
   "execution_count": 25,
   "id": "f27112c0",
   "metadata": {},
   "outputs": [
    {
     "name": "stdout",
     "output_type": "stream",
     "text": [
      "model_evaluation.py already exsits, skipping download\n"
     ]
    }
   ],
   "source": [
    "if Path(\"model_evaluation.py\").is_file():\n",
    "    print(\"model_evaluation.py already exsits, skipping download\")\n",
    "else:\n",
    "    print(\"Downloading model_evaluation.py\")\n",
    "    request = requests.get(\"https://github.com/sergio-sanz-rodriguez/custom_python_functions/blob/main/model_evaluation.py\")\n",
    "    with open(\"model_evaluation.py\", \"wb\") as f:\n",
    "        f.write(request.content)"
   ]
  },
  {
   "cell_type": "code",
   "execution_count": 26,
   "id": "ce3d13b8-f018-4b44-8bba-375074dc4c5f",
   "metadata": {
    "id": "ce3d13b8-f018-4b44-8bba-375074dc4c5f"
   },
   "outputs": [],
   "source": [
    "# Import accuracy metric\n",
    "from helper_functions import accuracy_fn # Note: could also use torchmetrics.Accuracy(task = 'multiclass', num_classes=len(class_names)).to(device)\n",
    "\n",
    "# Setup loss function and optimizer\n",
    "loss_fn = nn.CrossEntropyLoss() # this is also called \"criterion\"/\"cost function\" in some places\n",
    "optimizer = torch.optim.SGD(params=model_0.parameters(), lr=0.1)"
   ]
  },
  {
   "cell_type": "markdown",
   "id": "4109f867-83f2-4394-a925-8acdc63ccffe",
   "metadata": {
    "id": "4109f867-83f2-4394-a925-8acdc63ccffe"
   },
   "source": [
    "### 3.2 Creating a function to time our experiments\n",
    "\n",
    "Loss function and optimizer ready!\n",
    "\n",
    "It's time to start training a model.\n",
    "\n",
    "But how about we do a little experiment while we train.\n",
    "\n",
    "I mean, let's make a timing function to measure the time it takes our model to train on CPU versus using a GPU.\n",
    "\n",
    "We'll train this model on the CPU but the next one on the GPU and see what happens.\n",
    "\n",
    "Our timing function will import the [`timeit.default_timer()` function](https://docs.python.org/3/library/timeit.html#timeit.default_timer) from the Python [`timeit` module](https://docs.python.org/3/library/timeit.html)."
   ]
  },
  {
   "cell_type": "code",
   "execution_count": 27,
   "id": "31adc3fe-ce90-4b4e-b0d4-3613abae5714",
   "metadata": {
    "id": "31adc3fe-ce90-4b4e-b0d4-3613abae5714"
   },
   "outputs": [],
   "source": [
    "from timeit import default_timer as timer \n",
    "def print_train_time(start: float, end: float, device: torch.device = None):\n",
    "    \"\"\"Prints difference between start and end time.\n",
    "\n",
    "    Args:\n",
    "        start (float): Start time of computation (preferred in timeit format). \n",
    "        end (float): End time of computation.\n",
    "        device ([type], optional): Device that compute is running on. Defaults to None.\n",
    "\n",
    "    Returns:\n",
    "        float: time between start and end in seconds (higher is longer).\n",
    "    \"\"\"\n",
    "    total_time = end - start\n",
    "    print(f\"Train time on {device}: {total_time:.3f} seconds\")\n",
    "    return total_time"
   ]
  },
  {
   "cell_type": "markdown",
   "id": "07b9560e-f5dc-45d6-b3b2-ddae17a71b34",
   "metadata": {
    "id": "07b9560e-f5dc-45d6-b3b2-ddae17a71b34"
   },
   "source": [
    "### 3.3 Creating a training loop and training a model on batches of data\n",
    "\n",
    "Beautiful!\n",
    "\n",
    "Looks like we've got all of the pieces of the puzzle ready to go, a timer, a loss function, an optimizer, a model and most importantly, some data.\n",
    "\n",
    "Let's now create a training loop and a testing loop to train and evaluate our model.\n",
    "\n",
    "We'll be using the same steps as the previous notebook(s), though since our data is now in batch form, we'll add another loop to loop through our data batches.\n",
    "\n",
    "Our data batches are contained within our `DataLoader`s, `train_dataloader` and `test_dataloader` for the training and test data splits respectively.\n",
    "\n",
    "A batch is `BATCH_SIZE` samples of `X` (features) and `y` (labels), since we're using `BATCH_SIZE=32`, our batches have 32 samples of images and targets.\n",
    "\n",
    "And since we're computing on batches of data, our loss and evaluation metrics will be calculated **per batch** rather than across the whole dataset.\n",
    "\n",
    "This means we'll have to divide our loss and accuracy values by the number of batches in each dataset's respective dataloader. \n",
    "\n",
    "Let's step through it: \n",
    "1. Loop through epochs.\n",
    "2. Loop through training batches, perform training steps, calculate the train loss *per batch*.\n",
    "3. Loop through testing batches, perform testing steps, calculate the test loss *per batch*.\n",
    "4. Print out what's happening.\n",
    "5. Time it all (for fun).\n",
    "\n",
    "A fair few steps but...\n",
    "\n",
    "...if in doubt, code it out. "
   ]
  },
  {
   "cell_type": "code",
   "execution_count": 28,
   "id": "8833decb",
   "metadata": {},
   "outputs": [
    {
     "name": "stdout",
     "output_type": "stream",
     "text": [
      "torch.Size([10, 784])\n",
      "torch.Size([10])\n",
      "torch.Size([10, 10])\n",
      "torch.Size([10])\n"
     ]
    }
   ],
   "source": [
    "for param in model_0.parameters():\n",
    "    print(param.shape)"
   ]
  },
  {
   "cell_type": "markdown",
   "id": "49ed7d43",
   "metadata": {},
   "source": [
    "torch.Size([10, 784]): This represents the weights connecting the 784 input features to the 10 hidden units. There are 10 neurons (one per row), each with 784 weights (one per column).  \n",
    "torch.Size([10]): Each of the 10 hidden neurons also has an associated bias term, so there are 10 bias values.  \n",
    "torch.Size([10, 10]): This represents the weights connecting the 10 hidden units to the 10 output neurons.  \n",
    "torch.Size([10]): There are 10 bias terms, one for each of the 10 output neurons.  "
   ]
  },
  {
   "cell_type": "code",
   "execution_count": 29,
   "id": "c07bbf10-81e3-47f0-990d-9a4a838276ab",
   "metadata": {
    "colab": {
     "base_uri": "https://localhost:8080/",
     "height": 587,
     "referenced_widgets": [
      "0bd8f8b5ff4d4b50b03e3a65cc1446f0",
      "430d171cfd584196ad0fa3e1cd0a286c",
      "618fb3cf63a94da9ad5f29a3d9a87ac3",
      "3524e24faad44aa38926b40b2d590f6b",
      "c01ca4def9224135ad367b6f8dbbae62",
      "decc1966e6a84973839efc0c65f51790",
      "39fc424b6cef4e98a80a342f530be99b",
      "e929063168354b018bbf0bb45fdfef1f",
      "d62646457b284fcb8aeac382b77eb942",
      "5c0883aa74f94568850741dad118cb88",
      "e44697d8dd41492e8619a860b3911e19"
     ]
    },
    "id": "c07bbf10-81e3-47f0-990d-9a4a838276ab",
    "outputId": "3fb70da8-1a65-42bb-a684-85f0d1dd11c0"
   },
   "outputs": [
    {
     "name": "stderr",
     "output_type": "stream",
     "text": [
      "c:\\Users\\ssre_\\.conda\\envs\\.venv_pytorch_gpu\\lib\\site-packages\\tqdm\\auto.py:21: TqdmWarning: IProgress not found. Please update jupyter and ipywidgets. See https://ipywidgets.readthedocs.io/en/stable/user_install.html\n",
      "  from .autonotebook import tqdm as notebook_tqdm\n",
      "  0%|          | 0/3 [00:00<?, ?it/s]"
     ]
    },
    {
     "name": "stdout",
     "output_type": "stream",
     "text": [
      "Epoch: 0\n",
      "-------\n",
      "Looked at 0/60000 samples\n",
      "Looked at 12800/60000 samples\n",
      "Looked at 25600/60000 samples\n",
      "Looked at 38400/60000 samples\n",
      "Looked at 51200/60000 samples\n"
     ]
    },
    {
     "name": "stderr",
     "output_type": "stream",
     "text": [
      " 33%|███▎      | 1/3 [00:09<00:18,  9.21s/it]"
     ]
    },
    {
     "name": "stdout",
     "output_type": "stream",
     "text": [
      "\n",
      "Train loss: 0.59039 | Test loss: 0.50954, Test acc: 82.04%\n",
      "\n",
      "Epoch: 1\n",
      "-------\n",
      "Looked at 0/60000 samples\n",
      "Looked at 12800/60000 samples\n",
      "Looked at 25600/60000 samples\n",
      "Looked at 38400/60000 samples\n",
      "Looked at 51200/60000 samples\n"
     ]
    },
    {
     "name": "stderr",
     "output_type": "stream",
     "text": [
      " 67%|██████▋   | 2/3 [00:18<00:09,  9.08s/it]"
     ]
    },
    {
     "name": "stdout",
     "output_type": "stream",
     "text": [
      "\n",
      "Train loss: 0.47633 | Test loss: 0.47989, Test acc: 83.20%\n",
      "\n",
      "Epoch: 2\n",
      "-------\n",
      "Looked at 0/60000 samples\n",
      "Looked at 12800/60000 samples\n",
      "Looked at 25600/60000 samples\n",
      "Looked at 38400/60000 samples\n",
      "Looked at 51200/60000 samples\n"
     ]
    },
    {
     "name": "stderr",
     "output_type": "stream",
     "text": [
      "100%|██████████| 3/3 [00:27<00:00,  9.12s/it]"
     ]
    },
    {
     "name": "stdout",
     "output_type": "stream",
     "text": [
      "\n",
      "Train loss: 0.45503 | Test loss: 0.47664, Test acc: 83.43%\n",
      "\n",
      "Train time on cpu: 27.378 seconds\n"
     ]
    },
    {
     "name": "stderr",
     "output_type": "stream",
     "text": [
      "\n"
     ]
    }
   ],
   "source": [
    "# Import tqdm for progress bar\n",
    "#!pip install tqdm\n",
    "from tqdm.auto import tqdm # prints the training progress\n",
    "\n",
    "# Set the seed and start the timer\n",
    "torch.manual_seed(42)\n",
    "train_time_start_on_cpu = timer()\n",
    "\n",
    "# Set the number of epochs (we'll keep this small for faster training times)\n",
    "epochs = 3\n",
    "\n",
    "# Create training and testing loop\n",
    "for epoch in tqdm(range(epochs)):\n",
    "    print(f\"Epoch: {epoch}\\n-------\")\n",
    "    ### Training\n",
    "    train_loss = 0\n",
    "    # Add a loop to loop through training batches\n",
    "    for batch, (X, y) in enumerate(train_dataloader): #Important for loop to learn\n",
    "        model_0.train() \n",
    "        # 1. Forward pass\n",
    "        y_pred = model_0(X)\n",
    "\n",
    "        # 2. Calculate loss (per batch)\n",
    "        loss = loss_fn(y_pred, y)\n",
    "        train_loss += loss # accumulatively add up the loss per epoch \n",
    "\n",
    "        # 3. Optimizer zero grad\n",
    "        optimizer.zero_grad()\n",
    "\n",
    "        # 4. Loss backward\n",
    "        loss.backward()\n",
    "\n",
    "        # 5. Optimizer step\n",
    "        optimizer.step()\n",
    "\n",
    "        # Print out how many samples have been seen\n",
    "        if batch % 400 == 0:\n",
    "            print(f\"Looked at {batch * len(X)}/{len(train_dataloader.dataset)} samples\")\n",
    "\n",
    "    # Divide total train loss by length of train dataloader (average loss per batch per epoch)\n",
    "    train_loss /= len(train_dataloader)\n",
    "    \n",
    "    ### Testing\n",
    "    # Setup variables for accumulatively adding up loss and accuracy \n",
    "    test_loss, test_acc = 0, 0 \n",
    "    model_0.eval()\n",
    "    with torch.inference_mode():\n",
    "        for X, y in test_dataloader:\n",
    "            # 1. Forward pass\n",
    "            test_pred = model_0(X)\n",
    "           \n",
    "            # 2. Calculate loss (accumatively)\n",
    "            test_loss += loss_fn(test_pred, y) # accumulatively add up the loss per epoch\n",
    "            \n",
    "            # 3. Calculate accuracy (preds need to be same as y_true)\n",
    "            #test_acc += accuracy_fn(y_true=y, y_pred=test_pred.argmax(dim=1))\n",
    "            test_acc += accuracy_fn(y_true=y, y_pred=torch.softmax(test_pred, dim=1).argmax(dim=1))            \n",
    "        \n",
    "        # Calculations on test metrics need to happen inside torch.inference_mode()\n",
    "        # Divide total test loss by length of test dataloader (per batch)\n",
    "        test_loss /= len(test_dataloader)\n",
    "\n",
    "        # Divide total accuracy by length of test dataloader (per batch)\n",
    "        test_acc /= len(test_dataloader)\n",
    "\n",
    "    ## Print out what's happening\n",
    "    print(f\"\\nTrain loss: {train_loss:.5f} | Test loss: {test_loss:.5f}, Test acc: {test_acc:.2f}%\\n\")\n",
    "\n",
    "# Calculate training time      \n",
    "train_time_end_on_cpu = timer()\n",
    "total_train_time_model_0 = print_train_time(start=train_time_start_on_cpu, \n",
    "                                           end=train_time_end_on_cpu,\n",
    "                                           device=str(next(model_0.parameters()).device))"
   ]
  },
  {
   "cell_type": "markdown",
   "id": "7b02a939-a3a1-4a9d-bb9d-62928def2ded",
   "metadata": {
    "id": "7b02a939-a3a1-4a9d-bb9d-62928def2ded"
   },
   "source": [
    "Nice! Looks like our baseline model did fairly well.\n",
    "\n",
    "It didn't take too long to train either, even just on the CPU, I wonder if it'll speed up on the GPU?\n",
    "\n",
    "Let's write some code to evaluate our model."
   ]
  },
  {
   "cell_type": "markdown",
   "id": "7442511b-bfe9-4ec7-9f5b-9c808f8e560b",
   "metadata": {
    "id": "7442511b-bfe9-4ec7-9f5b-9c808f8e560b"
   },
   "source": [
    "## 4. Make predictions and get Model 0 results\n",
    "\n",
    "Since we're going to be building a few models, it's a good idea to write some code to evaluate them all in similar ways.\n",
    "\n",
    "Namely, let's create a function that takes in a trained model, a `DataLoader`, a loss function and an accuracy function.\n",
    "\n",
    "The function will use the model to make predictions on the data in the `DataLoader` and then we can evaluate those predictions using the loss function and accuracy function."
   ]
  },
  {
   "cell_type": "code",
   "execution_count": 30,
   "id": "8317dd04-9de2-4fd7-97bd-1e202621397d",
   "metadata": {
    "colab": {
     "base_uri": "https://localhost:8080/"
    },
    "id": "8317dd04-9de2-4fd7-97bd-1e202621397d",
    "outputId": "7132105e-6f51-43d3-efa7-f0231a21addc"
   },
   "outputs": [
    {
     "name": "stderr",
     "output_type": "stream",
     "text": [
      "100%|██████████| 313/313 [00:01<00:00, 288.56it/s]\n"
     ]
    },
    {
     "data": {
      "text/plain": [
       "{'model_name': 'FashionMNISTModelV0',\n",
       " 'model_loss': 0.47663894295692444,\n",
       " 'model_acc': 83.42651757188499}"
      ]
     },
     "execution_count": 30,
     "metadata": {},
     "output_type": "execute_result"
    }
   ],
   "source": [
    "torch.manual_seed(42)\n",
    "def eval_model(model: torch.nn.Module, \n",
    "               data_loader: torch.utils.data.DataLoader, \n",
    "               loss_fn: torch.nn.Module, \n",
    "               accuracy_fn):\n",
    "    \"\"\"Returns a dictionary containing the results of model predicting on data_loader.\n",
    "\n",
    "    Args:\n",
    "        model (torch.nn.Module): A PyTorch model capable of making predictions on data_loader.\n",
    "        data_loader (torch.utils.data.DataLoader): The target dataset to predict on.\n",
    "        loss_fn (torch.nn.Module): The loss function of model.\n",
    "        accuracy_fn: An accuracy function to compare the models predictions to the truth labels.\n",
    "\n",
    "    Returns:\n",
    "        (dict): Results of model making predictions on data_loader.\n",
    "    \"\"\"\n",
    "    loss, acc = 0, 0\n",
    "    model.eval()\n",
    "    with torch.inference_mode():\n",
    "        for X, y in tqdm(data_loader):\n",
    "            # Make predictions with the model\n",
    "            y_pred = model(X)\n",
    "            \n",
    "            # Accumulate the loss and accuracy values per batch\n",
    "            loss += loss_fn(y_pred, y)\n",
    "            acc += accuracy_fn(y_true=y, \n",
    "                                y_pred=y_pred.argmax(dim=1)) # For accuracy, need the prediction labels (logits -> pred_prob -> pred_labels)\n",
    "        \n",
    "        # Scale loss and acc to find the average loss/acc per batch\n",
    "        loss /= len(data_loader)\n",
    "        acc /= len(data_loader)\n",
    "        \n",
    "    return {\"model_name\": model.__class__.__name__, # only works when model was created with a class\n",
    "            \"model_loss\": loss.item(),\n",
    "            \"model_acc\": acc}\n",
    "\n",
    "# Calculate model 0 results on test dataset\n",
    "model_0_results = eval_model(model=model_0, data_loader=test_dataloader,\n",
    "    loss_fn=loss_fn, accuracy_fn=accuracy_fn\n",
    ")\n",
    "model_0_results"
   ]
  },
  {
   "cell_type": "markdown",
   "id": "a39c3042-1262-4d1f-b33e-c8e2ba6781d3",
   "metadata": {
    "id": "a39c3042-1262-4d1f-b33e-c8e2ba6781d3"
   },
   "source": [
    "Looking good!\n",
    "\n",
    "We can use this dictionary to compare the baseline model results to other models later on."
   ]
  },
  {
   "cell_type": "markdown",
   "id": "3b76784d-4cdb-43d2-a6da-8e4da9a812a9",
   "metadata": {
    "id": "3b76784d-4cdb-43d2-a6da-8e4da9a812a9"
   },
   "source": [
    "## 5. Setup device agnostic-code (for using a GPU if there is one)\n",
    "We've seen how long it takes to train ma PyTorch model on 60,000 samples on CPU.\n",
    "\n",
    "> **Note:** Model training time is dependent on hardware used. Generally, more processors means faster training and smaller models on smaller datasets will often train faster than large models and large datasets.\n",
    "\n",
    "Now let's setup some [device-agnostic code](https://pytorch.org/docs/stable/notes/cuda.html#best-practices) for our models and data to run on GPU if it's available.\n",
    "\n",
    "If you're running this notebook on Google Colab, and you don't a GPU turned on yet, it's now time to turn one on via `Runtime -> Change runtime type -> Hardware accelerator -> GPU`. If you do this, your runtime will likely reset and you'll have to run all of the cells above by going `Runtime -> Run before`."
   ]
  },
  {
   "cell_type": "code",
   "execution_count": 31,
   "id": "17b69fe9-f974-4538-922c-20c5cc8220cc",
   "metadata": {
    "colab": {
     "base_uri": "https://localhost:8080/",
     "height": 35
    },
    "id": "17b69fe9-f974-4538-922c-20c5cc8220cc",
    "outputId": "10c3b74b-4db7-4a30-8c3a-5a259d1f54b8"
   },
   "outputs": [
    {
     "data": {
      "text/plain": [
       "'cuda'"
      ]
     },
     "execution_count": 31,
     "metadata": {},
     "output_type": "execute_result"
    }
   ],
   "source": [
    "# Setup device agnostic code\n",
    "import torch\n",
    "device = \"cuda\" if torch.cuda.is_available() else \"cpu\"\n",
    "device"
   ]
  },
  {
   "cell_type": "markdown",
   "id": "514021a8-d6f2-47f3-ab50-55f844e42310",
   "metadata": {
    "id": "514021a8-d6f2-47f3-ab50-55f844e42310"
   },
   "source": [
    "Beautiful!\n",
    "\n",
    "Let's build another model."
   ]
  },
  {
   "cell_type": "markdown",
   "id": "d7893907-5f82-4c5e-8fde-fa542a9f25af",
   "metadata": {
    "id": "d7893907-5f82-4c5e-8fde-fa542a9f25af"
   },
   "source": [
    "## 6. Model 1: Building a better model with non-linearity\n",
    "\n",
    "We learned about [the power of non-linearity in notebook 02](https://www.learnpytorch.io/02_pytorch_classification/#6-the-missing-piece-non-linearity).\n",
    "\n",
    "Seeing the data we've been working with, do you think it needs non-linear functions?\n",
    "\n",
    "And remember, linear means straight and non-linear means non-straight.\n",
    "\n",
    "Let's find out.\n",
    "\n",
    "We'll do so by recreating a similar model to before, except this time we'll put non-linear functions (`nn.ReLU()`) in between each linear layer."
   ]
  },
  {
   "cell_type": "code",
   "execution_count": 32,
   "id": "2ccce5f2-b1e5-47a6-a7f3-6bc096b35ffb",
   "metadata": {
    "id": "2ccce5f2-b1e5-47a6-a7f3-6bc096b35ffb"
   },
   "outputs": [],
   "source": [
    "# Create a model with non-linear and linear layers\n",
    "class FashionMNISTModelV1(nn.Module):\n",
    "    def __init__(self, input_shape: int, hidden_units: int, output_shape: int):\n",
    "        super().__init__()\n",
    "        self.layer_stack = nn.Sequential(\n",
    "            nn.Flatten(), # flatten inputs into single vector\n",
    "            nn.Linear(in_features=input_shape, out_features=hidden_units),\n",
    "            nn.ReLU(),\n",
    "            nn.Linear(in_features=hidden_units, out_features=output_shape),\n",
    "            nn.ReLU()\n",
    "        )\n",
    "    \n",
    "    def forward(self, x: torch.Tensor):\n",
    "        return self.layer_stack(x)"
   ]
  },
  {
   "cell_type": "markdown",
   "id": "4b4b7a2f-4834-4aa1-a8e2-b6e3e2b49224",
   "metadata": {
    "id": "4b4b7a2f-4834-4aa1-a8e2-b6e3e2b49224"
   },
   "source": [
    "That looks good.\n",
    "\n",
    "Now let's instantiate it with the same settings we used before.\n",
    "\n",
    "We'll need `input_shape=784` (equal to the number of features of our image data), `hidden_units=10` (starting small and the same as our baseline model) and `output_shape=len(class_names)` (one output unit per class).\n",
    "\n",
    "> **Note:** Notice how we kept most of the settings of our model the same except for one change: adding non-linear layers. This is a standard practice for running a series of machine learning experiments, change one thing and see what happens, then do it again, again, again."
   ]
  },
  {
   "cell_type": "code",
   "execution_count": 33,
   "id": "907091ec-7e46-470b-a305-788a3009b837",
   "metadata": {
    "colab": {
     "base_uri": "https://localhost:8080/"
    },
    "id": "907091ec-7e46-470b-a305-788a3009b837",
    "outputId": "4cecd2df-2918-4368-fa33-7aea8f958d8f"
   },
   "outputs": [
    {
     "data": {
      "text/plain": [
       "device(type='cuda', index=0)"
      ]
     },
     "execution_count": 33,
     "metadata": {},
     "output_type": "execute_result"
    }
   ],
   "source": [
    "torch.manual_seed(42)\n",
    "model_1 = FashionMNISTModelV1(input_shape=784, # number of input features\n",
    "    hidden_units=10,\n",
    "    output_shape=len(class_names) # number of output classes desired\n",
    ").to(device) # send model to GPU if it's available\n",
    "next(model_1.parameters()).device # check model device"
   ]
  },
  {
   "cell_type": "markdown",
   "id": "b54a4e9d-a7ad-404c-920f-485fcff18a92",
   "metadata": {
    "id": "b54a4e9d-a7ad-404c-920f-485fcff18a92"
   },
   "source": [
    "### 6.1 Setup loss, optimizer and evaluation metrics\n",
    "\n",
    "As usual, we'll setup a loss function, an optimizer and an evaluation metric (we could do multiple evaluation metrics but we'll stick with accuracy for now)."
   ]
  },
  {
   "cell_type": "code",
   "execution_count": 34,
   "id": "fe7e463b-d46c-4f00-853c-fdf0a28d74c8",
   "metadata": {
    "id": "fe7e463b-d46c-4f00-853c-fdf0a28d74c8"
   },
   "outputs": [],
   "source": [
    "from helper_functions import accuracy_fn\n",
    "loss_fn = nn.CrossEntropyLoss()\n",
    "optimizer = torch.optim.SGD(params=model_1.parameters(), \n",
    "                            lr=0.1)"
   ]
  },
  {
   "cell_type": "markdown",
   "id": "1eb30af6-a355-49a2-a59f-25169fd27a6e",
   "metadata": {
    "id": "1eb30af6-a355-49a2-a59f-25169fd27a6e"
   },
   "source": [
    "### 6.2 Functionizing training and test loops\n",
    "\n",
    "So far we've been writing train and test loops over and over. \n",
    "\n",
    "Let's write them again but this time we'll put them in functions so they can be called again and again.\n",
    "\n",
    "And because we're using device-agnostic code now, we'll be sure to call `.to(device)` on our feature (`X`) and target (`y`) tensors.\n",
    "\n",
    "For the training loop we'll create a function called `train_step()` which takes in a model, a `DataLoader` a loss function and an optimizer.\n",
    "\n",
    "The testing loop will be similar but it'll be called `test_step()` and it'll take in a model, a `DataLoader`, a loss function and an evaluation function.\n",
    "\n",
    "> **Note:** Since these are functions, you can customize them in any way you like. What we're making here can be considered barebones training and testing functions for our specific classification use case."
   ]
  },
  {
   "cell_type": "code",
   "execution_count": 35,
   "id": "3d239ed2-4028-4603-8db3-ffca2b727819",
   "metadata": {
    "id": "3d239ed2-4028-4603-8db3-ffca2b727819"
   },
   "outputs": [],
   "source": [
    "def train_step(model: torch.nn.Module,\n",
    "               data_loader: torch.utils.data.DataLoader,\n",
    "               loss_fn: torch.nn.Module,\n",
    "               optimizer: torch.optim.Optimizer,\n",
    "               accuracy_fn,\n",
    "               device: torch.device = device):\n",
    "    train_loss, train_acc = 0, 0\n",
    "    model.to(device)\n",
    "    for batch, (X, y) in enumerate(data_loader):\n",
    "        # Send data to GPU\n",
    "        X, y = X.to(device), y.to(device)\n",
    "\n",
    "        # 1. Forward pass\n",
    "        y_pred = model(X)\n",
    "\n",
    "        # 2. Calculate loss\n",
    "        loss = loss_fn(y_pred, y)\n",
    "        train_loss += loss\n",
    "        train_acc += accuracy_fn(y_true=y,\n",
    "                                 y_pred=y_pred.argmax(dim=1)) # Go from logits -> pred labels\n",
    "\n",
    "        # 3. Optimizer zero grad\n",
    "        optimizer.zero_grad()\n",
    "\n",
    "        # 4. Loss backward\n",
    "        loss.backward()\n",
    "\n",
    "        # 5. Optimizer step\n",
    "        optimizer.step()\n",
    "\n",
    "    # Calculate loss and accuracy per epoch and print out what's happening\n",
    "    train_loss /= len(data_loader)\n",
    "    train_acc /= len(data_loader)\n",
    "    print(f\"Train loss: {train_loss:.5f} | Train accuracy: {train_acc:.2f}%\")\n",
    "\n",
    "def test_step(data_loader: torch.utils.data.DataLoader,\n",
    "              model: torch.nn.Module,\n",
    "              loss_fn: torch.nn.Module,\n",
    "              accuracy_fn,\n",
    "              device: torch.device = device):\n",
    "    test_loss, test_acc = 0, 0\n",
    "    model.to(device)\n",
    "    model.eval() # put model in eval mode\n",
    "    # Turn on inference context manager\n",
    "    with torch.inference_mode(): \n",
    "        for X, y in data_loader:\n",
    "            # Send data to GPU\n",
    "            X, y = X.to(device), y.to(device)\n",
    "            \n",
    "            # 1. Forward pass\n",
    "            test_pred = model(X)\n",
    "            \n",
    "            # 2. Calculate loss and accuracy\n",
    "            test_loss += loss_fn(test_pred, y)\n",
    "            test_acc += accuracy_fn(y_true=y,\n",
    "                y_pred=test_pred.argmax(dim=1) # Go from logits -> pred labels\n",
    "            )\n",
    "        \n",
    "        # Adjust metrics and print out\n",
    "        test_loss /= len(data_loader)\n",
    "        test_acc /= len(data_loader)\n",
    "        print(f\"Test loss: {test_loss:.5f} | Test accuracy: {test_acc:.2f}%\\n\")"
   ]
  },
  {
   "cell_type": "markdown",
   "id": "e44121b6-c4be-4909-9175-dc9bd8dc6273",
   "metadata": {
    "id": "e44121b6-c4be-4909-9175-dc9bd8dc6273"
   },
   "source": [
    "Woohoo!\n",
    "\n",
    "Now we've got some functions for training and testing our model, let's run them.\n",
    "\n",
    "We'll do so inside another loop for each epoch.\n",
    "\n",
    "That way for each epoch we're going a training and a testing step.\n",
    "\n",
    "> **Note:** You can customize how often you do a testing step. Sometimes people do them every five epochs or 10 epochs or in our case, every epoch.\n",
    "\n",
    "Let's also time things to see how long our code takes to run on the GPU."
   ]
  },
  {
   "cell_type": "code",
   "execution_count": 36,
   "id": "2bb8094b-01a0-4b84-9526-ba8888d04901",
   "metadata": {
    "colab": {
     "base_uri": "https://localhost:8080/",
     "height": 327,
     "referenced_widgets": [
      "3ee8f4a32dae40a2954869aa28d511af",
      "9bdbfed6aaa64648ac9624541a719134",
      "a7e31e6725a0417495bb5d8d9bb0eedb",
      "8a07bf3a83cf44b09ebec23372699dd4",
      "4da7f6dcecfc44928a784709a2f85c67",
      "85241944b82749bda4b5b6ff50f484b2",
      "b139c87d10be44229d2f65d356912c25",
      "b684374f8a3c41cb887142dd2c4a0c94",
      "325e5b7b95db4289b3ee1bd6dbfc4a6c",
      "987db9e4bab746ff9d393aa1409cf628",
      "dd5dcc8d0c424965ba5a329efbf725cc"
     ]
    },
    "id": "2bb8094b-01a0-4b84-9526-ba8888d04901",
    "outputId": "83769d2d-6f3b-4704-e443-cfc4ef52cc81"
   },
   "outputs": [
    {
     "name": "stderr",
     "output_type": "stream",
     "text": [
      "  0%|          | 0/3 [00:00<?, ?it/s]"
     ]
    },
    {
     "name": "stdout",
     "output_type": "stream",
     "text": [
      "Epoch: 0\n",
      "---------\n",
      "Train loss: 1.09199 | Train accuracy: 61.34%\n"
     ]
    },
    {
     "name": "stderr",
     "output_type": "stream",
     "text": [
      " 33%|███▎      | 1/3 [00:10<00:20, 10.27s/it]"
     ]
    },
    {
     "name": "stdout",
     "output_type": "stream",
     "text": [
      "Test loss: 0.95636 | Test accuracy: 65.00%\n",
      "\n",
      "Epoch: 1\n",
      "---------\n",
      "Train loss: 0.78101 | Train accuracy: 71.93%\n"
     ]
    },
    {
     "name": "stderr",
     "output_type": "stream",
     "text": [
      " 67%|██████▋   | 2/3 [00:22<00:11, 11.31s/it]"
     ]
    },
    {
     "name": "stdout",
     "output_type": "stream",
     "text": [
      "Test loss: 0.72227 | Test accuracy: 73.91%\n",
      "\n",
      "Epoch: 2\n",
      "---------\n",
      "Train loss: 0.67027 | Train accuracy: 75.94%\n"
     ]
    },
    {
     "name": "stderr",
     "output_type": "stream",
     "text": [
      "100%|██████████| 3/3 [00:34<00:00, 11.43s/it]"
     ]
    },
    {
     "name": "stdout",
     "output_type": "stream",
     "text": [
      "Test loss: 0.68500 | Test accuracy: 75.02%\n",
      "\n",
      "Train time on cuda: 34.299 seconds\n"
     ]
    },
    {
     "name": "stderr",
     "output_type": "stream",
     "text": [
      "\n"
     ]
    }
   ],
   "source": [
    "torch.manual_seed(42)\n",
    "\n",
    "# Measure time\n",
    "from timeit import default_timer as timer\n",
    "train_time_start_on_gpu = timer()\n",
    "\n",
    "epochs = 3\n",
    "for epoch in tqdm(range(epochs)):\n",
    "    print(f\"Epoch: {epoch}\\n---------\")\n",
    "    train_step(data_loader=train_dataloader, \n",
    "        model=model_1, \n",
    "        loss_fn=loss_fn,\n",
    "        optimizer=optimizer,\n",
    "        accuracy_fn=accuracy_fn\n",
    "    )\n",
    "    test_step(data_loader=test_dataloader,\n",
    "        model=model_1,\n",
    "        loss_fn=loss_fn,\n",
    "        accuracy_fn=accuracy_fn\n",
    "    )\n",
    "\n",
    "train_time_end_on_gpu = timer()\n",
    "total_train_time_model_1 = print_train_time(start=train_time_start_on_gpu,\n",
    "                                            end=train_time_end_on_gpu,\n",
    "                                            device=device)"
   ]
  },
  {
   "cell_type": "markdown",
   "id": "719b8eb9-9a7f-42ed-a49f-5eedc6fdd720",
   "metadata": {
    "id": "719b8eb9-9a7f-42ed-a49f-5eedc6fdd720"
   },
   "source": [
    "Excellent!\n",
    "\n",
    "Our model trained but the training time took longer?\n",
    "\n",
    "> **Note:** The training time on CUDA vs CPU will depend largely on the quality of the CPU/GPU you're using. Read on for a more explained answer.\n",
    "\n",
    "> **Question:** \"I used a a GPU but my model didn't train faster, why might that be?\"\n",
    ">\n",
    "> **Answer:** Well, one reason could be because your dataset and model are both so small (like the dataset and model we're working with) the benefits of using a GPU are outweighed by the time it actually takes to transfer the data there.\n",
    "> \n",
    "> There's a small bottleneck between copying data from the CPU memory (default) to the GPU memory.\n",
    ">\n",
    "> So for smaller models and datasets, the CPU might actually be the optimal place to compute on.\n",
    ">\n",
    "> But for larger datasets and models, the speed of computing the GPU can offer usually far outweighs the cost of getting the data there.\n",
    ">\n",
    "> However, this is largely dependant on the hardware you're using. With practice, you will get used to where the best place to train your models is. \n",
    "\n",
    "Let's evaluate our trained `model_1` using our `eval_model()` function and see how it went."
   ]
  },
  {
   "cell_type": "code",
   "execution_count": 37,
   "id": "32a544e3-9dbe-4aa1-b074-22e28b8f2f2a",
   "metadata": {
    "colab": {
     "base_uri": "https://localhost:8080/",
     "height": 381
    },
    "id": "32a544e3-9dbe-4aa1-b074-22e28b8f2f2a",
    "outputId": "bab29648-1e35-4f01-9efe-fa4d2030cddb"
   },
   "outputs": [
    {
     "name": "stderr",
     "output_type": "stream",
     "text": [
      "  0%|          | 0/313 [00:00<?, ?it/s]\n"
     ]
    },
    {
     "ename": "RuntimeError",
     "evalue": "Expected all tensors to be on the same device, but found at least two devices, cuda:0 and cpu! (when checking argument for argument mat1 in method wrapper_CUDA_addmm)",
     "output_type": "error",
     "traceback": [
      "\u001b[1;31m---------------------------------------------------------------------------\u001b[0m",
      "\u001b[1;31mRuntimeError\u001b[0m                              Traceback (most recent call last)",
      "Cell \u001b[1;32mIn[37], line 4\u001b[0m\n\u001b[0;32m      1\u001b[0m torch\u001b[38;5;241m.\u001b[39mmanual_seed(\u001b[38;5;241m42\u001b[39m)\n\u001b[0;32m      3\u001b[0m \u001b[38;5;66;03m# Note: This will error due to `eval_model()` not using device agnostic code \u001b[39;00m\n\u001b[1;32m----> 4\u001b[0m model_1_results \u001b[38;5;241m=\u001b[39m \u001b[43meval_model\u001b[49m\u001b[43m(\u001b[49m\u001b[43mmodel\u001b[49m\u001b[38;5;241;43m=\u001b[39;49m\u001b[43mmodel_1\u001b[49m\u001b[43m,\u001b[49m\u001b[43m \u001b[49m\n\u001b[0;32m      5\u001b[0m \u001b[43m    \u001b[49m\u001b[43mdata_loader\u001b[49m\u001b[38;5;241;43m=\u001b[39;49m\u001b[43mtest_dataloader\u001b[49m\u001b[43m,\u001b[49m\n\u001b[0;32m      6\u001b[0m \u001b[43m    \u001b[49m\u001b[43mloss_fn\u001b[49m\u001b[38;5;241;43m=\u001b[39;49m\u001b[43mloss_fn\u001b[49m\u001b[43m,\u001b[49m\u001b[43m \u001b[49m\n\u001b[0;32m      7\u001b[0m \u001b[43m    \u001b[49m\u001b[43maccuracy_fn\u001b[49m\u001b[38;5;241;43m=\u001b[39;49m\u001b[43maccuracy_fn\u001b[49m\u001b[43m)\u001b[49m \n\u001b[0;32m      8\u001b[0m model_1_results\n",
      "Cell \u001b[1;32mIn[30], line 22\u001b[0m, in \u001b[0;36meval_model\u001b[1;34m(model, data_loader, loss_fn, accuracy_fn)\u001b[0m\n\u001b[0;32m     19\u001b[0m \u001b[38;5;28;01mwith\u001b[39;00m torch\u001b[38;5;241m.\u001b[39minference_mode():\n\u001b[0;32m     20\u001b[0m     \u001b[38;5;28;01mfor\u001b[39;00m X, y \u001b[38;5;129;01min\u001b[39;00m tqdm(data_loader):\n\u001b[0;32m     21\u001b[0m         \u001b[38;5;66;03m# Make predictions with the model\u001b[39;00m\n\u001b[1;32m---> 22\u001b[0m         y_pred \u001b[38;5;241m=\u001b[39m \u001b[43mmodel\u001b[49m\u001b[43m(\u001b[49m\u001b[43mX\u001b[49m\u001b[43m)\u001b[49m\n\u001b[0;32m     24\u001b[0m         \u001b[38;5;66;03m# Accumulate the loss and accuracy values per batch\u001b[39;00m\n\u001b[0;32m     25\u001b[0m         loss \u001b[38;5;241m+\u001b[39m\u001b[38;5;241m=\u001b[39m loss_fn(y_pred, y)\n",
      "File \u001b[1;32mc:\\Users\\ssre_\\.conda\\envs\\.venv_pytorch_gpu\\lib\\site-packages\\torch\\nn\\modules\\module.py:1553\u001b[0m, in \u001b[0;36mModule._wrapped_call_impl\u001b[1;34m(self, *args, **kwargs)\u001b[0m\n\u001b[0;32m   1551\u001b[0m     \u001b[38;5;28;01mreturn\u001b[39;00m \u001b[38;5;28mself\u001b[39m\u001b[38;5;241m.\u001b[39m_compiled_call_impl(\u001b[38;5;241m*\u001b[39margs, \u001b[38;5;241m*\u001b[39m\u001b[38;5;241m*\u001b[39mkwargs)  \u001b[38;5;66;03m# type: ignore[misc]\u001b[39;00m\n\u001b[0;32m   1552\u001b[0m \u001b[38;5;28;01melse\u001b[39;00m:\n\u001b[1;32m-> 1553\u001b[0m     \u001b[38;5;28;01mreturn\u001b[39;00m \u001b[38;5;28mself\u001b[39m\u001b[38;5;241m.\u001b[39m_call_impl(\u001b[38;5;241m*\u001b[39margs, \u001b[38;5;241m*\u001b[39m\u001b[38;5;241m*\u001b[39mkwargs)\n",
      "File \u001b[1;32mc:\\Users\\ssre_\\.conda\\envs\\.venv_pytorch_gpu\\lib\\site-packages\\torch\\nn\\modules\\module.py:1562\u001b[0m, in \u001b[0;36mModule._call_impl\u001b[1;34m(self, *args, **kwargs)\u001b[0m\n\u001b[0;32m   1557\u001b[0m \u001b[38;5;66;03m# If we don't have any hooks, we want to skip the rest of the logic in\u001b[39;00m\n\u001b[0;32m   1558\u001b[0m \u001b[38;5;66;03m# this function, and just call forward.\u001b[39;00m\n\u001b[0;32m   1559\u001b[0m \u001b[38;5;28;01mif\u001b[39;00m \u001b[38;5;129;01mnot\u001b[39;00m (\u001b[38;5;28mself\u001b[39m\u001b[38;5;241m.\u001b[39m_backward_hooks \u001b[38;5;129;01mor\u001b[39;00m \u001b[38;5;28mself\u001b[39m\u001b[38;5;241m.\u001b[39m_backward_pre_hooks \u001b[38;5;129;01mor\u001b[39;00m \u001b[38;5;28mself\u001b[39m\u001b[38;5;241m.\u001b[39m_forward_hooks \u001b[38;5;129;01mor\u001b[39;00m \u001b[38;5;28mself\u001b[39m\u001b[38;5;241m.\u001b[39m_forward_pre_hooks\n\u001b[0;32m   1560\u001b[0m         \u001b[38;5;129;01mor\u001b[39;00m _global_backward_pre_hooks \u001b[38;5;129;01mor\u001b[39;00m _global_backward_hooks\n\u001b[0;32m   1561\u001b[0m         \u001b[38;5;129;01mor\u001b[39;00m _global_forward_hooks \u001b[38;5;129;01mor\u001b[39;00m _global_forward_pre_hooks):\n\u001b[1;32m-> 1562\u001b[0m     \u001b[38;5;28;01mreturn\u001b[39;00m forward_call(\u001b[38;5;241m*\u001b[39margs, \u001b[38;5;241m*\u001b[39m\u001b[38;5;241m*\u001b[39mkwargs)\n\u001b[0;32m   1564\u001b[0m \u001b[38;5;28;01mtry\u001b[39;00m:\n\u001b[0;32m   1565\u001b[0m     result \u001b[38;5;241m=\u001b[39m \u001b[38;5;28;01mNone\u001b[39;00m\n",
      "Cell \u001b[1;32mIn[32], line 14\u001b[0m, in \u001b[0;36mFashionMNISTModelV1.forward\u001b[1;34m(self, x)\u001b[0m\n\u001b[0;32m     13\u001b[0m \u001b[38;5;28;01mdef\u001b[39;00m \u001b[38;5;21mforward\u001b[39m(\u001b[38;5;28mself\u001b[39m, x: torch\u001b[38;5;241m.\u001b[39mTensor):\n\u001b[1;32m---> 14\u001b[0m     \u001b[38;5;28;01mreturn\u001b[39;00m \u001b[38;5;28;43mself\u001b[39;49m\u001b[38;5;241;43m.\u001b[39;49m\u001b[43mlayer_stack\u001b[49m\u001b[43m(\u001b[49m\u001b[43mx\u001b[49m\u001b[43m)\u001b[49m\n",
      "File \u001b[1;32mc:\\Users\\ssre_\\.conda\\envs\\.venv_pytorch_gpu\\lib\\site-packages\\torch\\nn\\modules\\module.py:1553\u001b[0m, in \u001b[0;36mModule._wrapped_call_impl\u001b[1;34m(self, *args, **kwargs)\u001b[0m\n\u001b[0;32m   1551\u001b[0m     \u001b[38;5;28;01mreturn\u001b[39;00m \u001b[38;5;28mself\u001b[39m\u001b[38;5;241m.\u001b[39m_compiled_call_impl(\u001b[38;5;241m*\u001b[39margs, \u001b[38;5;241m*\u001b[39m\u001b[38;5;241m*\u001b[39mkwargs)  \u001b[38;5;66;03m# type: ignore[misc]\u001b[39;00m\n\u001b[0;32m   1552\u001b[0m \u001b[38;5;28;01melse\u001b[39;00m:\n\u001b[1;32m-> 1553\u001b[0m     \u001b[38;5;28;01mreturn\u001b[39;00m \u001b[38;5;28mself\u001b[39m\u001b[38;5;241m.\u001b[39m_call_impl(\u001b[38;5;241m*\u001b[39margs, \u001b[38;5;241m*\u001b[39m\u001b[38;5;241m*\u001b[39mkwargs)\n",
      "File \u001b[1;32mc:\\Users\\ssre_\\.conda\\envs\\.venv_pytorch_gpu\\lib\\site-packages\\torch\\nn\\modules\\module.py:1562\u001b[0m, in \u001b[0;36mModule._call_impl\u001b[1;34m(self, *args, **kwargs)\u001b[0m\n\u001b[0;32m   1557\u001b[0m \u001b[38;5;66;03m# If we don't have any hooks, we want to skip the rest of the logic in\u001b[39;00m\n\u001b[0;32m   1558\u001b[0m \u001b[38;5;66;03m# this function, and just call forward.\u001b[39;00m\n\u001b[0;32m   1559\u001b[0m \u001b[38;5;28;01mif\u001b[39;00m \u001b[38;5;129;01mnot\u001b[39;00m (\u001b[38;5;28mself\u001b[39m\u001b[38;5;241m.\u001b[39m_backward_hooks \u001b[38;5;129;01mor\u001b[39;00m \u001b[38;5;28mself\u001b[39m\u001b[38;5;241m.\u001b[39m_backward_pre_hooks \u001b[38;5;129;01mor\u001b[39;00m \u001b[38;5;28mself\u001b[39m\u001b[38;5;241m.\u001b[39m_forward_hooks \u001b[38;5;129;01mor\u001b[39;00m \u001b[38;5;28mself\u001b[39m\u001b[38;5;241m.\u001b[39m_forward_pre_hooks\n\u001b[0;32m   1560\u001b[0m         \u001b[38;5;129;01mor\u001b[39;00m _global_backward_pre_hooks \u001b[38;5;129;01mor\u001b[39;00m _global_backward_hooks\n\u001b[0;32m   1561\u001b[0m         \u001b[38;5;129;01mor\u001b[39;00m _global_forward_hooks \u001b[38;5;129;01mor\u001b[39;00m _global_forward_pre_hooks):\n\u001b[1;32m-> 1562\u001b[0m     \u001b[38;5;28;01mreturn\u001b[39;00m forward_call(\u001b[38;5;241m*\u001b[39margs, \u001b[38;5;241m*\u001b[39m\u001b[38;5;241m*\u001b[39mkwargs)\n\u001b[0;32m   1564\u001b[0m \u001b[38;5;28;01mtry\u001b[39;00m:\n\u001b[0;32m   1565\u001b[0m     result \u001b[38;5;241m=\u001b[39m \u001b[38;5;28;01mNone\u001b[39;00m\n",
      "File \u001b[1;32mc:\\Users\\ssre_\\.conda\\envs\\.venv_pytorch_gpu\\lib\\site-packages\\torch\\nn\\modules\\container.py:219\u001b[0m, in \u001b[0;36mSequential.forward\u001b[1;34m(self, input)\u001b[0m\n\u001b[0;32m    217\u001b[0m \u001b[38;5;28;01mdef\u001b[39;00m \u001b[38;5;21mforward\u001b[39m(\u001b[38;5;28mself\u001b[39m, \u001b[38;5;28minput\u001b[39m):\n\u001b[0;32m    218\u001b[0m     \u001b[38;5;28;01mfor\u001b[39;00m module \u001b[38;5;129;01min\u001b[39;00m \u001b[38;5;28mself\u001b[39m:\n\u001b[1;32m--> 219\u001b[0m         \u001b[38;5;28minput\u001b[39m \u001b[38;5;241m=\u001b[39m \u001b[43mmodule\u001b[49m\u001b[43m(\u001b[49m\u001b[38;5;28;43minput\u001b[39;49m\u001b[43m)\u001b[49m\n\u001b[0;32m    220\u001b[0m     \u001b[38;5;28;01mreturn\u001b[39;00m \u001b[38;5;28minput\u001b[39m\n",
      "File \u001b[1;32mc:\\Users\\ssre_\\.conda\\envs\\.venv_pytorch_gpu\\lib\\site-packages\\torch\\nn\\modules\\module.py:1553\u001b[0m, in \u001b[0;36mModule._wrapped_call_impl\u001b[1;34m(self, *args, **kwargs)\u001b[0m\n\u001b[0;32m   1551\u001b[0m     \u001b[38;5;28;01mreturn\u001b[39;00m \u001b[38;5;28mself\u001b[39m\u001b[38;5;241m.\u001b[39m_compiled_call_impl(\u001b[38;5;241m*\u001b[39margs, \u001b[38;5;241m*\u001b[39m\u001b[38;5;241m*\u001b[39mkwargs)  \u001b[38;5;66;03m# type: ignore[misc]\u001b[39;00m\n\u001b[0;32m   1552\u001b[0m \u001b[38;5;28;01melse\u001b[39;00m:\n\u001b[1;32m-> 1553\u001b[0m     \u001b[38;5;28;01mreturn\u001b[39;00m \u001b[38;5;28mself\u001b[39m\u001b[38;5;241m.\u001b[39m_call_impl(\u001b[38;5;241m*\u001b[39margs, \u001b[38;5;241m*\u001b[39m\u001b[38;5;241m*\u001b[39mkwargs)\n",
      "File \u001b[1;32mc:\\Users\\ssre_\\.conda\\envs\\.venv_pytorch_gpu\\lib\\site-packages\\torch\\nn\\modules\\module.py:1562\u001b[0m, in \u001b[0;36mModule._call_impl\u001b[1;34m(self, *args, **kwargs)\u001b[0m\n\u001b[0;32m   1557\u001b[0m \u001b[38;5;66;03m# If we don't have any hooks, we want to skip the rest of the logic in\u001b[39;00m\n\u001b[0;32m   1558\u001b[0m \u001b[38;5;66;03m# this function, and just call forward.\u001b[39;00m\n\u001b[0;32m   1559\u001b[0m \u001b[38;5;28;01mif\u001b[39;00m \u001b[38;5;129;01mnot\u001b[39;00m (\u001b[38;5;28mself\u001b[39m\u001b[38;5;241m.\u001b[39m_backward_hooks \u001b[38;5;129;01mor\u001b[39;00m \u001b[38;5;28mself\u001b[39m\u001b[38;5;241m.\u001b[39m_backward_pre_hooks \u001b[38;5;129;01mor\u001b[39;00m \u001b[38;5;28mself\u001b[39m\u001b[38;5;241m.\u001b[39m_forward_hooks \u001b[38;5;129;01mor\u001b[39;00m \u001b[38;5;28mself\u001b[39m\u001b[38;5;241m.\u001b[39m_forward_pre_hooks\n\u001b[0;32m   1560\u001b[0m         \u001b[38;5;129;01mor\u001b[39;00m _global_backward_pre_hooks \u001b[38;5;129;01mor\u001b[39;00m _global_backward_hooks\n\u001b[0;32m   1561\u001b[0m         \u001b[38;5;129;01mor\u001b[39;00m _global_forward_hooks \u001b[38;5;129;01mor\u001b[39;00m _global_forward_pre_hooks):\n\u001b[1;32m-> 1562\u001b[0m     \u001b[38;5;28;01mreturn\u001b[39;00m forward_call(\u001b[38;5;241m*\u001b[39margs, \u001b[38;5;241m*\u001b[39m\u001b[38;5;241m*\u001b[39mkwargs)\n\u001b[0;32m   1564\u001b[0m \u001b[38;5;28;01mtry\u001b[39;00m:\n\u001b[0;32m   1565\u001b[0m     result \u001b[38;5;241m=\u001b[39m \u001b[38;5;28;01mNone\u001b[39;00m\n",
      "File \u001b[1;32mc:\\Users\\ssre_\\.conda\\envs\\.venv_pytorch_gpu\\lib\\site-packages\\torch\\nn\\modules\\linear.py:117\u001b[0m, in \u001b[0;36mLinear.forward\u001b[1;34m(self, input)\u001b[0m\n\u001b[0;32m    116\u001b[0m \u001b[38;5;28;01mdef\u001b[39;00m \u001b[38;5;21mforward\u001b[39m(\u001b[38;5;28mself\u001b[39m, \u001b[38;5;28minput\u001b[39m: Tensor) \u001b[38;5;241m-\u001b[39m\u001b[38;5;241m>\u001b[39m Tensor:\n\u001b[1;32m--> 117\u001b[0m     \u001b[38;5;28;01mreturn\u001b[39;00m \u001b[43mF\u001b[49m\u001b[38;5;241;43m.\u001b[39;49m\u001b[43mlinear\u001b[49m\u001b[43m(\u001b[49m\u001b[38;5;28;43minput\u001b[39;49m\u001b[43m,\u001b[49m\u001b[43m \u001b[49m\u001b[38;5;28;43mself\u001b[39;49m\u001b[38;5;241;43m.\u001b[39;49m\u001b[43mweight\u001b[49m\u001b[43m,\u001b[49m\u001b[43m \u001b[49m\u001b[38;5;28;43mself\u001b[39;49m\u001b[38;5;241;43m.\u001b[39;49m\u001b[43mbias\u001b[49m\u001b[43m)\u001b[49m\n",
      "\u001b[1;31mRuntimeError\u001b[0m: Expected all tensors to be on the same device, but found at least two devices, cuda:0 and cpu! (when checking argument for argument mat1 in method wrapper_CUDA_addmm)"
     ]
    }
   ],
   "source": [
    "torch.manual_seed(42)\n",
    "\n",
    "# Note: This will error due to `eval_model()` not using device agnostic code \n",
    "model_1_results = eval_model(model=model_1, \n",
    "    data_loader=test_dataloader,\n",
    "    loss_fn=loss_fn, \n",
    "    accuracy_fn=accuracy_fn) \n",
    "model_1_results "
   ]
  },
  {
   "cell_type": "markdown",
   "id": "6a3481a5-489d-4db9-ac95-c3ce385978b7",
   "metadata": {
    "id": "6a3481a5-489d-4db9-ac95-c3ce385978b7"
   },
   "source": [
    "Oh no! \n",
    "\n",
    "It looks like our `eval_model()` function errors out with:\n",
    "\n",
    "> `RuntimeError: Expected all tensors to be on the same device, but found at least two devices, cuda:0 and cpu! (when checking argument for argument mat1 in method wrapper_addmm)`\n",
    "\n",
    "It's because we've setup our data and model to use device-agnostic code but not our evaluation function.\n",
    "\n",
    "How about we fix that by passing a target `device` parameter to our `eval_model()` function?\n",
    "\n",
    "Then we'll try calculating the results again."
   ]
  },
  {
   "cell_type": "code",
   "execution_count": 40,
   "id": "f3665d99-1adc-4d9f-bfc6-e5601a80691c",
   "metadata": {
    "colab": {
     "base_uri": "https://localhost:8080/"
    },
    "id": "f3665d99-1adc-4d9f-bfc6-e5601a80691c",
    "outputId": "05312922-d30b-4c09-9989-963a4a579bf8"
   },
   "outputs": [
    {
     "data": {
      "text/plain": [
       "{'model_name': 'FashionMNISTModelV1',\n",
       " 'model_loss': 0.6850008368492126,\n",
       " 'model_acc': 75.01996805111821}"
      ]
     },
     "execution_count": 40,
     "metadata": {},
     "output_type": "execute_result"
    }
   ],
   "source": [
    "# Move values to device\n",
    "torch.manual_seed(42)\n",
    "def eval_model(model: torch.nn.Module, \n",
    "               data_loader: torch.utils.data.DataLoader, \n",
    "               loss_fn: torch.nn.Module, \n",
    "               accuracy_fn, \n",
    "               device: torch.device = device):\n",
    "    \"\"\"Evaluates a given model on a given dataset.\n",
    "\n",
    "    Args:\n",
    "        model (torch.nn.Module): A PyTorch model capable of making predictions on data_loader.\n",
    "        data_loader (torch.utils.data.DataLoader): The target dataset to predict on.\n",
    "        loss_fn (torch.nn.Module): The loss function of model.\n",
    "        accuracy_fn: An accuracy function to compare the models predictions to the truth labels.\n",
    "        device (str, optional): Target device to compute on. Defaults to device.\n",
    "\n",
    "    Returns:\n",
    "        (dict): Results of model making predictions on data_loader.\n",
    "    \"\"\"\n",
    "    loss, acc = 0, 0\n",
    "    # model.to(device)  may not be necessary\n",
    "    model.eval()\n",
    "    with torch.inference_mode():\n",
    "        for X, y in data_loader:\n",
    "            # Send data to the target device\n",
    "            X, y = X.to(device), y.to(device)\n",
    "            y_pred = model(X)\n",
    "            loss += loss_fn(y_pred, y)\n",
    "            acc += accuracy_fn(y_true=y, y_pred=y_pred.argmax(dim=1))\n",
    "        \n",
    "        # Scale loss and acc\n",
    "        loss /= len(data_loader)\n",
    "        acc /= len(data_loader)\n",
    "    return {\"model_name\": model.__class__.__name__, # only works when model was created with a class\n",
    "            \"model_loss\": loss.item(),\n",
    "            \"model_acc\": acc}\n",
    "\n",
    "# Calculate model 1 results with device-agnostic code \n",
    "model_1_results = eval_model(model=model_1, data_loader=test_dataloader,\n",
    "    loss_fn=loss_fn, accuracy_fn=accuracy_fn,\n",
    "    device=device\n",
    ")\n",
    "model_1_results"
   ]
  },
  {
   "cell_type": "code",
   "execution_count": 41,
   "id": "a9e916cf-f873-4481-a983-bac26ce4cac2",
   "metadata": {
    "colab": {
     "base_uri": "https://localhost:8080/"
    },
    "id": "a9e916cf-f873-4481-a983-bac26ce4cac2",
    "outputId": "5cdb9f7f-366c-4c14-9afa-f2d1d4e0267d"
   },
   "outputs": [
    {
     "data": {
      "text/plain": [
       "{'model_name': 'FashionMNISTModelV0',\n",
       " 'model_loss': 0.47663894295692444,\n",
       " 'model_acc': 83.42651757188499}"
      ]
     },
     "execution_count": 41,
     "metadata": {},
     "output_type": "execute_result"
    }
   ],
   "source": [
    "# Check baseline results\n",
    "model_0_results"
   ]
  },
  {
   "cell_type": "markdown",
   "id": "340cbf14-e83f-4981-8a93-5fedb6b51418",
   "metadata": {
    "id": "340cbf14-e83f-4981-8a93-5fedb6b51418"
   },
   "source": [
    "Woah, in this case, it looks like adding non-linearities to our model made it perform worse than the baseline.\n",
    "\n",
    "That's a thing to note in machine learning, sometimes the thing you thought should work doesn't. \n",
    "\n",
    "And then the thing you thought might not work does.\n",
    "\n",
    "It's part science, part art.\n",
    "\n",
    "From the looks of things, it seems like our model is **overfitting** on the training data.\n",
    "\n",
    "Overfitting means our model is learning the training data well but those patterns aren't generalizing to the testing data.\n",
    "\n",
    "Two of the main to fix overfitting include:\n",
    "1. Using a smaller or different model (some models fit certain kinds of data better than others).\n",
    "2. Using a larger dataset (the more data, the more chance a model has to learn generalizable patterns).\n",
    "\n",
    "There are more, but I'm going to leave that as a challenge for you to explore.\n",
    "\n",
    "Try searching online, \"ways to prevent overfitting in machine learning\" and see what comes up.\n",
    "\n",
    "In the meantime, let's take a look at number 1: using a different model."
   ]
  },
  {
   "cell_type": "markdown",
   "id": "ac22d685-1b8d-4215-90de-c0476cb0fbdf",
   "metadata": {
    "id": "ac22d685-1b8d-4215-90de-c0476cb0fbdf"
   },
   "source": [
    "## 7. Model 2: Building a Convolutional Neural Network (CNN)\n",
    "\n",
    "Alright, time to step things up a notch.\n",
    "\n",
    "It's time to create a [Convolutional Neural Network](https://en.wikipedia.org/wiki/Convolutional_neural_network) (CNN or ConvNet).\n",
    "\n",
    "CNN's are known for their capabilities to find patterns in visual data.\n",
    "\n",
    "And since we're dealing with visual data, let's see if using a CNN model can improve upon our baseline.\n",
    "\n",
    "The CNN model we're going to be using is known as TinyVGG from the [CNN Explainer](https://poloclub.github.io/cnn-explainer/) website.\n",
    "\n",
    "It follows the typical structure of a convolutional neural network:\n",
    "\n",
    "`Input layer -> [Convolutional layer -> activation layer -> pooling layer] -> Output layer`\n",
    "\n",
    "Where the contents of `[Convolutional layer -> activation layer -> pooling layer]` can be upscaled and repeated multiple times, depending on requirements. "
   ]
  },
  {
   "cell_type": "markdown",
   "id": "9c358955-1d20-4903-b872-a239d2753d88",
   "metadata": {
    "id": "9c358955-1d20-4903-b872-a239d2753d88"
   },
   "source": [
    "### What model should I use?\n",
    "\n",
    "> **Question:** Wait, you say CNN's are good for images, are there any other model types I should be aware of?\n",
    "\n",
    "Good question.\n",
    "\n",
    "This table is a good general guide for which model to use (though there are exceptions).\n",
    "\n",
    "| **Problem type** | **Model to use (generally)** | **Code example** |\n",
    "| ----- | ----- | ----- |\n",
    "| Structured data (Excel spreadsheets, row and column data) | Gradient boosted models, Random Forests, XGBoost | [`sklearn.ensemble`](https://scikit-learn.org/stable/modules/classes.html#module-sklearn.ensemble), [XGBoost library](https://xgboost.readthedocs.io/en/stable/) |\n",
    "| Unstructured data (images, audio, language) | Convolutional Neural Networks, Transformers | [`torchvision.models`](https://pytorch.org/vision/stable/models.html), [HuggingFace Transformers](https://huggingface.co/docs/transformers/index) | \n",
    "\n",
    "> **Note:** The table above is only for reference, the model you end up using will be highly dependant on the problem you're working on and the constraints you have (amount of data, latency requirements).\n",
    "\n",
    "Enough talking about models, let's now build a CNN that replicates the model on the [CNN Explainer website](https://poloclub.github.io/cnn-explainer/).\n",
    "\n",
    "![TinyVGG architecture, as setup by CNN explainer website](https://raw.githubusercontent.com/mrdbourke/pytorch-deep-learning/main/images/03-cnn-explainer-model.png)\n",
    "\n",
    "To do so, we'll leverage the [`nn.Conv2d()`](https://pytorch.org/docs/stable/generated/torch.nn.Conv2d.html) and [`nn.MaxPool2d()`](https://pytorch.org/docs/stable/generated/torch.nn.MaxPool2d.html) layers from `torch.nn`.\n"
   ]
  },
  {
   "cell_type": "code",
   "execution_count": 42,
   "id": "dce60214-63fd-46e2-89ba-125445ac76b7",
   "metadata": {
    "colab": {
     "base_uri": "https://localhost:8080/"
    },
    "id": "dce60214-63fd-46e2-89ba-125445ac76b7",
    "outputId": "5ae97191-bb41-4e58-e7f1-914b612cbb60"
   },
   "outputs": [
    {
     "data": {
      "text/plain": [
       "FashionMNISTModelV2(\n",
       "  (block_1): Sequential(\n",
       "    (0): Conv2d(1, 10, kernel_size=(3, 3), stride=(1, 1), padding=(1, 1))\n",
       "    (1): ReLU()\n",
       "    (2): Conv2d(10, 10, kernel_size=(3, 3), stride=(1, 1), padding=(1, 1))\n",
       "    (3): ReLU()\n",
       "    (4): MaxPool2d(kernel_size=2, stride=2, padding=0, dilation=1, ceil_mode=False)\n",
       "  )\n",
       "  (block_2): Sequential(\n",
       "    (0): Conv2d(10, 10, kernel_size=(3, 3), stride=(1, 1), padding=(1, 1))\n",
       "    (1): ReLU()\n",
       "    (2): Conv2d(10, 10, kernel_size=(3, 3), stride=(1, 1), padding=(1, 1))\n",
       "    (3): ReLU()\n",
       "    (4): MaxPool2d(kernel_size=2, stride=2, padding=0, dilation=1, ceil_mode=False)\n",
       "  )\n",
       "  (classifier): Sequential(\n",
       "    (0): Flatten(start_dim=1, end_dim=-1)\n",
       "    (1): Linear(in_features=490, out_features=10, bias=True)\n",
       "  )\n",
       ")"
      ]
     },
     "execution_count": 42,
     "metadata": {},
     "output_type": "execute_result"
    }
   ],
   "source": [
    "# Create a convolutional neural network \n",
    "class FashionMNISTModelV2(nn.Module):\n",
    "    \"\"\"\n",
    "    Model architecture copying TinyVGG from: \n",
    "    https://poloclub.github.io/cnn-explainer/\n",
    "    \"\"\"\n",
    "    def __init__(self, input_shape: int, hidden_units: int, output_shape: int):\n",
    "        super().__init__()\n",
    "        self.block_1 = nn.Sequential(\n",
    "            nn.Conv2d(in_channels=input_shape, \n",
    "                      out_channels=hidden_units, \n",
    "                      kernel_size=3, # how big is the square that's going over the image?\n",
    "                      stride=1, # default\n",
    "                      padding=1),# options = \"valid\" (no padding) or \"same\" (output has same shape as input) or int for specific number \n",
    "            nn.ReLU(),\n",
    "            nn.Conv2d(in_channels=hidden_units, \n",
    "                      out_channels=hidden_units,\n",
    "                      kernel_size=3,\n",
    "                      stride=1,\n",
    "                      padding=1),\n",
    "            nn.ReLU(),\n",
    "            nn.MaxPool2d(kernel_size=2,\n",
    "                         stride=2) # default stride value is same as kernel_size\n",
    "        )\n",
    "        self.block_2 = nn.Sequential(\n",
    "            nn.Conv2d(hidden_units, hidden_units, 3, padding=1),\n",
    "            nn.ReLU(),\n",
    "            nn.Conv2d(hidden_units, hidden_units, 3, padding=1),\n",
    "            nn.ReLU(),\n",
    "            nn.MaxPool2d(2)\n",
    "        )\n",
    "        self.classifier = nn.Sequential(\n",
    "            nn.Flatten(),\n",
    "            # Where did this in_features shape come from? \n",
    "            # It's because each layer of our network compresses and changes the shape of our inputs data.\n",
    "            nn.Linear(in_features=hidden_units*7*7, \n",
    "                      out_features=output_shape)\n",
    "        )\n",
    "    \n",
    "    def forward(self, x: torch.Tensor):\n",
    "        x = self.block_1(x)\n",
    "        #print(x.shape) #torch.Size([1, 10, 14, 14])\n",
    "        x = self.block_2(x)\n",
    "        #print(x.shape) #torch.Size([1, 10, 7, 7])\n",
    "        x = self.classifier(x)\n",
    "        #print(x.shape)\n",
    "        return x\n",
    "\n",
    "torch.manual_seed(42)\n",
    "model_2 = FashionMNISTModelV2(input_shape=1, \n",
    "    hidden_units=10, \n",
    "    output_shape=len(class_names)).to(device)\n",
    "model_2"
   ]
  },
  {
   "cell_type": "markdown",
   "id": "0a20f25e-cc16-4f85-a69b-62008c01d0ed",
   "metadata": {
    "id": "0a20f25e-cc16-4f85-a69b-62008c01d0ed"
   },
   "source": [
    "Nice!\n",
    "\n",
    "Our biggest model yet!\n",
    "\n",
    "What we've done is a common practice in machine learning.\n",
    "\n",
    "Find a model architecture somewhere and replicate it with code. "
   ]
  },
  {
   "cell_type": "code",
   "execution_count": 43,
   "id": "7d3b3971",
   "metadata": {},
   "outputs": [
    {
     "data": {
      "text/plain": [
       "<matplotlib.image.AxesImage at 0x246a6ef9390>"
      ]
     },
     "execution_count": 43,
     "metadata": {},
     "output_type": "execute_result"
    },
    {
     "data": {
      "image/png": "[encoded data removed]",
      "text/plain": [
       "<Figure size 640x480 with 1 Axes>"
      ]
     },
     "metadata": {},
     "output_type": "display_data"
    }
   ],
   "source": [
    "random_idx = torch.randint(0, len(train_features_batch), size=[1]).item()\n",
    "plt.imshow(train_features_batch[random_idx].squeeze(), cmap=\"gray\")"
   ]
  },
  {
   "cell_type": "code",
   "execution_count": 44,
   "id": "4fb082a3",
   "metadata": {},
   "outputs": [
    {
     "data": {
      "text/plain": [
       "torch.Size([1, 28, 28])"
      ]
     },
     "execution_count": 44,
     "metadata": {},
     "output_type": "execute_result"
    }
   ],
   "source": [
    "rand_image_tensor = torch.randn(size=(1, 28, 28))\n",
    "rand_image_tensor.shape\n",
    "#model_2(rand_image_tensor).to(device)"
   ]
  },
  {
   "cell_type": "code",
   "execution_count": 45,
   "id": "920a23b6",
   "metadata": {},
   "outputs": [
    {
     "data": {
      "text/plain": [
       "torch.Size([1, 28, 28])"
      ]
     },
     "execution_count": 45,
     "metadata": {},
     "output_type": "execute_result"
    }
   ],
   "source": [
    "train_features_batch[random_idx].shape"
   ]
  },
  {
   "cell_type": "code",
   "execution_count": 46,
   "id": "92336d90",
   "metadata": {},
   "outputs": [
    {
     "data": {
      "text/plain": [
       "tensor([[ 0.0342, -0.0600,  0.0498, -0.0287, -0.0151,  0.0176, -0.0066, -0.0139,\n",
       "          0.0312,  0.0123]], device='cuda:0', grad_fn=<AddmmBackward0>)"
      ]
     },
     "execution_count": 46,
     "metadata": {},
     "output_type": "execute_result"
    }
   ],
   "source": [
    "model_2(train_features_batch[random_idx].unsqueeze(0).to(device))"
   ]
  },
  {
   "cell_type": "code",
   "execution_count": 47,
   "id": "a6fd3dd6",
   "metadata": {},
   "outputs": [
    {
     "data": {
      "text/plain": [
       "OrderedDict([('block_1.0.weight',\n",
       "              tensor([[[[ 0.2548,  0.2767, -0.0781],\n",
       "                        [ 0.3062, -0.0730,  0.0673],\n",
       "                        [-0.1623,  0.1958,  0.2938]]],\n",
       "              \n",
       "              \n",
       "                      [[[-0.2445,  0.2897,  0.0624],\n",
       "                        [ 0.2463,  0.0451,  0.1607],\n",
       "                        [-0.0471,  0.2570,  0.0493]]],\n",
       "              \n",
       "              \n",
       "                      [[[-0.1556,  0.0850, -0.1536],\n",
       "                        [-0.0391, -0.1354,  0.2211],\n",
       "                        [-0.2631, -0.1537, -0.0941]]],\n",
       "              \n",
       "              \n",
       "                      [[[-0.2004,  0.0315, -0.3292],\n",
       "                        [ 0.3010, -0.2832,  0.2573],\n",
       "                        [ 0.0555, -0.1082,  0.2060]]],\n",
       "              \n",
       "              \n",
       "                      [[[ 0.0520,  0.2693,  0.0364],\n",
       "                        [-0.1051,  0.0896, -0.0904],\n",
       "                        [ 0.1403,  0.2976,  0.1927]]],\n",
       "              \n",
       "              \n",
       "                      [[[-0.1457,  0.1924,  0.0596],\n",
       "                        [ 0.1693, -0.2032, -0.3300],\n",
       "                        [-0.1288, -0.2557,  0.2735]]],\n",
       "              \n",
       "              \n",
       "                      [[[ 0.0960,  0.1381,  0.1054],\n",
       "                        [-0.0058,  0.2609, -0.2368],\n",
       "                        [ 0.0210, -0.2275,  0.1028]]],\n",
       "              \n",
       "              \n",
       "                      [[[-0.1148,  0.1021, -0.0694],\n",
       "                        [ 0.2765, -0.1976, -0.1988],\n",
       "                        [-0.1988,  0.2998,  0.1111]]],\n",
       "              \n",
       "              \n",
       "                      [[[ 0.3208, -0.2751, -0.3306],\n",
       "                        [-0.2608, -0.2242,  0.1350],\n",
       "                        [ 0.1194,  0.2770, -0.1721]]],\n",
       "              \n",
       "              \n",
       "                      [[[-0.2272,  0.1769, -0.1347],\n",
       "                        [ 0.2023, -0.0791,  0.1907],\n",
       "                        [-0.2590, -0.1682,  0.1016]]]], device='cuda:0')),\n",
       "             ('block_1.0.bias',\n",
       "              tensor([ 0.0705, -0.0850,  0.1987,  0.2266, -0.2417, -0.1780,  0.3052, -0.1125,\n",
       "                      -0.1182, -0.3225], device='cuda:0')),\n",
       "             ('block_1.2.weight',\n",
       "              tensor([[[[-0.0604,  0.0263, -0.0139],\n",
       "                        [-0.0765,  0.0025, -0.0720],\n",
       "                        [-0.0894, -0.0580, -0.0923]],\n",
       "              \n",
       "                       [[-0.0671,  0.1054,  0.0199],\n",
       "                        [ 0.0325, -0.0983, -0.0692],\n",
       "                        [-0.0351,  0.0165, -0.0928]],\n",
       "              \n",
       "                       [[-0.0454, -0.0631,  0.0003],\n",
       "                        [-0.0392, -0.0073, -0.0714],\n",
       "                        [-0.0724, -0.0615, -0.0361]],\n",
       "              \n",
       "                       [[-0.0832,  0.0884, -0.0209],\n",
       "                        [ 0.0907,  0.0328, -0.0893],\n",
       "                        [ 0.0729, -0.0290, -0.0404]],\n",
       "              \n",
       "                       [[-0.0875, -0.1048,  0.0302],\n",
       "                        [-0.0230,  0.0410, -0.0865],\n",
       "                        [ 0.0783, -0.0774, -0.0182]],\n",
       "              \n",
       "                       [[ 0.0220,  0.0544,  0.0851],\n",
       "                        [ 0.0960, -0.0836,  0.0265],\n",
       "                        [-0.0453, -0.0116, -0.0789]],\n",
       "              \n",
       "                       [[ 0.0960, -0.0774,  0.0563],\n",
       "                        [ 0.0370,  0.0343, -0.0570],\n",
       "                        [ 0.0958,  0.0232,  0.0136]],\n",
       "              \n",
       "                       [[-0.0929,  0.0442, -0.0158],\n",
       "                        [-0.0483,  0.0905,  0.0235],\n",
       "                        [-0.0583, -0.0534, -0.0050]],\n",
       "              \n",
       "                       [[ 0.0589, -0.0269, -0.0601],\n",
       "                        [-0.0361, -0.0787,  0.0376],\n",
       "                        [ 0.0816, -0.0992,  0.0245]],\n",
       "              \n",
       "                       [[ 0.0545,  0.0191, -0.0375],\n",
       "                        [ 0.0550,  0.0554,  0.0394],\n",
       "                        [-0.0185, -0.0279,  0.0113]]],\n",
       "              \n",
       "              \n",
       "                      [[[-0.0186, -0.0314,  0.0674],\n",
       "                        [ 0.0906, -0.0104, -0.0236],\n",
       "                        [ 0.0015, -0.0063,  0.0253]],\n",
       "              \n",
       "                       [[ 0.0295, -0.0957, -0.0389],\n",
       "                        [ 0.0888,  0.0411, -0.0052],\n",
       "                        [-0.0636, -0.0645, -0.0944]],\n",
       "              \n",
       "                       [[-0.0344,  0.0356,  0.0672],\n",
       "                        [ 0.0487, -0.0932, -0.0634],\n",
       "                        [-0.0166,  0.1020,  0.0152]],\n",
       "              \n",
       "                       [[-0.0273,  0.0436, -0.0401],\n",
       "                        [-0.0682,  0.0769, -0.0479],\n",
       "                        [-0.0211, -0.1049,  0.0705]],\n",
       "              \n",
       "                       [[ 0.0799,  0.0384, -0.0735],\n",
       "                        [-0.1040, -0.0856,  0.0786],\n",
       "                        [ 0.0506,  0.0887,  0.0552]],\n",
       "              \n",
       "                       [[ 0.0267, -0.0010, -0.0802],\n",
       "                        [-0.0903, -0.0986,  0.0432],\n",
       "                        [-0.0518, -0.0212, -0.0607]],\n",
       "              \n",
       "                       [[-0.0192, -0.0742, -0.0689],\n",
       "                        [ 0.0350, -0.0313,  0.0651],\n",
       "                        [-0.0338, -0.0773, -0.0186]],\n",
       "              \n",
       "                       [[-0.0511, -0.0322, -0.1003],\n",
       "                        [ 0.0590, -0.0734,  0.0530],\n",
       "                        [ 0.0478,  0.0753, -0.0809]],\n",
       "              \n",
       "                       [[ 0.0758, -0.0498,  0.0391],\n",
       "                        [ 0.0990, -0.0149, -0.0008],\n",
       "                        [-0.0243, -0.0880,  0.0506]],\n",
       "              \n",
       "                       [[-0.1046,  0.0654,  0.0789],\n",
       "                        [ 0.0997, -0.0249, -0.0866],\n",
       "                        [ 0.0237,  0.0582, -0.1049]]],\n",
       "              \n",
       "              \n",
       "                      [[[-0.0239, -0.0632, -0.0092],\n",
       "                        [-0.0519, -0.0431, -0.0335],\n",
       "                        [-0.1002,  0.0865,  0.0884]],\n",
       "              \n",
       "                       [[-0.0165, -0.0120, -0.0430],\n",
       "                        [-0.0952, -0.1026,  0.0392],\n",
       "                        [-0.0579, -0.0678, -0.0082]],\n",
       "              \n",
       "                       [[-0.0351, -0.0341,  0.0034],\n",
       "                        [-0.0224, -0.0363, -0.0505],\n",
       "                        [-0.0858,  0.0884, -0.0422]],\n",
       "              \n",
       "                       [[ 0.0279, -0.0366,  0.0086],\n",
       "                        [ 0.0983,  0.0486, -0.0913],\n",
       "                        [ 0.0418,  0.1001,  0.0277]],\n",
       "              \n",
       "                       [[ 0.0707,  0.1039, -0.0162],\n",
       "                        [ 0.0219, -0.0733, -0.0217],\n",
       "                        [ 0.0781,  0.0540, -0.0667]],\n",
       "              \n",
       "                       [[-0.0845, -0.0720, -0.1040],\n",
       "                        [-0.0813, -0.0261,  0.0711],\n",
       "                        [ 0.0176, -0.0802, -0.0846]],\n",
       "              \n",
       "                       [[ 0.0524, -0.0784, -0.0130],\n",
       "                        [ 0.0506, -0.0488, -0.0115],\n",
       "                        [-0.0092, -0.0249, -0.0534]],\n",
       "              \n",
       "                       [[-0.0940, -0.0852, -0.0564],\n",
       "                        [ 0.1018, -0.0509, -0.0708],\n",
       "                        [ 0.0256,  0.0291,  0.0578]],\n",
       "              \n",
       "                       [[ 0.0801,  0.0587, -0.1045],\n",
       "                        [ 0.0093,  0.0639, -0.0097],\n",
       "                        [-0.0621,  0.1005, -0.0394]],\n",
       "              \n",
       "                       [[-0.0600, -0.0950,  0.0047],\n",
       "                        [ 0.0467,  0.0233,  0.0208],\n",
       "                        [-0.0799, -0.0984,  0.0019]]],\n",
       "              \n",
       "              \n",
       "                      [[[ 0.0961,  0.0608, -0.0614],\n",
       "                        [-0.0137, -0.0777, -0.0509],\n",
       "                        [ 0.0191,  0.0574,  0.0873]],\n",
       "              \n",
       "                       [[-0.0968,  0.0705, -0.0743],\n",
       "                        [ 0.0395,  0.0892,  0.0015],\n",
       "                        [ 0.0959, -0.0898, -0.0403]],\n",
       "              \n",
       "                       [[ 0.0615, -0.0230, -0.0216],\n",
       "                        [-0.0439,  0.0727,  0.0517],\n",
       "                        [ 0.0338, -0.0592, -0.0856]],\n",
       "              \n",
       "                       [[ 0.0114,  0.0312, -0.0487],\n",
       "                        [-0.0295,  0.0712,  0.0084],\n",
       "                        [ 0.0048, -0.0259, -0.0955]],\n",
       "              \n",
       "                       [[-0.0991, -0.0504, -0.0536],\n",
       "                        [ 0.0328, -0.0307, -0.0412],\n",
       "                        [ 0.1005,  0.0367,  0.0751]],\n",
       "              \n",
       "                       [[-0.0510, -0.0431,  0.0387],\n",
       "                        [-0.0702, -0.0689, -0.0051],\n",
       "                        [-0.0386, -0.0790,  0.0625]],\n",
       "              \n",
       "                       [[ 0.0848,  0.0171, -0.0184],\n",
       "                        [-0.0976, -0.0384,  0.0268],\n",
       "                        [ 0.0497, -0.0133, -0.0417]],\n",
       "              \n",
       "                       [[ 0.0587, -0.0839,  0.0666],\n",
       "                        [-0.0409,  0.0016, -0.0208],\n",
       "                        [ 0.0128, -0.0319,  0.0766]],\n",
       "              \n",
       "                       [[-0.0027,  0.0823,  0.1013],\n",
       "                        [-0.0514, -0.0769,  0.0846],\n",
       "                        [ 0.0826, -0.0805, -0.0081]],\n",
       "              \n",
       "                       [[-0.1039, -0.0863,  0.0204],\n",
       "                        [ 0.0280,  0.0223, -0.0287],\n",
       "                        [ 0.0972,  0.0151, -0.0622]]],\n",
       "              \n",
       "              \n",
       "                      [[[-0.0060,  0.0253,  0.0369],\n",
       "                        [-0.0745,  0.0395, -0.0539],\n",
       "                        [-0.0876, -0.0576,  0.1017]],\n",
       "              \n",
       "                       [[ 0.0901,  0.0944,  0.0619],\n",
       "                        [ 0.0796, -0.0141, -0.0580],\n",
       "                        [ 0.0527, -0.0546, -0.0711]],\n",
       "              \n",
       "                       [[-0.0337,  0.0221,  0.0543],\n",
       "                        [-0.0409, -0.0620,  0.0142],\n",
       "                        [-0.0621, -0.0686,  0.0549]],\n",
       "              \n",
       "                       [[-0.0177,  0.0963,  0.1025],\n",
       "                        [ 0.0315,  0.0363,  0.0243],\n",
       "                        [ 0.0017, -0.0077,  0.0014]],\n",
       "              \n",
       "                       [[ 0.0394,  0.0980, -0.0273],\n",
       "                        [-0.0446, -0.0255, -0.0509],\n",
       "                        [ 0.0179,  0.0787,  0.0824]],\n",
       "              \n",
       "                       [[ 0.0484, -0.0776, -0.0566],\n",
       "                        [-0.0232, -0.0194,  0.0087],\n",
       "                        [-0.0968,  0.0328, -0.0804]],\n",
       "              \n",
       "                       [[-0.0667, -0.0876,  0.0918],\n",
       "                        [-0.0998,  0.0795, -0.0035],\n",
       "                        [-0.0123,  0.0659, -0.0097]],\n",
       "              \n",
       "                       [[ 0.0661,  0.0762, -0.0915],\n",
       "                        [ 0.0406,  0.0199,  0.0227],\n",
       "                        [ 0.0154,  0.0288, -0.0507]],\n",
       "              \n",
       "                       [[-0.0135,  0.1002,  0.0708],\n",
       "                        [-0.0040, -0.0991,  0.0046],\n",
       "                        [-0.0718,  0.0857, -0.0640]],\n",
       "              \n",
       "                       [[-0.0076, -0.0234,  0.0188],\n",
       "                        [ 0.0992,  0.0100,  0.0610],\n",
       "                        [ 0.0818,  0.0851, -0.0364]]],\n",
       "              \n",
       "              \n",
       "                      [[[-0.0236,  0.0508, -0.0288],\n",
       "                        [ 0.0494, -0.0230, -0.0715],\n",
       "                        [ 0.0429,  0.0162,  0.0470]],\n",
       "              \n",
       "                       [[ 0.1047,  0.0720,  0.0999],\n",
       "                        [ 0.0056, -0.0907, -0.0739],\n",
       "                        [-0.0655, -0.0929, -0.0528]],\n",
       "              \n",
       "                       [[-0.0970, -0.0973, -0.0630],\n",
       "                        [-0.1039, -0.0647,  0.0402],\n",
       "                        [ 0.0879, -0.0314, -0.0307]],\n",
       "              \n",
       "                       [[ 0.0563, -0.0520, -0.0498],\n",
       "                        [ 0.0649, -0.0918,  0.0129],\n",
       "                        [ 0.0931,  0.0181,  0.0287]],\n",
       "              \n",
       "                       [[-0.0614, -0.0015,  0.0058],\n",
       "                        [ 0.0259,  0.0410,  0.0916],\n",
       "                        [-0.0805,  0.0032, -0.0527]],\n",
       "              \n",
       "                       [[-0.0834, -0.0084, -0.0928],\n",
       "                        [ 0.0736,  0.0122, -0.0568],\n",
       "                        [ 0.0551, -0.0998, -0.0408]],\n",
       "              \n",
       "                       [[-0.0205, -0.0896, -0.0670],\n",
       "                        [-0.0172,  0.0800,  0.1018],\n",
       "                        [ 0.0671, -0.0629, -0.0690]],\n",
       "              \n",
       "                       [[ 0.0920,  0.0373,  0.0028],\n",
       "                        [ 0.0143, -0.0847, -0.0352],\n",
       "                        [ 0.1015, -0.0260, -0.0053]],\n",
       "              \n",
       "                       [[-0.0875, -0.0590, -0.0022],\n",
       "                        [-0.0655, -0.0131,  0.0429],\n",
       "                        [-0.1031,  0.0313, -0.0697]],\n",
       "              \n",
       "                       [[-0.0514,  0.0405,  0.0838],\n",
       "                        [-0.0288, -0.0433, -0.0953],\n",
       "                        [-0.0544, -0.0923, -0.0241]]],\n",
       "              \n",
       "              \n",
       "                      [[[ 0.0215, -0.0988,  0.0920],\n",
       "                        [ 0.0661, -0.1032, -0.0503],\n",
       "                        [ 0.0344, -0.0217, -0.0115]],\n",
       "              \n",
       "                       [[-0.0476,  0.0847, -0.0589],\n",
       "                        [ 0.0874,  0.0068,  0.0212],\n",
       "                        [ 0.0822, -0.0174, -0.0600]],\n",
       "              \n",
       "                       [[-0.0170,  0.0855, -0.0782],\n",
       "                        [ 0.0239, -0.1036,  0.0553],\n",
       "                        [ 0.0389,  0.0045,  0.0452]],\n",
       "              \n",
       "                       [[ 0.0001,  0.0583, -0.0834],\n",
       "                        [-0.0155,  0.0468,  0.1050],\n",
       "                        [ 0.0537, -0.0767,  0.0811]],\n",
       "              \n",
       "                       [[-0.0235, -0.0225, -0.0958],\n",
       "                        [-0.0166,  0.0746,  0.0147],\n",
       "                        [-0.0614,  0.0324, -0.0338]],\n",
       "              \n",
       "                       [[ 0.0962, -0.0915, -0.0333],\n",
       "                        [-0.1018, -0.0415,  0.0332],\n",
       "                        [ 0.1015,  0.0177,  0.1033]],\n",
       "              \n",
       "                       [[ 0.0206,  0.0609,  0.0845],\n",
       "                        [ 0.0881, -0.0590,  0.0969],\n",
       "                        [ 0.0639, -0.0493, -0.0503]],\n",
       "              \n",
       "                       [[-0.0884,  0.0265, -0.0854],\n",
       "                        [ 0.0445,  0.0333, -0.0916],\n",
       "                        [ 0.0287, -0.0086,  0.0482]],\n",
       "              \n",
       "                       [[ 0.0605, -0.1048,  0.0967],\n",
       "                        [ 0.0884,  0.0419, -0.0963],\n",
       "                        [-0.0377, -0.0305, -0.0271]],\n",
       "              \n",
       "                       [[ 0.0594,  0.0383,  0.0835],\n",
       "                        [-0.0395,  0.0355,  0.0375],\n",
       "                        [-0.0878, -0.1022, -0.0547]]],\n",
       "              \n",
       "              \n",
       "                      [[[ 0.0722, -0.0992, -0.0918],\n",
       "                        [ 0.0591,  0.0569,  0.0867],\n",
       "                        [-0.0796, -0.0771,  0.0541]],\n",
       "              \n",
       "                       [[ 0.0917,  0.0631,  0.0165],\n",
       "                        [ 0.0347,  0.1000, -0.0680],\n",
       "                        [-0.0479,  0.0737, -0.0721]],\n",
       "              \n",
       "                       [[-0.0581,  0.0769,  0.0333],\n",
       "                        [ 0.0341, -0.0447, -0.0015],\n",
       "                        [ 0.0965, -0.0633,  0.0008]],\n",
       "              \n",
       "                       [[ 0.0501, -0.0728,  0.1024],\n",
       "                        [-0.0527, -0.0253, -0.0285],\n",
       "                        [-0.0687, -0.1034,  0.0594]],\n",
       "              \n",
       "                       [[ 0.0280, -0.0987, -0.0678],\n",
       "                        [ 0.1042,  0.0403,  0.0423],\n",
       "                        [-0.0631, -0.0462, -0.0159]],\n",
       "              \n",
       "                       [[-0.0193, -0.0722,  0.0087],\n",
       "                        [ 0.0105, -0.0133,  0.0146],\n",
       "                        [-0.0418,  0.0274,  0.0398]],\n",
       "              \n",
       "                       [[-0.0555, -0.1045,  0.0552],\n",
       "                        [ 0.0251, -0.0536,  0.1016],\n",
       "                        [-0.0477,  0.0712,  0.0535]],\n",
       "              \n",
       "                       [[-0.0884,  0.0680, -0.0969],\n",
       "                        [-0.0584, -0.0176, -0.0711],\n",
       "                        [ 0.1030, -0.0211,  0.0419]],\n",
       "              \n",
       "                       [[-0.0941,  0.0607, -0.0328],\n",
       "                        [-0.0802,  0.0154,  0.0511],\n",
       "                        [ 0.0912, -0.0644, -0.0519]],\n",
       "              \n",
       "                       [[ 0.0203,  0.0286,  0.0405],\n",
       "                        [ 0.0579, -0.0239,  0.0586],\n",
       "                        [ 0.0777, -0.0275,  0.0750]]],\n",
       "              \n",
       "              \n",
       "                      [[[ 0.0515,  0.0930, -0.0599],\n",
       "                        [-0.0521, -0.0305,  0.0053],\n",
       "                        [ 0.0633, -0.0602,  0.0528]],\n",
       "              \n",
       "                       [[-0.0378,  0.0637, -0.0050],\n",
       "                        [-0.0923, -0.0580, -0.0763],\n",
       "                        [ 0.0523, -0.0707, -0.0088]],\n",
       "              \n",
       "                       [[ 0.0227, -0.0578,  0.0304],\n",
       "                        [-0.1029, -0.0754, -0.0955],\n",
       "                        [-0.0319, -0.0384,  0.0151]],\n",
       "              \n",
       "                       [[-0.0195,  0.0496,  0.0966],\n",
       "                        [ 0.0378, -0.0415, -0.0987],\n",
       "                        [ 0.0382, -0.0522,  0.0536]],\n",
       "              \n",
       "                       [[ 0.0705,  0.0407,  0.0989],\n",
       "                        [ 0.1001,  0.0223, -0.0768],\n",
       "                        [ 0.0942, -0.0500, -0.0498]],\n",
       "              \n",
       "                       [[ 0.0882,  0.0817,  0.0318],\n",
       "                        [ 0.0066, -0.0887, -0.0109],\n",
       "                        [ 0.1011,  0.0268,  0.0090]],\n",
       "              \n",
       "                       [[-0.0219, -0.0368,  0.0628],\n",
       "                        [ 0.0065,  0.0686, -0.0187],\n",
       "                        [ 0.0461,  0.0435,  0.0168]],\n",
       "              \n",
       "                       [[ 0.0662,  0.0661,  0.0977],\n",
       "                        [ 0.0810, -0.0270, -0.0892],\n",
       "                        [ 0.0193, -0.0009, -0.0275]],\n",
       "              \n",
       "                       [[-0.0177,  0.0050,  0.0769],\n",
       "                        [ 0.0329, -0.0374, -0.0433],\n",
       "                        [-0.0261, -0.0407,  0.0948]],\n",
       "              \n",
       "                       [[ 0.0558,  0.0952,  0.0003],\n",
       "                        [ 0.0213,  0.0366, -0.0998],\n",
       "                        [ 0.0094, -0.0071, -0.0591]]],\n",
       "              \n",
       "              \n",
       "                      [[[-0.0818,  0.0933,  0.0857],\n",
       "                        [ 0.0489,  0.1006, -0.0428],\n",
       "                        [-0.0182,  0.0399, -0.0174]],\n",
       "              \n",
       "                       [[-0.0207, -0.0871,  0.0283],\n",
       "                        [-0.0637,  0.0038,  0.1028],\n",
       "                        [-0.0324, -0.0332,  0.0636]],\n",
       "              \n",
       "                       [[-0.0388, -0.0091,  0.0984],\n",
       "                        [-0.0432, -0.0754, -0.0590],\n",
       "                        [-0.0292, -0.0500, -0.0547]],\n",
       "              \n",
       "                       [[ 0.0426,  0.0179, -0.0337],\n",
       "                        [-0.0819, -0.0332, -0.0445],\n",
       "                        [-0.0343, -0.0951,  0.0227]],\n",
       "              \n",
       "                       [[-0.0774, -0.0821, -0.0861],\n",
       "                        [ 0.0440, -0.0635, -0.0435],\n",
       "                        [ 0.0826,  0.0560,  0.0604]],\n",
       "              \n",
       "                       [[-0.1001, -0.0756, -0.0398],\n",
       "                        [ 0.0871,  0.0108, -0.0788],\n",
       "                        [ 0.0007, -0.0819, -0.0231]],\n",
       "              \n",
       "                       [[-0.0290,  0.0912,  0.0326],\n",
       "                        [-0.0184,  0.0178, -0.0304],\n",
       "                        [ 0.0414,  0.0417,  0.0283]],\n",
       "              \n",
       "                       [[-0.0411,  0.0899, -0.0152],\n",
       "                        [-0.0410,  0.0660,  0.0859],\n",
       "                        [ 0.1049,  0.0312, -0.0359]],\n",
       "              \n",
       "                       [[ 0.0535,  0.0904, -0.1034],\n",
       "                        [-0.0131, -0.0719,  0.0196],\n",
       "                        [ 0.0436, -0.0218, -0.0088]],\n",
       "              \n",
       "                       [[ 0.0474, -0.0177, -0.0885],\n",
       "                        [ 0.0843, -0.0531, -0.0116],\n",
       "                        [ 0.0099, -0.0063, -0.0992]]]], device='cuda:0')),\n",
       "             ('block_1.2.bias',\n",
       "              tensor([ 0.0484, -0.0479, -0.0547,  0.0252, -0.0550, -0.0487, -0.0355, -0.0396,\n",
       "                      -0.0440, -0.0284], device='cuda:0')),\n",
       "             ('block_2.0.weight',\n",
       "              tensor([[[[ 2.7393e-02, -8.5299e-02, -6.3802e-02],\n",
       "                        [ 1.5381e-03,  1.4659e-02,  5.8217e-02],\n",
       "                        [-7.4044e-02,  3.3646e-02,  5.9914e-02]],\n",
       "              \n",
       "                       [[ 5.8530e-02, -9.8180e-02, -4.0225e-02],\n",
       "                        [-9.0606e-02, -6.6704e-02,  5.8711e-02],\n",
       "                        [-1.5740e-02,  4.4769e-02, -6.1876e-02]],\n",
       "              \n",
       "                       [[ 1.6018e-02, -6.3758e-02,  5.2693e-02],\n",
       "                        [-4.6104e-02, -2.6432e-02, -9.1456e-02],\n",
       "                        [ 3.4823e-04,  1.0008e-01,  5.1163e-02]],\n",
       "              \n",
       "                       [[-5.6240e-02,  1.4176e-03, -1.1558e-02],\n",
       "                        [-8.4862e-02,  8.2650e-02,  1.6993e-03],\n",
       "                        [ 2.2199e-02, -4.2567e-02, -4.9323e-02]],\n",
       "              \n",
       "                       [[ 1.7381e-02,  3.8971e-02,  2.3643e-02],\n",
       "                        [-5.0801e-02,  1.0234e-01, -1.5517e-02],\n",
       "                        [-6.4554e-02, -4.9301e-02,  1.0377e-01]],\n",
       "              \n",
       "                       [[ 5.0738e-06, -1.4309e-02, -4.3867e-02],\n",
       "                        [-2.7633e-02, -8.8779e-02, -8.3767e-02],\n",
       "                        [ 6.1695e-02,  9.0172e-02,  1.0059e-01]],\n",
       "              \n",
       "                       [[-7.6099e-02,  5.7012e-02, -6.5245e-02],\n",
       "                        [ 6.2883e-02,  7.6058e-02,  8.1573e-02],\n",
       "                        [ 7.5900e-02,  6.5941e-02,  2.0517e-03]],\n",
       "              \n",
       "                       [[ 4.8434e-02, -3.7712e-02,  4.5899e-02],\n",
       "                        [-3.3879e-02, -1.7700e-03, -9.1746e-02],\n",
       "                        [-2.7562e-02, -5.5432e-02, -3.5557e-02]],\n",
       "              \n",
       "                       [[-6.7313e-02, -9.4810e-02,  6.8639e-03],\n",
       "                        [ 6.8408e-02,  9.6001e-02,  6.1512e-02],\n",
       "                        [-5.4638e-02, -1.0425e-01,  3.9983e-02]],\n",
       "              \n",
       "                       [[ 5.9062e-02, -9.0495e-02,  3.7798e-02],\n",
       "                        [ 8.9121e-02,  6.3853e-03, -6.3505e-02],\n",
       "                        [ 8.6423e-02,  4.5011e-02,  6.9802e-02]]],\n",
       "              \n",
       "              \n",
       "                      [[[-7.1287e-02,  6.1342e-02, -7.2002e-02],\n",
       "                        [ 1.0430e-01, -4.4662e-02,  6.3516e-02],\n",
       "                        [ 2.1107e-02,  2.7935e-02, -1.6165e-02]],\n",
       "              \n",
       "                       [[ 4.3295e-02, -4.3932e-02, -9.9357e-02],\n",
       "                        [-4.0499e-02,  8.2592e-02, -2.7751e-02],\n",
       "                        [ 3.3132e-02, -3.8973e-02,  7.9073e-02]],\n",
       "              \n",
       "                       [[ 6.3086e-02,  3.7211e-02, -5.3881e-02],\n",
       "                        [-8.6133e-02,  3.9686e-03, -6.1839e-02],\n",
       "                        [ 8.6667e-02, -1.0130e-01,  4.7104e-02]],\n",
       "              \n",
       "                       [[ 1.0508e-01,  5.2792e-02,  3.5942e-02],\n",
       "                        [-1.0142e-01,  1.0139e-01, -1.8030e-02],\n",
       "                        [-9.8495e-02,  1.0406e-01, -4.2894e-02]],\n",
       "              \n",
       "                       [[-7.4575e-03,  9.6479e-02, -7.3070e-02],\n",
       "                        [-7.4576e-02,  1.7141e-02, -1.4109e-02],\n",
       "                        [ 2.4280e-02, -8.8407e-02,  3.1524e-03]],\n",
       "              \n",
       "                       [[-4.6882e-02, -5.1820e-02, -9.6517e-02],\n",
       "                        [ 5.5890e-02,  2.0306e-02, -8.9118e-02],\n",
       "                        [ 8.3648e-02,  3.1794e-02,  1.9560e-02]],\n",
       "              \n",
       "                       [[-6.1890e-02,  1.5896e-02,  1.0157e-01],\n",
       "                        [ 7.2299e-02, -8.2100e-02,  9.6220e-02],\n",
       "                        [ 8.1702e-03,  5.0698e-02,  8.1869e-02]],\n",
       "              \n",
       "                       [[ 8.9862e-02, -8.2170e-02,  9.2303e-02],\n",
       "                        [-7.1591e-02,  7.9021e-03, -7.3656e-02],\n",
       "                        [-2.3109e-02, -4.7901e-03, -1.2611e-02]],\n",
       "              \n",
       "                       [[-1.6652e-02,  8.3137e-03,  1.0398e-01],\n",
       "                        [ 6.1244e-02,  5.8973e-02,  4.2190e-02],\n",
       "                        [ 8.1606e-02, -4.8645e-03,  8.3813e-03]],\n",
       "              \n",
       "                       [[ 2.1693e-02, -9.1931e-02, -8.4913e-02],\n",
       "                        [ 1.2923e-02, -4.1241e-02, -1.9342e-03],\n",
       "                        [-2.4187e-02,  1.6408e-02,  6.8581e-02]]],\n",
       "              \n",
       "              \n",
       "                      [[[-3.4958e-02,  8.4418e-02,  8.3227e-02],\n",
       "                        [-8.0901e-02, -8.1400e-02, -8.5284e-02],\n",
       "                        [-5.7766e-02, -4.1033e-02, -7.9341e-03]],\n",
       "              \n",
       "                       [[-2.5635e-02, -5.3258e-02, -3.3488e-02],\n",
       "                        [-3.8131e-02,  1.0341e-01, -3.9068e-02],\n",
       "                        [-7.5473e-02,  4.3818e-02, -6.0886e-03]],\n",
       "              \n",
       "                       [[ 8.0698e-02,  6.5863e-02,  9.6843e-02],\n",
       "                        [-7.7197e-02,  6.7764e-02,  8.8464e-02],\n",
       "                        [-5.2054e-02,  9.6890e-02,  7.9019e-02]],\n",
       "              \n",
       "                       [[ 1.1544e-03,  5.0823e-02, -3.6853e-02],\n",
       "                        [-9.1936e-02,  2.6645e-02,  3.1425e-02],\n",
       "                        [-6.8891e-02,  5.1123e-02, -9.0043e-02]],\n",
       "              \n",
       "                       [[ 9.0718e-02,  1.0208e-01,  2.8699e-02],\n",
       "                        [-6.6137e-02,  5.1300e-02,  1.7963e-02],\n",
       "                        [ 2.8663e-02,  3.4643e-02,  8.0254e-02]],\n",
       "              \n",
       "                       [[-4.5309e-02, -2.3711e-02,  2.8746e-02],\n",
       "                        [ 1.1486e-02,  8.5000e-02, -5.5365e-02],\n",
       "                        [-3.8387e-03,  1.9696e-02, -2.7996e-02]],\n",
       "              \n",
       "                       [[ 7.1859e-02,  1.1530e-02, -9.7422e-02],\n",
       "                        [-1.1420e-02, -4.7809e-02,  1.0243e-02],\n",
       "                        [-1.2250e-02, -1.0456e-01, -1.9208e-02]],\n",
       "              \n",
       "                       [[-1.0096e-02, -3.1083e-02,  9.6848e-02],\n",
       "                        [-2.3000e-02,  6.7717e-02,  2.6112e-02],\n",
       "                        [-8.8979e-02,  2.4770e-02,  8.7356e-02]],\n",
       "              \n",
       "                       [[-6.8948e-02, -6.8134e-02,  1.0318e-01],\n",
       "                        [ 8.4697e-02, -5.8807e-02,  6.3429e-02],\n",
       "                        [-1.3485e-02, -1.0393e-01,  7.9198e-03]],\n",
       "              \n",
       "                       [[ 3.4057e-02, -3.1619e-02,  3.6670e-02],\n",
       "                        [-9.0136e-02,  7.3050e-02,  8.9865e-02],\n",
       "                        [ 5.8130e-02,  1.7866e-02,  3.4716e-02]]],\n",
       "              \n",
       "              \n",
       "                      [[[-7.6269e-02, -2.6339e-02, -1.0063e-02],\n",
       "                        [-5.8659e-02, -7.7857e-02,  7.0900e-02],\n",
       "                        [ 7.1535e-02, -9.5731e-02,  3.3542e-02]],\n",
       "              \n",
       "                       [[ 4.2881e-02,  1.0014e-01,  6.0985e-02],\n",
       "                        [ 9.6907e-02, -3.4510e-02,  7.3827e-02],\n",
       "                        [ 8.5740e-02, -9.9541e-02, -8.4613e-02]],\n",
       "              \n",
       "                       [[ 2.1335e-02,  5.7557e-02, -5.2369e-02],\n",
       "                        [ 1.1609e-02, -1.5303e-04,  2.6680e-02],\n",
       "                        [-5.6642e-02,  5.9455e-02,  7.0098e-02]],\n",
       "              \n",
       "                       [[-7.3139e-02,  1.0211e-03,  2.9247e-04],\n",
       "                        [ 3.3849e-02,  9.8198e-02,  3.0913e-02],\n",
       "                        [-2.3951e-02,  9.4672e-02, -4.0112e-02]],\n",
       "              \n",
       "                       [[-3.0608e-02,  7.1969e-03, -8.0270e-02],\n",
       "                        [ 1.1470e-02, -7.1518e-02,  1.0838e-02],\n",
       "                        [ 1.0099e-02,  1.4591e-02, -8.8891e-02]],\n",
       "              \n",
       "                       [[-1.0012e-01,  4.8501e-02,  9.0399e-02],\n",
       "                        [-9.3537e-02,  3.9043e-02, -7.7594e-02],\n",
       "                        [ 6.6082e-03,  9.8068e-02,  7.9965e-02]],\n",
       "              \n",
       "                       [[-7.7069e-02,  6.5203e-02,  5.5057e-02],\n",
       "                        [-1.6169e-04,  1.0211e-01, -4.1866e-02],\n",
       "                        [-2.4530e-02, -5.3275e-02,  1.5168e-02]],\n",
       "              \n",
       "                       [[ 2.7911e-02,  8.3990e-03, -5.9307e-02],\n",
       "                        [-4.7452e-02,  3.5855e-02, -9.2426e-02],\n",
       "                        [-1.6416e-02, -2.3350e-03, -4.2708e-02]],\n",
       "              \n",
       "                       [[ 3.8360e-02,  6.7940e-03,  7.4004e-02],\n",
       "                        [-9.3616e-03, -6.6528e-02,  7.4477e-02],\n",
       "                        [ 1.4720e-02, -3.0189e-02, -6.9476e-02]],\n",
       "              \n",
       "                       [[ 2.4707e-02, -1.0053e-01,  2.7762e-02],\n",
       "                        [ 5.2119e-02, -9.2465e-02, -6.9009e-02],\n",
       "                        [-7.5781e-02,  8.8597e-02,  8.9611e-02]]],\n",
       "              \n",
       "              \n",
       "                      [[[ 6.5987e-03,  9.8959e-02, -3.5239e-02],\n",
       "                        [-1.0233e-01,  3.6819e-02,  3.7343e-02],\n",
       "                        [ 1.0334e-01, -3.0510e-05,  8.0785e-02]],\n",
       "              \n",
       "                       [[ 6.4612e-02,  7.6292e-02, -1.0460e-01],\n",
       "                        [ 8.6800e-02, -8.9856e-02,  9.4501e-02],\n",
       "                        [-4.3682e-03, -9.3415e-02,  2.9314e-02]],\n",
       "              \n",
       "                       [[-2.1456e-02, -9.4678e-02, -3.8215e-02],\n",
       "                        [ 1.0868e-02,  8.2098e-02, -3.2406e-02],\n",
       "                        [ 6.2610e-02,  1.3200e-02,  3.5531e-03]],\n",
       "              \n",
       "                       [[ 2.0170e-02, -6.9177e-02, -8.7616e-02],\n",
       "                        [-3.3121e-02, -9.8226e-02, -4.9158e-02],\n",
       "                        [ 4.8494e-03, -6.9424e-02, -4.3723e-02]],\n",
       "              \n",
       "                       [[-1.8941e-02, -1.2144e-02, -5.8187e-02],\n",
       "                        [ 5.0650e-03, -1.4795e-02,  3.0147e-02],\n",
       "                        [ 4.7611e-03, -5.2638e-02, -3.6291e-02]],\n",
       "              \n",
       "                       [[-1.2149e-03, -6.5774e-02,  8.2520e-03],\n",
       "                        [-7.4425e-03,  4.0897e-02,  2.4947e-02],\n",
       "                        [ 7.8887e-02, -3.4749e-03, -7.7887e-02]],\n",
       "              \n",
       "                       [[ 4.7119e-02, -7.1240e-02, -1.4489e-02],\n",
       "                        [-3.4132e-02, -3.9997e-02, -3.9000e-02],\n",
       "                        [ 9.6863e-02,  6.0342e-02,  2.9213e-02]],\n",
       "              \n",
       "                       [[ 9.8975e-02, -9.5524e-02,  1.7010e-02],\n",
       "                        [ 6.7481e-02,  7.0022e-02, -8.3890e-02],\n",
       "                        [ 3.7514e-02, -6.0050e-02, -4.1187e-03]],\n",
       "              \n",
       "                       [[-2.1996e-02, -8.8013e-02, -1.0055e-01],\n",
       "                        [-6.9349e-02,  4.7832e-02,  4.8218e-02],\n",
       "                        [-9.1681e-02, -3.9586e-02,  1.7218e-03]],\n",
       "              \n",
       "                       [[-9.1135e-02,  5.9393e-02,  9.5473e-02],\n",
       "                        [ 1.8643e-02, -7.8321e-02,  2.4580e-02],\n",
       "                        [ 3.8265e-02,  8.3468e-02, -5.6085e-02]]],\n",
       "              \n",
       "              \n",
       "                      [[[-9.4437e-02,  4.6312e-02,  6.5624e-03],\n",
       "                        [-3.4345e-02, -4.4169e-02, -5.4351e-02],\n",
       "                        [ 8.5328e-02, -1.8187e-02,  7.6022e-02]],\n",
       "              \n",
       "                       [[ 9.4094e-02,  1.3353e-02,  2.2454e-02],\n",
       "                        [-7.1789e-03,  7.2397e-02, -9.4983e-02],\n",
       "                        [ 4.1919e-02, -1.7174e-02,  4.8132e-02]],\n",
       "              \n",
       "                       [[-4.6949e-04, -3.9029e-02, -1.1379e-02],\n",
       "                        [ 5.6920e-02, -7.3210e-02, -6.6629e-02],\n",
       "                        [-2.3611e-02, -3.8235e-02,  4.1409e-02]],\n",
       "              \n",
       "                       [[ 7.0937e-02, -1.1289e-02,  9.9672e-02],\n",
       "                        [-4.4042e-02, -5.9151e-02, -4.7191e-02],\n",
       "                        [-7.2624e-02, -7.3885e-02, -9.3921e-02]],\n",
       "              \n",
       "                       [[-9.3422e-02,  2.7512e-02,  6.4284e-02],\n",
       "                        [ 9.8963e-02,  8.9787e-02, -6.0709e-03],\n",
       "                        [ 2.0454e-02, -6.3068e-02,  4.0743e-02]],\n",
       "              \n",
       "                       [[-1.0107e-01,  4.9719e-02,  1.9334e-02],\n",
       "                        [ 3.2393e-02,  3.8595e-02, -4.8394e-02],\n",
       "                        [ 9.0452e-02,  5.0307e-02,  6.9243e-02]],\n",
       "              \n",
       "                       [[ 1.3922e-02,  6.6196e-02,  7.0941e-02],\n",
       "                        [ 4.7775e-02,  8.0297e-02, -1.9119e-02],\n",
       "                        [ 6.9310e-02,  2.4286e-02,  6.3424e-02]],\n",
       "              \n",
       "                       [[ 1.0267e-01,  2.3869e-02, -3.9124e-02],\n",
       "                        [-1.0488e-02,  2.9676e-02,  1.7773e-02],\n",
       "                        [-2.8795e-02,  8.2590e-02,  6.3331e-02]],\n",
       "              \n",
       "                       [[-6.5475e-02, -8.5889e-03, -1.0119e-02],\n",
       "                        [-6.6063e-02,  1.5374e-02, -3.2360e-02],\n",
       "                        [-5.4419e-02, -3.3894e-02, -3.7584e-02]],\n",
       "              \n",
       "                       [[ 1.0084e-01,  4.0432e-02,  1.0373e-01],\n",
       "                        [ 2.8903e-02,  2.3868e-02,  4.3333e-02],\n",
       "                        [ 1.8092e-02, -8.2722e-02, -6.2334e-02]]],\n",
       "              \n",
       "              \n",
       "                      [[[-2.5538e-02,  1.5846e-03,  3.9709e-02],\n",
       "                        [ 4.0588e-02,  8.3623e-02,  2.1458e-02],\n",
       "                        [-3.5975e-02, -7.9271e-02, -7.7203e-02]],\n",
       "              \n",
       "                       [[-6.2965e-02,  3.1792e-02,  5.6950e-02],\n",
       "                        [ 9.2224e-02, -3.3342e-02, -8.3150e-03],\n",
       "                        [-3.1303e-02, -3.8517e-04,  3.3837e-02]],\n",
       "              \n",
       "                       [[-2.3160e-03,  4.8799e-03,  1.3354e-02],\n",
       "                        [ 3.9256e-02, -3.1981e-02, -6.2855e-02],\n",
       "                        [ 2.4869e-02, -1.2481e-02, -4.7753e-02]],\n",
       "              \n",
       "                       [[ 4.4268e-02,  9.5597e-04, -1.5333e-02],\n",
       "                        [-5.1027e-02, -1.3868e-02, -8.9632e-02],\n",
       "                        [ 2.3980e-02,  1.5818e-03,  6.3966e-02]],\n",
       "              \n",
       "                       [[ 6.8063e-03,  8.4277e-03,  2.8715e-02],\n",
       "                        [ 8.0210e-02, -4.9812e-02,  6.2930e-02],\n",
       "                        [ 2.5779e-02, -7.0320e-02,  3.6702e-02]],\n",
       "              \n",
       "                       [[-6.3217e-02, -3.3181e-02, -5.0245e-02],\n",
       "                        [-7.1711e-02,  8.3017e-02, -9.4217e-02],\n",
       "                        [ 5.2706e-02, -9.4870e-02, -1.2829e-02]],\n",
       "              \n",
       "                       [[ 6.2868e-03,  7.4937e-02, -3.8147e-02],\n",
       "                        [ 3.0340e-02,  1.6329e-02,  6.2021e-02],\n",
       "                        [ 6.2668e-03,  3.9470e-02, -6.3677e-02]],\n",
       "              \n",
       "                       [[-7.3250e-02,  9.3928e-02, -7.6808e-02],\n",
       "                        [-1.7945e-02, -1.2742e-02,  1.0308e-01],\n",
       "                        [-2.2780e-02, -8.0249e-02, -2.6721e-02]],\n",
       "              \n",
       "                       [[ 5.4372e-02,  4.1773e-02,  8.7204e-02],\n",
       "                        [-2.1579e-02,  4.9653e-02, -9.9194e-02],\n",
       "                        [ 4.0787e-02,  4.8432e-02,  6.7998e-02]],\n",
       "              \n",
       "                       [[-6.0446e-02, -2.8142e-02,  2.5502e-02],\n",
       "                        [-7.4905e-02, -8.3851e-02, -1.0141e-01],\n",
       "                        [ 5.8842e-03,  6.5458e-02,  2.7075e-02]]],\n",
       "              \n",
       "              \n",
       "                      [[[ 6.4263e-03,  3.6727e-02, -6.6240e-02],\n",
       "                        [ 1.1113e-02, -2.6186e-02, -5.2193e-02],\n",
       "                        [ 9.0902e-02, -8.1550e-02,  1.5448e-02]],\n",
       "              \n",
       "                       [[-9.2624e-02, -3.5762e-03, -4.6840e-02],\n",
       "                        [ 3.4695e-02, -5.9191e-02,  6.7466e-02],\n",
       "                        [-8.5536e-02,  6.3313e-02, -7.9181e-02]],\n",
       "              \n",
       "                       [[ 5.6456e-02, -4.4384e-02, -2.4556e-04],\n",
       "                        [-1.9238e-02,  6.8414e-02,  3.4546e-02],\n",
       "                        [-9.2887e-02,  9.6914e-03, -7.2718e-02]],\n",
       "              \n",
       "                       [[ 7.8800e-02,  1.7319e-02, -2.7109e-02],\n",
       "                        [-5.3777e-02,  3.6485e-02, -6.3129e-02],\n",
       "                        [ 4.9992e-02,  5.7519e-02,  6.4701e-02]],\n",
       "              \n",
       "                       [[ 2.7537e-02, -9.2272e-02,  7.5823e-02],\n",
       "                        [-3.2700e-02, -3.1163e-02, -1.1325e-02],\n",
       "                        [ 7.7068e-02,  8.1052e-02,  1.6276e-02]],\n",
       "              \n",
       "                       [[ 5.0296e-02, -9.8241e-02,  2.4901e-04],\n",
       "                        [-9.3254e-02,  3.5876e-02, -7.5099e-02],\n",
       "                        [-3.7568e-02,  7.3684e-02,  1.0074e-01]],\n",
       "              \n",
       "                       [[-6.3286e-02, -5.8503e-02,  1.3055e-02],\n",
       "                        [ 4.1437e-02, -1.7168e-02, -3.2918e-02],\n",
       "                        [-6.9237e-02,  4.4997e-02,  1.0328e-01]],\n",
       "              \n",
       "                       [[-5.1026e-02,  4.9718e-02,  5.1481e-02],\n",
       "                        [ 8.4728e-02, -1.2001e-02,  3.3202e-03],\n",
       "                        [ 7.7444e-02,  6.6631e-02,  1.0411e-01]],\n",
       "              \n",
       "                       [[-3.0207e-02,  4.1709e-02,  7.3605e-02],\n",
       "                        [-7.1553e-02,  2.0940e-02, -2.3586e-02],\n",
       "                        [ 6.7760e-02, -4.7342e-02,  7.3933e-03]],\n",
       "              \n",
       "                       [[ 6.3067e-02, -9.6567e-02, -8.9004e-02],\n",
       "                        [-5.3989e-02,  6.7611e-02,  7.0680e-02],\n",
       "                        [-7.1991e-02,  2.0100e-02, -5.5854e-02]]],\n",
       "              \n",
       "              \n",
       "                      [[[-4.8926e-02,  9.0907e-02,  5.0914e-02],\n",
       "                        [-2.8828e-02,  1.5516e-02,  2.0424e-02],\n",
       "                        [ 2.4691e-02, -3.6079e-02, -6.2074e-02]],\n",
       "              \n",
       "                       [[ 6.9788e-02,  1.4164e-02,  4.4119e-02],\n",
       "                        [-3.9922e-02,  5.1057e-02,  7.6713e-02],\n",
       "                        [ 6.4107e-02,  2.8660e-02,  1.0371e-01]],\n",
       "              \n",
       "                       [[-2.3053e-04,  2.2441e-02,  1.0015e-01],\n",
       "                        [ 1.0245e-01, -4.4506e-02,  9.4953e-02],\n",
       "                        [ 3.8902e-02, -1.1799e-02,  9.2038e-02]],\n",
       "              \n",
       "                       [[-5.4605e-02,  6.8490e-02,  1.0445e-01],\n",
       "                        [-7.2701e-02, -6.2201e-02, -1.0445e-01],\n",
       "                        [-1.8970e-02, -9.5733e-02, -3.5304e-02]],\n",
       "              \n",
       "                       [[ 3.2002e-02,  7.4511e-02,  5.8717e-02],\n",
       "                        [ 5.8511e-02,  4.3730e-02, -6.5378e-02],\n",
       "                        [-8.3694e-02,  4.3696e-03,  1.0009e-01]],\n",
       "              \n",
       "                       [[ 5.9351e-03, -9.0662e-03, -7.1545e-02],\n",
       "                        [-5.2266e-02, -8.1256e-02,  8.4398e-02],\n",
       "                        [-1.7174e-02, -9.3119e-02,  1.1308e-02]],\n",
       "              \n",
       "                       [[ 7.6494e-03, -1.3023e-02,  3.7733e-02],\n",
       "                        [ 5.6687e-02, -9.9128e-02, -8.0753e-02],\n",
       "                        [-5.0639e-03, -9.7729e-02, -9.5750e-02]],\n",
       "              \n",
       "                       [[ 9.3067e-02, -8.0174e-03, -5.2113e-02],\n",
       "                        [-3.6157e-02, -8.2295e-02,  8.2258e-02],\n",
       "                        [-2.2857e-02, -5.9265e-02, -7.9944e-02]],\n",
       "              \n",
       "                       [[ 6.1611e-02, -1.4571e-02, -1.1074e-02],\n",
       "                        [-2.7473e-02, -5.0883e-02,  1.8751e-02],\n",
       "                        [ 8.1099e-02, -6.1093e-02,  5.0504e-03]],\n",
       "              \n",
       "                       [[-8.0165e-02, -4.9426e-02,  9.2525e-02],\n",
       "                        [ 1.1052e-03,  1.0154e-01, -1.8468e-02],\n",
       "                        [-5.7453e-02, -6.2981e-02,  9.3426e-02]]],\n",
       "              \n",
       "              \n",
       "                      [[[-8.1058e-02,  5.5318e-02,  2.6203e-02],\n",
       "                        [ 3.1107e-02,  5.9476e-02, -2.7577e-02],\n",
       "                        [ 6.5223e-02, -8.3982e-02, -3.7087e-02]],\n",
       "              \n",
       "                       [[ 7.7164e-02,  3.1283e-02, -1.4038e-02],\n",
       "                        [-2.4616e-02, -6.4364e-02,  6.4098e-02],\n",
       "                        [-3.3520e-03, -3.5664e-03,  2.4929e-02]],\n",
       "              \n",
       "                       [[ 7.7787e-02, -5.3778e-02, -3.6303e-02],\n",
       "                        [ 7.1429e-02,  5.9532e-02, -5.1855e-02],\n",
       "                        [-1.0428e-01,  1.9555e-02,  5.5434e-02]],\n",
       "              \n",
       "                       [[ 2.5178e-02,  7.4768e-02, -8.3640e-02],\n",
       "                        [ 5.3156e-02, -6.5531e-02,  5.9325e-02],\n",
       "                        [ 7.8394e-02,  3.3385e-02,  8.5284e-02]],\n",
       "              \n",
       "                       [[-6.9481e-02, -9.4275e-02, -1.0135e-01],\n",
       "                        [ 6.6179e-02,  3.6926e-02, -7.7188e-02],\n",
       "                        [ 5.1048e-02,  9.6177e-02, -1.0394e-01]],\n",
       "              \n",
       "                       [[ 7.6466e-02,  1.6167e-02,  9.8053e-03],\n",
       "                        [ 9.4847e-02,  9.5458e-02,  4.4414e-02],\n",
       "                        [ 8.3288e-02,  4.3853e-02,  1.7176e-02]],\n",
       "              \n",
       "                       [[-9.2656e-02,  1.9689e-02, -7.4993e-02],\n",
       "                        [ 3.2452e-02,  1.8598e-02,  2.3681e-03],\n",
       "                        [-7.2071e-02, -6.3899e-02,  7.7912e-02]],\n",
       "              \n",
       "                       [[ 5.1336e-02,  5.5576e-02, -3.1410e-02],\n",
       "                        [-1.8151e-02, -2.7014e-02,  7.2489e-02],\n",
       "                        [-4.5504e-02,  6.6394e-02,  7.2679e-02]],\n",
       "              \n",
       "                       [[-9.6403e-02,  6.4369e-04, -2.0076e-02],\n",
       "                        [-5.8273e-02,  4.5507e-02, -1.2807e-02],\n",
       "                        [ 9.2287e-02, -6.5976e-02,  4.8976e-02]],\n",
       "              \n",
       "                       [[-8.9998e-02, -5.2833e-02,  7.1903e-03],\n",
       "                        [ 8.3283e-02,  5.5521e-02, -8.6550e-02],\n",
       "                        [ 1.1676e-02, -6.2138e-02,  4.5674e-03]]]], device='cuda:0')),\n",
       "             ('block_2.0.bias',\n",
       "              tensor([-0.0878, -0.0309,  0.0723, -0.0967, -0.1005,  0.0192,  0.0144, -0.0193,\n",
       "                       0.0920, -0.0635], device='cuda:0')),\n",
       "             ('block_2.2.weight',\n",
       "              tensor([[[[-6.3992e-02, -7.8791e-02, -1.9619e-02],\n",
       "                        [-2.6901e-02,  6.5222e-02, -5.9186e-03],\n",
       "                        [ 3.3663e-02, -4.3804e-02,  8.5507e-02]],\n",
       "              \n",
       "                       [[ 8.8862e-02, -9.4401e-02, -2.7090e-02],\n",
       "                        [-8.9439e-02,  4.4781e-02, -9.2094e-02],\n",
       "                        [-4.9839e-02,  1.0532e-01, -1.0066e-01]],\n",
       "              \n",
       "                       [[ 7.7771e-02,  8.9049e-03,  8.4289e-02],\n",
       "                        [-5.3494e-02,  6.9236e-02,  1.2718e-02],\n",
       "                        [ 8.1073e-03,  7.1945e-02, -1.0019e-01]],\n",
       "              \n",
       "                       [[-8.4902e-02,  1.0180e-01, -6.3298e-02],\n",
       "                        [-7.5980e-02, -5.1539e-03, -3.3742e-02],\n",
       "                        [-1.4421e-02, -7.0623e-02,  3.8034e-02]],\n",
       "              \n",
       "                       [[-9.0703e-02,  8.5374e-03,  6.1510e-02],\n",
       "                        [ 2.0253e-02,  1.4006e-02,  1.5418e-02],\n",
       "                        [-3.0880e-02, -2.0080e-02, -4.4450e-02]],\n",
       "              \n",
       "                       [[-7.1207e-02, -5.5810e-02,  1.0420e-01],\n",
       "                        [-1.7641e-02,  3.6924e-02,  7.2896e-02],\n",
       "                        [-8.2343e-03, -5.6707e-02, -7.1419e-02]],\n",
       "              \n",
       "                       [[-3.8833e-02,  3.7624e-02, -8.8771e-02],\n",
       "                        [-1.2870e-02,  4.0096e-02,  8.5999e-02],\n",
       "                        [ 3.1721e-02,  2.0846e-02,  7.2162e-02]],\n",
       "              \n",
       "                       [[ 4.8708e-02,  3.5661e-02, -3.2682e-02],\n",
       "                        [-8.4528e-02, -2.2769e-02, -1.9117e-02],\n",
       "                        [ 7.7410e-03, -1.1593e-02,  4.2616e-02]],\n",
       "              \n",
       "                       [[ 7.0050e-02, -4.2735e-02, -1.0002e-01],\n",
       "                        [-5.4081e-02, -5.0436e-02,  5.9750e-02],\n",
       "                        [-6.7994e-02, -9.9145e-03, -2.2340e-02]],\n",
       "              \n",
       "                       [[-6.3976e-02,  4.7780e-02, -4.3909e-02],\n",
       "                        [-5.4531e-03, -7.4112e-02, -1.0632e-02],\n",
       "                        [ 1.4977e-02, -4.2894e-03, -3.9386e-02]]],\n",
       "              \n",
       "              \n",
       "                      [[[ 3.1315e-02, -2.7311e-02, -5.8439e-02],\n",
       "                        [-7.7732e-02, -2.2329e-02, -9.9578e-02],\n",
       "                        [ 8.7492e-02, -5.0357e-02, -4.3684e-02]],\n",
       "              \n",
       "                       [[ 9.7439e-03,  2.7326e-02, -9.9393e-03],\n",
       "                        [ 7.2313e-02, -6.1448e-02,  3.7777e-02],\n",
       "                        [-2.3773e-04, -8.5747e-02, -4.0824e-02]],\n",
       "              \n",
       "                       [[ 2.6825e-02,  2.0138e-02,  7.6647e-02],\n",
       "                        [ 7.0518e-02, -5.7493e-02, -4.5013e-02],\n",
       "                        [-2.2351e-02, -7.5517e-02, -2.8459e-02]],\n",
       "              \n",
       "                       [[-8.6258e-02,  4.0092e-02,  7.4583e-02],\n",
       "                        [ 8.3459e-03, -7.5460e-02, -7.9827e-02],\n",
       "                        [-4.1036e-02,  3.0659e-02,  2.5711e-03]],\n",
       "              \n",
       "                       [[ 1.9166e-02,  9.9346e-02,  4.8956e-02],\n",
       "                        [ 2.2665e-02, -2.1327e-02,  4.9864e-02],\n",
       "                        [ 3.8563e-02, -9.4879e-02, -6.2266e-02]],\n",
       "              \n",
       "                       [[ 3.5381e-03,  3.9997e-02,  5.1282e-02],\n",
       "                        [-6.2748e-02, -1.0458e-01, -5.4909e-03],\n",
       "                        [-1.2050e-02,  3.0588e-02, -2.8988e-02]],\n",
       "              \n",
       "                       [[ 8.0588e-02,  7.0333e-03,  7.6975e-02],\n",
       "                        [-7.3398e-02,  4.2167e-02,  1.2560e-02],\n",
       "                        [-5.2720e-02,  5.2256e-02, -1.0372e-01]],\n",
       "              \n",
       "                       [[ 8.5220e-02,  8.4947e-03,  1.0178e-02],\n",
       "                        [ 4.8746e-02,  8.7503e-03,  4.5184e-02],\n",
       "                        [ 6.7063e-02, -8.2268e-02,  6.9735e-02]],\n",
       "              \n",
       "                       [[-1.5784e-02, -2.4513e-02,  2.1217e-02],\n",
       "                        [ 8.2446e-02, -5.7302e-02, -7.1039e-02],\n",
       "                        [ 6.5418e-02, -4.9507e-02,  3.3937e-02]],\n",
       "              \n",
       "                       [[-1.5530e-02,  2.9014e-02,  8.0439e-02],\n",
       "                        [-5.3421e-02, -5.1151e-02,  5.1716e-02],\n",
       "                        [ 5.7714e-03, -1.1601e-02, -9.2590e-02]]],\n",
       "              \n",
       "              \n",
       "                      [[[ 8.9309e-02, -3.9919e-03, -1.9415e-02],\n",
       "                        [-4.3269e-02, -2.0801e-02,  5.1233e-02],\n",
       "                        [-2.4227e-03,  9.0147e-02, -6.0858e-03]],\n",
       "              \n",
       "                       [[-1.5122e-02,  5.9498e-02, -2.7275e-03],\n",
       "                        [-2.1039e-02,  3.5231e-02,  8.3129e-02],\n",
       "                        [ 2.6305e-02,  7.3398e-02,  6.8309e-02]],\n",
       "              \n",
       "                       [[ 2.9810e-02,  3.6650e-02,  3.4014e-02],\n",
       "                        [ 1.0934e-02,  8.9675e-02,  9.7308e-02],\n",
       "                        [ 3.7524e-02, -5.2640e-03,  9.4509e-02]],\n",
       "              \n",
       "                       [[-8.2042e-02,  7.7453e-02,  5.5849e-02],\n",
       "                        [ 6.7687e-02, -8.0992e-03, -7.8646e-02],\n",
       "                        [ 7.5193e-02, -4.6091e-02,  2.7734e-02]],\n",
       "              \n",
       "                       [[ 5.9719e-02, -9.8508e-02,  6.9954e-03],\n",
       "                        [-3.7444e-02,  7.4815e-02, -6.7114e-02],\n",
       "                        [ 6.4001e-02,  6.5730e-02,  5.8156e-02]],\n",
       "              \n",
       "                       [[ 1.0119e-01,  1.5964e-02, -9.5541e-02],\n",
       "                        [ 7.5248e-02,  9.6499e-03,  2.0918e-03],\n",
       "                        [-1.0041e-01, -2.3691e-02, -5.1162e-02]],\n",
       "              \n",
       "                       [[ 1.0324e-01,  7.5054e-02,  7.8634e-02],\n",
       "                        [ 7.2188e-02, -6.5340e-02, -4.5270e-02],\n",
       "                        [-4.1252e-02, -4.2257e-02,  8.2054e-02]],\n",
       "              \n",
       "                       [[ 3.5815e-02,  8.4470e-02, -4.9309e-03],\n",
       "                        [-9.3965e-02, -3.0582e-02,  7.4081e-02],\n",
       "                        [ 6.4174e-02,  3.2632e-02, -3.0919e-02]],\n",
       "              \n",
       "                       [[-9.8386e-02, -5.6639e-02,  5.4958e-02],\n",
       "                        [-4.2518e-02,  5.0421e-02,  2.8781e-02],\n",
       "                        [-4.0486e-02,  6.4202e-02, -3.3871e-02]],\n",
       "              \n",
       "                       [[-3.5020e-03, -4.0152e-02, -9.9988e-02],\n",
       "                        [ 1.6996e-02,  3.0460e-02, -5.3072e-02],\n",
       "                        [ 6.4663e-02, -9.4558e-02, -1.0161e-01]]],\n",
       "              \n",
       "              \n",
       "                      [[[-6.5106e-02, -3.6430e-02, -1.1707e-02],\n",
       "                        [-2.0370e-02,  4.8108e-02, -9.2510e-02],\n",
       "                        [ 1.5521e-02,  1.8254e-03,  2.7842e-02]],\n",
       "              \n",
       "                       [[ 1.0479e-01,  6.4874e-02, -5.8366e-02],\n",
       "                        [-8.6378e-02, -2.5520e-02, -5.2876e-02],\n",
       "                        [ 3.6820e-02,  9.6628e-04,  8.4783e-02]],\n",
       "              \n",
       "                       [[ 4.1405e-02, -1.9382e-02,  3.6229e-03],\n",
       "                        [ 2.5244e-02, -1.3080e-02,  8.5058e-02],\n",
       "                        [-8.2420e-02,  5.1377e-02, -6.7192e-02]],\n",
       "              \n",
       "                       [[-9.2347e-02, -2.1640e-02,  5.1366e-02],\n",
       "                        [ 7.4478e-02,  2.6452e-02, -9.1104e-03],\n",
       "                        [-5.9092e-03, -4.2731e-02, -9.4592e-03]],\n",
       "              \n",
       "                       [[-7.2831e-03,  8.9699e-02,  6.1690e-02],\n",
       "                        [-8.4351e-02,  4.3605e-04, -6.4834e-02],\n",
       "                        [-1.6733e-02, -8.3776e-02,  2.7402e-02]],\n",
       "              \n",
       "                       [[-7.6008e-02,  1.0406e-01,  7.9605e-02],\n",
       "                        [-7.2559e-02, -9.9239e-02,  4.1128e-03],\n",
       "                        [-2.9425e-02,  3.0945e-02, -7.1353e-02]],\n",
       "              \n",
       "                       [[ 4.3148e-02, -9.1047e-02, -5.5632e-02],\n",
       "                        [-5.5414e-02,  5.1007e-02, -2.7597e-03],\n",
       "                        [-1.0130e-01, -6.0201e-02, -4.8781e-02]],\n",
       "              \n",
       "                       [[-9.7802e-02,  1.3497e-02,  3.7561e-02],\n",
       "                        [-1.9340e-02, -4.1947e-02, -6.3926e-04],\n",
       "                        [-8.3725e-02, -6.4184e-02, -2.4040e-03]],\n",
       "              \n",
       "                       [[ 9.3643e-02, -3.2414e-02,  5.2247e-02],\n",
       "                        [-4.1484e-02, -2.8060e-02, -1.0034e-01],\n",
       "                        [ 8.7330e-02,  1.0264e-01, -2.2139e-03]],\n",
       "              \n",
       "                       [[ 6.6974e-02,  8.6219e-02,  5.2359e-02],\n",
       "                        [ 5.4288e-02, -1.0035e-01, -9.9050e-02],\n",
       "                        [-8.0906e-02,  3.2970e-02, -9.1177e-02]]],\n",
       "              \n",
       "              \n",
       "                      [[[-8.0464e-02, -5.1092e-02, -9.7154e-02],\n",
       "                        [ 1.4203e-04,  1.5207e-02, -6.1686e-02],\n",
       "                        [ 6.9018e-02, -4.0018e-02, -2.9676e-02]],\n",
       "              \n",
       "                       [[ 8.0309e-02,  9.0499e-02, -1.2093e-02],\n",
       "                        [-7.5671e-02, -5.2881e-02,  1.3423e-02],\n",
       "                        [ 6.1790e-02,  5.2477e-02, -4.6547e-02]],\n",
       "              \n",
       "                       [[-9.9650e-02, -9.2249e-02, -3.3537e-02],\n",
       "                        [ 1.3223e-03, -4.7347e-02, -8.3348e-02],\n",
       "                        [ 1.1109e-02, -8.3668e-02, -8.0946e-02]],\n",
       "              \n",
       "                       [[-8.5692e-02, -2.8563e-02,  9.3104e-02],\n",
       "                        [ 4.1207e-02, -1.2498e-02,  2.1694e-02],\n",
       "                        [ 4.1975e-02,  6.1414e-04, -8.5020e-02]],\n",
       "              \n",
       "                       [[-6.4944e-02, -7.1610e-02, -2.6766e-03],\n",
       "                        [-9.6492e-02, -1.9166e-02, -3.8545e-02],\n",
       "                        [ 1.0345e-01,  8.5679e-02,  6.1227e-02]],\n",
       "              \n",
       "                       [[ 5.9116e-03, -3.4129e-02,  2.6887e-02],\n",
       "                        [-7.2830e-02, -4.4957e-02, -2.1175e-02],\n",
       "                        [-2.4766e-02, -9.9854e-02,  4.1903e-02]],\n",
       "              \n",
       "                       [[ 8.6803e-02, -5.8141e-02,  2.8415e-02],\n",
       "                        [-1.2225e-02, -3.8445e-03,  6.1443e-03],\n",
       "                        [ 9.1346e-02,  1.4124e-02, -6.6690e-02]],\n",
       "              \n",
       "                       [[-3.7917e-02,  5.1495e-02,  3.2893e-02],\n",
       "                        [ 2.0487e-03, -1.3912e-02, -4.1012e-02],\n",
       "                        [-3.7413e-02, -5.5602e-02,  1.7273e-02]],\n",
       "              \n",
       "                       [[ 2.9603e-02,  8.0717e-02, -2.3813e-02],\n",
       "                        [ 7.5461e-03,  6.8125e-02,  4.5852e-02],\n",
       "                        [ 1.3544e-02,  3.2390e-02,  5.4714e-03]],\n",
       "              \n",
       "                       [[-9.0419e-02,  4.0636e-03, -2.3040e-02],\n",
       "                        [ 9.5123e-02,  9.5145e-02,  2.0912e-02],\n",
       "                        [ 9.4215e-02, -5.4288e-02,  9.1619e-02]]],\n",
       "              \n",
       "              \n",
       "                      [[[ 9.0756e-02, -4.0288e-03, -8.4592e-02],\n",
       "                        [-3.4015e-02, -2.8189e-02,  1.7411e-03],\n",
       "                        [-9.5569e-02,  1.9535e-02, -4.3839e-02]],\n",
       "              \n",
       "                       [[-2.6989e-02, -5.4443e-02, -2.2255e-02],\n",
       "                        [-9.7896e-02, -5.5885e-02,  9.7108e-03],\n",
       "                        [ 6.9072e-02,  9.5790e-02, -7.9737e-02]],\n",
       "              \n",
       "                       [[ 4.4264e-02, -5.9419e-02, -8.1498e-02],\n",
       "                        [-4.6417e-03, -6.0468e-02, -9.0783e-02],\n",
       "                        [-9.8509e-02, -7.0556e-02,  8.6619e-02]],\n",
       "              \n",
       "                       [[ 5.8788e-02, -4.1726e-02, -7.0553e-02],\n",
       "                        [-8.1085e-02, -6.2246e-02, -4.3376e-02],\n",
       "                        [ 6.3308e-02,  3.4496e-02, -4.0622e-02]],\n",
       "              \n",
       "                       [[ 7.2567e-02, -6.5484e-02, -8.5876e-02],\n",
       "                        [ 2.3006e-02, -5.8123e-02,  2.9987e-02],\n",
       "                        [ 8.9306e-02, -4.9849e-02, -7.3556e-02]],\n",
       "              \n",
       "                       [[ 3.9676e-02, -9.5200e-02,  9.4044e-02],\n",
       "                        [-4.9780e-02,  5.0961e-02, -8.3818e-02],\n",
       "                        [-7.1348e-02,  1.1611e-02,  3.7463e-02]],\n",
       "              \n",
       "                       [[ 8.1734e-02,  8.8158e-02, -6.0623e-03],\n",
       "                        [-1.3552e-02,  1.7424e-02, -2.4486e-02],\n",
       "                        [ 3.5882e-03, -9.9828e-02, -8.6531e-02]],\n",
       "              \n",
       "                       [[ 7.2233e-02, -6.1597e-02,  8.3008e-02],\n",
       "                        [ 1.1568e-02,  2.5676e-02,  9.5804e-02],\n",
       "                        [-5.8628e-02, -1.6640e-02,  1.8675e-02]],\n",
       "              \n",
       "                       [[ 3.6012e-02, -1.0259e-01,  3.7464e-02],\n",
       "                        [-6.2163e-02,  1.3846e-02,  7.1315e-02],\n",
       "                        [-1.0500e-02, -3.3346e-03, -7.8757e-03]],\n",
       "              \n",
       "                       [[ 8.7962e-02,  5.9907e-02,  1.7727e-02],\n",
       "                        [-6.3437e-02, -5.7241e-02,  8.3964e-02],\n",
       "                        [ 7.5834e-02,  6.1033e-02, -8.2189e-02]]],\n",
       "              \n",
       "              \n",
       "                      [[[ 8.2092e-02, -1.0076e-02,  7.7661e-02],\n",
       "                        [ 9.1553e-02,  1.1554e-02, -4.3863e-02],\n",
       "                        [ 9.9153e-02, -5.4931e-02,  6.8876e-02]],\n",
       "              \n",
       "                       [[-1.0108e-01, -3.3153e-02, -9.1902e-02],\n",
       "                        [-4.7284e-02,  4.4759e-02, -7.5529e-02],\n",
       "                        [-9.1158e-02,  7.5371e-02,  5.6270e-02]],\n",
       "              \n",
       "                       [[-1.1527e-03, -7.4309e-02, -2.7927e-02],\n",
       "                        [-3.4129e-02,  6.5100e-02, -3.4478e-02],\n",
       "                        [-3.0360e-02, -7.4720e-02, -4.9646e-02]],\n",
       "              \n",
       "                       [[ 5.7074e-02,  6.7914e-02,  1.5315e-02],\n",
       "                        [-3.9549e-02,  1.0124e-01,  2.0806e-02],\n",
       "                        [-4.0688e-02, -3.6535e-02, -1.4752e-02]],\n",
       "              \n",
       "                       [[ 4.9974e-02,  3.8555e-02,  7.6418e-02],\n",
       "                        [-4.7494e-03,  8.7183e-02, -4.2816e-02],\n",
       "                        [-4.8547e-02, -3.8927e-02, -9.8896e-02]],\n",
       "              \n",
       "                       [[-6.9195e-02, -9.5382e-02, -6.2294e-03],\n",
       "                        [ 9.9374e-04, -2.7358e-02, -7.2035e-02],\n",
       "                        [ 9.5637e-02, -3.4926e-02,  5.0233e-02]],\n",
       "              \n",
       "                       [[ 7.3408e-02, -6.9292e-02, -1.3179e-02],\n",
       "                        [ 6.0923e-02,  1.0218e-01, -1.3299e-02],\n",
       "                        [ 7.6382e-02, -8.2732e-02, -6.8489e-02]],\n",
       "              \n",
       "                       [[ 8.6682e-02, -9.9801e-03,  1.0414e-01],\n",
       "                        [ 7.6651e-03, -4.3714e-02,  1.0011e-01],\n",
       "                        [ 9.2179e-02,  9.7826e-03, -6.3900e-02]],\n",
       "              \n",
       "                       [[-4.5639e-03, -5.0693e-02,  7.6810e-02],\n",
       "                        [ 4.8829e-03,  2.2191e-02,  6.3927e-02],\n",
       "                        [ 3.4916e-02, -6.5803e-02,  8.7566e-02]],\n",
       "              \n",
       "                       [[ 6.4758e-02, -6.5073e-02,  7.9700e-02],\n",
       "                        [ 2.9905e-02, -2.0750e-02, -7.5385e-02],\n",
       "                        [-1.7490e-02, -1.0335e-01,  6.0163e-02]]],\n",
       "              \n",
       "              \n",
       "                      [[[ 7.6343e-02, -3.0347e-02,  9.7720e-02],\n",
       "                        [-3.9032e-02,  1.8051e-02, -7.3459e-02],\n",
       "                        [-4.4565e-03,  4.2610e-02,  4.5403e-02]],\n",
       "              \n",
       "                       [[-3.5346e-03, -5.3154e-02,  7.3680e-02],\n",
       "                        [ 6.9788e-02,  1.6916e-02, -4.8475e-02],\n",
       "                        [ 2.2349e-02,  2.8186e-04,  9.6302e-02]],\n",
       "              \n",
       "                       [[ 1.5621e-02,  8.1301e-03,  7.2057e-03],\n",
       "                        [ 5.6079e-02, -1.3024e-03,  9.0351e-02],\n",
       "                        [ 5.4917e-02, -7.9650e-02, -1.2070e-06]],\n",
       "              \n",
       "                       [[-8.9472e-02, -8.0934e-02,  2.0480e-02],\n",
       "                        [ 2.3687e-02, -9.2246e-03,  1.0019e-01],\n",
       "                        [-5.6627e-02, -4.4176e-02, -1.6881e-02]],\n",
       "              \n",
       "                       [[ 6.3911e-04, -8.9284e-03,  9.4909e-02],\n",
       "                        [-4.4519e-02, -5.5137e-02,  9.0599e-03],\n",
       "                        [ 7.9171e-02,  2.5019e-02,  5.6787e-02]],\n",
       "              \n",
       "                       [[ 2.0406e-02,  8.9839e-02,  6.3311e-02],\n",
       "                        [ 7.5428e-02, -1.4198e-02, -8.7268e-02],\n",
       "                        [-5.0002e-02,  3.5910e-02,  7.3950e-02]],\n",
       "              \n",
       "                       [[-4.1184e-02,  8.7218e-02,  1.5150e-02],\n",
       "                        [ 4.1869e-04,  4.1093e-03, -1.8623e-02],\n",
       "                        [ 9.8683e-02,  4.5784e-03,  6.4564e-02]],\n",
       "              \n",
       "                       [[-8.8967e-02, -5.4309e-02,  1.1852e-02],\n",
       "                        [ 8.4169e-02,  5.0184e-02,  2.0076e-02],\n",
       "                        [-1.0414e-01,  1.9816e-03, -6.9581e-02]],\n",
       "              \n",
       "                       [[-9.0006e-02,  1.4414e-02, -6.6693e-02],\n",
       "                        [ 9.5674e-02, -5.7294e-02,  3.3970e-02],\n",
       "                        [ 6.1871e-02, -8.1928e-02,  5.3946e-02]],\n",
       "              \n",
       "                       [[-1.4114e-02,  5.4619e-02,  1.0201e-01],\n",
       "                        [-4.4922e-02, -4.5653e-02,  8.3753e-02],\n",
       "                        [ 1.1722e-02, -1.0513e-02,  7.9971e-02]]],\n",
       "              \n",
       "              \n",
       "                      [[[-5.0928e-02, -5.2047e-03,  7.2403e-02],\n",
       "                        [ 4.1195e-02, -6.8180e-02,  2.7398e-02],\n",
       "                        [-8.0368e-02, -5.7245e-02,  6.7779e-02]],\n",
       "              \n",
       "                       [[-2.8093e-02, -5.3691e-02,  7.4717e-03],\n",
       "                        [ 2.5759e-02, -6.5524e-02, -7.1084e-02],\n",
       "                        [-1.0209e-01,  2.7236e-02, -6.8013e-02]],\n",
       "              \n",
       "                       [[ 8.0331e-03, -2.3576e-02, -6.8923e-02],\n",
       "                        [-3.3636e-02, -8.1027e-02, -5.5797e-02],\n",
       "                        [-3.2857e-03, -9.0116e-02, -9.2447e-02]],\n",
       "              \n",
       "                       [[ 7.8958e-02,  9.9188e-03, -4.6618e-02],\n",
       "                        [-3.5047e-03,  7.8168e-02, -8.7939e-02],\n",
       "                        [-5.5886e-02, -7.6226e-02, -7.6634e-03]],\n",
       "              \n",
       "                       [[-3.6274e-03, -8.2146e-02,  7.3163e-02],\n",
       "                        [-8.0946e-02,  9.8414e-02, -7.2560e-02],\n",
       "                        [-1.4446e-02,  1.9710e-02, -4.6852e-02]],\n",
       "              \n",
       "                       [[ 9.6939e-02, -7.2673e-02, -5.8427e-03],\n",
       "                        [-7.7398e-02,  2.9261e-02,  8.9871e-02],\n",
       "                        [ 9.7776e-02,  1.2514e-02, -5.2773e-02]],\n",
       "              \n",
       "                       [[ 1.0244e-01,  7.8667e-03,  7.1317e-02],\n",
       "                        [-5.4751e-02, -4.8920e-02, -8.7504e-02],\n",
       "                        [ 9.6990e-02,  1.7486e-02, -7.5704e-02]],\n",
       "              \n",
       "                       [[ 9.0535e-03, -4.5211e-02,  5.2659e-03],\n",
       "                        [ 3.4988e-02, -5.2308e-02,  1.8394e-02],\n",
       "                        [-6.6553e-02,  2.0312e-02, -1.0178e-01]],\n",
       "              \n",
       "                       [[ 1.6797e-02,  1.0473e-01,  9.7094e-02],\n",
       "                        [ 3.8451e-02,  7.7563e-02,  1.0248e-01],\n",
       "                        [ 2.9870e-02,  3.5156e-02,  1.3707e-02]],\n",
       "              \n",
       "                       [[ 9.3322e-02,  9.0551e-02, -4.9570e-02],\n",
       "                        [-4.3333e-03, -5.3110e-02,  3.7824e-02],\n",
       "                        [-1.0214e-01,  3.7301e-02, -2.8929e-02]]],\n",
       "              \n",
       "              \n",
       "                      [[[ 3.8227e-02,  3.2899e-02, -5.2454e-02],\n",
       "                        [ 5.4687e-02,  4.4762e-02, -8.9602e-02],\n",
       "                        [ 1.0517e-01,  9.0731e-02,  6.5584e-02]],\n",
       "              \n",
       "                       [[-1.0699e-02,  3.7345e-02, -5.7028e-02],\n",
       "                        [-3.5818e-02,  4.9749e-02,  4.6925e-02],\n",
       "                        [ 4.1741e-02, -1.0053e-01,  8.7350e-02]],\n",
       "              \n",
       "                       [[-4.4028e-02,  9.1223e-02,  8.6852e-02],\n",
       "                        [ 3.9070e-02,  1.0502e-01,  6.0528e-02],\n",
       "                        [ 6.1821e-02, -3.5794e-02,  9.7766e-02]],\n",
       "              \n",
       "                       [[ 2.7627e-02,  6.2280e-02, -2.3834e-02],\n",
       "                        [ 7.6340e-02,  9.3509e-02, -8.0770e-02],\n",
       "                        [ 8.6415e-02, -6.9664e-02, -7.2571e-02]],\n",
       "              \n",
       "                       [[-8.8089e-02,  3.0459e-02, -7.9144e-02],\n",
       "                        [-3.9680e-02, -5.2988e-02,  2.8172e-02],\n",
       "                        [-1.0349e-01, -4.8324e-02,  7.7112e-04]],\n",
       "              \n",
       "                       [[ 9.4660e-03, -4.7605e-02,  3.7764e-02],\n",
       "                        [-6.9544e-02, -8.9270e-02, -1.4986e-02],\n",
       "                        [-5.6989e-02,  6.6443e-02, -7.2049e-02]],\n",
       "              \n",
       "                       [[-8.8494e-03,  4.3782e-02, -9.2311e-02],\n",
       "                        [ 8.1599e-02, -4.7895e-02, -2.8684e-02],\n",
       "                        [-6.4480e-02, -3.9279e-02, -4.0645e-02]],\n",
       "              \n",
       "                       [[-9.3801e-02,  3.6019e-02, -3.3768e-04],\n",
       "                        [ 1.0311e-01,  7.1117e-02,  9.1699e-02],\n",
       "                        [ 3.1014e-02,  5.5388e-02,  9.8704e-02]],\n",
       "              \n",
       "                       [[ 8.6545e-02, -8.0996e-02, -2.3636e-02],\n",
       "                        [-1.0166e-01,  3.9877e-03, -3.7229e-02],\n",
       "                        [ 9.1486e-02,  1.6666e-02,  1.1601e-03]],\n",
       "              \n",
       "                       [[-7.6248e-02, -8.2718e-02,  1.6594e-02],\n",
       "                        [-5.2376e-02, -4.8409e-02,  7.3938e-02],\n",
       "                        [-5.4952e-02, -4.6918e-02,  8.0934e-02]]]], device='cuda:0')),\n",
       "             ('block_2.2.bias',\n",
       "              tensor([ 0.0412, -0.0599,  0.0319,  0.0531, -0.0936,  0.0197,  0.0241, -0.0041,\n",
       "                       0.1011, -0.0697], device='cuda:0')),\n",
       "             ('classifier.1.weight',\n",
       "              tensor([[ 0.0245, -0.0240, -0.0387,  ...,  0.0094, -0.0015, -0.0225],\n",
       "                      [ 0.0228,  0.0067, -0.0439,  ..., -0.0302,  0.0368,  0.0293],\n",
       "                      [ 0.0303,  0.0347, -0.0211,  ...,  0.0207, -0.0423, -0.0240],\n",
       "                      ...,\n",
       "                      [-0.0359, -0.0343,  0.0166,  ...,  0.0324,  0.0113, -0.0143],\n",
       "                      [-0.0294, -0.0316,  0.0251,  ..., -0.0056,  0.0300, -0.0396],\n",
       "                      [-0.0246, -0.0035, -0.0046,  ..., -0.0146, -0.0358,  0.0175]],\n",
       "                     device='cuda:0')),\n",
       "             ('classifier.1.bias',\n",
       "              tensor([ 0.0320, -0.0445,  0.0246, -0.0357, -0.0442,  0.0156, -0.0010, -0.0277,\n",
       "                       0.0404,  0.0037], device='cuda:0'))])"
      ]
     },
     "execution_count": 47,
     "metadata": {},
     "output_type": "execute_result"
    }
   ],
   "source": [
    "model_2.state_dict()"
   ]
  },
  {
   "cell_type": "markdown",
   "id": "6478cc5a-7b33-425d-9ab3-6d40168a1aee",
   "metadata": {
    "id": "6478cc5a-7b33-425d-9ab3-6d40168a1aee"
   },
   "source": [
    "### 7.1 Stepping through `nn.Conv2d()`\n",
    "\n",
    "We could start using our model above and see what happens but let's first step through the two new layers we've added:\n",
    "* [`nn.Conv2d()`](https://pytorch.org/docs/stable/generated/torch.nn.Conv2d.html), also known as a convolutional layer.\n",
    "* [`nn.MaxPool2d()`](https://pytorch.org/docs/stable/generated/torch.nn.MaxPool2d.html), also known as a max pooling layer.\n",
    "\n",
    "> **Question:** What does the \"2d\" in `nn.Conv2d()` stand for?\n",
    ">\n",
    "> The 2d is for 2-dimensional data. As in, our images have two dimensions: height and width. Yes, there's color channel dimension but each of the color channel dimensions have two dimensions too: height and width.\n",
    ">\n",
    "> For other dimensional data (such as 1D for text or 3D for 3D objects) there's also `nn.Conv1d()` and `nn.Conv3d()`. \n",
    "\n",
    "To test the layers out, let's create some toy data just like the data used on CNN Explainer."
   ]
  },
  {
   "cell_type": "code",
   "execution_count": 48,
   "id": "058b01ac-3f6a-4472-bcbf-3377974e3254",
   "metadata": {
    "colab": {
     "base_uri": "https://localhost:8080/"
    },
    "id": "058b01ac-3f6a-4472-bcbf-3377974e3254",
    "outputId": "c404a8dd-d804-4993-bc2b-e4fdbf02b62d"
   },
   "outputs": [
    {
     "name": "stdout",
     "output_type": "stream",
     "text": [
      "Image batch shape: torch.Size([32, 3, 64, 64]) -> [batch_size, color_channels, height, width]\n",
      "Single image shape: torch.Size([3, 64, 64]) -> [color_channels, height, width]\n",
      "Single image pixel values:\n",
      "tensor([[[ 1.9269,  1.4873,  0.9007,  ...,  1.8446, -1.1845,  1.3835],\n",
      "         [ 1.4451,  0.8564,  2.2181,  ...,  0.3399,  0.7200,  0.4114],\n",
      "         [ 1.9312,  1.0119, -1.4364,  ..., -0.5558,  0.7043,  0.7099],\n",
      "         ...,\n",
      "         [-0.5610, -0.4830,  0.4770,  ..., -0.2713, -0.9537, -0.6737],\n",
      "         [ 0.3076, -0.1277,  0.0366,  ..., -2.0060,  0.2824, -0.8111],\n",
      "         [-1.5486,  0.0485, -0.7712,  ..., -0.1403,  0.9416, -0.0118]],\n",
      "\n",
      "        [[-0.5197,  1.8524,  1.8365,  ...,  0.8935, -1.5114, -0.8515],\n",
      "         [ 2.0818,  1.0677, -1.4277,  ...,  1.6612, -2.6223, -0.4319],\n",
      "         [-0.1010, -0.4388, -1.9775,  ...,  0.2106,  0.2536, -0.7318],\n",
      "         ...,\n",
      "         [ 0.2779,  0.7342, -0.3736,  ..., -0.4601,  0.1815,  0.1850],\n",
      "         [ 0.7205, -0.2833,  0.0937,  ..., -0.1002, -2.3609,  2.2465],\n",
      "         [-1.3242, -0.1973,  0.2920,  ...,  0.5409,  0.6940,  1.8563]],\n",
      "\n",
      "        [[-0.7978,  1.0261,  1.1465,  ...,  1.2134,  0.9354, -0.0780],\n",
      "         [-1.4647, -1.9571,  0.1017,  ..., -1.9986, -0.7409,  0.7011],\n",
      "         [-1.3938,  0.8466, -1.7191,  ..., -1.1867,  0.1320,  0.3407],\n",
      "         ...,\n",
      "         [ 0.8206, -0.3745,  1.2499,  ..., -0.0676,  0.0385,  0.6335],\n",
      "         [-0.5589, -0.3393,  0.2347,  ...,  2.1181,  2.4569,  1.3083],\n",
      "         [-0.4092,  1.5199,  0.2401,  ..., -0.2558,  0.7870,  0.9924]]])\n"
     ]
    }
   ],
   "source": [
    "torch.manual_seed(42)\n",
    "\n",
    "# Create sample batch of random numbers with same size as image batch\n",
    "images = torch.randn(size=(32, 3, 64, 64)) # [batch_size, color_channels, height, width]\n",
    "test_image = images[0] # get a single image for testing\n",
    "print(f\"Image batch shape: {images.shape} -> [batch_size, color_channels, height, width]\")\n",
    "print(f\"Single image shape: {test_image.shape} -> [color_channels, height, width]\") \n",
    "print(f\"Single image pixel values:\\n{test_image}\")"
   ]
  },
  {
   "cell_type": "markdown",
   "id": "bd3291c2-854e-4d0c-97b9-8bf46085fc43",
   "metadata": {
    "id": "bd3291c2-854e-4d0c-97b9-8bf46085fc43"
   },
   "source": [
    "Let's create an example `nn.Conv2d()` with various parameters:\n",
    "* `in_channels` (int) - Number of channels in the input image.\n",
    "* `out_channels` (int) - Number of channels produced by the convolution.\n",
    "* `kernel_size` (int or tuple) - Size of the convolving kernel/filter.\n",
    "* `stride` (int or tuple, optional) - How big of a step the convolving kernel takes at a time. Default: 1.\n",
    "* `padding` (int, tuple, str) - Padding added to all four sides of input. Default: 0.\n",
    "\n",
    "![example of going through the different parameters of a Conv2d layer](https://raw.githubusercontent.com/mrdbourke/pytorch-deep-learning/main/images/03-conv2d-layer.gif)\n",
    "\n",
    "*Example of what happens when you change the hyperparameters of a `nn.Conv2d()` layer.*"
   ]
  },
  {
   "cell_type": "code",
   "execution_count": 49,
   "id": "ebd39562-1dad-40e3-90f5-750a5dac24e2",
   "metadata": {
    "colab": {
     "base_uri": "https://localhost:8080/"
    },
    "id": "ebd39562-1dad-40e3-90f5-750a5dac24e2",
    "outputId": "b61154fb-c5f7-4c3f-c619-4bde6edb4d16"
   },
   "outputs": [
    {
     "data": {
      "text/plain": [
       "tensor([[[ 1.5396,  0.0516,  0.6454,  ..., -0.3673,  0.8711,  0.4256],\n",
       "         [ 0.3662,  1.0114, -0.5997,  ...,  0.8983,  0.2809, -0.2741],\n",
       "         [ 1.2664, -1.4054,  0.3727,  ..., -0.3409,  1.2191, -0.0463],\n",
       "         ...,\n",
       "         [-0.1541,  0.5132, -0.3624,  ..., -0.2360, -0.4609, -0.0035],\n",
       "         [ 0.2981, -0.2432,  1.5012,  ..., -0.6289, -0.7283, -0.5767],\n",
       "         [-0.0386, -0.0781, -0.0388,  ...,  0.2842,  0.4228, -0.1802]],\n",
       "\n",
       "        [[-0.2840, -0.0319, -0.4455,  ..., -0.7956,  1.5599, -1.2449],\n",
       "         [ 0.2753, -0.1262, -0.6541,  ..., -0.2211,  0.1999, -0.8856],\n",
       "         [-0.5404, -1.5489,  0.0249,  ..., -0.5932, -1.0913, -0.3849],\n",
       "         ...,\n",
       "         [ 0.3870, -0.4064, -0.8236,  ...,  0.1734, -0.4330, -0.4951],\n",
       "         [-0.1984, -0.6386,  1.0263,  ..., -0.9401, -0.0585, -0.7833],\n",
       "         [-0.6306, -0.2052, -0.3694,  ..., -1.3248,  0.2456, -0.7134]],\n",
       "\n",
       "        [[ 0.4414,  0.5100,  0.4846,  ..., -0.8484,  0.2638,  1.1258],\n",
       "         [ 0.8117,  0.3191, -0.0157,  ...,  1.2686,  0.2319,  0.5003],\n",
       "         [ 0.3212,  0.0485, -0.2581,  ...,  0.2258,  0.2587, -0.8804],\n",
       "         ...,\n",
       "         [-0.1144, -0.1869,  0.0160,  ..., -0.8346,  0.0974,  0.8421],\n",
       "         [ 0.2941,  0.4417,  0.5866,  ..., -0.1224,  0.4814, -0.4799],\n",
       "         [ 0.6059, -0.0415, -0.2028,  ...,  0.1170,  0.2521, -0.4372]],\n",
       "\n",
       "        ...,\n",
       "\n",
       "        [[-0.2560, -0.0477,  0.6380,  ...,  0.6436,  0.7553, -0.7055],\n",
       "         [ 1.5595, -0.2209, -0.9486,  ..., -0.4876,  0.7754,  0.0750],\n",
       "         [-0.0797,  0.2471,  1.1300,  ...,  0.1505,  0.2354,  0.9576],\n",
       "         ...,\n",
       "         [ 1.1065,  0.6839,  1.2183,  ...,  0.3015, -0.1910, -0.1902],\n",
       "         [-0.3486, -0.7173, -0.3582,  ...,  0.4917,  0.7219,  0.1513],\n",
       "         [ 0.0119,  0.1017,  0.7839,  ..., -0.3752, -0.8127, -0.1257]],\n",
       "\n",
       "        [[ 0.3841,  1.1322,  0.1620,  ...,  0.7010,  0.0109,  0.6058],\n",
       "         [ 0.1664,  0.1873,  1.5924,  ...,  0.3733,  0.9096, -0.5399],\n",
       "         [ 0.4094, -0.0861, -0.7935,  ..., -0.1285, -0.9932, -0.3013],\n",
       "         ...,\n",
       "         [ 0.2688, -0.5630, -1.1902,  ...,  0.4493,  0.5404, -0.0103],\n",
       "         [ 0.0535,  0.4411,  0.5313,  ...,  0.0148, -1.0056,  0.3759],\n",
       "         [ 0.3031, -0.1590, -0.1316,  ..., -0.5384, -0.4271, -0.4876]],\n",
       "\n",
       "        [[-1.1865, -0.7280, -1.2331,  ..., -0.9013, -0.0542, -1.5949],\n",
       "         [-0.6345, -0.5920,  0.5326,  ..., -1.0395, -0.7963, -0.0647],\n",
       "         [-0.1132,  0.5166,  0.2569,  ...,  0.5595, -1.6881,  0.9485],\n",
       "         ...,\n",
       "         [-0.0254, -0.2669,  0.1927,  ..., -0.2917,  0.1088, -0.4807],\n",
       "         [-0.2609, -0.2328,  0.1404,  ..., -0.1325, -0.8436, -0.7524],\n",
       "         [-1.1399, -0.1751, -0.8705,  ...,  0.1589,  0.3377,  0.3493]]],\n",
       "       grad_fn=<SqueezeBackward1>)"
      ]
     },
     "execution_count": 49,
     "metadata": {},
     "output_type": "execute_result"
    }
   ],
   "source": [
    "torch.manual_seed(42)\n",
    "\n",
    "# Create a convolutional layer with same dimensions as TinyVGG \n",
    "# (try changing any of the parameters and see what happens)\n",
    "conv_layer = nn.Conv2d(in_channels=3,\n",
    "                       out_channels=10,\n",
    "                       kernel_size=3,\n",
    "                       stride=1,\n",
    "                       padding=0) # also try using \"valid\" or \"same\" here \n",
    "\n",
    "# Pass the data through the convolutional layer\n",
    "conv_layer(test_image) # Note: If running PyTorch <1.11.0, this will error because of shape issues (nn.Conv.2d() expects a 4d tensor as input) "
   ]
  },
  {
   "cell_type": "markdown",
   "id": "cb0184ad-5c16-4e1c-bcfa-70ecf15377da",
   "metadata": {
    "id": "cb0184ad-5c16-4e1c-bcfa-70ecf15377da"
   },
   "source": [
    "If we try to pass a single image in, we get a shape mismatch error:\n",
    "\n",
    "> `RuntimeError: Expected 4-dimensional input for 4-dimensional weight [10, 3, 3, 3], but got 3-dimensional input of size [3, 64, 64] instead`\n",
    ">\n",
    "> **Note:** If you're running PyTorch 1.11.0+, this error won't occur.\n",
    "\n",
    "This is because our `nn.Conv2d()` layer expects a 4-dimensional tensor as input with size `(N, C, H, W)` or `[batch_size, color_channels, height, width]`.\n",
    "\n",
    "Right now our single image `test_image` only has a shape of `[color_channels, height, width]` or `[3, 64, 64]`.\n",
    "\n",
    "We can fix this for a single image using `test_image.unsqueeze(dim=0)` to add an extra dimension for `N`."
   ]
  },
  {
   "cell_type": "code",
   "execution_count": 50,
   "id": "abba741d-a1ed-44ed-ba53-41d589433a2c",
   "metadata": {
    "colab": {
     "base_uri": "https://localhost:8080/"
    },
    "id": "abba741d-a1ed-44ed-ba53-41d589433a2c",
    "outputId": "9dd8151d-376c-4342-c379-91fcb6468706"
   },
   "outputs": [
    {
     "data": {
      "text/plain": [
       "torch.Size([1, 3, 64, 64])"
      ]
     },
     "execution_count": 50,
     "metadata": {},
     "output_type": "execute_result"
    }
   ],
   "source": [
    "# Add extra dimension to test image\n",
    "test_image.unsqueeze(dim=0).shape"
   ]
  },
  {
   "cell_type": "code",
   "execution_count": 51,
   "id": "c7280a49-4ee0-452b-a514-61115b6a444c",
   "metadata": {
    "colab": {
     "base_uri": "https://localhost:8080/"
    },
    "id": "c7280a49-4ee0-452b-a514-61115b6a444c",
    "outputId": "87bf7e37-c1a7-44a4-eef2-a02eb0489147"
   },
   "outputs": [
    {
     "data": {
      "text/plain": [
       "torch.Size([1, 10, 62, 62])"
      ]
     },
     "execution_count": 51,
     "metadata": {},
     "output_type": "execute_result"
    }
   ],
   "source": [
    "# Pass test image with extra dimension through conv_layer\n",
    "conv_layer(test_image.unsqueeze(dim=0)).shape"
   ]
  },
  {
   "cell_type": "markdown",
   "id": "181df81b-7c5a-46cc-b8d5-a592bf755a13",
   "metadata": {
    "id": "181df81b-7c5a-46cc-b8d5-a592bf755a13"
   },
   "source": [
    "Hmm, notice what happens to our shape (the same shape as the first layer of TinyVGG on [CNN Explainer](https://poloclub.github.io/cnn-explainer/)), we get different channel sizes as well as different pixel sizes.\n",
    "\n",
    "What if we changed the values of `conv_layer`?"
   ]
  },
  {
   "cell_type": "code",
   "execution_count": 52,
   "id": "04445d45-cf2f-4c1d-b215-bc50865a207a",
   "metadata": {
    "colab": {
     "base_uri": "https://localhost:8080/"
    },
    "id": "04445d45-cf2f-4c1d-b215-bc50865a207a",
    "outputId": "eaa97fb8-52c0-493d-eac3-f2e23df9b01c"
   },
   "outputs": [
    {
     "data": {
      "text/plain": [
       "torch.Size([1, 10, 30, 30])"
      ]
     },
     "execution_count": 52,
     "metadata": {},
     "output_type": "execute_result"
    }
   ],
   "source": [
    "torch.manual_seed(42)\n",
    "# Create a new conv_layer with different values (try setting these to whatever you like)\n",
    "conv_layer_2 = nn.Conv2d(in_channels=3, # same number of color channels as our input image\n",
    "                         out_channels=10,\n",
    "                         kernel_size=(5, 5), # kernel is usually a square so a tuple also works\n",
    "                         stride=2,\n",
    "                         padding=0)\n",
    "\n",
    "# Pass single image through new conv_layer_2 (this calls nn.Conv2d()'s forward() method on the input)\n",
    "conv_layer_2(test_image.unsqueeze(dim=0)).shape"
   ]
  },
  {
   "cell_type": "markdown",
   "id": "b27dbdbb-3e32-4ffa-803e-cf943d96c72b",
   "metadata": {
    "id": "b27dbdbb-3e32-4ffa-803e-cf943d96c72b"
   },
   "source": [
    "Woah, we get another shape change.\n",
    "\n",
    "Now our image is of shape `[1, 10, 30, 30]` (it will be different if you use different values) or `[batch_size=1, color_channels=10, height=30, width=30]`.\n",
    "\n",
    "What's going on here?\n",
    "\n",
    "Behind the scenes, our `nn.Conv2d()` is compressing the information stored in the image.\n",
    "\n",
    "It does this by performing operations on the input (our test image) against its internal parameters.\n",
    "\n",
    "The goal of this is similar to all of the other neural networks we've been building.\n",
    "\n",
    "Data goes in and the layers try to update their internal parameters (patterns) to lower the loss function thanks to some help of the optimizer.\n",
    "\n",
    "The only difference is *how* the different layers calculate their parameter updates or in PyTorch terms, the operation present in the layer `forward()` method.\n",
    "\n",
    "If we check out our `conv_layer_2.state_dict()` we'll find a similar weight and bias setup as we've seen before."
   ]
  },
  {
   "cell_type": "code",
   "execution_count": 53,
   "id": "46027ed1-c3a7-46bd-bab7-17f8c20e354b",
   "metadata": {
    "colab": {
     "base_uri": "https://localhost:8080/"
    },
    "id": "46027ed1-c3a7-46bd-bab7-17f8c20e354b",
    "outputId": "bc493b18-1ef3-41c6-9de9-5dfeaa4c259e"
   },
   "outputs": [
    {
     "name": "stdout",
     "output_type": "stream",
     "text": [
      "OrderedDict([('weight', tensor([[[[ 0.0883,  0.0958, -0.0271,  0.1061, -0.0253],\n",
      "          [ 0.0233, -0.0562,  0.0678,  0.1018, -0.0847],\n",
      "          [ 0.1004,  0.0216,  0.0853,  0.0156,  0.0557],\n",
      "          [-0.0163,  0.0890,  0.0171, -0.0539,  0.0294],\n",
      "          [-0.0532, -0.0135, -0.0469,  0.0766, -0.0911]],\n",
      "\n",
      "         [[-0.0532, -0.0326, -0.0694,  0.0109, -0.1140],\n",
      "          [ 0.1043, -0.0981,  0.0891,  0.0192, -0.0375],\n",
      "          [ 0.0714,  0.0180,  0.0933,  0.0126, -0.0364],\n",
      "          [ 0.0310, -0.0313,  0.0486,  0.1031,  0.0667],\n",
      "          [-0.0505,  0.0667,  0.0207,  0.0586, -0.0704]],\n",
      "\n",
      "         [[-0.1143, -0.0446, -0.0886,  0.0947,  0.0333],\n",
      "          [ 0.0478,  0.0365, -0.0020,  0.0904, -0.0820],\n",
      "          [ 0.0073, -0.0788,  0.0356, -0.0398,  0.0354],\n",
      "          [-0.0241,  0.0958, -0.0684, -0.0689, -0.0689],\n",
      "          [ 0.1039,  0.0385,  0.1111, -0.0953, -0.1145]]],\n",
      "\n",
      "\n",
      "        [[[-0.0903, -0.0777,  0.0468,  0.0413,  0.0959],\n",
      "          [-0.0596, -0.0787,  0.0613, -0.0467,  0.0701],\n",
      "          [-0.0274,  0.0661, -0.0897, -0.0583,  0.0352],\n",
      "          [ 0.0244, -0.0294,  0.0688,  0.0785, -0.0837],\n",
      "          [-0.0616,  0.1057, -0.0390, -0.0409, -0.1117]],\n",
      "\n",
      "         [[-0.0661,  0.0288, -0.0152, -0.0838,  0.0027],\n",
      "          [-0.0789, -0.0980, -0.0636, -0.1011, -0.0735],\n",
      "          [ 0.1154,  0.0218,  0.0356, -0.1077, -0.0758],\n",
      "          [-0.0384,  0.0181, -0.1016, -0.0498, -0.0691],\n",
      "          [ 0.0003, -0.0430, -0.0080, -0.0782, -0.0793]],\n",
      "\n",
      "         [[-0.0674, -0.0395, -0.0911,  0.0968, -0.0229],\n",
      "          [ 0.0994,  0.0360, -0.0978,  0.0799, -0.0318],\n",
      "          [-0.0443, -0.0958, -0.1148,  0.0330, -0.0252],\n",
      "          [ 0.0450, -0.0948,  0.0857, -0.0848, -0.0199],\n",
      "          [ 0.0241,  0.0596,  0.0932,  0.1052, -0.0916]]],\n",
      "\n",
      "\n",
      "        [[[ 0.0291, -0.0497, -0.0127, -0.0864,  0.1052],\n",
      "          [-0.0847,  0.0617,  0.0406,  0.0375, -0.0624],\n",
      "          [ 0.1050,  0.0254,  0.0149, -0.1018,  0.0485],\n",
      "          [-0.0173, -0.0529,  0.0992,  0.0257, -0.0639],\n",
      "          [-0.0584, -0.0055,  0.0645, -0.0295, -0.0659]],\n",
      "\n",
      "         [[-0.0395, -0.0863,  0.0412,  0.0894, -0.1087],\n",
      "          [ 0.0268,  0.0597,  0.0209, -0.0411,  0.0603],\n",
      "          [ 0.0607,  0.0432, -0.0203, -0.0306,  0.0124],\n",
      "          [-0.0204, -0.0344,  0.0738,  0.0992, -0.0114],\n",
      "          [-0.0259,  0.0017, -0.0069,  0.0278,  0.0324]],\n",
      "\n",
      "         [[-0.1049, -0.0426,  0.0972,  0.0450, -0.0057],\n",
      "          [-0.0696, -0.0706, -0.1034, -0.0376,  0.0390],\n",
      "          [ 0.0736,  0.0533, -0.1021, -0.0694, -0.0182],\n",
      "          [ 0.1117,  0.0167, -0.0299,  0.0478, -0.0440],\n",
      "          [-0.0747,  0.0843, -0.0525, -0.0231, -0.1149]]],\n",
      "\n",
      "\n",
      "        [[[ 0.0773,  0.0875,  0.0421, -0.0805, -0.1140],\n",
      "          [-0.0938,  0.0861,  0.0554,  0.0972,  0.0605],\n",
      "          [ 0.0292, -0.0011, -0.0878, -0.0989, -0.1080],\n",
      "          [ 0.0473, -0.0567, -0.0232, -0.0665, -0.0210],\n",
      "          [-0.0813, -0.0754,  0.0383, -0.0343,  0.0713]],\n",
      "\n",
      "         [[-0.0370, -0.0847, -0.0204, -0.0560, -0.0353],\n",
      "          [-0.1099,  0.0646, -0.0804,  0.0580,  0.0524],\n",
      "          [ 0.0825, -0.0886,  0.0830, -0.0546,  0.0428],\n",
      "          [ 0.1084, -0.0163, -0.0009, -0.0266, -0.0964],\n",
      "          [ 0.0554, -0.1146,  0.0717,  0.0864,  0.1092]],\n",
      "\n",
      "         [[-0.0272, -0.0949,  0.0260,  0.0638, -0.1149],\n",
      "          [-0.0262, -0.0692, -0.0101, -0.0568, -0.0472],\n",
      "          [-0.0367, -0.1097,  0.0947,  0.0968, -0.0181],\n",
      "          [-0.0131, -0.0471, -0.1043, -0.1124,  0.0429],\n",
      "          [-0.0634, -0.0742, -0.0090, -0.0385, -0.0374]]],\n",
      "\n",
      "\n",
      "        [[[ 0.0037, -0.0245, -0.0398, -0.0553, -0.0940],\n",
      "          [ 0.0968, -0.0462,  0.0306, -0.0401,  0.0094],\n",
      "          [ 0.1077,  0.0532, -0.1001,  0.0458,  0.1096],\n",
      "          [ 0.0304,  0.0774,  0.1138, -0.0177,  0.0240],\n",
      "          [-0.0803, -0.0238,  0.0855,  0.0592, -0.0731]],\n",
      "\n",
      "         [[-0.0926, -0.0789, -0.1140, -0.0891, -0.0286],\n",
      "          [ 0.0779,  0.0193, -0.0878, -0.0926,  0.0574],\n",
      "          [-0.0859, -0.0142,  0.0554, -0.0534, -0.0126],\n",
      "          [-0.0101, -0.0273, -0.0585, -0.1029, -0.0933],\n",
      "          [-0.0618,  0.1115, -0.0558, -0.0775,  0.0280]],\n",
      "\n",
      "         [[ 0.0318,  0.0633,  0.0878,  0.0643, -0.1145],\n",
      "          [ 0.0102,  0.0699, -0.0107, -0.0680,  0.1101],\n",
      "          [-0.0432, -0.0657, -0.1041,  0.0052,  0.0512],\n",
      "          [ 0.0256,  0.0228, -0.0876, -0.1078,  0.0020],\n",
      "          [ 0.1053,  0.0666, -0.0672, -0.0150, -0.0851]]],\n",
      "\n",
      "\n",
      "        [[[-0.0557,  0.0209,  0.0629,  0.0957, -0.1060],\n",
      "          [ 0.0772, -0.0814,  0.0432,  0.0977,  0.0016],\n",
      "          [ 0.1051, -0.0984, -0.0441,  0.0673, -0.0252],\n",
      "          [-0.0236, -0.0481,  0.0796,  0.0566,  0.0370],\n",
      "          [-0.0649, -0.0937,  0.0125,  0.0342, -0.0533]],\n",
      "\n",
      "         [[-0.0323,  0.0780,  0.0092,  0.0052, -0.0284],\n",
      "          [-0.1046, -0.1086, -0.0552, -0.0587,  0.0360],\n",
      "          [-0.0336, -0.0452,  0.1101,  0.0402,  0.0823],\n",
      "          [-0.0559, -0.0472,  0.0424, -0.0769, -0.0755],\n",
      "          [-0.0056, -0.0422, -0.0866,  0.0685,  0.0929]],\n",
      "\n",
      "         [[ 0.0187, -0.0201, -0.1070, -0.0421,  0.0294],\n",
      "          [ 0.0544, -0.0146, -0.0457,  0.0643, -0.0920],\n",
      "          [ 0.0730, -0.0448,  0.0018, -0.0228,  0.0140],\n",
      "          [-0.0349,  0.0840, -0.0030,  0.0901,  0.1110],\n",
      "          [-0.0563, -0.0842,  0.0926,  0.0905, -0.0882]]],\n",
      "\n",
      "\n",
      "        [[[-0.0089, -0.1139, -0.0945,  0.0223,  0.0307],\n",
      "          [ 0.0245, -0.0314,  0.1065,  0.0165, -0.0681],\n",
      "          [-0.0065,  0.0277,  0.0404, -0.0816,  0.0433],\n",
      "          [-0.0590, -0.0959, -0.0631,  0.1114,  0.0987],\n",
      "          [ 0.1034,  0.0678,  0.0872, -0.0155, -0.0635]],\n",
      "\n",
      "         [[ 0.0577, -0.0598, -0.0779, -0.0369,  0.0242],\n",
      "          [ 0.0594, -0.0448, -0.0680,  0.0156, -0.0681],\n",
      "          [-0.0752,  0.0602, -0.0194,  0.1055,  0.1123],\n",
      "          [ 0.0345,  0.0397,  0.0266,  0.0018, -0.0084],\n",
      "          [ 0.0016,  0.0431,  0.1074, -0.0299, -0.0488]],\n",
      "\n",
      "         [[-0.0280, -0.0558,  0.0196,  0.0862,  0.0903],\n",
      "          [ 0.0530, -0.0850, -0.0620, -0.0254, -0.0213],\n",
      "          [ 0.0095, -0.1060,  0.0359, -0.0881, -0.0731],\n",
      "          [-0.0960,  0.1006, -0.1093,  0.0871, -0.0039],\n",
      "          [-0.0134,  0.0722, -0.0107,  0.0724,  0.0835]]],\n",
      "\n",
      "\n",
      "        [[[-0.1003,  0.0444,  0.0218,  0.0248,  0.0169],\n",
      "          [ 0.0316, -0.0555, -0.0148,  0.1097,  0.0776],\n",
      "          [-0.0043, -0.1086,  0.0051, -0.0786,  0.0939],\n",
      "          [-0.0701, -0.0083, -0.0256,  0.0205,  0.1087],\n",
      "          [ 0.0110,  0.0669,  0.0896,  0.0932, -0.0399]],\n",
      "\n",
      "         [[-0.0258,  0.0556, -0.0315,  0.0541, -0.0252],\n",
      "          [-0.0783,  0.0470,  0.0177,  0.0515,  0.1147],\n",
      "          [ 0.0788,  0.1095,  0.0062, -0.0993, -0.0810],\n",
      "          [-0.0717, -0.1018, -0.0579, -0.1063, -0.1065],\n",
      "          [-0.0690, -0.1138, -0.0709,  0.0440,  0.0963]],\n",
      "\n",
      "         [[-0.0343, -0.0336,  0.0617, -0.0570, -0.0546],\n",
      "          [ 0.0711, -0.1006,  0.0141,  0.1020,  0.0198],\n",
      "          [ 0.0314, -0.0672, -0.0016,  0.0063,  0.0283],\n",
      "          [ 0.0449,  0.1003, -0.0881,  0.0035, -0.0577],\n",
      "          [-0.0913, -0.0092, -0.1016,  0.0806,  0.0134]]],\n",
      "\n",
      "\n",
      "        [[[-0.0622,  0.0603, -0.1093, -0.0447, -0.0225],\n",
      "          [-0.0981, -0.0734, -0.0188,  0.0876,  0.1115],\n",
      "          [ 0.0735, -0.0689, -0.0755,  0.1008,  0.0408],\n",
      "          [ 0.0031,  0.0156, -0.0928, -0.0386,  0.1112],\n",
      "          [-0.0285, -0.0058, -0.0959, -0.0646, -0.0024]],\n",
      "\n",
      "         [[-0.0717, -0.0143,  0.0470, -0.1130,  0.0343],\n",
      "          [-0.0763, -0.0564,  0.0443,  0.0918, -0.0316],\n",
      "          [-0.0474, -0.1044, -0.0595, -0.1011, -0.0264],\n",
      "          [ 0.0236, -0.1082,  0.1008,  0.0724, -0.1130],\n",
      "          [-0.0552,  0.0377, -0.0237, -0.0126, -0.0521]],\n",
      "\n",
      "         [[ 0.0927, -0.0645,  0.0958,  0.0075,  0.0232],\n",
      "          [ 0.0901, -0.0190, -0.0657, -0.0187,  0.0937],\n",
      "          [-0.0857,  0.0262, -0.1135,  0.0605,  0.0427],\n",
      "          [ 0.0049,  0.0496,  0.0001,  0.0639, -0.0914],\n",
      "          [-0.0170,  0.0512,  0.1150,  0.0588, -0.0840]]],\n",
      "\n",
      "\n",
      "        [[[ 0.0888, -0.0257, -0.0247, -0.1050, -0.0182],\n",
      "          [ 0.0817,  0.0161, -0.0673,  0.0355, -0.0370],\n",
      "          [ 0.1054, -0.1002, -0.0365, -0.1115, -0.0455],\n",
      "          [ 0.0364,  0.1112,  0.0194,  0.1132,  0.0226],\n",
      "          [ 0.0667,  0.0926,  0.0965, -0.0646,  0.1062]],\n",
      "\n",
      "         [[ 0.0699, -0.0540, -0.0551, -0.0969,  0.0290],\n",
      "          [-0.0936,  0.0488,  0.0365, -0.1003,  0.0315],\n",
      "          [-0.0094,  0.0527,  0.0663, -0.1148,  0.1059],\n",
      "          [ 0.0968,  0.0459, -0.1055, -0.0412, -0.0335],\n",
      "          [-0.0297,  0.0651,  0.0420,  0.0915, -0.0432]],\n",
      "\n",
      "         [[ 0.0389,  0.0411, -0.0961, -0.1120, -0.0599],\n",
      "          [ 0.0790, -0.1087, -0.1005,  0.0647,  0.0623],\n",
      "          [ 0.0950, -0.0872, -0.0845,  0.0592,  0.1004],\n",
      "          [ 0.0691,  0.0181,  0.0381,  0.1096, -0.0745],\n",
      "          [-0.0524,  0.0808, -0.0790, -0.0637,  0.0843]]]])), ('bias', tensor([ 0.0364,  0.0373, -0.0489, -0.0016,  0.1057, -0.0693,  0.0009,  0.0549,\n",
      "        -0.0797,  0.1121]))])\n"
     ]
    }
   ],
   "source": [
    "# Check out the conv_layer_2 internal parameters\n",
    "print(conv_layer_2.state_dict())"
   ]
  },
  {
   "cell_type": "markdown",
   "id": "8b708eb6-ae46-4d8c-a8a4-1392827d3e37",
   "metadata": {
    "id": "8b708eb6-ae46-4d8c-a8a4-1392827d3e37"
   },
   "source": [
    "Look at that! A bunch of random numbers for a weight and bias tensor.\n",
    "\n",
    "The shapes of these are manipulated by the inputs we passed to `nn.Conv2d()` when we set it up.\n",
    "\n",
    "Let's check them out."
   ]
  },
  {
   "cell_type": "code",
   "execution_count": 54,
   "id": "e5518d61-c0b7-4351-b5ea-4d6b6144291a",
   "metadata": {
    "colab": {
     "base_uri": "https://localhost:8080/"
    },
    "id": "e5518d61-c0b7-4351-b5ea-4d6b6144291a",
    "outputId": "14ef701e-c82d-4fae-9dd6-e18352817cf2"
   },
   "outputs": [
    {
     "name": "stdout",
     "output_type": "stream",
     "text": [
      "conv_layer_2 weight shape: \n",
      "torch.Size([10, 3, 5, 5]) -> [out_channels=10, in_channels=3, kernel_size=5, kernel_size=5]\n",
      "\n",
      "conv_layer_2 bias shape: \n",
      "torch.Size([10]) -> [out_channels=10]\n"
     ]
    }
   ],
   "source": [
    "# Get shapes of weight and bias tensors within conv_layer_2\n",
    "print(f\"conv_layer_2 weight shape: \\n{conv_layer_2.weight.shape} -> [out_channels=10, in_channels=3, kernel_size=5, kernel_size=5]\")\n",
    "print(f\"\\nconv_layer_2 bias shape: \\n{conv_layer_2.bias.shape} -> [out_channels=10]\")"
   ]
  },
  {
   "cell_type": "markdown",
   "id": "f0de23c7-4501-4156-80a4-ac889a636a42",
   "metadata": {
    "id": "f0de23c7-4501-4156-80a4-ac889a636a42"
   },
   "source": [
    "> **Question:** What should we set the parameters of our `nn.Conv2d()` layers?\n",
    ">\n",
    "> That's a good one. But similar to many other things in machine learning, the values of these aren't set in stone (and recall, because these values are ones we can set ourselves, they're referred to as \"**hyperparameters**\"). \n",
    ">\n",
    "> The best way to find out is to try out different values and see how they effect your model's performance.\n",
    ">\n",
    "> Or even better, find a working example on a problem similar to yours (like we've done with TinyVGG) and copy it. \n",
    "\n",
    "We're working with a different of layer here to what we've seen before.\n",
    "\n",
    "But the premise remains the same: start with random numbers and update them to better represent the data."
   ]
  },
  {
   "cell_type": "markdown",
   "id": "6370d45d-ca44-4fa0-a2d7-efaf0a207b91",
   "metadata": {
    "id": "6370d45d-ca44-4fa0-a2d7-efaf0a207b91"
   },
   "source": [
    "### 7.2 Stepping through `nn.MaxPool2d()`\n",
    "Now let's check out what happens when we move data through `nn.MaxPool2d()`."
   ]
  },
  {
   "cell_type": "code",
   "execution_count": 55,
   "id": "1164c753-19d9-43b7-a04f-017d0f7188c3",
   "metadata": {
    "colab": {
     "base_uri": "https://localhost:8080/"
    },
    "id": "1164c753-19d9-43b7-a04f-017d0f7188c3",
    "outputId": "9c46f08e-928d-4ee4-e43c-b402113fc2b4"
   },
   "outputs": [
    {
     "name": "stdout",
     "output_type": "stream",
     "text": [
      "Test image original shape: torch.Size([3, 64, 64])\n",
      "Test image with unsqueezed dimension: torch.Size([1, 3, 64, 64])\n",
      "Shape after going through conv_layer(): torch.Size([1, 10, 62, 62])\n",
      "Shape after going through conv_layer() and max_pool_layer(): torch.Size([1, 10, 31, 31])\n"
     ]
    }
   ],
   "source": [
    "# Print out original image shape without and with unsqueezed dimension\n",
    "print(f\"Test image original shape: {test_image.shape}\")\n",
    "print(f\"Test image with unsqueezed dimension: {test_image.unsqueeze(dim=0).shape}\")\n",
    "\n",
    "# Create a sample nn.MaxPoo2d() layer\n",
    "max_pool_layer = nn.MaxPool2d(kernel_size=2)\n",
    "\n",
    "# Pass data through just the conv_layer\n",
    "test_image_through_conv = conv_layer(test_image.unsqueeze(dim=0))\n",
    "print(f\"Shape after going through conv_layer(): {test_image_through_conv.shape}\")\n",
    "\n",
    "# Pass data through the max pool layer\n",
    "test_image_through_conv_and_max_pool = max_pool_layer(test_image_through_conv)\n",
    "print(f\"Shape after going through conv_layer() and max_pool_layer(): {test_image_through_conv_and_max_pool.shape}\")"
   ]
  },
  {
   "cell_type": "markdown",
   "id": "de029abd-6674-4bfa-99ab-322f339f89f4",
   "metadata": {
    "id": "de029abd-6674-4bfa-99ab-322f339f89f4"
   },
   "source": [
    "Notice the change in the shapes of what's happening in and out of a `nn.MaxPool2d()` layer.\n",
    "\n",
    "The `kernel_size` of the `nn.MaxPool2d()` layer will effects the size of the output shape.\n",
    "\n",
    "In our case, the shape halves from a `62x62` image to `31x31` image.\n",
    "\n",
    "Let's see this work with a smaller tensor."
   ]
  },
  {
   "cell_type": "code",
   "execution_count": 56,
   "id": "e6a2b196-4845-4b40-9212-e75406e88875",
   "metadata": {
    "colab": {
     "base_uri": "https://localhost:8080/"
    },
    "id": "e6a2b196-4845-4b40-9212-e75406e88875",
    "outputId": "5a5e5df1-8e25-4061-d223-398ecfc7ef4c"
   },
   "outputs": [
    {
     "name": "stdout",
     "output_type": "stream",
     "text": [
      "Random tensor:\n",
      "tensor([[[[0.3367, 0.1288],\n",
      "          [0.2345, 0.2303]]]])\n",
      "Random tensor shape: torch.Size([1, 1, 2, 2])\n",
      "\n",
      "Max pool tensor:\n",
      "tensor([[[[0.3367]]]]) <- this is the maximum value from random_tensor\n",
      "Max pool tensor shape: torch.Size([1, 1, 1, 1])\n"
     ]
    }
   ],
   "source": [
    "torch.manual_seed(42)\n",
    "# Create a random tensor with a similiar number of dimensions to our images\n",
    "random_tensor = torch.randn(size=(1, 1, 2, 2))\n",
    "print(f\"Random tensor:\\n{random_tensor}\")\n",
    "print(f\"Random tensor shape: {random_tensor.shape}\")\n",
    "\n",
    "# Create a max pool layer\n",
    "max_pool_layer = nn.MaxPool2d(kernel_size=2) # see what happens when you change the kernel_size value \n",
    "\n",
    "# Pass the random tensor through the max pool layer\n",
    "max_pool_tensor = max_pool_layer(random_tensor)\n",
    "print(f\"\\nMax pool tensor:\\n{max_pool_tensor} <- this is the maximum value from random_tensor\")\n",
    "print(f\"Max pool tensor shape: {max_pool_tensor.shape}\")"
   ]
  },
  {
   "cell_type": "markdown",
   "id": "002e586e-dcb3-40fe-a7dd-a1c18a3b8da0",
   "metadata": {
    "id": "002e586e-dcb3-40fe-a7dd-a1c18a3b8da0"
   },
   "source": [
    "Notice the final two dimensions between `random_tensor` and `max_pool_tensor`, they go from `[2, 2]` to `[1, 1]`.\n",
    "\n",
    "In essence, they get halved.\n",
    "\n",
    "And the change would be different for different values of `kernel_size` for `nn.MaxPool2d()`.\n",
    "\n",
    "Also notice the value leftover in `max_pool_tensor` is the **maximum** value from `random_tensor`.\n",
    "\n",
    "What's happening here?\n",
    "\n",
    "This is another important piece of the puzzle of neural networks.\n",
    "\n",
    "Essentially, **every layer in a neural network is trying to compress data from higher dimensional space to lower dimensional space**. \n",
    "\n",
    "In other words, take a lot of numbers (raw data) and learn patterns in those numbers, patterns that are predictive whilst also being *smaller* in size than the original values.\n",
    "\n",
    "From an artificial intelligence perspective, you could consider the whole goal of a neural network to *compress* information.\n",
    "\n",
    "![each layer of a neural network compresses the original input data into a smaller representation that is (hopefully) capable of making predictions on future input data](https://raw.githubusercontent.com/mrdbourke/pytorch-deep-learning/main/images/03-conv-net-as-compression.png)\n",
    "\n",
    "This means, that from the point of view of a neural network, intelligence is compression.\n",
    "\n",
    "This is the idea of the use of a `nn.MaxPool2d()` layer: take the maximum value from a portion of a tensor and disregard the rest.\n",
    "\n",
    "In essence, lowering the dimensionality of a tensor whilst still retaining a (hopefully) significant portion of the information.\n",
    "\n",
    "It is the same story for a `nn.Conv2d()` layer.\n",
    "\n",
    "Except instead of just taking the maximum, the `nn.Conv2d()` performs a convolutional operation on the data (see this in action on the [CNN Explainer webpage](https://poloclub.github.io/cnn-explainer/)).\n",
    "\n",
    "> **Exercise:** What do you think the [`nn.AvgPool2d()`](https://pytorch.org/docs/stable/generated/torch.nn.AvgPool2d.html) layer does? Try making a random tensor like we did above and passing it through. Check the input and output shapes as well as the input and output values.\n",
    "\n",
    "> **Extra-curriculum:** Lookup \"most common convolutional neural networks\", what architectures do you find? Are any of them contained within the [`torchvision.models`](https://pytorch.org/vision/stable/models.html) library? What do you think you could do with these?"
   ]
  },
  {
   "cell_type": "markdown",
   "id": "39a3c646-52f0-4f4b-8527-2fc33d0dfb13",
   "metadata": {
    "id": "39a3c646-52f0-4f4b-8527-2fc33d0dfb13"
   },
   "source": [
    "### 7.3 Setup a loss function and optimizer for `model_2`\n",
    "\n",
    "We've stepped through the layers in our first CNN enough.\n",
    "\n",
    "But remember, if something still isn't clear, try starting small.\n",
    "\n",
    "Pick a single layer of a model, pass some data through it and see what happens.\n",
    "\n",
    "Now it's time to move forward and get to training!\n",
    "\n",
    "Let's setup a loss function and an optimizer.\n",
    "\n",
    "We'll use the functions as before, `nn.CrossEntropyLoss()` as the loss function (since we're working with multi-class classification data).\n",
    "\n",
    "And `torch.optim.SGD()` as the optimizer to optimize `model_2.parameters()` with a learning rate of `0.1`."
   ]
  },
  {
   "cell_type": "code",
   "execution_count": 57,
   "id": "06a76a1b-5f6f-4018-bf7b-8388b385476f",
   "metadata": {
    "id": "06a76a1b-5f6f-4018-bf7b-8388b385476f"
   },
   "outputs": [],
   "source": [
    "# Setup loss and optimizer\n",
    "loss_fn = nn.CrossEntropyLoss()\n",
    "optimizer = torch.optim.SGD(params=model_2.parameters(), \n",
    "                             lr=0.1)"
   ]
  },
  {
   "cell_type": "markdown",
   "id": "758bc223-a244-4604-a07a-e2fc2f96c2f6",
   "metadata": {
    "id": "758bc223-a244-4604-a07a-e2fc2f96c2f6"
   },
   "source": [
    "### 7.4 Training and testing `model_2` using our training and test functions\n",
    "\n",
    "Loss and optimizer ready!\n",
    "\n",
    "Time to train and test.\n",
    "\n",
    "We'll use our `train_step()` and `test_step()` functions we created before.\n",
    "\n",
    "We'll also measure the time to compare it to our other models."
   ]
  },
  {
   "cell_type": "code",
   "execution_count": 58,
   "id": "861d126e-d876-40b3-9b7a-66cfc2f1bf05",
   "metadata": {
    "colab": {
     "base_uri": "https://localhost:8080/",
     "height": 327,
     "referenced_widgets": [
      "2b9c90ceb8554eaaaaf33acacecbcc11",
      "9051de473b1b456592576115260f0c48",
      "a315b7b535e4461ca11a6d96ca74411c",
      "4cd01ed6c2534d4e80a0af2e9da02052",
      "eb3ca30526e24fff9194d4e82436df99",
      "6117713ba6c9490fab837cfbad7d442b",
      "d426a4e9fff447ea95c7256372e272b7",
      "fdcf4db7208d42b5acb35bf56c72fd82",
      "606df8221adf48308f48c86ac54475e8",
      "ebc6218d07f54005b0e46553b83464e1",
      "03435ac81db84ae6bb6cb99bb78167c2"
     ]
    },
    "id": "861d126e-d876-40b3-9b7a-66cfc2f1bf05",
    "outputId": "77ae1601-bf72-4239-b3f6-9fb99a1c62c0"
   },
   "outputs": [
    {
     "name": "stderr",
     "output_type": "stream",
     "text": [
      "  0%|          | 0/3 [00:00<?, ?it/s]"
     ]
    },
    {
     "name": "stdout",
     "output_type": "stream",
     "text": [
      "Epoch: 0\n",
      "---------\n",
      "Train loss: 0.61216 | Train accuracy: 77.78%\n"
     ]
    },
    {
     "name": "stderr",
     "output_type": "stream",
     "text": [
      " 33%|███▎      | 1/3 [00:14<00:28, 14.13s/it]"
     ]
    },
    {
     "name": "stdout",
     "output_type": "stream",
     "text": [
      "Test loss: 0.39502 | Test accuracy: 86.12%\n",
      "\n",
      "Epoch: 1\n",
      "---------\n",
      "Train loss: 0.36276 | Train accuracy: 86.97%\n"
     ]
    },
    {
     "name": "stderr",
     "output_type": "stream",
     "text": [
      " 67%|██████▋   | 2/3 [00:28<00:14, 14.10s/it]"
     ]
    },
    {
     "name": "stdout",
     "output_type": "stream",
     "text": [
      "Test loss: 0.34430 | Test accuracy: 87.68%\n",
      "\n",
      "Epoch: 2\n",
      "---------\n",
      "Train loss: 0.32000 | Train accuracy: 88.42%\n"
     ]
    },
    {
     "name": "stderr",
     "output_type": "stream",
     "text": [
      "100%|██████████| 3/3 [00:42<00:00, 14.08s/it]"
     ]
    },
    {
     "name": "stdout",
     "output_type": "stream",
     "text": [
      "Test loss: 0.31258 | Test accuracy: 88.88%\n",
      "\n",
      "Train time on cuda: 42.236 seconds\n"
     ]
    },
    {
     "name": "stderr",
     "output_type": "stream",
     "text": [
      "\n"
     ]
    }
   ],
   "source": [
    "torch.manual_seed(42)\n",
    "torch.cuda.manual_seed(42)\n",
    "\n",
    "# Measure time\n",
    "from timeit import default_timer as timer\n",
    "train_time_start_model_2 = timer()\n",
    "\n",
    "# Train and test model \n",
    "epochs = 3\n",
    "for epoch in tqdm(range(epochs)):\n",
    "    print(f\"Epoch: {epoch}\\n---------\")\n",
    "    train_step(data_loader=train_dataloader, \n",
    "        model=model_2, \n",
    "        loss_fn=loss_fn,\n",
    "        optimizer=optimizer,\n",
    "        accuracy_fn=accuracy_fn,\n",
    "        device=device\n",
    "    )\n",
    "    test_step(data_loader=test_dataloader,\n",
    "        model=model_2,\n",
    "        loss_fn=loss_fn,\n",
    "        accuracy_fn=accuracy_fn,\n",
    "        device=device\n",
    "    )\n",
    "\n",
    "train_time_end_model_2 = timer()\n",
    "total_train_time_model_2 = print_train_time(start=train_time_start_model_2,\n",
    "                                           end=train_time_end_model_2,\n",
    "                                           device=device)"
   ]
  },
  {
   "cell_type": "markdown",
   "id": "cfec7b7e-4dba-4016-957a-a29c6c10fde0",
   "metadata": {
    "id": "cfec7b7e-4dba-4016-957a-a29c6c10fde0"
   },
   "source": [
    "Woah! Looks like the convolutional and max pooling layers helped improve performance a little.\n",
    "\n",
    "Let's evaluate `model_2`'s results with our `eval_model()` function."
   ]
  },
  {
   "cell_type": "code",
   "execution_count": 59,
   "id": "c1bf8b89-1389-4395-a1c4-9c6e94d9e71c",
   "metadata": {
    "colab": {
     "base_uri": "https://localhost:8080/"
    },
    "id": "c1bf8b89-1389-4395-a1c4-9c6e94d9e71c",
    "outputId": "6ccddfc5-a86b-409d-d329-0d140f5b2f10"
   },
   "outputs": [
    {
     "data": {
      "text/plain": [
       "{'model_name': 'FashionMNISTModelV2',\n",
       " 'model_loss': 0.31258341670036316,\n",
       " 'model_acc': 88.87779552715655}"
      ]
     },
     "execution_count": 59,
     "metadata": {},
     "output_type": "execute_result"
    }
   ],
   "source": [
    "# Get model_2 results \n",
    "model_2_results = eval_model(\n",
    "    model=model_2,\n",
    "    data_loader=test_dataloader,\n",
    "    loss_fn=loss_fn,\n",
    "    accuracy_fn=accuracy_fn\n",
    ")\n",
    "model_2_results"
   ]
  },
  {
   "cell_type": "markdown",
   "id": "24c5ff68-b0bc-4b09-9da6-696736bc262d",
   "metadata": {
    "id": "24c5ff68-b0bc-4b09-9da6-696736bc262d"
   },
   "source": [
    "## 8. Compare model results and training time\n",
    "\n",
    "We've trained three different models.\n",
    "\n",
    "1. `model_0` - our baseline model with two `nn.Linear()` layers.\n",
    "2. `model_1` - the same setup as our baseline model except with `nn.ReLU()` layers in between the `nn.Linear()` layers.\n",
    "3. `model_2` - our first CNN model that mimics the TinyVGG architecture on the CNN Explainer website.\n",
    "\n",
    "This is a regular practice in machine learning.\n",
    "\n",
    "Building multiple models and performing multiple training experiments to see which performs best.\n",
    "\n",
    "Let's combine our model results dictionaries into a DataFrame and find out."
   ]
  },
  {
   "cell_type": "code",
   "execution_count": 60,
   "id": "52d84ee1-1ad4-4860-b147-f8912c1febc7",
   "metadata": {
    "colab": {
     "base_uri": "https://localhost:8080/",
     "height": 143
    },
    "id": "52d84ee1-1ad4-4860-b147-f8912c1febc7",
    "outputId": "6eebb1ea-293a-4ae1-c054-f6154868426c"
   },
   "outputs": [
    {
     "data": {
      "text/html": [
       "<div>\n",
       "<style scoped>\n",
       "    .dataframe tbody tr th:only-of-type {\n",
       "        vertical-align: middle;\n",
       "    }\n",
       "\n",
       "    .dataframe tbody tr th {\n",
       "        vertical-align: top;\n",
       "    }\n",
       "\n",
       "    .dataframe thead th {\n",
       "        text-align: right;\n",
       "    }\n",
       "</style>\n",
       "<table border=\"1\" class=\"dataframe\">\n",
       "  <thead>\n",
       "    <tr style=\"text-align: right;\">\n",
       "      <th></th>\n",
       "      <th>model_name</th>\n",
       "      <th>model_loss</th>\n",
       "      <th>model_acc</th>\n",
       "    </tr>\n",
       "  </thead>\n",
       "  <tbody>\n",
       "    <tr>\n",
       "      <th>0</th>\n",
       "      <td>FashionMNISTModelV0</td>\n",
       "      <td>0.476639</td>\n",
       "      <td>83.426518</td>\n",
       "    </tr>\n",
       "    <tr>\n",
       "      <th>1</th>\n",
       "      <td>FashionMNISTModelV1</td>\n",
       "      <td>0.685001</td>\n",
       "      <td>75.019968</td>\n",
       "    </tr>\n",
       "    <tr>\n",
       "      <th>2</th>\n",
       "      <td>FashionMNISTModelV2</td>\n",
       "      <td>0.312583</td>\n",
       "      <td>88.877796</td>\n",
       "    </tr>\n",
       "  </tbody>\n",
       "</table>\n",
       "</div>"
      ],
      "text/plain": [
       "            model_name  model_loss  model_acc\n",
       "0  FashionMNISTModelV0    0.476639  83.426518\n",
       "1  FashionMNISTModelV1    0.685001  75.019968\n",
       "2  FashionMNISTModelV2    0.312583  88.877796"
      ]
     },
     "execution_count": 60,
     "metadata": {},
     "output_type": "execute_result"
    }
   ],
   "source": [
    "import pandas as pd\n",
    "compare_results = pd.DataFrame([model_0_results, model_1_results, model_2_results])\n",
    "compare_results"
   ]
  },
  {
   "cell_type": "markdown",
   "id": "c67f3fb5-ce7b-40b8-86a0-2797492de0ef",
   "metadata": {
    "id": "c67f3fb5-ce7b-40b8-86a0-2797492de0ef"
   },
   "source": [
    "Nice!\n",
    "\n",
    "We can add the training time values too."
   ]
  },
  {
   "cell_type": "code",
   "execution_count": 61,
   "id": "297af38f-e69f-4c6f-9027-fcaf0482a55c",
   "metadata": {
    "colab": {
     "base_uri": "https://localhost:8080/",
     "height": 143
    },
    "id": "297af38f-e69f-4c6f-9027-fcaf0482a55c",
    "outputId": "67c01781-78c2-47e8-a1ee-452869bea5e2"
   },
   "outputs": [
    {
     "data": {
      "text/html": [
       "<div>\n",
       "<style scoped>\n",
       "    .dataframe tbody tr th:only-of-type {\n",
       "        vertical-align: middle;\n",
       "    }\n",
       "\n",
       "    .dataframe tbody tr th {\n",
       "        vertical-align: top;\n",
       "    }\n",
       "\n",
       "    .dataframe thead th {\n",
       "        text-align: right;\n",
       "    }\n",
       "</style>\n",
       "<table border=\"1\" class=\"dataframe\">\n",
       "  <thead>\n",
       "    <tr style=\"text-align: right;\">\n",
       "      <th></th>\n",
       "      <th>model_name</th>\n",
       "      <th>model_loss</th>\n",
       "      <th>model_acc</th>\n",
       "      <th>training_time</th>\n",
       "    </tr>\n",
       "  </thead>\n",
       "  <tbody>\n",
       "    <tr>\n",
       "      <th>0</th>\n",
       "      <td>FashionMNISTModelV0</td>\n",
       "      <td>0.476639</td>\n",
       "      <td>83.426518</td>\n",
       "      <td>27.378091</td>\n",
       "    </tr>\n",
       "    <tr>\n",
       "      <th>1</th>\n",
       "      <td>FashionMNISTModelV1</td>\n",
       "      <td>0.685001</td>\n",
       "      <td>75.019968</td>\n",
       "      <td>34.298789</td>\n",
       "    </tr>\n",
       "    <tr>\n",
       "      <th>2</th>\n",
       "      <td>FashionMNISTModelV2</td>\n",
       "      <td>0.312583</td>\n",
       "      <td>88.877796</td>\n",
       "      <td>42.236374</td>\n",
       "    </tr>\n",
       "  </tbody>\n",
       "</table>\n",
       "</div>"
      ],
      "text/plain": [
       "            model_name  model_loss  model_acc  training_time\n",
       "0  FashionMNISTModelV0    0.476639  83.426518      27.378091\n",
       "1  FashionMNISTModelV1    0.685001  75.019968      34.298789\n",
       "2  FashionMNISTModelV2    0.312583  88.877796      42.236374"
      ]
     },
     "execution_count": 61,
     "metadata": {},
     "output_type": "execute_result"
    }
   ],
   "source": [
    "# Add training times to results comparison\n",
    "compare_results[\"training_time\"] = [total_train_time_model_0,\n",
    "                                    total_train_time_model_1,\n",
    "                                    total_train_time_model_2]\n",
    "compare_results"
   ]
  },
  {
   "cell_type": "markdown",
   "id": "fbbe5832-1081-4c76-8d5b-06c7a06da7b9",
   "metadata": {
    "id": "fbbe5832-1081-4c76-8d5b-06c7a06da7b9"
   },
   "source": [
    "It looks like our CNN (`FashionMNISTModelV2`) model performed the best (lowest loss, highest accuracy) but had the longest training time.\n",
    "\n",
    "And our baseline model (`FashionMNISTModelV0`) performed better than `model_1` (`FashionMNISTModelV1`).\n",
    "\n",
    "### Performance-speed tradeoff\n",
    "\n",
    "Something to be aware of in machine learning is the **performance-speed** tradeoff.\n",
    "\n",
    "Generally, you get better performance out of a larger, more complex model (like we did with `model_2`).\n",
    "\n",
    "However, this performance increase often comes at a sacrifice of training speed and inference speed.\n",
    "\n",
    "> **Note:** The training times you get will be very dependant on the hardware you use. \n",
    ">\n",
    "> Generally, the more CPU cores you have, the faster your models will train on CPU. And similar for GPUs.\n",
    "> \n",
    "> Newer hardware (in terms of age) will also often train models faster due to incorporating technology advances.\n",
    "\n",
    "How about we get visual?"
   ]
  },
  {
   "cell_type": "code",
   "execution_count": 62,
   "id": "5eb0df60-9318-47d0-adce-f8788ed3999e",
   "metadata": {
    "colab": {
     "base_uri": "https://localhost:8080/",
     "height": 449
    },
    "id": "5eb0df60-9318-47d0-adce-f8788ed3999e",
    "outputId": "d904e039-1544-49f5-bed7-b17555d03b5a"
   },
   "outputs": [
    {
     "data": {
      "image/png": "[encoded data removed]",
      "text/plain": [
       "<Figure size 640x480 with 1 Axes>"
      ]
     },
     "metadata": {},
     "output_type": "display_data"
    }
   ],
   "source": [
    "# Visualize our model results\n",
    "compare_results.set_index(\"model_name\")[\"model_acc\"].plot(kind=\"barh\")\n",
    "plt.xlabel(\"accuracy (%)\")\n",
    "plt.ylabel(\"model\");"
   ]
  },
  {
   "cell_type": "code",
   "execution_count": 63,
   "id": "9e135a43",
   "metadata": {},
   "outputs": [
    {
     "data": {
      "image/png": "[encoded data removed]",
      "text/plain": [
       "<Figure size 640x480 with 1 Axes>"
      ]
     },
     "metadata": {},
     "output_type": "display_data"
    }
   ],
   "source": [
    "# Visualize our model results\n",
    "compare_results.set_index(\"model_name\")[\"training_time\"].plot(kind=\"barh\")\n",
    "plt.xlabel(\"training time [s]\")\n",
    "plt.ylabel(\"model\");"
   ]
  },
  {
   "cell_type": "markdown",
   "id": "0ba50d51-adb3-4e49-9b9a-85173e747352",
   "metadata": {
    "id": "0ba50d51-adb3-4e49-9b9a-85173e747352"
   },
   "source": [
    "## 9. Make and evaluate random predictions with best model\n",
    "\n",
    "Alright, we've compared our models to each other, let's further evaluate our best performing model, `model_2`.\n",
    "\n",
    "To do so, let's create a function `make_predictions()` where we can pass the model and some data for it to predict on."
   ]
  },
  {
   "cell_type": "code",
   "execution_count": 84,
   "id": "d1d5d3e7-9601-4141-8bd7-9abbd016bf6c",
   "metadata": {
    "id": "d1d5d3e7-9601-4141-8bd7-9abbd016bf6c"
   },
   "outputs": [],
   "source": [
    "def make_predictions(model: torch.nn.Module, data: list, device: torch.device = device):\n",
    "    pred_probs = []\n",
    "    model.eval()\n",
    "    with torch.inference_mode():\n",
    "        for sample in data:\n",
    "            # Prepare sample\n",
    "            sample = torch.unsqueeze(sample, dim=0).to(device) # Add an extra dimension and send sample to device\n",
    "\n",
    "            # Forward pass (model outputs raw logit)\n",
    "            pred_logit = model(sample)\n",
    "\n",
    "            # Get prediction probability (logit -> prediction probability)\n",
    "            pred_prob = torch.softmax(pred_logit.squeeze(), dim=0) # note: perform softmax on the \"logits\" dimension, not \"batch\" dimension (in this case we have a batch size of 1, so can perform on dim=0)\n",
    "\n",
    "            # Get pred_prob off GPU for further calculations\n",
    "            pred_probs.append(pred_prob.cpu())\n",
    "            \n",
    "    # Stack the pred_probs to turn list into a tensor\n",
    "    return torch.stack(pred_probs)"
   ]
  },
  {
   "cell_type": "code",
   "execution_count": 85,
   "id": "36e3d6e7",
   "metadata": {},
   "outputs": [
    {
     "data": {
      "text/plain": [
       "<matplotlib.image.AxesImage at 0x246da167310>"
      ]
     },
     "execution_count": 85,
     "metadata": {},
     "output_type": "execute_result"
    },
    {
     "data": {
      "image/png": "[encoded data removed]",
      "text/plain": [
       "<Figure size 640x480 with 1 Axes>"
      ]
     },
     "metadata": {},
     "output_type": "display_data"
    }
   ],
   "source": [
    "img, label = test_data[1]\n",
    "plt.imshow(img.squeeze(), cmap='gray')"
   ]
  },
  {
   "cell_type": "code",
   "execution_count": 140,
   "id": "420c7461-eaa9-4459-9e68-53574c758765",
   "metadata": {
    "colab": {
     "base_uri": "https://localhost:8080/"
    },
    "id": "420c7461-eaa9-4459-9e68-53574c758765",
    "outputId": "f3dd6437-4f0f-4bc2-f9e6-d0969df63a52"
   },
   "outputs": [
    {
     "name": "stdout",
     "output_type": "stream",
     "text": [
      "Test sample image shape: torch.Size([1, 28, 28])\n",
      "Test sample label: 5 (Sandal)\n"
     ]
    }
   ],
   "source": [
    "import random\n",
    "random.seed(42)\n",
    "N_SAMPLES = 16\n",
    "test_samples = []\n",
    "test_labels = []\n",
    "for sample, label in random.sample(list(test_data), k=N_SAMPLES):\n",
    "    test_samples.append(sample)\n",
    "    test_labels.append(label)\n",
    "\n",
    "# View the first test sample shape and label\n",
    "print(f\"Test sample image shape: {test_samples[0].shape}\\nTest sample label: {test_labels[0]} ({class_names[test_labels[0]]})\")"
   ]
  },
  {
   "cell_type": "code",
   "execution_count": 141,
   "id": "1DYqA0r4SkrV",
   "metadata": {
    "colab": {
     "base_uri": "https://localhost:8080/"
    },
    "id": "1DYqA0r4SkrV",
    "outputId": "97bc573d-b39b-4eb2-caad-0379257b555e"
   },
   "outputs": [
    {
     "data": {
      "text/plain": [
       "tensor([[3.9703e-07, 3.2616e-08, 2.5350e-09, 4.4762e-08, 6.7006e-09, 9.9961e-01,\n",
       "         5.7583e-07, 2.6825e-06, 2.5588e-05, 3.5969e-04],\n",
       "        [2.0484e-01, 5.9130e-01, 1.7537e-03, 1.2997e-01, 4.7323e-02, 3.4075e-05,\n",
       "         2.4563e-02, 1.5527e-04, 3.6486e-05, 1.8515e-05],\n",
       "        [2.5126e-05, 2.1583e-07, 6.0231e-06, 3.5479e-05, 1.1934e-06, 1.3174e-03,\n",
       "         3.3738e-05, 7.2422e-01, 2.4173e-03, 2.7194e-01],\n",
       "        [6.8008e-04, 3.5433e-04, 6.2171e-02, 2.3194e-04, 9.3581e-01, 1.0440e-06,\n",
       "         7.2480e-04, 3.0081e-06, 1.6470e-05, 7.0570e-06],\n",
       "        [3.1864e-02, 1.2982e-05, 3.9847e-05, 9.6254e-01, 1.1846e-04, 7.1308e-06,\n",
       "         5.3684e-03, 3.0355e-05, 1.4087e-05, 9.2336e-06],\n",
       "        [6.7622e-01, 2.7855e-05, 7.1031e-04, 1.6421e-03, 2.5809e-03, 3.5883e-07,\n",
       "         3.1844e-01, 2.4497e-06, 3.7496e-04, 2.7611e-07],\n",
       "        [1.9561e-04, 1.1711e-04, 4.4596e-02, 6.7087e-06, 9.3958e-01, 9.7547e-06,\n",
       "         1.5009e-02, 4.9496e-07, 4.2505e-04, 5.6911e-05],\n",
       "        [1.5457e-05, 1.9390e-05, 1.3786e-05, 1.5226e-04, 7.8964e-06, 3.3707e-03,\n",
       "         4.1528e-05, 9.9506e-01, 6.7065e-04, 6.4584e-04],\n",
       "        [7.9517e-06, 9.9918e-01, 1.1058e-08, 6.3306e-04, 1.7298e-04, 3.0249e-07,\n",
       "         1.8925e-06, 1.4483e-06, 4.1162e-07, 5.7998e-08]])"
      ]
     },
     "execution_count": 141,
     "metadata": {},
     "output_type": "execute_result"
    }
   ],
   "source": [
    "# Make predictions on test samples with model 2\n",
    "pred_probs= make_predictions(model=model_2, \n",
    "                             data=test_samples)\n",
    "\n",
    "# View first two prediction probabilities list\n",
    "pred_probs[:9]"
   ]
  },
  {
   "cell_type": "markdown",
   "id": "e9f40dd9-7987-42a9-84cc-65dc912a6345",
   "metadata": {
    "id": "e9f40dd9-7987-42a9-84cc-65dc912a6345"
   },
   "source": [
    "And now we can use our `make_predictions()` function to predict on `test_samples`."
   ]
  },
  {
   "cell_type": "code",
   "execution_count": 142,
   "id": "79de2ac1-7d4b-4f81-ae8a-90099bca2a3d",
   "metadata": {
    "colab": {
     "base_uri": "https://localhost:8080/"
    },
    "id": "79de2ac1-7d4b-4f81-ae8a-90099bca2a3d",
    "outputId": "918b07bc-4545-4401-84d5-8796ff5acf4c"
   },
   "outputs": [
    {
     "data": {
      "text/plain": [
       "tensor([[3.9703e-07, 3.2616e-08, 2.5350e-09, 4.4762e-08, 6.7006e-09, 9.9961e-01,\n",
       "         5.7583e-07, 2.6825e-06, 2.5588e-05, 3.5969e-04],\n",
       "        [2.0484e-01, 5.9130e-01, 1.7537e-03, 1.2997e-01, 4.7323e-02, 3.4075e-05,\n",
       "         2.4563e-02, 1.5527e-04, 3.6486e-05, 1.8515e-05],\n",
       "        [2.5126e-05, 2.1583e-07, 6.0231e-06, 3.5479e-05, 1.1934e-06, 1.3174e-03,\n",
       "         3.3738e-05, 7.2422e-01, 2.4173e-03, 2.7194e-01],\n",
       "        [6.8008e-04, 3.5433e-04, 6.2171e-02, 2.3194e-04, 9.3581e-01, 1.0440e-06,\n",
       "         7.2480e-04, 3.0081e-06, 1.6470e-05, 7.0570e-06],\n",
       "        [3.1864e-02, 1.2982e-05, 3.9847e-05, 9.6254e-01, 1.1846e-04, 7.1308e-06,\n",
       "         5.3684e-03, 3.0355e-05, 1.4087e-05, 9.2336e-06],\n",
       "        [6.7622e-01, 2.7855e-05, 7.1031e-04, 1.6421e-03, 2.5809e-03, 3.5883e-07,\n",
       "         3.1844e-01, 2.4497e-06, 3.7496e-04, 2.7611e-07],\n",
       "        [1.9561e-04, 1.1711e-04, 4.4596e-02, 6.7087e-06, 9.3958e-01, 9.7547e-06,\n",
       "         1.5009e-02, 4.9496e-07, 4.2505e-04, 5.6911e-05],\n",
       "        [1.5457e-05, 1.9390e-05, 1.3786e-05, 1.5226e-04, 7.8964e-06, 3.3707e-03,\n",
       "         4.1528e-05, 9.9506e-01, 6.7065e-04, 6.4584e-04],\n",
       "        [7.9517e-06, 9.9918e-01, 1.1058e-08, 6.3306e-04, 1.7298e-04, 3.0249e-07,\n",
       "         1.8925e-06, 1.4483e-06, 4.1162e-07, 5.7998e-08]])"
      ]
     },
     "execution_count": 142,
     "metadata": {},
     "output_type": "execute_result"
    }
   ],
   "source": [
    "# Make predictions on test samples with model 2\n",
    "pred_probs= make_predictions(model=model_2, \n",
    "                             data=test_samples)\n",
    "\n",
    "# View first two prediction probabilities list\n",
    "pred_probs[:9]"
   ]
  },
  {
   "cell_type": "markdown",
   "id": "22d3c080-4eb6-4b5d-a5c4-2319e78228af",
   "metadata": {
    "id": "22d3c080-4eb6-4b5d-a5c4-2319e78228af"
   },
   "source": [
    "Excellent!\n",
    "\n",
    "And now we can go from prediction probabilities to prediction labels by taking the `torch.argmax()` of the output of the `torch.softmax()` activation function."
   ]
  },
  {
   "cell_type": "code",
   "execution_count": 143,
   "id": "f9d97bcc-4310-4851-a1f8-6bcd757e9b26",
   "metadata": {
    "colab": {
     "base_uri": "https://localhost:8080/"
    },
    "id": "f9d97bcc-4310-4851-a1f8-6bcd757e9b26",
    "outputId": "9d0f0bf9-a641-45e7-af77-6621fd1cfcc4"
   },
   "outputs": [
    {
     "data": {
      "text/plain": [
       "tensor([5, 1, 7, 4, 3, 0, 4, 7, 1, 9, 7, 2, 0, 1, 0, 4])"
      ]
     },
     "execution_count": 143,
     "metadata": {},
     "output_type": "execute_result"
    }
   ],
   "source": [
    "# Turn the prediction probabilities into prediction labels by taking the argmax()\n",
    "pred_classes = pred_probs.argmax(dim=1)\n",
    "pred_classes"
   ]
  },
  {
   "cell_type": "code",
   "execution_count": 144,
   "id": "1141af97-0990-4920-83d4-c13cca3f9abc",
   "metadata": {
    "colab": {
     "base_uri": "https://localhost:8080/"
    },
    "id": "1141af97-0990-4920-83d4-c13cca3f9abc",
    "outputId": "c69cddd4-bbe9-495e-d477-6ea0a6c7d8de"
   },
   "outputs": [
    {
     "data": {
      "text/plain": [
       "([5, 1, 7, 4, 3, 0, 4, 7, 1, 9, 7, 2, 0, 1, 0, 4],\n",
       " tensor([5, 1, 7, 4, 3, 0, 4, 7, 1, 9, 7, 2, 0, 1, 0, 4]))"
      ]
     },
     "execution_count": 144,
     "metadata": {},
     "output_type": "execute_result"
    }
   ],
   "source": [
    "# Are our predictions in the same form as our test labels? \n",
    "test_labels, pred_classes"
   ]
  },
  {
   "cell_type": "markdown",
   "id": "4ea04387-c9ad-424f-8297-defd7b685683",
   "metadata": {
    "id": "4ea04387-c9ad-424f-8297-defd7b685683"
   },
   "source": [
    "Now our predicted classes are in the same format as our test labels, we can compare.\n",
    "\n",
    "Since we're dealing with image data, let's stay true to the data explorer's motto. \n",
    "\n",
    "\"Visualize, visualize, visualize!\""
   ]
  },
  {
   "cell_type": "code",
   "execution_count": 145,
   "id": "87c8ac75",
   "metadata": {},
   "outputs": [
    {
     "data": {
      "text/plain": [
       "['T-shirt/top',\n",
       " 'Trouser',\n",
       " 'Pullover',\n",
       " 'Dress',\n",
       " 'Coat',\n",
       " 'Sandal',\n",
       " 'Shirt',\n",
       " 'Sneaker',\n",
       " 'Bag',\n",
       " 'Ankle boot']"
      ]
     },
     "execution_count": 145,
     "metadata": {},
     "output_type": "execute_result"
    }
   ],
   "source": [
    "class_names"
   ]
  },
  {
   "cell_type": "code",
   "execution_count": 146,
   "id": "679cb5f7-bb66-42dd-a4d6-400b27b7c019",
   "metadata": {
    "colab": {
     "base_uri": "https://localhost:8080/",
     "height": 749
    },
    "id": "679cb5f7-bb66-42dd-a4d6-400b27b7c019",
    "outputId": "3aae0abe-9c19-4054-d8db-7e00403666aa"
   },
   "outputs": [
    {
     "data": {
      "image/png": "[encoded data removed]",
      "text/plain": [
       "<Figure size 1600x1600 with 16 Axes>"
      ]
     },
     "metadata": {},
     "output_type": "display_data"
    }
   ],
   "source": [
    "# Plot predictions\n",
    "import numpy as np\n",
    "nrows = int(np.sqrt(N_SAMPLES))\n",
    "ncols = int(np.sqrt(N_SAMPLES))\n",
    "plt.figure(figsize=(16, 16))\n",
    "\n",
    "for i, sample in enumerate(test_samples):\n",
    "  # Create a subplot\n",
    "  plt.subplot(nrows, ncols, i+1)\n",
    "\n",
    "  # Plot the target image\n",
    "  plt.imshow(sample.squeeze(), cmap=\"gray\")\n",
    "\n",
    "  # Find the prediction label (in text form, e.g. \"Sandal\")\n",
    "  pred_label = class_names[pred_classes[i]]\n",
    "\n",
    "  # Get the truth label (in text form, e.g. \"T-shirt\")\n",
    "  truth_label = class_names[test_labels[i]] \n",
    "\n",
    "  # Create the title text of the plot\n",
    "  title_text = f\"Pred: {pred_label} | Truth: {truth_label}\"\n",
    "  \n",
    "  # Check for equality and change title colour accordingly\n",
    "  if pred_label == truth_label:\n",
    "      plt.title(title_text, fontsize=10, c=\"g\") # green text if correct\n",
    "  else:\n",
    "      plt.title(title_text, fontsize=10, c=\"r\") # red text if wrong\n",
    "  plt.axis(False);"
   ]
  },
  {
   "cell_type": "markdown",
   "id": "5ce6dc44-90a5-48c3-91a5-810fa084d98b",
   "metadata": {
    "id": "5ce6dc44-90a5-48c3-91a5-810fa084d98b"
   },
   "source": [
    "Well, well, well, doesn't that look good!\n",
    "\n",
    "Not bad for a couple dozen lines of PyTorch code!"
   ]
  },
  {
   "cell_type": "markdown",
   "id": "ab108078-6770-4cb9-ac62-a761ff159aba",
   "metadata": {
    "id": "ab108078-6770-4cb9-ac62-a761ff159aba"
   },
   "source": [
    "## 10. Making a confusion matrix for further prediction evaluation\n",
    "\n",
    "There are many [different evaluation metrics](https://www.learnpytorch.io/02_pytorch_classification/#9-more-classification-evaluation-metrics) we can use for classification problems. \n",
    "\n",
    "One of the most visual is a [confusion matrix](https://www.dataschool.io/simple-guide-to-confusion-matrix-terminology/).\n",
    "\n",
    "A confusion matrix shows you where your classification model got confused between predicitons and true labels.\n",
    "\n",
    "To make a confusion matrix, we'll go through three steps:\n",
    "1. Make predictions with our trained model, `model_2` (a confusion matrix compares predictions to true labels).\n",
    "2. Make a confusion matrix using [`torchmetrics.ConfusionMatrix`](https://torchmetrics.readthedocs.io/en/latest/references/modules.html?highlight=confusion#confusionmatrix). https://pytorch.org/ignite/generated/ignite.metrics.confusion_matrix.ConfusionMatrix.html\n",
    "3. Plot the confusion matrix using [`mlxtend.plotting.plot_confusion_matrix()`](http://rasbt.github.io/mlxtend/user_guide/plotting/plot_confusion_matrix/).\n",
    "\n",
    "Let's start by making predictions with our trained model."
   ]
  },
  {
   "cell_type": "code",
   "execution_count": 147,
   "id": "065b8090-c9c5-43df-b5c1-b45ba33af1be",
   "metadata": {
    "colab": {
     "base_uri": "https://localhost:8080/",
     "height": 49,
     "referenced_widgets": [
      "d3ab200da5f940d5b45396f83bd835e2",
      "f35a13b3e55342aeb24b188c1d81a9e5",
      "4a282c1974524bd3a7eba45fd3112129",
      "44d4196e99a4412f893ba8ac4672915d",
      "12d1a54d4107428eae2e64ff0a255c50",
      "4d6eb654b2794b0a95f31ac94b52a4ca",
      "fe5cff037f714657996f0541baee39f3",
      "0670e3e758e6486b9cf4e2797b4b619a",
      "3c590fc27b624584ba564e18bc42a2e4",
      "629ca5b704b84a958d4ee477907f64a1",
      "4d7c25dcdde8414382be4cf63a9cacf9"
     ]
    },
    "id": "065b8090-c9c5-43df-b5c1-b45ba33af1be",
    "outputId": "92a8bee2-71f5-4504-d534-cc63138c413d"
   },
   "outputs": [
    {
     "name": "stderr",
     "output_type": "stream",
     "text": [
      "Making predictions: 100%|██████████| 313/313 [00:01<00:00, 180.39it/s]\n"
     ]
    }
   ],
   "source": [
    "# Import tqdm for progress bar\n",
    "from tqdm.auto import tqdm\n",
    "\n",
    "# 1. Make predictions with trained model\n",
    "y_preds = []\n",
    "model_2.eval()\n",
    "with torch.inference_mode():\n",
    "  for X, y in tqdm(test_dataloader, desc=\"Making predictions\"):\n",
    "    # Send data and targets to target device\n",
    "    X, y = X.to(device), y.to(device)\n",
    "    # Do the forward pass\n",
    "    y_logit = model_2(X)\n",
    "    # Turn predictions from logits -> prediction probabilities -> predictions labels\n",
    "    y_pred = torch.softmax(y_logit, dim=1).argmax(dim=1) # note: perform softmax on the \"logits\" dimension, not \"batch\" dimension (in this case we have a batch size of 32, so can perform on dim=1)\n",
    "    # Put predictions on CPU for evaluation\n",
    "    y_preds.append(y_pred.cpu())\n",
    "# Concatenate list of predictions into a tensor\n",
    "y_pred_tensor = torch.cat(y_preds)\n",
    "#print(y_preds[:10].shape)"
   ]
  },
  {
   "cell_type": "markdown",
   "id": "362002d9-ec41-4c74-a210-b5d4f53410c4",
   "metadata": {
    "id": "362002d9-ec41-4c74-a210-b5d4f53410c4"
   },
   "source": [
    "Wonderful!\n",
    "\n",
    "Now we've got predictions, let's go through steps 2 & 3:\n",
    "2. Make a confusion matrix using [`torchmetrics.ConfusionMatrix`](https://torchmetrics.readthedocs.io/en/latest/references/modules.html?highlight=confusion#confusionmatrix).\n",
    "3. Plot the confusion matrix using [`mlxtend.plotting.plot_confusion_matrix()`](http://rasbt.github.io/mlxtend/user_guide/plotting/plot_confusion_matrix/).\n",
    "\n",
    "First we'll need to make sure we've got `torchmetrics` and `mlxtend` installed (these two libraries will help us make and visual a confusion matrix).\n",
    "\n",
    "> **Note:** If you're using Google Colab, the default version of `mlxtend` installed is 0.14.0 (as of March 2022), however, for the parameters of the `plot_confusion_matrix()` function we'd like use, we need 0.19.0 or higher. "
   ]
  },
  {
   "cell_type": "code",
   "execution_count": 148,
   "id": "8c88c394",
   "metadata": {},
   "outputs": [
    {
     "name": "stdout",
     "output_type": "stream",
     "text": [
      "mlxtend version: 0.23.1\n"
     ]
    }
   ],
   "source": [
    "# See if torchmetrics exists, if not, install it\n",
    "import sys\n",
    "try:\n",
    "    import torchmetrics, mlxtend\n",
    "    print(f\"mlxtend version: {mlxtend.__version__}\")\n",
    "    assert int(mlxtend.__version__.split(\".\")[1]) >= 19, \"mlxtend version should be 0.19.0 or higher\"\n",
    "except:\n",
    "    # Use subprocess to run pip install in Python\n",
    "    import subprocess\n",
    "    subprocess.check_call([sys.executable, \"-m\", \"pip\", \"install\", \"--quiet\", \"torchmetrics\", \"-U\", \"mlxtend\"])\n",
    "    \n",
    "    import torchmetrics, mlxtend\n",
    "    print(f\"mlxtend version: {mlxtend.__version__}\")"
   ]
  },
  {
   "cell_type": "code",
   "execution_count": 149,
   "id": "e6c0a05d-d3e0-4b86-9ef7-ee6ea5629b07",
   "metadata": {
    "colab": {
     "base_uri": "https://localhost:8080/"
    },
    "id": "e6c0a05d-d3e0-4b86-9ef7-ee6ea5629b07",
    "outputId": "b37df16c-c292-4347-807c-91c97bf81f20"
   },
   "outputs": [],
   "source": [
    "# See if torchmetrics exists, if not, install it\n",
    "#try:\n",
    "#    import torchmetrics, mlxtend\n",
    "#    print(f\"mlxtend version: {mlxtend.__version__}\")\n",
    "#    assert int(mlxtend.__version__.split(\".\")[1]) >= 19, \"mlxtend verison should be 0.19.0 or higher\"\n",
    "#except:\n",
    "#    !pip install -q torchmetrics -U mlxtend # <- Note: If you're using Google Colab, this may require restarting the runtime\n",
    "#    import torchmetrics, mlxtend\n",
    "#    print(f\"mlxtend version: {mlxtend.__version__}\")"
   ]
  },
  {
   "cell_type": "markdown",
   "id": "5245ede6-fd7f-40ad-a0b3-ae678544b84a",
   "metadata": {
    "id": "5245ede6-fd7f-40ad-a0b3-ae678544b84a"
   },
   "source": [
    "To plot the confusion matrix, we need to make sure we've got and [`mlxtend`](http://rasbt.github.io/mlxtend/) version of 0.19.0 or higher."
   ]
  },
  {
   "cell_type": "code",
   "execution_count": 150,
   "id": "21383f88-a2dd-4678-94c6-479c592da0ab",
   "metadata": {
    "colab": {
     "base_uri": "https://localhost:8080/"
    },
    "id": "21383f88-a2dd-4678-94c6-479c592da0ab",
    "outputId": "faffbe4c-9c86-4a20-cbd6-c7e8e48e81a5"
   },
   "outputs": [
    {
     "name": "stdout",
     "output_type": "stream",
     "text": [
      "0.23.1\n"
     ]
    }
   ],
   "source": [
    "# Import mlxtend upgraded version\n",
    "import mlxtend \n",
    "print(mlxtend.__version__)\n",
    "assert int(mlxtend.__version__.split(\".\")[1]) >= 19 # should be version 0.19.0 or higher"
   ]
  },
  {
   "cell_type": "markdown",
   "id": "c91b9346-e25f-48ab-967e-425649331dc6",
   "metadata": {
    "id": "c91b9346-e25f-48ab-967e-425649331dc6"
   },
   "source": [
    "`torchmetrics` and `mlxtend` installed, let's make a confusion matrix!\n",
    "\n",
    "First we'll create a `torchmetrics.ConfusionMatrix` instance telling it how many classes we're dealing with by setting `num_classes=len(class_names)`.\n",
    "\n",
    "Then we'll create a confusion matrix (in tensor format) by passing our instance our model's predictions (`preds=y_pred_tensor`) and targets (`target=test_data.targets`).\n",
    "\n",
    "Finally we can plot our confision matrix using the `plot_confusion_matrix()` function from `mlxtend.plotting`."
   ]
  },
  {
   "cell_type": "code",
   "execution_count": 151,
   "id": "7aed6d76-ad1c-429e-b8e0-c80572e3ebf4",
   "metadata": {
    "colab": {
     "base_uri": "https://localhost:8080/",
     "height": 667
    },
    "id": "7aed6d76-ad1c-429e-b8e0-c80572e3ebf4",
    "outputId": "ae34ae74-2038-4037-f01d-77a807e4de9b"
   },
   "outputs": [
    {
     "data": {
      "image/png": "[encoded data removed]",
      "text/plain": [
       "<Figure size 1000x700 with 1 Axes>"
      ]
     },
     "metadata": {},
     "output_type": "display_data"
    }
   ],
   "source": [
    "from torchmetrics import ConfusionMatrix\n",
    "from mlxtend.plotting import plot_confusion_matrix\n",
    "\n",
    "# 2. Setup confusion matrix instance and compare predictions to targets\n",
    "confmat = ConfusionMatrix(num_classes=len(class_names), task='multiclass')\n",
    "confmat_tensor = confmat(preds=y_pred_tensor,\n",
    "                         target=test_data.targets)\n",
    "\n",
    "# 3. Plot the confusion matrix\n",
    "fig, ax = plot_confusion_matrix(\n",
    "    conf_mat=confmat_tensor.numpy(), # matplotlib likes working with NumPy \n",
    "    class_names=class_names, # turn the row and column labels into class names\n",
    "    figsize=(10, 7)\n",
    ");"
   ]
  },
  {
   "cell_type": "markdown",
   "id": "381c1c93-df30-451c-b65e-5d4c1680dc30",
   "metadata": {
    "id": "381c1c93-df30-451c-b65e-5d4c1680dc30"
   },
   "source": [
    "Woah! Doesn't that look good?\n",
    "\n",
    "We can see our model does fairly well since most of the dark squares are down the diagonal from top left to bottom right (and ideal model will have only values in these squares and 0 everywhere else).\n",
    "\n",
    "The model gets most \"confused\" on classes that are similar, for example predicting \"Pullover\" for images that are actually labelled \"Shirt\".\n",
    "\n",
    "And the same for predicting \"Shirt\" for classes that are actually labelled \"T-shirt/top\".\n",
    "\n",
    "This kind of information is often more helpful than a single accuracy metric because it tells use *where* a model is getting things wrong.\n",
    "\n",
    "It also hints at *why* the model may be getting certain things wrong.\n",
    "\n",
    "It's understandable the model sometimes predicts \"Shirt\" for images labelled \"T-shirt/top\".\n",
    "\n",
    "We can use this kind of information to further inspect our models and data to see how it could be improved.\n",
    "\n",
    "> **Exercise:** Use the trained `model_2` to make predictions on the test FashionMNIST dataset. Then plot some predictions where the model was wrong alongside what the label of the image should've been. After visualing these predictions do you think it's more of a modelling error or a data error? As in, could the model do better or are the labels of the data too close to each other (e.g. a \"Shirt\" label is too close to \"T-shirt/top\")?"
   ]
  },
  {
   "cell_type": "markdown",
   "id": "25818e83-89de-496d-8b56-af4fc9f2acc5",
   "metadata": {
    "id": "25818e83-89de-496d-8b56-af4fc9f2acc5"
   },
   "source": [
    "## 11. Save and load best performing model\n",
    "\n",
    "Let's finish this section off by saving and loading in our best performing model.\n",
    "\n",
    "Recall from [notebook 01](https://www.learnpytorch.io/01_pytorch_workflow/#5-saving-and-loading-a-pytorch-model) we can save and load a PyTorch model using a combination of:\n",
    "* `torch.save` - a function to save a whole PyTorch model or a model's `state_dict()`. \n",
    "* `torch.load` - a function to load in a saved PyTorch object.\n",
    "* `torch.nn.Module.load_state_dict()` - a function to load a saved `state_dict()` into an existing model instance.\n",
    "\n",
    "You can see more of these three in the [PyTorch saving and loading models documentation](https://pytorch.org/tutorials/beginner/saving_loading_models.html).\n",
    "\n",
    "For now, let's save our `model_2`'s `state_dict()` then load it back in and evaluate it to make sure the save and load went correctly. "
   ]
  },
  {
   "cell_type": "code",
   "execution_count": 152,
   "id": "d058e8fa-560f-4350-a154-49593ff403c9",
   "metadata": {
    "colab": {
     "base_uri": "https://localhost:8080/"
    },
    "id": "d058e8fa-560f-4350-a154-49593ff403c9",
    "outputId": "0156a518-dae2-4b25-999a-c0a77ef7ef7c"
   },
   "outputs": [
    {
     "name": "stdout",
     "output_type": "stream",
     "text": [
      "Saving model to: models\\03_pytorch_computer_vision_model_2.pth\n"
     ]
    }
   ],
   "source": [
    "from pathlib import Path\n",
    "\n",
    "# Create models directory (if it doesn't already exist), see: https://docs.python.org/3/library/pathlib.html#pathlib.Path.mkdir\n",
    "MODEL_PATH = Path(\"models\")\n",
    "MODEL_PATH.mkdir(parents=True, # create parent directories if needed\n",
    "                 exist_ok=True # if models directory already exists, don't error\n",
    ")\n",
    "\n",
    "# Create model save path\n",
    "MODEL_NAME = \"03_pytorch_computer_vision_model_2.pth\"\n",
    "MODEL_SAVE_PATH = MODEL_PATH / MODEL_NAME\n",
    "\n",
    "# Save the model state dict\n",
    "print(f\"Saving model to: {MODEL_SAVE_PATH}\")\n",
    "torch.save(obj=model_2.state_dict(), # only saving the state_dict() only saves the learned parameters\n",
    "           f=MODEL_SAVE_PATH)"
   ]
  },
  {
   "cell_type": "markdown",
   "id": "a1542284-8132-42ba-b00d-57e9b9037e4e",
   "metadata": {
    "id": "a1542284-8132-42ba-b00d-57e9b9037e4e"
   },
   "source": [
    "Now we've got a saved model `state_dict()` we can load it back in using a combination of `load_state_dict()` and `torch.load()`.\n",
    "\n",
    "Since we're using `load_state_dict()`, we'll need to create a new instance of `FashionMNISTModelV2()` with the same input parameters as our saved model `state_dict()`."
   ]
  },
  {
   "cell_type": "code",
   "execution_count": 153,
   "id": "634a8f7a-3013-4b45-b365-49b286d3c478",
   "metadata": {
    "id": "634a8f7a-3013-4b45-b365-49b286d3c478"
   },
   "outputs": [
    {
     "name": "stderr",
     "output_type": "stream",
     "text": [
      "C:\\Users\\ssre_\\AppData\\Local\\Temp\\ipykernel_30816\\3689379356.py:8: FutureWarning: You are using `torch.load` with `weights_only=False` (the current default value), which uses the default pickle module implicitly. It is possible to construct malicious pickle data which will execute arbitrary code during unpickling (See https://github.com/pytorch/pytorch/blob/main/SECURITY.md#untrusted-models for more details). In a future release, the default value for `weights_only` will be flipped to `True`. This limits the functions that could be executed during unpickling. Arbitrary objects will no longer be allowed to be loaded via this mode unless they are explicitly allowlisted by the user via `torch.serialization.add_safe_globals`. We recommend you start setting `weights_only=True` for any use case where you don't have full control of the loaded file. Please open an issue on GitHub for any issues related to this experimental feature.\n",
      "  loaded_model_2.load_state_dict(torch.load(f=MODEL_SAVE_PATH))\n"
     ]
    }
   ],
   "source": [
    "# Create a new instance of FashionMNISTModelV2 (the same class as our saved state_dict())\n",
    "# Note: loading model will error if the shapes here aren't the same as the saved version\n",
    "loaded_model_2 = FashionMNISTModelV2(input_shape=1, \n",
    "                                    hidden_units=10, # try changing this to 128 and seeing what happens \n",
    "                                    output_shape=10) \n",
    "\n",
    "# Load in the saved state_dict()\n",
    "loaded_model_2.load_state_dict(torch.load(f=MODEL_SAVE_PATH))\n",
    "\n",
    "# Send model to GPU\n",
    "loaded_model_2 = loaded_model_2.to(device)"
   ]
  },
  {
   "cell_type": "markdown",
   "id": "feeaebf4-6040-4fa5-852d-5eb8d2bbb94c",
   "metadata": {
    "id": "feeaebf4-6040-4fa5-852d-5eb8d2bbb94c"
   },
   "source": [
    "And now we've got a loaded model we can evaluate it with `eval_model()` to make sure its parameters work similarly to `model_2` prior to saving. "
   ]
  },
  {
   "cell_type": "code",
   "execution_count": 154,
   "id": "3e3bcd06-d99b-47bc-8828-9e3903285599",
   "metadata": {
    "colab": {
     "base_uri": "https://localhost:8080/"
    },
    "id": "3e3bcd06-d99b-47bc-8828-9e3903285599",
    "outputId": "c0ee1d5f-9573-4e1a-8430-ee09fb4d72cd"
   },
   "outputs": [
    {
     "data": {
      "text/plain": [
       "{'model_name': 'FashionMNISTModelV2',\n",
       " 'model_loss': 0.31258341670036316,\n",
       " 'model_acc': 88.87779552715655}"
      ]
     },
     "execution_count": 154,
     "metadata": {},
     "output_type": "execute_result"
    }
   ],
   "source": [
    "# Evaluate loaded model\n",
    "torch.manual_seed(42)\n",
    "\n",
    "loaded_model_2_results = eval_model(\n",
    "    model=loaded_model_2,\n",
    "    data_loader=test_dataloader,\n",
    "    loss_fn=loss_fn, \n",
    "    accuracy_fn=accuracy_fn\n",
    ")\n",
    "\n",
    "loaded_model_2_results"
   ]
  },
  {
   "cell_type": "markdown",
   "id": "c2b37855-c0da-4834-a2d4-a0faa8410b65",
   "metadata": {
    "id": "c2b37855-c0da-4834-a2d4-a0faa8410b65"
   },
   "source": [
    "Do these results look the same as `model_2_results`?"
   ]
  },
  {
   "cell_type": "code",
   "execution_count": 155,
   "id": "68544254-c99a-47ec-a32f-9816c21a993e",
   "metadata": {
    "colab": {
     "base_uri": "https://localhost:8080/"
    },
    "id": "68544254-c99a-47ec-a32f-9816c21a993e",
    "outputId": "74b8d4ca-d35a-4f70-e8b9-ed54f034358e"
   },
   "outputs": [
    {
     "data": {
      "text/plain": [
       "{'model_name': 'FashionMNISTModelV2',\n",
       " 'model_loss': 0.31258341670036316,\n",
       " 'model_acc': 88.87779552715655}"
      ]
     },
     "execution_count": 155,
     "metadata": {},
     "output_type": "execute_result"
    }
   ],
   "source": [
    "model_2_results"
   ]
  },
  {
   "cell_type": "markdown",
   "id": "0ee07f93-4344-4c7a-8b1d-92a56034e7b2",
   "metadata": {
    "id": "0ee07f93-4344-4c7a-8b1d-92a56034e7b2"
   },
   "source": [
    "We can find out if two tensors are close to each other using `torch.isclose()` and passing in a tolerance level of closeness via the parameters `atol` (absolute tolerance) and `rtol` (relative tolerance).\n",
    "\n",
    "If our model's results are close, the output of `torch.isclose()` should be true."
   ]
  },
  {
   "cell_type": "code",
   "execution_count": 156,
   "id": "48dcf0ba-7e00-4406-8aaa-41918856361a",
   "metadata": {
    "colab": {
     "base_uri": "https://localhost:8080/"
    },
    "id": "48dcf0ba-7e00-4406-8aaa-41918856361a",
    "outputId": "47324300-0d00-46de-d130-1283ad044ef8"
   },
   "outputs": [
    {
     "data": {
      "text/plain": [
       "tensor(True)"
      ]
     },
     "execution_count": 156,
     "metadata": {},
     "output_type": "execute_result"
    }
   ],
   "source": [
    "# Check to see if results are close to each other (if they are very far away, there may be an error)\n",
    "torch.isclose(torch.tensor(model_2_results[\"model_loss\"]), \n",
    "              torch.tensor(loaded_model_2_results[\"model_loss\"]),\n",
    "              atol=1e-08, # absolute tolerance\n",
    "              rtol=0.0001) # relative tolerance"
   ]
  },
  {
   "cell_type": "markdown",
   "id": "c3969b7d-9955-4b6f-abf8-fe8eedf233a9",
   "metadata": {
    "id": "c3969b7d-9955-4b6f-abf8-fe8eedf233a9"
   },
   "source": [
    "## Exercises\n",
    "\n",
    "All of the exercises are focused on practicing the code in the sections above.\n",
    "\n",
    "You should be able to complete them by referencing each section or by following the resource(s) linked.\n",
    "\n",
    "All exercises should be completed using [device-agnostic code](https://pytorch.org/docs/stable/notes/cuda.html#device-agnostic-code).\n",
    "\n",
    "**Resources:**\n",
    "* [Exercise template notebook for 03](https://github.com/mrdbourke/pytorch-deep-learning/blob/main/extras/exercises/03_pytorch_computer_vision_exercises.ipynb)\n",
    "* [Example solutions notebook for 03](https://github.com/mrdbourke/pytorch-deep-learning/blob/main/extras/solutions/03_pytorch_computer_vision_exercise_solutions.ipynb) (try the exercises *before* looking at this)\n",
    "\n",
    "1. What are 3 areas in industry where computer vision is currently being used?\n",
    "2. Search \"what is overfitting in machine learning\" and write down a sentence about what you find. \n",
    "3. Search \"ways to prevent overfitting in machine learning\", write down 3 of the things you find and a sentence about each. **Note:** there are lots of these, so don't worry too much about all of them, just pick 3 and start with those.\n",
    "4. Spend 20-minutes reading and clicking through the [CNN Explainer website](https://poloclub.github.io/cnn-explainer/).\n",
    "    * Upload your own example image using the \"upload\" button and see what happens in each layer of a CNN as your image passes through it.\n",
    "5. Load the [`torchvision.datasets.MNIST()`](https://pytorch.org/vision/stable/generated/torchvision.datasets.MNIST.html#torchvision.datasets.MNIST) train and test datasets.\n",
    "6. Visualize at least 5 different samples of the MNIST training dataset.\n",
    "7. Turn the MNIST train and test datasets into dataloaders using `torch.utils.data.DataLoader`, set the `batch_size=32`.\n",
    "8. Recreate `model_2` used in this notebook (the same model from the [CNN Explainer website](https://poloclub.github.io/cnn-explainer/), also known as TinyVGG) capable of fitting on the MNIST dataset.\n",
    "9. Train the model you built in exercise 8. on CPU and GPU and see how long it takes on each.\n",
    "10. Make predictions using your trained model and visualize at least 5 of them comparing the prediciton to the target label.\n",
    "11. Plot a confusion matrix comparing your model's predictions to the truth labels.\n",
    "12. Create a random tensor of shape `[1, 3, 64, 64]` and pass it through a `nn.Conv2d()` layer with various hyperparameter settings (these can be any settings you choose), what do you notice if the `kernel_size` parameter goes up and down?\n",
    "13. Use a model similar to the trained `model_2` from this notebook to make predictions on the test [`torchvision.datasets.FashionMNIST`](https://pytorch.org/vision/main/generated/torchvision.datasets.FashionMNIST.html) dataset. \n",
    "    * Then plot some predictions where the model was wrong alongside what the label of the image should've been. \n",
    "    * After visualing these predictions do you think it's more of a modelling error or a data error? \n",
    "    * As in, could the model do better or are the labels of the data too close to each other (e.g. a \"Shirt\" label is too close to \"T-shirt/top\")?\n",
    "\n",
    "## Extra-curriculum\n",
    "* **Watch:** [MIT's Introduction to Deep Computer Vision](https://www.youtube.com/watch?v=iaSUYvmCekI&list=PLtBw6njQRU-rwp5__7C0oIVt26ZgjG9NI&index=3) lecture. This will give you a great intuition behind convolutional neural networks.\n",
    "* Spend 10-minutes clicking thorugh the different options of the [PyTorch vision library](https://pytorch.org/vision/stable/index.html), what different modules are available?\n",
    "* Lookup \"most common convolutional neural networks\", what architectures do you find? Are any of them contained within the [`torchvision.models`](https://pytorch.org/vision/stable/models.html) library? What do you think you could do with these?\n",
    "* For a large number of pretrained PyTorch computer vision models as well as many different extensions to PyTorch's computer vision functionalities check out the [PyTorch Image Models library `timm`](https://github.com/rwightman/pytorch-image-models/) (Torch Image Models) by Ross Wightman."
   ]
  }
 ],
 "metadata": {
  "accelerator": "GPU",
  "colab": {
   "gpuType": "A100",
   "machine_shape": "hm",
   "provenance": []
  },
  "gpuClass": "standard",
  "kernelspec": {
   "display_name": ".venv_pytorch_gpu",
   "language": "python",
   "name": "python3"
  },
  "language_info": {
   "codemirror_mode": {
    "name": "ipython",
    "version": 3
   },
   "file_extension": ".py",
   "mimetype": "text/x-python",
   "name": "python",
   "nbconvert_exporter": "python",
   "pygments_lexer": "ipython3",
   "version": "3.10.14"
  }
 },
 "nbformat": 4,
 "nbformat_minor": 5
}
