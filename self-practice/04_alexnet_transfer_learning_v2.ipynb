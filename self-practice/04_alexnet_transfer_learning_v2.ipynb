{
 "cells": [
  {
   "cell_type": "code",
   "execution_count": 9,
   "metadata": {},
   "outputs": [],
   "source": [
    "# import libraries\n",
    "import torch\n",
    "import torchvision\n",
    "import torch.optim as optim\n",
    "import torch.nn as nn\n",
    "import torch.nn.functional as F\n",
    "from torch.utils.data import DataLoader, Dataset, random_split, TensorDataset\n",
    "from torchvision.transforms import Compose, ToTensor, Normalize, Resize, ToPILImage, CenterCrop, RandomResizedCrop\n",
    "from torchvision.datasets import ImageFolder\n",
    "from torchvision.models import alexnet, resnet18, inception_v3\n",
    "from torchvision.models.alexnet import model_urls\n",
    "from torch.hub import load_state_dict_from_url\n",
    "\n",
    "\n",
    "# misc\n",
    "import os\n",
    "import sys\n",
    "import logging\n",
    "import numpy as np\n",
    "import pandas as pd\n",
    "import matplotlib.pyplot as plt\n",
    "from pathlib import Path\n",
    "from datetime import datetime"
   ]
  },
  {
   "cell_type": "code",
   "execution_count": 2,
   "metadata": {},
   "outputs": [],
   "source": [
    "# logging directory\n",
    "LOG_DIR = Path('../../logs')\n",
    "if not LOG_DIR.is_dir():\n",
    "    LOG_DIR.mkdir()\n",
    "\n",
    "# logging file\n",
    "LOG_FILE_PATH = os.path.join(LOG_DIR, f\"04_alexnet_transfer_learning_v2.log\")"
   ]
  },
  {
   "cell_type": "code",
   "execution_count": 3,
   "metadata": {},
   "outputs": [],
   "source": [
    "# logging configuration\n",
    "logging.basicConfig(\n",
    "    level=logging.INFO,\n",
    "    datefmt=\"%a, %d %b %Y-%m-%d %H:%M:%S\",\n",
    "    format=\"[%(asctime)s.%(msecs)03d] %(levelname)s - %(message)s\",\n",
    "    handlers=[\n",
    "        logging.FileHandler(filename=LOG_FILE_PATH, mode=\"w\"),\n",
    "        logging.StreamHandler()\n",
    "    ]\n",
    ")"
   ]
  },
  {
   "cell_type": "code",
   "execution_count": 4,
   "metadata": {},
   "outputs": [
    {
     "name": "stderr",
     "output_type": "stream",
     "text": [
      "[Sun, 30 Jul 2023-07-30 00:37:37.459] INFO - Torch version: 1.12.1\n",
      "[Sun, 30 Jul 2023-07-30 00:37:37.460] INFO - Torchvision version: 0.13.1\n",
      "[Sun, 30 Jul 2023-07-30 00:37:37.460] INFO - Created date: 2023-07-07 00:14:35\n",
      "[Sun, 30 Jul 2023-07-30 00:37:37.460] INFO - Modified date: 2023-07-07 00:37:37\n",
      "[Sun, 30 Jul 2023-07-30 00:37:37.495] INFO - Number of gpus: 1\n",
      "[Sun, 30 Jul 2023-07-30 00:37:37.496] INFO - Device: cuda\n"
     ]
    }
   ],
   "source": [
    "# check torch version\n",
    "logging.info(f\"Torch version: {torch.__version__}\")\n",
    "\n",
    "# check torchvision version\n",
    "logging.info(f\"Torchvision version: {torchvision.__version__}\")\n",
    "\n",
    "# created date\n",
    "logging.info(f\"Created date: 2023-07-07 00:14:35\")\n",
    "\n",
    "# modified date\n",
    "logging.info(f\"Modified date: {datetime.now().strftime('%Y-%m-%m %H:%M:%S')}\")\n",
    "\n",
    "# num of gpus\n",
    "gpus = torch.cuda.device_count()\n",
    "logging.info(f\"Number of gpus: {gpus}\")\n",
    "\n",
    "# device\n",
    "device = \"cuda\" if torch.cuda.is_available() else \"cpu\"\n",
    "logging.info(f\"Device: {device}\")"
   ]
  },
  {
   "cell_type": "code",
   "execution_count": 6,
   "metadata": {},
   "outputs": [
    {
     "name": "stderr",
     "output_type": "stream",
     "text": [
      "[Sun, 30 Jul 2023-07-30 00:38:36.243] INFO - AlexNet(\n",
      "  (features): Sequential(\n",
      "    (0): Conv2d(3, 64, kernel_size=(11, 11), stride=(4, 4), padding=(2, 2))\n",
      "    (1): ReLU(inplace=True)\n",
      "    (2): MaxPool2d(kernel_size=3, stride=2, padding=0, dilation=1, ceil_mode=False)\n",
      "    (3): Conv2d(64, 192, kernel_size=(5, 5), stride=(1, 1), padding=(2, 2))\n",
      "    (4): ReLU(inplace=True)\n",
      "    (5): MaxPool2d(kernel_size=3, stride=2, padding=0, dilation=1, ceil_mode=False)\n",
      "    (6): Conv2d(192, 384, kernel_size=(3, 3), stride=(1, 1), padding=(1, 1))\n",
      "    (7): ReLU(inplace=True)\n",
      "    (8): Conv2d(384, 256, kernel_size=(3, 3), stride=(1, 1), padding=(1, 1))\n",
      "    (9): ReLU(inplace=True)\n",
      "    (10): Conv2d(256, 256, kernel_size=(3, 3), stride=(1, 1), padding=(1, 1))\n",
      "    (11): ReLU(inplace=True)\n",
      "    (12): MaxPool2d(kernel_size=3, stride=2, padding=0, dilation=1, ceil_mode=False)\n",
      "  )\n",
      "  (avgpool): AdaptiveAvgPool2d(output_size=(6, 6))\n",
      "  (classifier): Sequential(\n",
      "    (0): Dropout(p=0.5, inplace=False)\n",
      "    (1): Linear(in_features=9216, out_features=4096, bias=True)\n",
      "    (2): ReLU(inplace=True)\n",
      "    (3): Dropout(p=0.5, inplace=False)\n",
      "    (4): Linear(in_features=4096, out_features=4096, bias=True)\n",
      "    (5): ReLU(inplace=True)\n",
      "    (6): Linear(in_features=4096, out_features=1000, bias=True)\n",
      "  )\n",
      ")\n"
     ]
    }
   ],
   "source": [
    "# loading `alexnet` architecture\n",
    "alex = alexnet(pretrained=False)\n",
    "logging.info(alex)"
   ]
  },
  {
   "cell_type": "markdown",
   "metadata": {},
   "source": [
    "#### Loading Weights"
   ]
  },
  {
   "cell_type": "code",
   "execution_count": 11,
   "metadata": {},
   "outputs": [
    {
     "data": {
      "text/plain": [
       "'https://download.pytorch.org/models/alexnet-owt-7be5be79.pth'"
      ]
     },
     "execution_count": 11,
     "metadata": {},
     "output_type": "execute_result"
    }
   ],
   "source": [
    "# https://pytorch.org/vision/stable/_modules/torchvision/models/alexnet.html\n",
    "url = model_urls['alexnet']\n",
    "url"
   ]
  },
  {
   "cell_type": "code",
   "execution_count": 12,
   "metadata": {},
   "outputs": [
    {
     "name": "stderr",
     "output_type": "stream",
     "text": [
      "Downloading: \"https://download.pytorch.org/models/alexnet-owt-7be5be79.pth\" to pretrained/alexnet-owt-7be5be79.pth\n",
      "100%|██████████| 233M/233M [01:24<00:00, 2.89MB/s] \n"
     ]
    }
   ],
   "source": [
    "# loading pre-trained weights\n",
    "state_dict = load_state_dict_from_url(url, model_dir=\"pretrained\", progress=True)"
   ]
  },
  {
   "cell_type": "code",
   "execution_count": 17,
   "metadata": {},
   "outputs": [
    {
     "data": {
      "text/plain": [
       "<All keys matched successfully>"
      ]
     },
     "execution_count": 17,
     "metadata": {},
     "output_type": "execute_result"
    }
   ],
   "source": [
    "# loading model\n",
    "alex.load_state_dict(state_dict)"
   ]
  }
 ],
 "metadata": {
  "kernelspec": {
   "display_name": "tadac",
   "language": "python",
   "name": "python3"
  },
  "language_info": {
   "codemirror_mode": {
    "name": "ipython",
    "version": 3
   },
   "file_extension": ".py",
   "mimetype": "text/x-python",
   "name": "python",
   "nbconvert_exporter": "python",
   "pygments_lexer": "ipython3",
   "version": "3.8.17"
  },
  "orig_nbformat": 4
 },
 "nbformat": 4,
 "nbformat_minor": 2
}
