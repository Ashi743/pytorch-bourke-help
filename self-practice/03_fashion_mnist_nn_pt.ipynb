{
 "cells": [
  {
   "attachments": {},
   "cell_type": "markdown",
   "metadata": {},
   "source": [
    "#### Import libraries"
   ]
  },
  {
   "cell_type": "code",
   "execution_count": 71,
   "metadata": {},
   "outputs": [
    {
     "name": "stdout",
     "output_type": "stream",
     "text": [
      "PyTorch version: 1.12.1+cu102\n",
      "torchvision version: 0.13.1+cu102\n",
      "Device: cuda\n",
      "Created date: 2023-07-11 20:35:07\n",
      "Modified date: 2023-07-11 21:22:35\n"
     ]
    }
   ],
   "source": [
    "import torch\n",
    "import torchvision\n",
    "from torch import nn\n",
    "from torchvision.datasets import FashionMNIST\n",
    "from torchvision.transforms import transforms\n",
    "from torch.utils.data import DataLoader\n",
    "from tqdm.auto import tqdm\n",
    "from datetime import datetime\n",
    "import numpy as np\n",
    "import pandas as pd\n",
    "from pathlib import Path\n",
    "import matplotlib.pyplot as plt\n",
    "import requests\n",
    "\n",
    "# check PyTorch version\n",
    "print(f\"PyTorch version: {torch.__version__}\")\n",
    "\n",
    "# check torchvision version\n",
    "print(f\"torchvision version: {torchvision.__version__}\")\n",
    "\n",
    "# check device\n",
    "device = \"cuda\" if torch.cuda.is_available() else \"cpu\"\n",
    "print(f\"Device: {device}\")\n",
    "\n",
    "# Created date\n",
    "print(f\"Created date: 2023-07-11 20:35:07\")\n",
    "\n",
    "# Modified date\n",
    "now = datetime.now().strftime(\"%Y-%m-%d %H:%M:%S\")\n",
    "print(f\"Modified date: {now}\")\n"
   ]
  },
  {
   "attachments": {},
   "cell_type": "markdown",
   "metadata": {},
   "source": [
    "#### Utilities"
   ]
  },
  {
   "cell_type": "code",
   "execution_count": 75,
   "metadata": {},
   "outputs": [],
   "source": [
    "def download_helper_functions(url):\n",
    "    \"\"\" A download funcion for a file from github.\n",
    "\n",
    "        Args:\n",
    "            url (str): an url of a file on github\n",
    "    \"\"\"\n",
    "    if Path(\"helper_functions.py\").is_file():\n",
    "        print(\"The file already exists. Skip downloading\")\n",
    "    else:\n",
    "        print(\"Downloading helper_functions.py\")\n",
    "        results = requests.get(url=url)\n",
    "        with open(\"helper_functions.py\", \"wb\") as f:\n",
    "            f.write(results.content)\n",
    "\n",
    "# download helper functions\n",
    "url = \"https://raw.githubusercontent.com/mrdbourke/pytorch-deep-learning/main/helper_functions.py\"\n",
    "# download_helper_functions(url=url)\n"
   ]
  },
  {
   "cell_type": "code",
   "execution_count": 76,
   "metadata": {},
   "outputs": [],
   "source": [
    "def view_random_image(data, targets, class_names):\n",
    "    \"\"\" Display randomly one image from images.\n",
    "\n",
    "    Args:\n",
    "        images: images of FashionMNIST.\n",
    "        class_name: a list of class names in FashionMNIST.\n",
    "    \"\"\"\n",
    "\n",
    "    random_idx = torch.randint(len(data), [1]).item()\n",
    "    image = data[random_idx]\n",
    "    class_idx = targets[random_idx].item()\n",
    "    plt.imshow(image)\n",
    "    plt.title(class_names[class_idx])\n",
    "    plt.axis(False)"
   ]
  },
  {
   "cell_type": "code",
   "execution_count": 13,
   "metadata": {},
   "outputs": [],
   "source": [
    "# batch size\n",
    "batch_size = 32\n",
    "\n",
    "# epochs \n",
    "epochs = 50"
   ]
  },
  {
   "attachments": {},
   "cell_type": "markdown",
   "metadata": {},
   "source": [
    "### Dataset - FashionMNIST"
   ]
  },
  {
   "attachments": {},
   "cell_type": "markdown",
   "metadata": {},
   "source": [
    "##### 1. Preprocessing data"
   ]
  },
  {
   "cell_type": "code",
   "execution_count": 17,
   "metadata": {},
   "outputs": [
    {
     "name": "stdout",
     "output_type": "stream",
     "text": [
      "Shape of train_data of one batch: torch.Size([60000, 1, 28, 28])\n",
      "Shape of train_label of one batch: torch.Size([60000])\n",
      "Mean: 0.28604 | Stddev: 0.35302\n"
     ]
    }
   ],
   "source": [
    "# transform helper\n",
    "transform_helper = transforms.ToTensor()\n",
    "\n",
    "# download data\n",
    "train_data = FashionMNIST(root=\"../../data\", download=True, train= True, transform=transform_helper)\n",
    "\n",
    "# train dataloader\n",
    "train_dataloader = DataLoader(train_data, batch_size=len(train_data), shuffle=True)\n",
    "\n",
    "# get a batch of train_dataloader\n",
    "data = next(iter(train_dataloader))\n",
    "\n",
    "print(f\"Shape of train_data of one batch: {data[0].shape}\")\n",
    "print(f\"Shape of train_label of one batch: {data[1].shape}\")\n",
    "\n",
    "# calculate mean, std of data\n",
    "mean = data[0].mean()\n",
    "stddev = data[0].std()\n",
    "\n",
    "print(f\"Mean: {mean:.5f} | Stddev: {stddev:.5f}\")\n"
   ]
  },
  {
   "cell_type": "code",
   "execution_count": 18,
   "metadata": {},
   "outputs": [
    {
     "data": {
      "text/plain": [
       "['T-shirt/top',\n",
       " 'Trouser',\n",
       " 'Pullover',\n",
       " 'Dress',\n",
       " 'Coat',\n",
       " 'Sandal',\n",
       " 'Shirt',\n",
       " 'Sneaker',\n",
       " 'Bag',\n",
       " 'Ankle boot']"
      ]
     },
     "execution_count": 18,
     "metadata": {},
     "output_type": "execute_result"
    }
   ],
   "source": [
    "# class names\n",
    "class_names = train_data.classes\n",
    "class_names"
   ]
  },
  {
   "attachments": {},
   "cell_type": "markdown",
   "metadata": {},
   "source": [
    "##### 2. Normalization `training_set` and `testing_set` "
   ]
  },
  {
   "cell_type": "code",
   "execution_count": 14,
   "metadata": {},
   "outputs": [
    {
     "data": {
      "text/plain": [
       "(60000, 10000)"
      ]
     },
     "execution_count": 14,
     "metadata": {},
     "output_type": "execute_result"
    }
   ],
   "source": [
    "# transform composer\n",
    "transform_composer = transforms.Compose([transforms.ToTensor(), transforms.Normalize(mean=mean, std=stddev)])\n",
    "\n",
    "# download train data\n",
    "train_data = FashionMNIST(root=\"../../data\", download=True, train= True, transform=transform_composer)\n",
    "\n",
    "# download test data\n",
    "test_data = FashionMNIST(root=\"../../data\", download=True, train= False, transform=transform_composer)\n",
    "\n",
    "# check train_data, test_data\n",
    "len(train_data), len(test_data)"
   ]
  },
  {
   "attachments": {},
   "cell_type": "markdown",
   "metadata": {},
   "source": [
    "##### 3. DataLoader"
   ]
  },
  {
   "cell_type": "code",
   "execution_count": 22,
   "metadata": {},
   "outputs": [
    {
     "name": "stdout",
     "output_type": "stream",
     "text": [
      "Number of train samples each batch: 1875\n",
      "Number of test samples each batch: 313\n"
     ]
    }
   ],
   "source": [
    "# train_loader\n",
    "train_dataloader = DataLoader(train_data, batch_size=batch_size, shuffle=True)\n",
    "\n",
    "# test_loader\n",
    "test_dataloader = DataLoader(test_data, batch_size=batch_size, shuffle=True)\n",
    "\n",
    "# check samples of a batch\n",
    "print(f\"Number of train samples each batch: {len(train_dataloader)}\")\n",
    "print(f\"Number of test samples each batch: {len(test_dataloader)}\")"
   ]
  },
  {
   "cell_type": "code",
   "execution_count": 59,
   "metadata": {},
   "outputs": [
    {
     "data": {
      "text/plain": [
       "'Ankle boot'"
      ]
     },
     "execution_count": 59,
     "metadata": {},
     "output_type": "execute_result"
    }
   ],
   "source": [
    "train_dataloader.dataset.targets[11].item()\n",
    "class_names[9]"
   ]
  },
  {
   "cell_type": "code",
   "execution_count": 70,
   "metadata": {},
   "outputs": [
    {
     "data": {
      "image/png": "[encoded data removed]",
      "text/plain": [
       "<Figure size 640x480 with 1 Axes>"
      ]
     },
     "metadata": {},
     "output_type": "display_data"
    }
   ],
   "source": [
    "# view one sample\n",
    "view_random_image(data=train_dataloader.dataset.data, targets=train_dataloader.dataset.targets, class_names=class_names)"
   ]
  }
 ],
 "metadata": {
  "kernelspec": {
   "display_name": "tadac",
   "language": "python",
   "name": "python3"
  },
  "language_info": {
   "codemirror_mode": {
    "name": "ipython",
    "version": 3
   },
   "file_extension": ".py",
   "mimetype": "text/x-python",
   "name": "python",
   "nbconvert_exporter": "python",
   "pygments_lexer": "ipython3",
   "version": "3.8.0"
  },
  "orig_nbformat": 4
 },
 "nbformat": 4,
 "nbformat_minor": 2
}
