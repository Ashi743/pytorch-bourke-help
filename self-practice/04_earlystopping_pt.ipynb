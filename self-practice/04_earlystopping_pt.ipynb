{
 "cells": [
  {
   "cell_type": "code",
   "execution_count": 1,
   "id": "1c6582ad0656948f",
   "metadata": {
    "ExecuteTime": {
     "end_time": "2023-07-27T08:26:50.619537164Z",
     "start_time": "2023-07-27T08:26:50.502566081Z"
    },
    "collapsed": false
   },
   "outputs": [
    {
     "name": "stderr",
     "output_type": "stream",
     "text": [
      "/home/jason/anaconda3/envs/tadac/lib/python3.8/site-packages/tqdm/auto.py:21: TqdmWarning: IProgress not found. Please update jupyter and ipywidgets. See https://ipywidgets.readthedocs.io/en/stable/user_install.html\n",
      "  from .autonotebook import tqdm as notebook_tqdm\n"
     ]
    },
    {
     "data": {
      "text/plain": [
       "<torch._C.Generator at 0x7ffa741d7c10>"
      ]
     },
     "execution_count": 1,
     "metadata": {},
     "output_type": "execute_result"
    }
   ],
   "source": [
    "# import libraries\n",
    "import  torch\n",
    "import torch.nn as nn\n",
    "import torch.nn.functional as F\n",
    "from torchvision import datasets\n",
    "import torchvision.transforms as transforms\n",
    "from torch.utils.data.sampler import SubsetRandomSampler\n",
    "\n",
    "import  os\n",
    "import  logging\n",
    "import  numpy as np\n",
    "from pathlib import  Path\n",
    "import matplotlib.pyplot as plt\n",
    "from  datetime import  datetime\n",
    "\n",
    "# set seed \n",
    "torch.manual_seed(42)"
   ]
  },
  {
   "cell_type": "code",
   "execution_count": 2,
   "id": "71294ed2e9411dae",
   "metadata": {
    "ExecuteTime": {
     "end_time": "2023-07-27T08:26:50.641869971Z",
     "start_time": "2023-07-27T08:26:50.554786457Z"
    },
    "collapsed": false
   },
   "outputs": [],
   "source": [
    "class EarlyStopping():\n",
    "    def __init__(self, verbose: bool = False, filepath: str = \"checkpoint.pt\", patience: int = 10, delta: float = 0) -> None:\n",
    "        \n",
    "        self.verbose = verbose\n",
    "        self.patience = patience\n",
    "        self.filepath = filepath\n",
    "        self.delta = delta\n",
    "\n",
    "        self.is_early_stopping = False\n",
    "        self.best_score = None\n",
    "        self.counter = 0\n",
    "        self.val_loss_min = np.Inf\n",
    "\n",
    "    def __call__(self, val_loss, model):\n",
    "        \n",
    "        if self.best_score is None:\n",
    "            self.best_score = val_loss\n",
    "        elif self.best_score + self.delta < val_loss:\n",
    "            self.counter += 1\n",
    "            logging.info(f\"Early stopping {self.counter} out of {self.patience}...\")\n",
    "\n",
    "            if self.counter >= self.patience:\n",
    "                self.is_early_stopping = True\n",
    "        else: \n",
    "            self.save_checkpoint(model, val_loss)\n",
    "            self.best_score = val_loss\n",
    "            self.counter = 0\n",
    "\n",
    "        \n",
    "        \n",
    "    def save_checkpoint(self, model, val_loss):\n",
    "\n",
    "        if self.verbose:\n",
    "            logging.info(f\"Validation loss decreased from {self.val_loss_min:0.5f} -> {val_loss}\")\n",
    "            logging.info(f\"The model is saved in this path {self.filepath}\")    \n",
    "\n",
    "        torch.save(model.state_dict(), self.filepath)\n",
    "        self.val_loss_min = val_loss\n"
   ]
  },
  {
   "cell_type": "code",
   "execution_count": 3,
   "id": "117d584468480fdd",
   "metadata": {
    "ExecuteTime": {
     "end_time": "2023-07-27T08:26:50.642211181Z",
     "start_time": "2023-07-27T08:26:50.555075265Z"
    },
    "collapsed": false
   },
   "outputs": [],
   "source": [
    "# data dir\n",
    "DATA_DIR = Path('../../data')\n",
    "if not DATA_DIR.is_dir():\n",
    "    DATA_DIR.mkdir(parents=True, exist_ok=True)\n",
    "\n",
    "# checkpoint dir\n",
    "SAVED_MODELS_DIR = Path('../../models')\n",
    "if not SAVED_MODELS_DIR.is_dir():\n",
    "    SAVED_MODELS_DIR.mkdir(parents=True, exist_ok=True)\n",
    "    \n",
    "# log dir\n",
    "LOG_DIR = Path('../../logs')\n",
    "if not LOG_DIR.is_dir():\n",
    "    LOG_DIR.mkdir(parents=True, exist_ok=True)\n",
    "    "
   ]
  },
  {
   "cell_type": "code",
   "execution_count": 4,
   "id": "21496fdd1e1f3cc6",
   "metadata": {
    "ExecuteTime": {
     "end_time": "2023-07-27T08:26:50.642425006Z",
     "start_time": "2023-07-27T08:26:50.555304584Z"
    },
    "collapsed": false
   },
   "outputs": [],
   "source": [
    "logging.basicConfig(\n",
    "    level=logging.INFO,\n",
    "    datefmt=\"%a, %d %b %Y %H:%M:%S\",\n",
    "    format=\"[%(asctime)s.%(msecs)03d] %(levelname)s - %(message)s\",\n",
    "    handlers=[\n",
    "        logging.FileHandler(filename=LOG_DIR.joinpath(f\"04_earlystopping_{datetime.now().strftime('%Y%m%d_%H%M%S')}.log\"), mode=\"w\"),\n",
    "        logging.StreamHandler()\n",
    "    ]\n",
    ")"
   ]
  },
  {
   "cell_type": "code",
   "execution_count": 5,
   "id": "a29b146723d3d51a",
   "metadata": {
    "ExecuteTime": {
     "end_time": "2023-07-27T08:26:50.642548610Z",
     "start_time": "2023-07-27T08:26:50.555541949Z"
    },
    "collapsed": false
   },
   "outputs": [],
   "source": [
    "def create_datasets(batch_size):\n",
    "\n",
    "    # percentage of training set to use as validation\n",
    "    valid_size = 0.2\n",
    "\n",
    "    # convert data to torch.FloatTensor\n",
    "    transform = transforms.ToTensor()\n",
    "\n",
    "    # choose the training and test datasets\n",
    "    train_data = datasets.MNIST(root=DATA_DIR, \n",
    "                                train=True,\n",
    "                                download=True, \n",
    "                                transform=transform)\n",
    "\n",
    "    test_data = datasets.MNIST(root=DATA_DIR,\n",
    "                               train=False,\n",
    "                               download=True,\n",
    "                               transform=transform)\n",
    "\n",
    "    # obtain training indices that will be used for validation\n",
    "    num_train = len(train_data)\n",
    "    indices = list(range(num_train))\n",
    "    np.random.shuffle(indices)\n",
    "    split = int(np.floor(valid_size * num_train))\n",
    "    train_idx, valid_idx = indices[split:], indices[:split]\n",
    "    \n",
    "    # define samplers for obtaining training and validation batches\n",
    "    train_sampler = SubsetRandomSampler(train_idx)\n",
    "    valid_sampler = SubsetRandomSampler(valid_idx)\n",
    "    \n",
    "    # load training data in batches\n",
    "    train_loader = torch.utils.data.DataLoader(train_data,\n",
    "                                               batch_size=batch_size,\n",
    "                                               sampler=train_sampler,\n",
    "                                               num_workers=0)\n",
    "    \n",
    "    # load validation data in batches\n",
    "    valid_loader = torch.utils.data.DataLoader(train_data,\n",
    "                                               batch_size=batch_size,\n",
    "                                               sampler=valid_sampler,\n",
    "                                               num_workers=0)\n",
    "    \n",
    "    # load test data in batches\n",
    "    test_loader = torch.utils.data.DataLoader(test_data,\n",
    "                                              batch_size=batch_size,\n",
    "                                              num_workers=0)\n",
    "    \n",
    "    return train_loader, test_loader, valid_loader"
   ]
  },
  {
   "cell_type": "code",
   "execution_count": 6,
   "id": "a23120cc38a1259d",
   "metadata": {
    "ExecuteTime": {
     "end_time": "2023-07-27T08:26:50.643285667Z",
     "start_time": "2023-07-27T08:26:50.557710314Z"
    },
    "collapsed": false
   },
   "outputs": [
    {
     "name": "stdout",
     "output_type": "stream",
     "text": [
      "Net(\n",
      "  (fc1): Linear(in_features=784, out_features=128, bias=True)\n",
      "  (fc2): Linear(in_features=128, out_features=128, bias=True)\n",
      "  (fc3): Linear(in_features=128, out_features=10, bias=True)\n",
      "  (dropout): Dropout(p=0.5, inplace=False)\n",
      ")\n"
     ]
    },
    {
     "data": {
      "text/plain": [
       "__main__.Net"
      ]
     },
     "execution_count": 6,
     "metadata": {},
     "output_type": "execute_result"
    }
   ],
   "source": [
    "class Net(nn.Module):\n",
    "    def __init__(self):\n",
    "        super(Net, self).__init__()\n",
    "        self.fc1 = nn.Linear(28 * 28, 128)\n",
    "        self.fc2 = nn.Linear(128, 128)\n",
    "        self.fc3 = nn.Linear(128, 10)\n",
    "        self.dropout = nn.Dropout(0.5)\n",
    "    def forward(self, x):\n",
    "        # flatten image input\n",
    "        x = x.view(-1, 28 * 28)\n",
    "        # add hidden layer, with relu activation function\n",
    "        x = F.relu(self.fc1(x))\n",
    "        x = self.dropout(x)\n",
    "        # add hidden layer, with relu activation function\n",
    "        x = F.relu(self.fc2(x))\n",
    "        x = self.dropout(x)\n",
    "        # add output layer\n",
    "        x = self.fc3(x)\n",
    "        return x\n",
    "\n",
    "# initialize the NN\n",
    "mnist_model = Net()\n",
    "print(mnist_model)\n",
    "type(mnist_model)"
   ]
  },
  {
   "cell_type": "code",
   "execution_count": 7,
   "id": "388fe49324dd363b",
   "metadata": {
    "ExecuteTime": {
     "end_time": "2023-07-27T08:26:50.643426805Z",
     "start_time": "2023-07-27T08:26:50.598968623Z"
    },
    "collapsed": false
   },
   "outputs": [],
   "source": [
    "# specify loss function\n",
    "criterion = nn.CrossEntropyLoss()\n",
    "\n",
    "# specify optimizer\n",
    "optimizer = torch.optim.Adam(mnist_model.parameters())"
   ]
  },
  {
   "cell_type": "code",
   "execution_count": 8,
   "id": "c698af41592153b9",
   "metadata": {
    "ExecuteTime": {
     "end_time": "2023-07-27T08:26:50.643538188Z",
     "start_time": "2023-07-27T08:26:50.599325378Z"
    },
    "collapsed": false
   },
   "outputs": [],
   "source": [
    "def train_model(model, batch_size, patience, n_epochs, train_loader, valid_loader):\n",
    "    \n",
    "    # to track the training loss as the model trains\n",
    "    train_losses = []\n",
    "    # to track the validation loss as the model trains\n",
    "    valid_losses = []\n",
    "    # to track the average training loss per epoch as the model trains\n",
    "    avg_train_losses = []\n",
    "    # to track the average validation loss per epoch as the model trains\n",
    "    avg_valid_losses = [] \n",
    "    \n",
    "    # file_path\n",
    "    FILE_PATH = SAVED_MODELS_DIR.joinpath('checkpoint.pt')\n",
    "    \n",
    "    # initialize the early_stopping object\n",
    "    early_stopping = EarlyStopping(patience=patience, verbose=True, filepath=FILE_PATH)\n",
    "    \n",
    "    for epoch in range(1, n_epochs + 1):\n",
    "\n",
    "        ###################\n",
    "        # train the model #\n",
    "        ###################\n",
    "        model.train() # prep model for training\n",
    "        for batch, (data, target) in enumerate(train_loader, 1):\n",
    "            # clear the gradients of all optimized variables\n",
    "            optimizer.zero_grad()\n",
    "            # forward pass: compute predicted outputs by passing inputs to the model\n",
    "            output = model(data)\n",
    "            # calculate the loss\n",
    "            loss = criterion(output, target)\n",
    "            # backward pass: compute gradient of the loss with respect to model parameters\n",
    "            loss.backward()\n",
    "            # perform a single optimization step (parameter update)\n",
    "            optimizer.step()\n",
    "            # record training loss\n",
    "            train_losses.append(loss.item())\n",
    "\n",
    "        ######################    \n",
    "        # validate the model #\n",
    "        ######################\n",
    "        model.eval() # prep model for evaluation\n",
    "        for data, target in valid_loader:\n",
    "            # forward pass: compute predicted outputs by passing inputs to the model\n",
    "            output = model(data)\n",
    "            # calculate the loss\n",
    "            loss = criterion(output, target)\n",
    "            # record validation loss\n",
    "            valid_losses.append(loss.item())\n",
    "\n",
    "        # print training/validation statistics \n",
    "        # calculate average loss over an epoch\n",
    "        train_loss = np.average(train_losses)\n",
    "        valid_loss = np.average(valid_losses)\n",
    "        avg_train_losses.append(train_loss)\n",
    "        avg_valid_losses.append(valid_loss)\n",
    "        \n",
    "        epoch_len = len(str(n_epochs))\n",
    "        \n",
    "        print_msg = (f'[{epoch:>{epoch_len}}/{n_epochs:>{epoch_len}}] ' +\n",
    "                     f'train_loss: {train_loss:.5f} ' +\n",
    "                     f'valid_loss: {valid_loss:.5f}')\n",
    "        \n",
    "        logging.info(print_msg)\n",
    "        \n",
    "        # clear lists to track next epoch\n",
    "        train_losses = []\n",
    "        valid_losses = []\n",
    "        \n",
    "        # early_stopping needs the validation loss to check if it has decresed, \n",
    "        # and if it has, it will make a checkpoint of the current model\n",
    "        early_stopping(valid_loss, model)\n",
    "        \n",
    "        if early_stopping.is_early_stopping:\n",
    "            logging.info(\"Early stopping\")\n",
    "            break\n",
    "        \n",
    "    # load the last checkpoint with the best model\n",
    "    model.load_state_dict(torch.load(SAVED_MODELS_DIR.joinpath('checkpoint.pt')))\n",
    "\n",
    "    return  model, avg_train_losses, avg_valid_losses"
   ]
  },
  {
   "cell_type": "code",
   "execution_count": 9,
   "id": "56c57be1d207c2c",
   "metadata": {
    "ExecuteTime": {
     "start_time": "2023-07-27T08:26:50.599573222Z"
    },
    "collapsed": false,
    "is_executing": true
   },
   "outputs": [
    {
     "name": "stderr",
     "output_type": "stream",
     "text": [
      "[Sat, 29 Jul 2023 01:15:54.040] INFO - [  1/100] train_loss: 0.84470 valid_loss: 0.30377\n",
      "[Sat, 29 Jul 2023 01:15:57.087] INFO - [  2/100] train_loss: 0.36941 valid_loss: 0.22500\n",
      "[Sat, 29 Jul 2023 01:15:57.087] INFO - Validation loss decreased from inf -> 0.22500327768477987\n",
      "[Sat, 29 Jul 2023 01:15:57.088] INFO - The model is saved in this path ../../models/checkpoint.pt\n",
      "[Sat, 29 Jul 2023 01:16:00.238] INFO - [  3/100] train_loss: 0.29773 valid_loss: 0.18974\n",
      "[Sat, 29 Jul 2023 01:16:00.238] INFO - Validation loss decreased from 0.22500 -> 0.1897373227997029\n",
      "[Sat, 29 Jul 2023 01:16:00.239] INFO - The model is saved in this path ../../models/checkpoint.pt\n",
      "[Sat, 29 Jul 2023 01:16:03.430] INFO - [  4/100] train_loss: 0.25621 valid_loss: 0.16833\n",
      "[Sat, 29 Jul 2023 01:16:03.430] INFO - Validation loss decreased from 0.18974 -> 0.168327215979708\n",
      "[Sat, 29 Jul 2023 01:16:03.431] INFO - The model is saved in this path ../../models/checkpoint.pt\n",
      "[Sat, 29 Jul 2023 01:16:06.595] INFO - [  5/100] train_loss: 0.23319 valid_loss: 0.15507\n",
      "[Sat, 29 Jul 2023 01:16:06.596] INFO - Validation loss decreased from 0.16833 -> 0.15506989905174742\n",
      "[Sat, 29 Jul 2023 01:16:06.596] INFO - The model is saved in this path ../../models/checkpoint.pt\n",
      "[Sat, 29 Jul 2023 01:16:09.818] INFO - [  6/100] train_loss: 0.21161 valid_loss: 0.14044\n",
      "[Sat, 29 Jul 2023 01:16:09.819] INFO - Validation loss decreased from 0.15507 -> 0.14043570706184874\n",
      "[Sat, 29 Jul 2023 01:16:09.820] INFO - The model is saved in this path ../../models/checkpoint.pt\n",
      "[Sat, 29 Jul 2023 01:16:12.989] INFO - [  7/100] train_loss: 0.20026 valid_loss: 0.13521\n",
      "[Sat, 29 Jul 2023 01:16:12.990] INFO - Validation loss decreased from 0.14044 -> 0.1352079744510194\n",
      "[Sat, 29 Jul 2023 01:16:12.990] INFO - The model is saved in this path ../../models/checkpoint.pt\n",
      "[Sat, 29 Jul 2023 01:16:16.050] INFO - [  8/100] train_loss: 0.18533 valid_loss: 0.12923\n",
      "[Sat, 29 Jul 2023 01:16:16.051] INFO - Validation loss decreased from 0.13521 -> 0.12922974842342924\n",
      "[Sat, 29 Jul 2023 01:16:16.051] INFO - The model is saved in this path ../../models/checkpoint.pt\n",
      "[Sat, 29 Jul 2023 01:16:19.187] INFO - [  9/100] train_loss: 0.17773 valid_loss: 0.12304\n",
      "[Sat, 29 Jul 2023 01:16:19.187] INFO - Validation loss decreased from 0.12923 -> 0.1230406680322708\n",
      "[Sat, 29 Jul 2023 01:16:19.187] INFO - The model is saved in this path ../../models/checkpoint.pt\n",
      "[Sat, 29 Jul 2023 01:16:22.321] INFO - [ 10/100] train_loss: 0.16605 valid_loss: 0.12089\n",
      "[Sat, 29 Jul 2023 01:16:22.321] INFO - Validation loss decreased from 0.12304 -> 0.12088794895309082\n",
      "[Sat, 29 Jul 2023 01:16:22.322] INFO - The model is saved in this path ../../models/checkpoint.pt\n",
      "[Sat, 29 Jul 2023 01:16:25.437] INFO - [ 11/100] train_loss: 0.16186 valid_loss: 0.12047\n",
      "[Sat, 29 Jul 2023 01:16:25.438] INFO - Validation loss decreased from 0.12089 -> 0.12046714824564914\n",
      "[Sat, 29 Jul 2023 01:16:25.439] INFO - The model is saved in this path ../../models/checkpoint.pt\n",
      "[Sat, 29 Jul 2023 01:16:28.839] INFO - [ 12/100] train_loss: 0.15463 valid_loss: 0.11197\n",
      "[Sat, 29 Jul 2023 01:16:28.840] INFO - Validation loss decreased from 0.12047 -> 0.1119696744420427\n",
      "[Sat, 29 Jul 2023 01:16:28.841] INFO - The model is saved in this path ../../models/checkpoint.pt\n",
      "[Sat, 29 Jul 2023 01:16:31.922] INFO - [ 13/100] train_loss: 0.15149 valid_loss: 0.10870\n",
      "[Sat, 29 Jul 2023 01:16:31.923] INFO - Validation loss decreased from 0.11197 -> 0.10869645390738832\n",
      "[Sat, 29 Jul 2023 01:16:31.923] INFO - The model is saved in this path ../../models/checkpoint.pt\n",
      "[Sat, 29 Jul 2023 01:16:35.087] INFO - [ 14/100] train_loss: 0.14373 valid_loss: 0.10688\n",
      "[Sat, 29 Jul 2023 01:16:35.088] INFO - Validation loss decreased from 0.10870 -> 0.10687959392337089\n",
      "[Sat, 29 Jul 2023 01:16:35.089] INFO - The model is saved in this path ../../models/checkpoint.pt\n",
      "[Sat, 29 Jul 2023 01:16:38.319] INFO - [ 15/100] train_loss: 0.13911 valid_loss: 0.10642\n",
      "[Sat, 29 Jul 2023 01:16:38.320] INFO - Validation loss decreased from 0.10688 -> 0.10642100490154104\n",
      "[Sat, 29 Jul 2023 01:16:38.321] INFO - The model is saved in this path ../../models/checkpoint.pt\n",
      "[Sat, 29 Jul 2023 01:16:41.496] INFO - [ 16/100] train_loss: 0.13610 valid_loss: 0.10852\n",
      "[Sat, 29 Jul 2023 01:16:41.497] INFO - Early stopping 1 out of 20...\n",
      "[Sat, 29 Jul 2023 01:16:44.705] INFO - [ 17/100] train_loss: 0.13532 valid_loss: 0.10646\n",
      "[Sat, 29 Jul 2023 01:16:44.705] INFO - Early stopping 2 out of 20...\n",
      "[Sat, 29 Jul 2023 01:16:47.907] INFO - [ 18/100] train_loss: 0.12354 valid_loss: 0.10145\n",
      "[Sat, 29 Jul 2023 01:16:47.908] INFO - Validation loss decreased from 0.10642 -> 0.10144666328709176\n",
      "[Sat, 29 Jul 2023 01:16:47.908] INFO - The model is saved in this path ../../models/checkpoint.pt\n",
      "[Sat, 29 Jul 2023 01:16:50.997] INFO - [ 19/100] train_loss: 0.12483 valid_loss: 0.10539\n",
      "[Sat, 29 Jul 2023 01:16:50.998] INFO - Early stopping 1 out of 20...\n",
      "[Sat, 29 Jul 2023 01:16:54.205] INFO - [ 20/100] train_loss: 0.12287 valid_loss: 0.10170\n",
      "[Sat, 29 Jul 2023 01:16:54.206] INFO - Early stopping 2 out of 20...\n",
      "[Sat, 29 Jul 2023 01:16:57.362] INFO - [ 21/100] train_loss: 0.11727 valid_loss: 0.10535\n",
      "[Sat, 29 Jul 2023 01:16:57.363] INFO - Early stopping 3 out of 20...\n",
      "[Sat, 29 Jul 2023 01:17:00.492] INFO - [ 22/100] train_loss: 0.11827 valid_loss: 0.10092\n",
      "[Sat, 29 Jul 2023 01:17:00.493] INFO - Validation loss decreased from 0.10145 -> 0.10091500142787366\n",
      "[Sat, 29 Jul 2023 01:17:00.493] INFO - The model is saved in this path ../../models/checkpoint.pt\n",
      "[Sat, 29 Jul 2023 01:17:03.674] INFO - [ 23/100] train_loss: 0.11418 valid_loss: 0.10148\n",
      "[Sat, 29 Jul 2023 01:17:03.674] INFO - Early stopping 1 out of 20...\n",
      "[Sat, 29 Jul 2023 01:17:06.810] INFO - [ 24/100] train_loss: 0.11298 valid_loss: 0.10332\n",
      "[Sat, 29 Jul 2023 01:17:06.811] INFO - Early stopping 2 out of 20...\n",
      "[Sat, 29 Jul 2023 01:17:09.926] INFO - [ 25/100] train_loss: 0.11030 valid_loss: 0.09629\n",
      "[Sat, 29 Jul 2023 01:17:09.927] INFO - Validation loss decreased from 0.10092 -> 0.09629447698751663\n",
      "[Sat, 29 Jul 2023 01:17:09.928] INFO - The model is saved in this path ../../models/checkpoint.pt\n",
      "[Sat, 29 Jul 2023 01:17:13.060] INFO - [ 26/100] train_loss: 0.11020 valid_loss: 0.09858\n",
      "[Sat, 29 Jul 2023 01:17:13.061] INFO - Early stopping 1 out of 20...\n",
      "[Sat, 29 Jul 2023 01:17:16.271] INFO - [ 27/100] train_loss: 0.10721 valid_loss: 0.10016\n",
      "[Sat, 29 Jul 2023 01:17:16.272] INFO - Early stopping 2 out of 20...\n",
      "[Sat, 29 Jul 2023 01:17:19.356] INFO - [ 28/100] train_loss: 0.10639 valid_loss: 0.09611\n",
      "[Sat, 29 Jul 2023 01:17:19.356] INFO - Validation loss decreased from 0.09629 -> 0.0961114680592684\n",
      "[Sat, 29 Jul 2023 01:17:19.357] INFO - The model is saved in this path ../../models/checkpoint.pt\n",
      "[Sat, 29 Jul 2023 01:17:22.427] INFO - [ 29/100] train_loss: 0.10686 valid_loss: 0.09682\n",
      "[Sat, 29 Jul 2023 01:17:22.428] INFO - Early stopping 1 out of 20...\n",
      "[Sat, 29 Jul 2023 01:17:25.481] INFO - [ 30/100] train_loss: 0.10211 valid_loss: 0.09780\n",
      "[Sat, 29 Jul 2023 01:17:25.481] INFO - Early stopping 2 out of 20...\n",
      "[Sat, 29 Jul 2023 01:17:28.555] INFO - [ 31/100] train_loss: 0.10401 valid_loss: 0.10116\n",
      "[Sat, 29 Jul 2023 01:17:28.556] INFO - Early stopping 3 out of 20...\n",
      "[Sat, 29 Jul 2023 01:17:31.605] INFO - [ 32/100] train_loss: 0.10156 valid_loss: 0.09653\n",
      "[Sat, 29 Jul 2023 01:17:31.605] INFO - Early stopping 4 out of 20...\n",
      "[Sat, 29 Jul 2023 01:17:34.605] INFO - [ 33/100] train_loss: 0.10209 valid_loss: 0.09828\n",
      "[Sat, 29 Jul 2023 01:17:34.606] INFO - Early stopping 5 out of 20...\n",
      "[Sat, 29 Jul 2023 01:17:37.651] INFO - [ 34/100] train_loss: 0.09500 valid_loss: 0.09747\n",
      "[Sat, 29 Jul 2023 01:17:37.652] INFO - Early stopping 6 out of 20...\n",
      "[Sat, 29 Jul 2023 01:17:40.739] INFO - [ 35/100] train_loss: 0.09517 valid_loss: 0.09843\n",
      "[Sat, 29 Jul 2023 01:17:40.740] INFO - Early stopping 7 out of 20...\n",
      "[Sat, 29 Jul 2023 01:17:43.800] INFO - [ 36/100] train_loss: 0.09615 valid_loss: 0.09833\n",
      "[Sat, 29 Jul 2023 01:17:43.801] INFO - Early stopping 8 out of 20...\n",
      "[Sat, 29 Jul 2023 01:17:46.866] INFO - [ 37/100] train_loss: 0.09228 valid_loss: 0.09680\n",
      "[Sat, 29 Jul 2023 01:17:46.867] INFO - Early stopping 9 out of 20...\n",
      "[Sat, 29 Jul 2023 01:17:49.982] INFO - [ 38/100] train_loss: 0.09103 valid_loss: 0.09930\n",
      "[Sat, 29 Jul 2023 01:17:49.982] INFO - Early stopping 10 out of 20...\n",
      "[Sat, 29 Jul 2023 01:17:53.028] INFO - [ 39/100] train_loss: 0.09016 valid_loss: 0.10050\n",
      "[Sat, 29 Jul 2023 01:17:53.029] INFO - Early stopping 11 out of 20...\n",
      "[Sat, 29 Jul 2023 01:17:56.073] INFO - [ 40/100] train_loss: 0.09051 valid_loss: 0.09938\n",
      "[Sat, 29 Jul 2023 01:17:56.074] INFO - Early stopping 12 out of 20...\n",
      "[Sat, 29 Jul 2023 01:17:59.135] INFO - [ 41/100] train_loss: 0.09150 valid_loss: 0.09892\n",
      "[Sat, 29 Jul 2023 01:17:59.135] INFO - Early stopping 13 out of 20...\n",
      "[Sat, 29 Jul 2023 01:18:02.279] INFO - [ 42/100] train_loss: 0.08738 valid_loss: 0.10225\n",
      "[Sat, 29 Jul 2023 01:18:02.280] INFO - Early stopping 14 out of 20...\n",
      "[Sat, 29 Jul 2023 01:18:05.406] INFO - [ 43/100] train_loss: 0.09048 valid_loss: 0.10082\n",
      "[Sat, 29 Jul 2023 01:18:05.407] INFO - Early stopping 15 out of 20...\n",
      "[Sat, 29 Jul 2023 01:18:08.482] INFO - [ 44/100] train_loss: 0.08531 valid_loss: 0.10518\n",
      "[Sat, 29 Jul 2023 01:18:08.482] INFO - Early stopping 16 out of 20...\n",
      "[Sat, 29 Jul 2023 01:18:11.556] INFO - [ 45/100] train_loss: 0.08425 valid_loss: 0.10063\n",
      "[Sat, 29 Jul 2023 01:18:11.557] INFO - Early stopping 17 out of 20...\n",
      "[Sat, 29 Jul 2023 01:18:14.640] INFO - [ 46/100] train_loss: 0.08516 valid_loss: 0.09830\n",
      "[Sat, 29 Jul 2023 01:18:14.640] INFO - Early stopping 18 out of 20...\n",
      "[Sat, 29 Jul 2023 01:18:17.701] INFO - [ 47/100] train_loss: 0.08448 valid_loss: 0.10400\n",
      "[Sat, 29 Jul 2023 01:18:17.702] INFO - Early stopping 19 out of 20...\n",
      "[Sat, 29 Jul 2023 01:18:20.790] INFO - [ 48/100] train_loss: 0.08523 valid_loss: 0.09974\n",
      "[Sat, 29 Jul 2023 01:18:20.790] INFO - Early stopping 20 out of 20...\n",
      "[Sat, 29 Jul 2023 01:18:20.791] INFO - Early stopping\n"
     ]
    }
   ],
   "source": [
    "batch_size = 256\n",
    "n_epochs = 100\n",
    "\n",
    "train_loader, test_loader, valid_loader = create_datasets(batch_size)\n",
    "\n",
    "# early stopping patience; how long to wait after last time validation loss improved.\n",
    "patience = 20\n",
    "\n",
    "model, train_loss, valid_loss = train_model(mnist_model, batch_size, patience, n_epochs, train_loader, valid_loader)"
   ]
  },
  {
   "cell_type": "code",
   "execution_count": 10,
   "id": "9cbb5385ad9b2bd",
   "metadata": {
    "ExecuteTime": {
     "start_time": "2023-07-27T08:27:11.326810889Z"
    },
    "collapsed": false,
    "is_executing": true
   },
   "outputs": [
    {
     "name": "stderr",
     "output_type": "stream",
     "text": [
      "[Sat, 29 Jul 2023 01:18:20.838] INFO - The position of the lowest validation loss: 28\n"
     ]
    },
    {
     "data": {
      "image/png": "[encoded data removed]",
      "text/plain": [
       "<Figure size 1000x800 with 1 Axes>"
      ]
     },
     "metadata": {},
     "output_type": "display_data"
    }
   ],
   "source": [
    "# visualize the loss as the network trained\n",
    "fig = plt.figure(figsize=(10,8))\n",
    "plt.plot(range(1,len(train_loss)+1),train_loss, label='Training Loss')\n",
    "plt.plot(range(1,len(valid_loss)+1),valid_loss,label='Validation Loss')\n",
    "\n",
    "# find position of lowest validation loss\n",
    "lowest_val_loss = valid_loss.index(min(valid_loss))+1 \n",
    "logging.info(f\"The position of the lowest validation loss: {lowest_val_loss}\")\n",
    "\n",
    "plt.axvline(lowest_val_loss, linestyle='--', color='r',label='Early Stopping Checkpoint')\n",
    "\n",
    "plt.xlabel('epochs')\n",
    "plt.ylabel('loss')\n",
    "plt.ylim(0, 0.5) # consistent scale\n",
    "plt.xlim(0, len(train_loss)+1) # consistent scale\n",
    "plt.grid(True)\n",
    "plt.legend()\n",
    "plt.tight_layout()\n",
    "plt.show()\n",
    "fig.savefig(LOG_DIR.joinpath('loss_plot.png'), bbox_inches='tight')"
   ]
  },
  {
   "cell_type": "code",
   "execution_count": 11,
   "id": "49e6c3545e17bbcd",
   "metadata": {
    "ExecuteTime": {
     "start_time": "2023-07-27T08:27:11.327001491Z"
    },
    "collapsed": false,
    "is_executing": true
   },
   "outputs": [
    {
     "data": {
      "text/plain": [
       "['0', '1', '2', '3', '4', '5', '6', '7', '8', '9']"
      ]
     },
     "execution_count": 11,
     "metadata": {},
     "output_type": "execute_result"
    }
   ],
   "source": [
    "classes = [str(i) for i in np.arange(0,10)]\n",
    "classes"
   ]
  },
  {
   "cell_type": "code",
   "execution_count": 14,
   "id": "9ec638996df0cd5b",
   "metadata": {
    "ExecuteTime": {
     "start_time": "2023-07-27T08:27:11.327213577Z"
    },
    "collapsed": false,
    "is_executing": true
   },
   "outputs": [
    {
     "name": "stderr",
     "output_type": "stream",
     "text": [
      "[Sat, 29 Jul 2023 01:24:14.372] INFO - Test Loss: 0.092405\n",
      "\n",
      "[Sat, 29 Jul 2023 01:24:14.372] INFO - Test Accuracy of     0: 98% (969/979)\n",
      "[Sat, 29 Jul 2023 01:24:14.373] INFO - Test Accuracy of     1: 98% (1117/1133)\n",
      "[Sat, 29 Jul 2023 01:24:14.373] INFO - Test Accuracy of     2: 97% (1003/1030)\n",
      "[Sat, 29 Jul 2023 01:24:14.374] INFO - Test Accuracy of     3: 97% (979/1008)\n",
      "[Sat, 29 Jul 2023 01:24:14.374] INFO - Test Accuracy of     4: 98% (961/980)\n",
      "[Sat, 29 Jul 2023 01:24:14.374] INFO - Test Accuracy of     5: 97% (867/890)\n",
      "[Sat, 29 Jul 2023 01:24:14.375] INFO - Test Accuracy of     6: 97% (931/956)\n",
      "[Sat, 29 Jul 2023 01:24:14.375] INFO - Test Accuracy of     7: 96% (996/1027)\n",
      "[Sat, 29 Jul 2023 01:24:14.375] INFO - Test Accuracy of     8: 95% (933/973)\n",
      "[Sat, 29 Jul 2023 01:24:14.376] INFO - Test Accuracy of     9: 95% (964/1008)\n",
      "[Sat, 29 Jul 2023 01:24:14.376] INFO - Test Accuracy (Overall): 97% (9720/9984)\n"
     ]
    }
   ],
   "source": [
    "# initialize lists to monitor test loss and accuracy\n",
    "test_loss = 0.0\n",
    "class_correct = list(0. for i in range(10))\n",
    "class_total = list(0. for i in range(10))\n",
    "\n",
    "model.eval() # prep model for evaluation\n",
    "\n",
    "for data, target in test_loader:\n",
    "    if len(target.data) != batch_size:\n",
    "        break\n",
    "    # forward pass: compute predicted outputs by passing inputs to the model\n",
    "    output = model(data)\n",
    "    # calculate the loss\n",
    "    loss = criterion(output, target)\n",
    "    # update test loss \n",
    "    test_loss += loss.item()*data.size(0)\n",
    "    # convert output probabilities to predicted class\n",
    "    _, pred = torch.max(output, 1)\n",
    "    # compare predictions to true label\n",
    "    correct = np.squeeze(pred.eq(target.data.view_as(pred)))\n",
    "    # calculate test accuracy for each object class\n",
    "    for i in range(batch_size):\n",
    "        label = target.data[i]\n",
    "        class_correct[label] += correct[i].item()\n",
    "        class_total[label] += 1\n",
    "\n",
    "# calculate and print avg test loss\n",
    "test_loss = test_loss/len(test_loader.dataset)\n",
    "logging.info('Test Loss: {:.6f}\\n'.format(test_loss))\n",
    "\n",
    "for i in range(10):\n",
    "    if class_total[i] > 0:\n",
    "        logging.info('Test Accuracy of %5s: %2d%% (%2d/%2d)' % (\n",
    "            str(i), 100 * class_correct[i] / class_total[i],\n",
    "            np.sum(class_correct[i]), np.sum(class_total[i])))\n",
    "    else:\n",
    "        logging.info('Test Accuracy of %5s: N/A (no training examples)' % (classes[i]))\n",
    "\n",
    "logging.info('Test Accuracy (Overall): %2d%% (%2d/%2d)' % (\n",
    "    100. * np.sum(class_correct) / np.sum(class_total),\n",
    "    np.sum(class_correct), np.sum(class_total)))"
   ]
  },
  {
   "cell_type": "code",
   "execution_count": 15,
   "id": "4737dc501bcb4b56",
   "metadata": {
    "ExecuteTime": {
     "start_time": "2023-07-27T08:27:11.327368884Z"
    },
    "collapsed": false,
    "is_executing": true
   },
   "outputs": [
    {
     "data": {
      "image/png": "[encoded data removed]",
      "text/plain": [
       "<Figure size 2500x400 with 20 Axes>"
      ]
     },
     "metadata": {},
     "output_type": "display_data"
    }
   ],
   "source": [
    "# obtain one batch of test images\n",
    "dataiter = iter(test_loader)\n",
    "images, labels = dataiter.next()\n",
    "\n",
    "# get sample outputs\n",
    "output = model(images)\n",
    "# convert output probabilities to predicted class\n",
    "_, preds = torch.max(output, 1)\n",
    "# prep images for display\n",
    "images = images.numpy()\n",
    "\n",
    "# plot the images in the batch, along with predicted and true labels\n",
    "fig = plt.figure(figsize=(25, 4))\n",
    "for idx in np.arange(20):\n",
    "    ax = fig.add_subplot(2, 10, idx+1, xticks=[], yticks=[])\n",
    "    ax.imshow(np.squeeze(images[idx]), cmap='gray')\n",
    "    ax.set_title(\"{} ({})\".format(str(preds[idx].item()), str(labels[idx].item())),\n",
    "                 color=(\"green\" if preds[idx]==labels[idx] else \"red\"))"
   ]
  },
  {
   "cell_type": "markdown",
   "id": "cffb99160a357e05",
   "metadata": {
    "collapsed": false
   },
   "source": [
    "#### References"
   ]
  },
  {
   "cell_type": "markdown",
   "id": "c852647413d8ce3c",
   "metadata": {
    "collapsed": false
   },
   "source": [
    "The MNIST training example code is mainly taken from the [mnist_mlp_solution_with_validation.ipynb](https://github.com/udacity/deep-learning-v2-pytorch/blob/master/convolutional-neural-networks/mnist-mlp/mnist_mlp_solution_with_validation.ipynb) notebook from the [deep-learning-v2-pytorch repository](https://github.com/udacity/deep-learning-v2-pytorch) made by [Udacity](https://www.udacity.com/), and has been fitted with my early stopping code. "
   ]
  }
 ],
 "metadata": {
  "kernelspec": {
   "display_name": "Python 3",
   "language": "python",
   "name": "python3"
  },
  "language_info": {
   "codemirror_mode": {
    "name": "ipython",
    "version": 3
   },
   "file_extension": ".py",
   "mimetype": "text/x-python",
   "name": "python",
   "nbconvert_exporter": "python",
   "pygments_lexer": "ipython3",
   "version": "3.8.17"
  }
 },
 "nbformat": 4,
 "nbformat_minor": 5
}
