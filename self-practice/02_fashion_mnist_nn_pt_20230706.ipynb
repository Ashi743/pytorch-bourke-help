{
 "cells": [
  {
   "attachments": {},
   "cell_type": "markdown",
   "metadata": {},
   "source": [
    "### Import libraries"
   ]
  },
  {
   "cell_type": "code",
   "execution_count": 2,
   "metadata": {},
   "outputs": [
    {
     "name": "stdout",
     "output_type": "stream",
     "text": [
      "PyTorch version: 1.12.1+cu102\n",
      "Device: cuda\n",
      "Created date: 2023-07-05 16:00:17\n",
      "Modified date: 2023-07-06 10:41:21\n"
     ]
    }
   ],
   "source": [
    "import torch\n",
    "import numpy as np\n",
    "import pandas as pd\n",
    "import torch.nn as nn\n",
    "from torchvision.datasets import FashionMNIST\n",
    "from torchvision import transforms\n",
    "from torch.utils.data import DataLoader\n",
    "from sklearn.metrics import confusion_matrix\n",
    "import matplotlib.pyplot as plt\n",
    "from datetime import datetime\n",
    "\n",
    "# check PyTorch version\n",
    "print(f\"PyTorch version: {torch.__version__}\")\n",
    "\n",
    "# check device\n",
    "device = \"cuda\" if torch.cuda.is_available() else \"cpu\"\n",
    "print(f\"Device: {device}\")\n",
    "\n",
    "# created date\n",
    "print(\"Created date: 2023-07-05 16:00:17\")\n",
    "# modified date\n",
    "now = datetime.now().strftime(\"%Y-%m-%d %H:%M:%S\")\n",
    "print(f\"Modified date: {now}\")"
   ]
  },
  {
   "attachments": {},
   "cell_type": "markdown",
   "metadata": {},
   "source": [
    "#### Dataset"
   ]
  },
  {
   "cell_type": "code",
   "execution_count": 3,
   "metadata": {},
   "outputs": [
    {
     "name": "stdout",
     "output_type": "stream",
     "text": [
      "Mean: 0.28604060411453247, Std: 0.3530242443084717\n"
     ]
    }
   ],
   "source": [
    "# get data to calculate mean and standard deviation\n",
    "transform = transforms.Compose([transforms.ToTensor()])\n",
    "train_set = FashionMNIST(\"../../data\", download=True, train= True, transform=transform)\n",
    "train_loader = DataLoader(train_set, batch_size=len(train_set), shuffle=True)\n",
    "# iter\n",
    "data = next(iter(train_loader))\n",
    "\n",
    "# calculate mean, std\n",
    "mean = data[0].mean()\n",
    "std =  data[0].std()\n",
    "\n",
    "print(f\"Mean: {mean.numpy()}, Std: {std.numpy()}\")"
   ]
  },
  {
   "cell_type": "code",
   "execution_count": 4,
   "metadata": {},
   "outputs": [
    {
     "data": {
      "text/plain": [
       "60000"
      ]
     },
     "execution_count": 4,
     "metadata": {},
     "output_type": "execute_result"
    }
   ],
   "source": [
    "len(data[0])"
   ]
  },
  {
   "cell_type": "code",
   "execution_count": 5,
   "metadata": {},
   "outputs": [],
   "source": [
    "# transform\n",
    "transform = transforms.Compose([transforms.ToTensor(), transforms.Normalize(mean=mean, std=std)])\n",
    "\n",
    "# training set\n",
    "train_set = FashionMNIST(\"../../data\", download=True, train= True, transform=transform)\n",
    "\n",
    "# testing set\n",
    "test_set = FashionMNIST(\"../../data\", download=True, train= False, transform=transform)"
   ]
  },
  {
   "cell_type": "code",
   "execution_count": 6,
   "metadata": {},
   "outputs": [
    {
     "data": {
      "text/plain": [
       "['T-shirt/top',\n",
       " 'Trouser',\n",
       " 'Pullover',\n",
       " 'Dress',\n",
       " 'Coat',\n",
       " 'Sandal',\n",
       " 'Shirt',\n",
       " 'Sneaker',\n",
       " 'Bag',\n",
       " 'Ankle boot']"
      ]
     },
     "execution_count": 6,
     "metadata": {},
     "output_type": "execute_result"
    }
   ],
   "source": [
    "# class names\n",
    "class_names = train_set.classes\n",
    "class_names"
   ]
  },
  {
   "cell_type": "code",
   "execution_count": 7,
   "metadata": {},
   "outputs": [
    {
     "data": {
      "text/plain": [
       "(60000, 10000)"
      ]
     },
     "execution_count": 7,
     "metadata": {},
     "output_type": "execute_result"
    }
   ],
   "source": [
    "# check length of training set, testing set\n",
    "len(train_set), len(test_set)"
   ]
  },
  {
   "attachments": {},
   "cell_type": "markdown",
   "metadata": {},
   "source": [
    "#### Modeling"
   ]
  },
  {
   "cell_type": "code",
   "execution_count": 8,
   "metadata": {},
   "outputs": [],
   "source": [
    "# FashionMNIST Neural Network\n",
    "class FashionMNISTNN(nn.Module):\n",
    "    def __init__(self) -> None:\n",
    "        super().__init__()\n",
    "\n",
    "        self.layers = torch.nn.Sequential(\n",
    "            nn.Flatten(),\n",
    "            nn.Linear(in_features=784, out_features= 256),\n",
    "            nn.ReLU(),\n",
    "            nn.Linear(in_features=256, out_features= 128),\n",
    "            nn.ReLU(),\n",
    "            nn.Linear(in_features=128, out_features= 64),\n",
    "            nn.ReLU(),\n",
    "            nn.Linear(in_features=64, out_features= 10),\n",
    "        )\n",
    "    def forward(self, x):\n",
    "        return self.layers(x)"
   ]
  },
  {
   "cell_type": "code",
   "execution_count": 9,
   "metadata": {},
   "outputs": [
    {
     "data": {
      "text/plain": [
       "FashionMNISTNN(\n",
       "  (layers): Sequential(\n",
       "    (0): Flatten(start_dim=1, end_dim=-1)\n",
       "    (1): Linear(in_features=784, out_features=256, bias=True)\n",
       "    (2): ReLU()\n",
       "    (3): Linear(in_features=256, out_features=128, bias=True)\n",
       "    (4): ReLU()\n",
       "    (5): Linear(in_features=128, out_features=64, bias=True)\n",
       "    (6): ReLU()\n",
       "    (7): Linear(in_features=64, out_features=10, bias=True)\n",
       "  )\n",
       ")"
      ]
     },
     "execution_count": 9,
     "metadata": {},
     "output_type": "execute_result"
    }
   ],
   "source": [
    "# set manual seed\n",
    "torch.manual_seed(42)\n",
    "\n",
    "# create an instance of the model\n",
    "fashionMNIST_model = FashionMNISTNN()\n",
    "\n",
    "# init weights and bias\n",
    "for module in fashionMNIST_model.modules():\n",
    "    if isinstance(module, nn.Linear):\n",
    "        nn.init.kaiming_uniform_(module.weight)\n",
    "        nn.init.constant_(module.bias, 0.0)\n",
    "\n",
    "# copy the model to device\n",
    "fashionMNIST_model.to(device)"
   ]
  },
  {
   "cell_type": "code",
   "execution_count": 10,
   "metadata": {},
   "outputs": [],
   "source": [
    "# batch_size\n",
    "batch_size = 16\n",
    "\n",
    "# dataloader\n",
    "train_loader = DataLoader(train_set, batch_size=batch_size, shuffle=True)\n",
    "test_loader = DataLoader(test_set, batch_size=batch_size, shuffle=False)\n",
    "\n",
    "# epochs \n",
    "epochs = 20\n",
    "\n",
    "# loss_fn\n",
    "loss_fn = nn.CrossEntropyLoss()\n",
    "\n",
    "# optimizer\n",
    "optimizer = torch.optim.Adam(params=fashionMNIST_model.parameters(), lr=0.0022)"
   ]
  },
  {
   "cell_type": "code",
   "execution_count": 11,
   "metadata": {},
   "outputs": [
    {
     "name": "stdout",
     "output_type": "stream",
     "text": [
      "Epoch: 1 / 20 | Train loss:  0.49942 | Train acc:  0.82 |  Test loss:  0.00057 | Test acc:  0.83\n",
      "Epoch: 2 / 20 | Train loss:  0.39425 | Train acc:  0.86 |  Test loss:  0.00074 | Test acc:  0.83\n",
      "Epoch: 3 / 20 | Train loss:  0.36842 | Train acc:  0.87 |  Test loss:  0.00048 | Test acc:  0.86\n",
      "Epoch: 4 / 20 | Train loss:  0.34909 | Train acc:  0.87 |  Test loss:  0.00027 | Test acc:  0.86\n",
      "Epoch: 5 / 20 | Train loss:  0.33627 | Train acc:  0.88 |  Test loss:  0.00043 | Test acc:  0.86\n",
      "Epoch: 6 / 20 | Train loss:  0.32428 | Train acc:  0.88 |  Test loss:  0.00019 | Test acc:  0.86\n",
      "Epoch: 7 / 20 | Train loss:  0.31313 | Train acc:  0.89 |  Test loss:  0.00022 | Test acc:  0.87\n",
      "Epoch: 8 / 20 | Train loss:  0.30555 | Train acc:  0.89 |  Test loss:  0.00045 | Test acc:  0.87\n",
      "Epoch: 9 / 20 | Train loss:  0.30162 | Train acc:  0.89 |  Test loss:  0.00023 | Test acc:  0.86\n",
      "Epoch: 10 / 20 | Train loss:  0.29934 | Train acc:  0.89 |  Test loss:  0.00010 | Test acc:  0.86\n",
      "Epoch: 11 / 20 | Train loss:  0.29044 | Train acc:  0.90 |  Test loss:  0.00015 | Test acc:  0.87\n",
      "Epoch: 12 / 20 | Train loss:  0.28324 | Train acc:  0.90 |  Test loss:  0.00021 | Test acc:  0.88\n",
      "Epoch: 13 / 20 | Train loss:  0.29020 | Train acc:  0.90 |  Test loss:  0.00008 | Test acc:  0.87\n",
      "Epoch: 14 / 20 | Train loss:  0.27266 | Train acc:  0.90 |  Test loss:  0.00069 | Test acc:  0.88\n",
      "Epoch: 15 / 20 | Train loss:  0.27583 | Train acc:  0.90 |  Test loss:  0.00006 | Test acc:  0.87\n",
      "Epoch: 16 / 20 | Train loss:  0.27345 | Train acc:  0.90 |  Test loss:  0.00007 | Test acc:  0.87\n",
      "Epoch: 17 / 20 | Train loss:  0.26755 | Train acc:  0.90 |  Test loss:  0.00005 | Test acc:  0.87\n",
      "Epoch: 18 / 20 | Train loss:  0.26468 | Train acc:  0.90 |  Test loss:  0.00022 | Test acc:  0.87\n",
      "Epoch: 19 / 20 | Train loss:  0.26365 | Train acc:  0.91 |  Test loss:  0.00026 | Test acc:  0.87\n",
      "Epoch: 20 / 20 | Train loss:  0.26200 | Train acc:  0.91 |  Test loss:  0.00023 | Test acc:  0.88\n"
     ]
    }
   ],
   "source": [
    "# start training\n",
    "for epoch in range(epochs):\n",
    "\n",
    "    accumulated_train_batches = 0\n",
    "    accumulated_train_acc = 0.0\n",
    "    accumulated_train_loss = 0.0\n",
    "\n",
    "    ### TRAINING\n",
    "    for inputs, targets in train_loader:\n",
    "\n",
    "        # copy inputs, targets to device\n",
    "        inputs = inputs.to(device)\n",
    "        targets = targets.to(device)\n",
    "\n",
    "        # train mode\n",
    "        fashionMNIST_model.train()\n",
    "\n",
    "        # forward pass\n",
    "        y_logits = fashionMNIST_model(inputs)\n",
    "\n",
    "        # calculate loss \n",
    "        loss = loss_fn(y_logits, targets)\n",
    "\n",
    "        # accumulate loss\n",
    "        accumulated_train_loss += loss\n",
    "\n",
    "        # calculate accuracy\n",
    "        acc = torch.eq(targets, torch.argmax(torch.softmax(y_logits, axis=1), axis=1)).sum().item()\n",
    "        accumulated_train_acc += acc\n",
    "\n",
    "        # set zero gradients\n",
    "        optimizer.zero_grad()\n",
    "\n",
    "        # backpropagation \n",
    "        loss.backward()\n",
    "\n",
    "        # update weights, bias\n",
    "        optimizer.step()\n",
    "\n",
    "        # accumulate batches\n",
    "        accumulated_train_batches += 1\n",
    "\n",
    "    train_loss = accumulated_train_loss / accumulated_train_batches\n",
    "    train_acc = accumulated_train_acc / (accumulated_train_batches * batch_size)\n",
    "\n",
    "\n",
    "    ### TESTING \n",
    "    fashionMNIST_model.eval()\n",
    "    with torch.inference_mode():\n",
    "\n",
    "        accumulated_test_batches = 0\n",
    "        accumulated_test_acc = 0.0\n",
    "        accumulated_test_loss = 0.0\n",
    "\n",
    "        for inputs, targets in test_loader:\n",
    "\n",
    "            # copy inputs, targets to device\n",
    "            inputs = inputs.to(device)\n",
    "            targets = targets.to(device)\n",
    "\n",
    "            # forward pass\n",
    "            y_logits = fashionMNIST_model(inputs)\n",
    "\n",
    "            # calculate loss \n",
    "            loss = loss_fn(y_logits, targets)\n",
    "\n",
    "            # accumulate loss\n",
    "            accumulated_test_loss += loss\n",
    "\n",
    "            # calculate accuracy\n",
    "            acc = torch.eq(targets, torch.argmax(torch.softmax(y_logits, axis=1), axis=1)).sum().item()\n",
    "            accumulated_test_acc += acc\n",
    "\n",
    "            # accumulate batches\n",
    "            accumulated_test_batches += 1\n",
    "\n",
    "        test_loss = accumulated_test_loss / accumulated_test_batches\n",
    "        test_acc = accumulated_test_acc / (accumulated_test_batches * batch_size)\n",
    "\n",
    "\n",
    "    print(f\"Epoch: {epoch + 1} / {epochs} | Train loss: {train_loss: .5f} | Train acc: {train_acc: .2f} |  Test loss: {test_loss: .5f} | Test acc: {test_acc: .2f}\")\n"
   ]
  },
  {
   "cell_type": "code",
   "execution_count": 12,
   "metadata": {},
   "outputs": [
    {
     "name": "stderr",
     "output_type": "stream",
     "text": [
      "/home/jason/anaconda3/envs/tadac/lib/python3.8/site-packages/torchvision/datasets/mnist.py:80: UserWarning: test_data has been renamed data\n",
      "  warnings.warn(\"test_data has been renamed data\")\n",
      "/home/jason/anaconda3/envs/tadac/lib/python3.8/site-packages/torchvision/datasets/mnist.py:70: UserWarning: test_labels has been renamed targets\n",
      "  warnings.warn(\"test_labels has been renamed targets\")\n"
     ]
    },
    {
     "data": {
      "text/plain": [
       "(tensor([9, 2, 1, 1, 6, 1, 4, 4, 5, 7], device='cuda:0'),\n",
       " tensor([9, 2, 1, 1, 6, 1, 4, 6, 5, 7]))"
      ]
     },
     "execution_count": 12,
     "metadata": {},
     "output_type": "execute_result"
    }
   ],
   "source": [
    "# predictions\n",
    "# test set\n",
    "test_data = test_set.test_data\n",
    "test_labels = test_set.test_labels\n",
    "\n",
    "# evaluation mode\n",
    "fashionMNIST_model.eval()\n",
    "with torch.inference_mode():\n",
    "    y_logits = fashionMNIST_model(test_set.test_data.type(torch.float32).to(device))\n",
    "    y_preds = torch.argmax(torch.softmax(y_logits, axis=1), axis= 1)\n",
    "\n",
    "y_preds[:10], test_labels[:10]\n"
   ]
  },
  {
   "cell_type": "code",
   "execution_count": 13,
   "metadata": {},
   "outputs": [
    {
     "data": {
      "image/png": "[encoded data removed]",
      "text/plain": [
       "<Figure size 1000x1000 with 10 Axes>"
      ]
     },
     "metadata": {},
     "output_type": "display_data"
    }
   ],
   "source": [
    "# visualise\n",
    "plt.figure(figsize=(10,10))\n",
    "for i in range(0, 10):\n",
    "    plt.subplot(5, 5, i + 1)\n",
    "    plt.imshow(test_data[i])\n",
    "    plt.title(f\"{class_names[y_preds[i]]} / {class_names[test_labels[i]]}\", fontdict={\"color\": \"darkred\", \"size\": 8})\n",
    "    plt.xticks([])\n",
    "    plt.yticks([])"
   ]
  },
  {
   "attachments": {},
   "cell_type": "markdown",
   "metadata": {},
   "source": [
    "#### Metrics"
   ]
  },
  {
   "cell_type": "code",
   "execution_count": 17,
   "metadata": {},
   "outputs": [
    {
     "data": {
      "text/plain": [
       "array([[859,   3,  41,  27,   6,   0,  21,   0,  43,   0],\n",
       "       [  3, 967,   6,  11,   1,   0,   3,   0,   9,   0],\n",
       "       [ 48,   5, 658,   9, 219,   2,  14,   0,  45,   0],\n",
       "       [ 97,  11,  43, 766,  27,   0,   5,   0,  51,   0],\n",
       "       [  6,   3, 127,  48, 664,   0,  11,   0, 141,   0],\n",
       "       [  2,   0,   1,   0,   0, 895,   1,   9,  61,  31],\n",
       "       [236,   4, 185,  17, 335,   0, 117,   0, 106,   0],\n",
       "       [  0,   0,   0,   0,   0,  51,   0, 721, 160,  68],\n",
       "       [  4,   0,   0,   2,   2,   0,   1,   1, 989,   1],\n",
       "       [  0,   0,   0,   0,   0,  28,   0,  10,  52, 910]])"
      ]
     },
     "execution_count": 17,
     "metadata": {},
     "output_type": "execute_result"
    }
   ],
   "source": [
    "# calculate tp, tn, fp, fn\n",
    "mnist_confusion_matrix = confusion_matrix(y_true=test_labels, y_pred=y_preds.cpu())\n",
    "\n",
    "mnist_confusion_matrix"
   ]
  }
 ],
 "metadata": {
  "kernelspec": {
   "display_name": "tadac",
   "language": "python",
   "name": "python3"
  },
  "language_info": {
   "codemirror_mode": {
    "name": "ipython",
    "version": 3
   },
   "file_extension": ".py",
   "mimetype": "text/x-python",
   "name": "python",
   "nbconvert_exporter": "python",
   "pygments_lexer": "ipython3",
   "version": "3.8.0"
  },
  "orig_nbformat": 4
 },
 "nbformat": 4,
 "nbformat_minor": 2
}
