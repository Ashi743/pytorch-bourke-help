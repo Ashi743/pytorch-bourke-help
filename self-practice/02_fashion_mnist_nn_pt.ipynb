{
 "cells": [
  {
   "cell_type": "code",
   "execution_count": 44,
   "metadata": {},
   "outputs": [
    {
     "name": "stdout",
     "output_type": "stream",
     "text": [
      "PyTorch version: 1.12.1+cu102\n",
      "Device: cuda\n",
      "Created date: 2023-07-01 21:18:20\n",
      "Modified date: 2023-07-04 12:29:53\n"
     ]
    }
   ],
   "source": [
    "# import libraties\n",
    "import torch\n",
    "from torchvision.datasets import FashionMNIST\n",
    "from torch.utils.data import DataLoader, TensorDataset\n",
    "import torch.nn as nn\n",
    "import torchvision.transforms as transforms\n",
    "import numpy as np\n",
    "from datetime import datetime\n",
    "import matplotlib.pyplot as plt\n",
    "import pandas as pd\n",
    "import warnings \n",
    "warnings.filterwarnings(\"ignore\", category=UserWarning)\n",
    "\n",
    "# check PyTorch version\n",
    "print(f\"PyTorch version: {torch.__version__}\")\n",
    "\n",
    "# check device\n",
    "device = \"cuda\" if torch.cuda.is_available() else \"cpu\"\n",
    "print(f\"Device: {device}\")\n",
    "\n",
    "# created date\n",
    "print(\"Created date: 2023-07-01 21:18:20\")\n",
    "\n",
    "# modified date\n",
    "now = datetime.now().strftime(\"%Y-%m-%d %H:%M:%S\")\n",
    "print(f\"Modified date: {now}\")"
   ]
  },
  {
   "attachments": {},
   "cell_type": "markdown",
   "metadata": {},
   "source": [
    "#### Dataset"
   ]
  },
  {
   "cell_type": "code",
   "execution_count": 45,
   "metadata": {},
   "outputs": [],
   "source": [
    "# load training dataset into a single batch to compute mean and stddev\n",
    "transform = transforms.Compose([transforms.ToTensor()])\n",
    "trainset = FashionMNIST(root=\"../../data/FashionMNIST/\", \n",
    "                            download= True,\n",
    "                            train=True, \n",
    "                            transform= transform)\n",
    "trainloader = DataLoader(trainset, batch_size=len(trainset),shuffle=True)\n",
    "data = next(iter(trainloader))\n",
    "mean = data[0].mean()\n",
    "stddev = data[0].std()\n"
   ]
  },
  {
   "cell_type": "code",
   "execution_count": 46,
   "metadata": {},
   "outputs": [],
   "source": [
    "# download data\n",
    "# transform\n",
    "transform = transforms.Compose([transforms.ToTensor(), transforms.Normalize(mean=mean, std=stddev)])\n",
    "\n",
    "# train set\n",
    "fashion_mnist_train = FashionMNIST(root=\"../../data/FashionMNIST/\", \n",
    "                            download= True,\n",
    "                            train=True, \n",
    "                            transform= transform)\n",
    "# test set\n",
    "fashion_mnist_test = FashionMNIST(root=\"../../data/FashionMNIST/\", \n",
    "                                  download= True,\n",
    "                                  train=False,\n",
    "                                  transform= transform)\n",
    "\n",
    "# training set\n",
    "train_data = fashion_mnist_train.train_data\n",
    "train_labels = fashion_mnist_train.train_labels\n",
    "\n",
    "# testing set\n",
    "test_data = fashion_mnist_test.test_data\n",
    "test_labels = fashion_mnist_test.test_labels"
   ]
  },
  {
   "cell_type": "code",
   "execution_count": 47,
   "metadata": {},
   "outputs": [
    {
     "name": "stdout",
     "output_type": "stream",
     "text": [
      "Shape of train data: torch.Size([60000, 28, 28])\n",
      "Shape of train labels: torch.Size([60000])\n",
      "Shape of test data: torch.Size([10000, 28, 28])\n",
      "Shape of test labels: torch.Size([10000])\n"
     ]
    }
   ],
   "source": [
    "# check train set\n",
    "print(f\"Shape of train data: {train_data.shape}\")\n",
    "print(f\"Shape of train labels: {train_labels.shape}\")\n",
    "\n",
    "# check test set\n",
    "print(f\"Shape of test data: {test_data.shape}\")\n",
    "print(f\"Shape of test labels: {test_labels.shape}\")"
   ]
  },
  {
   "cell_type": "code",
   "execution_count": 48,
   "metadata": {},
   "outputs": [
    {
     "data": {
      "text/plain": [
       "<matplotlib.image.AxesImage at 0x7fcdc0a5aa60>"
      ]
     },
     "execution_count": 48,
     "metadata": {},
     "output_type": "execute_result"
    },
    {
     "data": {
      "image/png": "[encoded data removed]",
      "text/plain": [
       "<Figure size 640x480 with 1 Axes>"
      ]
     },
     "metadata": {},
     "output_type": "display_data"
    }
   ],
   "source": [
    "# visualize one sample\n",
    "plt.imshow(train_data[0])"
   ]
  },
  {
   "cell_type": "code",
   "execution_count": 49,
   "metadata": {},
   "outputs": [
    {
     "data": {
      "text/plain": [
       "(['T-shirt/top',\n",
       "  'Trouser',\n",
       "  'Pullover',\n",
       "  'Dress',\n",
       "  'Coat',\n",
       "  'Sandal',\n",
       "  'Shirt',\n",
       "  'Sneaker',\n",
       "  'Bag',\n",
       "  'Ankle boot'],\n",
       " 10)"
      ]
     },
     "execution_count": 49,
     "metadata": {},
     "output_type": "execute_result"
    }
   ],
   "source": [
    "# check classes\n",
    "class_names = fashion_mnist_train.classes\n",
    "class_names, len(class_names)"
   ]
  },
  {
   "attachments": {},
   "cell_type": "markdown",
   "metadata": {},
   "source": [
    "#### Modeling"
   ]
  },
  {
   "cell_type": "code",
   "execution_count": 53,
   "metadata": {},
   "outputs": [],
   "source": [
    "class FashionMNISTNeuronNetwork(nn.Module):\n",
    "    def __init__(self) -> None:\n",
    "        super().__init__()\n",
    "\n",
    "        self.layers = nn.Sequential(\n",
    "            nn.Flatten(),\n",
    "            nn.Linear(in_features=784, out_features=256),\n",
    "            nn.ReLU(),\n",
    "            nn.Dropout(0.2),\n",
    "            nn.Linear(in_features=256, out_features=64),\n",
    "            nn.ReLU(),\n",
    "            nn.Dropout(0.2),\n",
    "            nn.Linear(in_features=64, out_features=32),\n",
    "            nn.ReLU(),\n",
    "            nn.Dropout(0.2),\n",
    "            nn.Linear(in_features=32, out_features=10),\n",
    "            # nn.Softmax() => no need to use if loss_function is nn.CrossEntropyLoss(), that has an `embedded` LogSoftmax inside\n",
    "        ) \n",
    "\n",
    "    def forward(self, x):\n",
    "        return self.layers(x)"
   ]
  },
  {
   "cell_type": "code",
   "execution_count": 54,
   "metadata": {},
   "outputs": [
    {
     "name": "stdout",
     "output_type": "stream",
     "text": [
      "train_size: 60000\n",
      "test_size: 10000\n",
      "Epoch: 1/100 | Train loss:  0.65502 | Train acc:  0.77 | Train Size: 60000 | Test loss:  0.45811 | Test acc:  0.83 | Test Size: 10016\n",
      "Epoch: 2/100 | Train loss:  0.46588 | Train acc:  0.84 | Train Size: 60000 | Test loss:  0.39754 | Test acc:  0.85 | Test Size: 10016\n",
      "Epoch: 3/100 | Train loss:  0.42122 | Train acc:  0.85 | Train Size: 60000 | Test loss:  0.38833 | Test acc:  0.86 | Test Size: 10016\n",
      "Epoch: 4/100 | Train loss:  0.39577 | Train acc:  0.86 | Train Size: 60000 | Test loss:  0.37277 | Test acc:  0.86 | Test Size: 10016\n",
      "Epoch: 5/100 | Train loss:  0.37738 | Train acc:  0.87 | Train Size: 60000 | Test loss:  0.39458 | Test acc:  0.86 | Test Size: 10016\n",
      "Epoch: 6/100 | Train loss:  0.36091 | Train acc:  0.87 | Train Size: 60000 | Test loss:  0.38201 | Test acc:  0.86 | Test Size: 10016\n",
      "Epoch: 7/100 | Train loss:  0.35080 | Train acc:  0.88 | Train Size: 60000 | Test loss:  0.36797 | Test acc:  0.87 | Test Size: 10016\n",
      "Epoch: 8/100 | Train loss:  0.34129 | Train acc:  0.88 | Train Size: 60000 | Test loss:  0.36195 | Test acc:  0.87 | Test Size: 10016\n",
      "Epoch: 9/100 | Train loss:  0.32813 | Train acc:  0.88 | Train Size: 60000 | Test loss:  0.34339 | Test acc:  0.88 | Test Size: 10016\n",
      "Epoch: 10/100 | Train loss:  0.32322 | Train acc:  0.88 | Train Size: 60000 | Test loss:  0.34437 | Test acc:  0.88 | Test Size: 10016\n",
      "Epoch: 11/100 | Train loss:  0.31598 | Train acc:  0.89 | Train Size: 60000 | Test loss:  0.34750 | Test acc:  0.87 | Test Size: 10016\n",
      "Epoch: 12/100 | Train loss:  0.31286 | Train acc:  0.89 | Train Size: 60000 | Test loss:  0.33879 | Test acc:  0.88 | Test Size: 10016\n",
      "Epoch: 13/100 | Train loss:  0.30435 | Train acc:  0.89 | Train Size: 60000 | Test loss:  0.34318 | Test acc:  0.88 | Test Size: 10016\n",
      "Epoch: 14/100 | Train loss:  0.29798 | Train acc:  0.89 | Train Size: 60000 | Test loss:  0.36300 | Test acc:  0.88 | Test Size: 10016\n",
      "Epoch: 15/100 | Train loss:  0.29617 | Train acc:  0.89 | Train Size: 60000 | Test loss:  0.34235 | Test acc:  0.88 | Test Size: 10016\n",
      "Epoch: 16/100 | Train loss:  0.29114 | Train acc:  0.90 | Train Size: 60000 | Test loss:  0.35139 | Test acc:  0.88 | Test Size: 10016\n",
      "Epoch: 17/100 | Train loss:  0.28390 | Train acc:  0.90 | Train Size: 60000 | Test loss:  0.34314 | Test acc:  0.88 | Test Size: 10016\n",
      "Epoch: 18/100 | Train loss:  0.28191 | Train acc:  0.90 | Train Size: 60000 | Test loss:  0.34664 | Test acc:  0.88 | Test Size: 10016\n",
      "Epoch: 19/100 | Train loss:  0.27837 | Train acc:  0.90 | Train Size: 60000 | Test loss:  0.33627 | Test acc:  0.88 | Test Size: 10016\n",
      "Epoch: 20/100 | Train loss:  0.27309 | Train acc:  0.90 | Train Size: 60000 | Test loss:  0.34349 | Test acc:  0.88 | Test Size: 10016\n",
      "Epoch: 21/100 | Train loss:  0.27095 | Train acc:  0.90 | Train Size: 60000 | Test loss:  0.35878 | Test acc:  0.88 | Test Size: 10016\n",
      "Epoch: 22/100 | Train loss:  0.26697 | Train acc:  0.90 | Train Size: 60000 | Test loss:  0.35178 | Test acc:  0.88 | Test Size: 10016\n",
      "Epoch: 23/100 | Train loss:  0.26739 | Train acc:  0.90 | Train Size: 60000 | Test loss:  0.34804 | Test acc:  0.88 | Test Size: 10016\n",
      "Epoch: 24/100 | Train loss:  0.26411 | Train acc:  0.91 | Train Size: 60000 | Test loss:  0.34523 | Test acc:  0.88 | Test Size: 10016\n",
      "Epoch: 25/100 | Train loss:  0.25416 | Train acc:  0.91 | Train Size: 60000 | Test loss:  0.34335 | Test acc:  0.88 | Test Size: 10016\n",
      "Epoch: 26/100 | Train loss:  0.25510 | Train acc:  0.91 | Train Size: 60000 | Test loss:  0.33420 | Test acc:  0.89 | Test Size: 10016\n",
      "Epoch: 27/100 | Train loss:  0.25162 | Train acc:  0.91 | Train Size: 60000 | Test loss:  0.35540 | Test acc:  0.88 | Test Size: 10016\n",
      "Epoch: 28/100 | Train loss:  0.25072 | Train acc:  0.91 | Train Size: 60000 | Test loss:  0.34119 | Test acc:  0.89 | Test Size: 10016\n",
      "Epoch: 29/100 | Train loss:  0.24795 | Train acc:  0.91 | Train Size: 60000 | Test loss:  0.34440 | Test acc:  0.88 | Test Size: 10016\n",
      "Epoch: 30/100 | Train loss:  0.24322 | Train acc:  0.91 | Train Size: 60000 | Test loss:  0.34343 | Test acc:  0.88 | Test Size: 10016\n",
      "Epoch: 31/100 | Train loss:  0.24126 | Train acc:  0.91 | Train Size: 60000 | Test loss:  0.34454 | Test acc:  0.88 | Test Size: 10016\n",
      "Epoch: 32/100 | Train loss:  0.23845 | Train acc:  0.91 | Train Size: 60000 | Test loss:  0.35095 | Test acc:  0.89 | Test Size: 10016\n",
      "Epoch: 33/100 | Train loss:  0.23573 | Train acc:  0.91 | Train Size: 60000 | Test loss:  0.35502 | Test acc:  0.89 | Test Size: 10016\n",
      "Epoch: 34/100 | Train loss:  0.23812 | Train acc:  0.91 | Train Size: 60000 | Test loss:  0.35108 | Test acc:  0.89 | Test Size: 10016\n",
      "Epoch: 35/100 | Train loss:  0.23740 | Train acc:  0.91 | Train Size: 60000 | Test loss:  0.37003 | Test acc:  0.88 | Test Size: 10016\n",
      "Epoch: 36/100 | Train loss:  0.23313 | Train acc:  0.92 | Train Size: 60000 | Test loss:  0.33487 | Test acc:  0.89 | Test Size: 10016\n",
      "Epoch: 37/100 | Train loss:  0.23037 | Train acc:  0.92 | Train Size: 60000 | Test loss:  0.34844 | Test acc:  0.89 | Test Size: 10016\n",
      "Epoch: 38/100 | Train loss:  0.22776 | Train acc:  0.92 | Train Size: 60000 | Test loss:  0.34428 | Test acc:  0.89 | Test Size: 10016\n",
      "Epoch: 39/100 | Train loss:  0.22692 | Train acc:  0.92 | Train Size: 60000 | Test loss:  0.36681 | Test acc:  0.89 | Test Size: 10016\n",
      "Epoch: 40/100 | Train loss:  0.22803 | Train acc:  0.92 | Train Size: 60000 | Test loss:  0.35117 | Test acc:  0.89 | Test Size: 10016\n",
      "Epoch: 41/100 | Train loss:  0.22841 | Train acc:  0.92 | Train Size: 60000 | Test loss:  0.35050 | Test acc:  0.89 | Test Size: 10016\n",
      "Epoch: 42/100 | Train loss:  0.22439 | Train acc:  0.92 | Train Size: 60000 | Test loss:  0.33993 | Test acc:  0.89 | Test Size: 10016\n",
      "Epoch: 43/100 | Train loss:  0.22386 | Train acc:  0.92 | Train Size: 60000 | Test loss:  0.35013 | Test acc:  0.89 | Test Size: 10016\n",
      "Epoch: 44/100 | Train loss:  0.21885 | Train acc:  0.92 | Train Size: 60000 | Test loss:  0.35506 | Test acc:  0.89 | Test Size: 10016\n",
      "Epoch: 45/100 | Train loss:  0.21909 | Train acc:  0.92 | Train Size: 60000 | Test loss:  0.36874 | Test acc:  0.89 | Test Size: 10016\n",
      "Epoch: 46/100 | Train loss:  0.21783 | Train acc:  0.92 | Train Size: 60000 | Test loss:  0.37118 | Test acc:  0.89 | Test Size: 10016\n",
      "Epoch: 47/100 | Train loss:  0.21422 | Train acc:  0.92 | Train Size: 60000 | Test loss:  0.38364 | Test acc:  0.89 | Test Size: 10016\n",
      "Epoch: 48/100 | Train loss:  0.21401 | Train acc:  0.92 | Train Size: 60000 | Test loss:  0.35911 | Test acc:  0.89 | Test Size: 10016\n",
      "Epoch: 49/100 | Train loss:  0.21263 | Train acc:  0.92 | Train Size: 60000 | Test loss:  0.36549 | Test acc:  0.89 | Test Size: 10016\n",
      "Epoch: 50/100 | Train loss:  0.20730 | Train acc:  0.93 | Train Size: 60000 | Test loss:  0.35754 | Test acc:  0.89 | Test Size: 10016\n",
      "Epoch: 51/100 | Train loss:  0.20715 | Train acc:  0.93 | Train Size: 60000 | Test loss:  0.37797 | Test acc:  0.89 | Test Size: 10016\n",
      "Epoch: 52/100 | Train loss:  0.20683 | Train acc:  0.92 | Train Size: 60000 | Test loss:  0.37354 | Test acc:  0.89 | Test Size: 10016\n",
      "Epoch: 53/100 | Train loss:  0.20540 | Train acc:  0.93 | Train Size: 60000 | Test loss:  0.36866 | Test acc:  0.89 | Test Size: 10016\n",
      "Epoch: 54/100 | Train loss:  0.20358 | Train acc:  0.93 | Train Size: 60000 | Test loss:  0.36181 | Test acc:  0.89 | Test Size: 10016\n",
      "Epoch: 55/100 | Train loss:  0.20690 | Train acc:  0.93 | Train Size: 60000 | Test loss:  0.36738 | Test acc:  0.89 | Test Size: 10016\n",
      "Epoch: 56/100 | Train loss:  0.20462 | Train acc:  0.93 | Train Size: 60000 | Test loss:  0.35995 | Test acc:  0.89 | Test Size: 10016\n",
      "Epoch: 57/100 | Train loss:  0.20282 | Train acc:  0.93 | Train Size: 60000 | Test loss:  0.37478 | Test acc:  0.89 | Test Size: 10016\n",
      "Epoch: 58/100 | Train loss:  0.20067 | Train acc:  0.93 | Train Size: 60000 | Test loss:  0.36208 | Test acc:  0.89 | Test Size: 10016\n",
      "Epoch: 59/100 | Train loss:  0.19742 | Train acc:  0.93 | Train Size: 60000 | Test loss:  0.38520 | Test acc:  0.89 | Test Size: 10016\n",
      "Epoch: 60/100 | Train loss:  0.19877 | Train acc:  0.93 | Train Size: 60000 | Test loss:  0.35626 | Test acc:  0.89 | Test Size: 10016\n",
      "Epoch: 61/100 | Train loss:  0.20213 | Train acc:  0.93 | Train Size: 60000 | Test loss:  0.37012 | Test acc:  0.89 | Test Size: 10016\n",
      "Epoch: 62/100 | Train loss:  0.19037 | Train acc:  0.93 | Train Size: 60000 | Test loss:  0.39282 | Test acc:  0.89 | Test Size: 10016\n",
      "Epoch: 63/100 | Train loss:  0.19594 | Train acc:  0.93 | Train Size: 60000 | Test loss:  0.37523 | Test acc:  0.89 | Test Size: 10016\n",
      "Epoch: 64/100 | Train loss:  0.19372 | Train acc:  0.93 | Train Size: 60000 | Test loss:  0.39330 | Test acc:  0.89 | Test Size: 10016\n",
      "Epoch: 65/100 | Train loss:  0.19110 | Train acc:  0.93 | Train Size: 60000 | Test loss:  0.40805 | Test acc:  0.88 | Test Size: 10016\n",
      "Epoch: 66/100 | Train loss:  0.19177 | Train acc:  0.93 | Train Size: 60000 | Test loss:  0.39136 | Test acc:  0.89 | Test Size: 10016\n",
      "Epoch: 67/100 | Train loss:  0.18880 | Train acc:  0.93 | Train Size: 60000 | Test loss:  0.37917 | Test acc:  0.89 | Test Size: 10016\n",
      "Epoch: 68/100 | Train loss:  0.18620 | Train acc:  0.93 | Train Size: 60000 | Test loss:  0.39236 | Test acc:  0.89 | Test Size: 10016\n",
      "Epoch: 69/100 | Train loss:  0.19324 | Train acc:  0.93 | Train Size: 60000 | Test loss:  0.37236 | Test acc:  0.89 | Test Size: 10016\n",
      "Epoch: 70/100 | Train loss:  0.18886 | Train acc:  0.93 | Train Size: 60000 | Test loss:  0.37704 | Test acc:  0.89 | Test Size: 10016\n",
      "Epoch: 71/100 | Train loss:  0.18715 | Train acc:  0.93 | Train Size: 60000 | Test loss:  0.39009 | Test acc:  0.89 | Test Size: 10016\n",
      "Epoch: 72/100 | Train loss:  0.18314 | Train acc:  0.93 | Train Size: 60000 | Test loss:  0.39936 | Test acc:  0.89 | Test Size: 10016\n",
      "Epoch: 73/100 | Train loss:  0.18417 | Train acc:  0.93 | Train Size: 60000 | Test loss:  0.42067 | Test acc:  0.88 | Test Size: 10016\n",
      "Epoch: 74/100 | Train loss:  0.18305 | Train acc:  0.93 | Train Size: 60000 | Test loss:  0.39832 | Test acc:  0.89 | Test Size: 10016\n",
      "Epoch: 75/100 | Train loss:  0.18315 | Train acc:  0.93 | Train Size: 60000 | Test loss:  0.41337 | Test acc:  0.89 | Test Size: 10016\n",
      "Epoch: 76/100 | Train loss:  0.18305 | Train acc:  0.93 | Train Size: 60000 | Test loss:  0.39384 | Test acc:  0.89 | Test Size: 10016\n",
      "Epoch: 77/100 | Train loss:  0.18489 | Train acc:  0.93 | Train Size: 60000 | Test loss:  0.40197 | Test acc:  0.89 | Test Size: 10016\n",
      "Epoch: 78/100 | Train loss:  0.17936 | Train acc:  0.94 | Train Size: 60000 | Test loss:  0.40186 | Test acc:  0.89 | Test Size: 10016\n",
      "Epoch: 79/100 | Train loss:  0.18101 | Train acc:  0.94 | Train Size: 60000 | Test loss:  0.41051 | Test acc:  0.89 | Test Size: 10016\n",
      "Epoch: 80/100 | Train loss:  0.17844 | Train acc:  0.94 | Train Size: 60000 | Test loss:  0.41538 | Test acc:  0.89 | Test Size: 10016\n",
      "Epoch: 81/100 | Train loss:  0.17680 | Train acc:  0.94 | Train Size: 60000 | Test loss:  0.42347 | Test acc:  0.89 | Test Size: 10016\n",
      "Epoch: 82/100 | Train loss:  0.17761 | Train acc:  0.94 | Train Size: 60000 | Test loss:  0.39808 | Test acc:  0.89 | Test Size: 10016\n",
      "Epoch: 83/100 | Train loss:  0.17383 | Train acc:  0.94 | Train Size: 60000 | Test loss:  0.40311 | Test acc:  0.89 | Test Size: 10016\n",
      "Epoch: 84/100 | Train loss:  0.17200 | Train acc:  0.94 | Train Size: 60000 | Test loss:  0.42272 | Test acc:  0.89 | Test Size: 10016\n",
      "Epoch: 85/100 | Train loss:  0.17619 | Train acc:  0.94 | Train Size: 60000 | Test loss:  0.40697 | Test acc:  0.89 | Test Size: 10016\n",
      "Epoch: 86/100 | Train loss:  0.17332 | Train acc:  0.94 | Train Size: 60000 | Test loss:  0.41524 | Test acc:  0.89 | Test Size: 10016\n",
      "Epoch: 87/100 | Train loss:  0.17702 | Train acc:  0.94 | Train Size: 60000 | Test loss:  0.42499 | Test acc:  0.89 | Test Size: 10016\n",
      "Epoch: 88/100 | Train loss:  0.17354 | Train acc:  0.94 | Train Size: 60000 | Test loss:  0.42948 | Test acc:  0.89 | Test Size: 10016\n",
      "Epoch: 89/100 | Train loss:  0.17183 | Train acc:  0.94 | Train Size: 60000 | Test loss:  0.42791 | Test acc:  0.89 | Test Size: 10016\n",
      "Epoch: 90/100 | Train loss:  0.17064 | Train acc:  0.94 | Train Size: 60000 | Test loss:  0.41904 | Test acc:  0.89 | Test Size: 10016\n",
      "Epoch: 91/100 | Train loss:  0.16788 | Train acc:  0.94 | Train Size: 60000 | Test loss:  0.43254 | Test acc:  0.89 | Test Size: 10016\n",
      "Epoch: 92/100 | Train loss:  0.16742 | Train acc:  0.94 | Train Size: 60000 | Test loss:  0.42563 | Test acc:  0.89 | Test Size: 10016\n",
      "Epoch: 93/100 | Train loss:  0.17065 | Train acc:  0.94 | Train Size: 60000 | Test loss:  0.42999 | Test acc:  0.89 | Test Size: 10016\n",
      "Epoch: 94/100 | Train loss:  0.16492 | Train acc:  0.94 | Train Size: 60000 | Test loss:  0.43691 | Test acc:  0.89 | Test Size: 10016\n",
      "Epoch: 95/100 | Train loss:  0.16443 | Train acc:  0.94 | Train Size: 60000 | Test loss:  0.44121 | Test acc:  0.89 | Test Size: 10016\n",
      "Epoch: 96/100 | Train loss:  0.16881 | Train acc:  0.94 | Train Size: 60000 | Test loss:  0.41803 | Test acc:  0.89 | Test Size: 10016\n",
      "Epoch: 97/100 | Train loss:  0.16256 | Train acc:  0.94 | Train Size: 60000 | Test loss:  0.43754 | Test acc:  0.89 | Test Size: 10016\n",
      "Epoch: 98/100 | Train loss:  0.16817 | Train acc:  0.94 | Train Size: 60000 | Test loss:  0.40874 | Test acc:  0.89 | Test Size: 10016\n",
      "Epoch: 99/100 | Train loss:  0.16268 | Train acc:  0.94 | Train Size: 60000 | Test loss:  0.43885 | Test acc:  0.89 | Test Size: 10016\n",
      "Epoch: 100/100 | Train loss:  0.16067 | Train acc:  0.94 | Train Size: 60000 | Test loss:  0.44038 | Test acc:  0.89 | Test Size: 10016\n"
     ]
    }
   ],
   "source": [
    "# set seed\n",
    "torch.manual_seed(42)\n",
    "\n",
    "# create an instance of the model\n",
    "fashion_mnist_model = FashionMNISTNeuronNetwork()\n",
    "\n",
    "# init weights\n",
    "for module in fashion_mnist_model.modules():\n",
    "    if isinstance(module, nn.Linear):\n",
    "        nn.init.xavier_uniform_(module.weight)\n",
    "        nn.init.constant_(module.bias, 0.0)\n",
    "\n",
    "# loss_fn\n",
    "loss_fn = nn.CrossEntropyLoss()\n",
    "\n",
    "# optimizer\n",
    "optimizer = torch.optim.Adam(params=fashion_mnist_model.parameters(), lr=0.001)\n",
    "\n",
    "# copy model to device\n",
    "fashion_mnist_model.to(device)\n",
    "\n",
    "# batch size\n",
    "batch_size = 32\n",
    "\n",
    "# data loader\n",
    "# train_dataset = TensorDataset(train_data, train_labels)\n",
    "# test_dataset = TensorDataset(test_data, test_labels)\n",
    "train_loader = DataLoader(fashion_mnist_train, batch_size=batch_size, shuffle=True, num_workers=10)\n",
    "\n",
    "test_loader = DataLoader(fashion_mnist_test, batch_size=batch_size, shuffle=False, num_workers=10)\n",
    "\n",
    "# check size\n",
    "print(f\"train_size: {len(train_loader.dataset)}\")\n",
    "print(f\"test_size: {len(test_loader.dataset)}\")\n",
    "\n",
    "\n",
    "# epochs\n",
    "epochs = 100\n",
    "\n",
    "for epoch in range(epochs):\n",
    "\n",
    "    # accumulated train\n",
    "    accumulated_train_batches = 0\n",
    "    accumulated_train_loss = 0.0\n",
    "    accumulated_train_acc = 0.0\n",
    "\n",
    "    ### TRAINING\n",
    "    for input, target in train_loader:\n",
    "\n",
    "        # copy data to device\n",
    "        input = input.to(device)\n",
    "        target = target.to(device)\n",
    " \n",
    "        # train mode\n",
    "        fashion_mnist_model.train()\n",
    "\n",
    "        # forward pass\n",
    "        y_logits = fashion_mnist_model(input).squeeze()\n",
    "\n",
    "        # calculate loss\n",
    "        loss = loss_fn(y_logits, target)\n",
    "\n",
    "        # calculate acc\n",
    "        acc = torch.eq(target, torch.argmax(torch.softmax(y_logits, axis=1), axis= 1)).sum().item()\n",
    "\n",
    "        # accumulated losses\n",
    "        accumulated_train_loss += loss\n",
    "\n",
    "        # accumulated acc\n",
    "        accumulated_train_acc += acc\n",
    "\n",
    "        # batches\n",
    "        accumulated_train_batches += 1\n",
    "\n",
    "        # zero gradients\n",
    "        optimizer.zero_grad()\n",
    "\n",
    "        # backward propagation\n",
    "        loss.backward()\n",
    "\n",
    "        # update parameters\n",
    "        optimizer.step()\n",
    "    \n",
    "    train_loss = accumulated_train_loss / accumulated_train_batches\n",
    "    train_acc = accumulated_train_acc / (accumulated_train_batches * batch_size) # len(train_loader.dataset)\n",
    "\n",
    "    # accumulated test\n",
    "    accumulated_test_batches = 0\n",
    "    accumulated_test_loss = 0.0\n",
    "    accumulated_test_acc = 0.0\n",
    "\n",
    "    # test mode\n",
    "    fashion_mnist_model.eval()\n",
    "    with torch.inference_mode():\n",
    "\n",
    "        ### TESTING\n",
    "        for input, target in test_loader:\n",
    "\n",
    "            # copy data to device\n",
    "            input = input.to(device)\n",
    "            target = target.to(device)\n",
    "\n",
    "        \n",
    "            # forward pass\n",
    "            y_logits = fashion_mnist_model(input).squeeze()\n",
    "\n",
    "            # calculate loss\n",
    "            loss = loss_fn(y_logits, target)\n",
    "\n",
    "            # calculate acc\n",
    "            acc = torch.eq(target, torch.argmax(torch.softmax(y_logits, axis=1), axis= 1)).sum().item()\n",
    "          \n",
    "            # accumulated losses\n",
    "            accumulated_test_loss += loss\n",
    "\n",
    "            # accumulated acc\n",
    "            accumulated_test_acc += acc\n",
    "\n",
    "            # batches\n",
    "            accumulated_test_batches += 1\n",
    "        \n",
    "        test_loss = accumulated_test_loss / accumulated_test_batches\n",
    "        test_acc = accumulated_test_acc / (accumulated_test_batches * batch_size)\n",
    "\n",
    "        print(f\"Epoch: {epoch+1}/{epochs} | Train loss: {train_loss: 0.5f} | Train acc: {train_acc: 0.2f} | Train Size: {accumulated_train_batches * batch_size} | Test loss: {test_loss: 0.5f} | Test acc: {test_acc: 0.2f} | Test Size: {accumulated_test_batches * batch_size}\")\n",
    "    \n"
   ]
  },
  {
   "cell_type": "code",
   "execution_count": 55,
   "metadata": {},
   "outputs": [
    {
     "data": {
      "text/plain": [
       "(tensor([9, 2, 1, 1, 6]), tensor([9, 2, 1, 1, 6]))"
      ]
     },
     "execution_count": 55,
     "metadata": {},
     "output_type": "execute_result"
    }
   ],
   "source": [
    "# evaluation\n",
    "# eval mode\n",
    "fashion_mnist_model.eval()\n",
    "with torch.inference_mode():\n",
    "    y_pred_probalities = fashion_mnist_model(test_data.type(torch.float32).to(device))\n",
    "    y_pred = torch.argmax(y_pred_probalities, dim=1)\n",
    "    y_pred_cpu = y_pred.cpu()\n",
    "\n",
    "y_pred_cpu[:5], test_labels[:5]"
   ]
  },
  {
   "cell_type": "code",
   "execution_count": 56,
   "metadata": {},
   "outputs": [
    {
     "data": {
      "image/png": "[encoded data removed]",
      "text/plain": [
       "<Figure size 640x480 with 4 Axes>"
      ]
     },
     "metadata": {},
     "output_type": "display_data"
    }
   ],
   "source": [
    "# visualization\n",
    "for i in range(0,4):\n",
    "    plt.subplot(2,2,i+1)\n",
    "    plt.imshow(test_data[i])\n",
    "    plt.title(class_names[test_labels[i]] + \" - \" + class_names[y_pred_cpu[i]])\n",
    "    plt.xticks([])\n",
    "    plt.yticks([])"
   ]
  },
  {
   "attachments": {},
   "cell_type": "markdown",
   "metadata": {},
   "source": [
    "#### Torch Metrics"
   ]
  },
  {
   "cell_type": "code",
   "execution_count": 1,
   "metadata": {},
   "outputs": [
    {
     "ename": "NameError",
     "evalue": "name 'test_labels' is not defined",
     "output_type": "error",
     "traceback": [
      "\u001b[0;31m---------------------------------------------------------------------------\u001b[0m",
      "\u001b[0;31mNameError\u001b[0m                                 Traceback (most recent call last)",
      "\u001b[1;32m/home/jason/Documents/TADAC/pdl/tadac/practice/02_fashion_mnist_nn_pt.ipynb Cell 14\u001b[0m in \u001b[0;36m<cell line: 2>\u001b[0;34m()\u001b[0m\n\u001b[1;32m      <a href='vscode-notebook-cell:/home/jason/Documents/TADAC/pdl/tadac/practice/02_fashion_mnist_nn_pt.ipynb#X16sZmlsZQ%3D%3D?line=0'>1</a>\u001b[0m \u001b[39m# check shapes\u001b[39;00m\n\u001b[0;32m----> <a href='vscode-notebook-cell:/home/jason/Documents/TADAC/pdl/tadac/practice/02_fashion_mnist_nn_pt.ipynb#X16sZmlsZQ%3D%3D?line=1'>2</a>\u001b[0m test_labels\u001b[39m.\u001b[39mshape, y_pred\u001b[39m.\u001b[39mshape\n",
      "\u001b[0;31mNameError\u001b[0m: name 'test_labels' is not defined"
     ]
    }
   ],
   "source": [
    "# check shapes\n",
    "test_labels.shape, y_pred.shape"
   ]
  },
  {
   "cell_type": "code",
   "execution_count": 58,
   "metadata": {},
   "outputs": [
    {
     "data": {
      "text/plain": [
       "(tensor([9, 2, 1, 1, 6]), tensor([9, 2, 1, 1, 6], device='cuda:0'))"
      ]
     },
     "execution_count": 58,
     "metadata": {},
     "output_type": "execute_result"
    }
   ],
   "source": [
    "# view the first 5 values\n",
    "test_labels[:5], y_pred[:5]"
   ]
  },
  {
   "cell_type": "code",
   "execution_count": 59,
   "metadata": {},
   "outputs": [
    {
     "data": {
      "text/plain": [
       "tensor(0.7834, device='cuda:0')"
      ]
     },
     "execution_count": 59,
     "metadata": {},
     "output_type": "execute_result"
    }
   ],
   "source": [
    "from torchmetrics import Accuracy\n",
    "\n",
    "torchmetrics_accuracy = Accuracy(task=\"multiclass\", num_classes=len(class_names)).to(device)\n",
    "\n",
    "torchmetrics_accuracy(y_pred, test_labels.to(device))"
   ]
  },
  {
   "attachments": {},
   "cell_type": "markdown",
   "metadata": {},
   "source": [
    "#### References\n",
    "\n",
    "1. https://stackoverflow.com/questions/51503851/calculate-the-accuracy-every-epoch-in-pytorch\n",
    "2. https://torchmetrics.readthedocs.io/en/latest/"
   ]
  }
 ],
 "metadata": {
  "kernelspec": {
   "display_name": "tadac",
   "language": "python",
   "name": "python3"
  },
  "language_info": {
   "codemirror_mode": {
    "name": "ipython",
    "version": 3
   },
   "file_extension": ".py",
   "mimetype": "text/x-python",
   "name": "python",
   "nbconvert_exporter": "python",
   "pygments_lexer": "ipython3",
   "version": "3.8.0"
  },
  "orig_nbformat": 4
 },
 "nbformat": 4,
 "nbformat_minor": 2
}
