{
 "cells": [
  {
   "attachments": {},
   "cell_type": "markdown",
   "metadata": {},
   "source": [
    "**Problem**\n",
    "\n",
    "To predict the cost of medical insurance for individuals based on a number of different parameters such as, `age`, `sex`, `bmi`, `children`, `smoking_status` and `residential_region`."
   ]
  },
  {
   "cell_type": "code",
   "execution_count": 119,
   "metadata": {},
   "outputs": [
    {
     "name": "stdout",
     "output_type": "stream",
     "text": [
      "PyTorch version: 1.12.1+cu102\n",
      "Device: cuda\n",
      "Modified date: 2023-06-22 11:24:13.625810\n"
     ]
    }
   ],
   "source": [
    "# import libraties\n",
    "import torch\n",
    "import numpy as np\n",
    "import pandas as pd\n",
    "from torch import nn\n",
    "from datetime import datetime\n",
    "from sklearn.model_selection import train_test_split\n",
    "from sklearn.preprocessing import MinMaxScaler, OneHotEncoder\n",
    "from torch.utils.tensorboard import SummaryWriter\n",
    "\n",
    "# check torch version\n",
    "print(f\"PyTorch version: {torch.__version__}\")\n",
    "\n",
    "# check GPU or CPU\n",
    "device = \"cuda\" if torch.cuda.is_available() else \"cpu\"\n",
    "print(f\"Device: {device}\")\n",
    "\n",
    "# modified date\n",
    "print(f\"Modified date: {datetime.now()}\")"
   ]
  },
  {
   "attachments": {},
   "cell_type": "markdown",
   "metadata": {},
   "source": [
    "#### Dataset"
   ]
  },
  {
   "cell_type": "code",
   "execution_count": 120,
   "metadata": {},
   "outputs": [],
   "source": [
    "# read in the insurance dataset\n",
    "raw_insurance_data = pd.read_csv(\"https://raw.githubusercontent.com/stedy/Machine-Learning-with-R-datasets/master/insurance.csv\")"
   ]
  },
  {
   "cell_type": "code",
   "execution_count": 121,
   "metadata": {},
   "outputs": [
    {
     "data": {
      "text/html": [
       "<div>\n",
       "<style scoped>\n",
       "    .dataframe tbody tr th:only-of-type {\n",
       "        vertical-align: middle;\n",
       "    }\n",
       "\n",
       "    .dataframe tbody tr th {\n",
       "        vertical-align: top;\n",
       "    }\n",
       "\n",
       "    .dataframe thead th {\n",
       "        text-align: right;\n",
       "    }\n",
       "</style>\n",
       "<table border=\"1\" class=\"dataframe\">\n",
       "  <thead>\n",
       "    <tr style=\"text-align: right;\">\n",
       "      <th></th>\n",
       "      <th>age</th>\n",
       "      <th>sex</th>\n",
       "      <th>bmi</th>\n",
       "      <th>children</th>\n",
       "      <th>smoker</th>\n",
       "      <th>region</th>\n",
       "      <th>charges</th>\n",
       "    </tr>\n",
       "  </thead>\n",
       "  <tbody>\n",
       "    <tr>\n",
       "      <th>0</th>\n",
       "      <td>19</td>\n",
       "      <td>female</td>\n",
       "      <td>27.900</td>\n",
       "      <td>0</td>\n",
       "      <td>yes</td>\n",
       "      <td>southwest</td>\n",
       "      <td>16884.92400</td>\n",
       "    </tr>\n",
       "    <tr>\n",
       "      <th>1</th>\n",
       "      <td>18</td>\n",
       "      <td>male</td>\n",
       "      <td>33.770</td>\n",
       "      <td>1</td>\n",
       "      <td>no</td>\n",
       "      <td>southeast</td>\n",
       "      <td>1725.55230</td>\n",
       "    </tr>\n",
       "    <tr>\n",
       "      <th>2</th>\n",
       "      <td>28</td>\n",
       "      <td>male</td>\n",
       "      <td>33.000</td>\n",
       "      <td>3</td>\n",
       "      <td>no</td>\n",
       "      <td>southeast</td>\n",
       "      <td>4449.46200</td>\n",
       "    </tr>\n",
       "    <tr>\n",
       "      <th>3</th>\n",
       "      <td>33</td>\n",
       "      <td>male</td>\n",
       "      <td>22.705</td>\n",
       "      <td>0</td>\n",
       "      <td>no</td>\n",
       "      <td>northwest</td>\n",
       "      <td>21984.47061</td>\n",
       "    </tr>\n",
       "    <tr>\n",
       "      <th>4</th>\n",
       "      <td>32</td>\n",
       "      <td>male</td>\n",
       "      <td>28.880</td>\n",
       "      <td>0</td>\n",
       "      <td>no</td>\n",
       "      <td>northwest</td>\n",
       "      <td>3866.85520</td>\n",
       "    </tr>\n",
       "  </tbody>\n",
       "</table>\n",
       "</div>"
      ],
      "text/plain": [
       "   age     sex     bmi  children smoker     region      charges\n",
       "0   19  female  27.900         0    yes  southwest  16884.92400\n",
       "1   18    male  33.770         1     no  southeast   1725.55230\n",
       "2   28    male  33.000         3     no  southeast   4449.46200\n",
       "3   33    male  22.705         0     no  northwest  21984.47061\n",
       "4   32    male  28.880         0     no  northwest   3866.85520"
      ]
     },
     "execution_count": 121,
     "metadata": {},
     "output_type": "execute_result"
    }
   ],
   "source": [
    "# top-4 rows\n",
    "raw_insurance_data.head()"
   ]
  },
  {
   "attachments": {},
   "cell_type": "markdown",
   "metadata": {},
   "source": [
    "#### Preprocessing"
   ]
  },
  {
   "cell_type": "code",
   "execution_count": 122,
   "metadata": {},
   "outputs": [],
   "source": [
    "# using get_dummies to convert categories to numbers\n",
    "insurance_data = pd.get_dummies(raw_insurance_data, dtype=float)"
   ]
  },
  {
   "cell_type": "code",
   "execution_count": 123,
   "metadata": {},
   "outputs": [
    {
     "data": {
      "text/html": [
       "<div>\n",
       "<style scoped>\n",
       "    .dataframe tbody tr th:only-of-type {\n",
       "        vertical-align: middle;\n",
       "    }\n",
       "\n",
       "    .dataframe tbody tr th {\n",
       "        vertical-align: top;\n",
       "    }\n",
       "\n",
       "    .dataframe thead th {\n",
       "        text-align: right;\n",
       "    }\n",
       "</style>\n",
       "<table border=\"1\" class=\"dataframe\">\n",
       "  <thead>\n",
       "    <tr style=\"text-align: right;\">\n",
       "      <th></th>\n",
       "      <th>age</th>\n",
       "      <th>bmi</th>\n",
       "      <th>children</th>\n",
       "      <th>charges</th>\n",
       "      <th>sex_female</th>\n",
       "      <th>sex_male</th>\n",
       "      <th>smoker_no</th>\n",
       "      <th>smoker_yes</th>\n",
       "      <th>region_northeast</th>\n",
       "      <th>region_northwest</th>\n",
       "      <th>region_southeast</th>\n",
       "      <th>region_southwest</th>\n",
       "    </tr>\n",
       "  </thead>\n",
       "  <tbody>\n",
       "    <tr>\n",
       "      <th>0</th>\n",
       "      <td>19</td>\n",
       "      <td>27.900</td>\n",
       "      <td>0</td>\n",
       "      <td>16884.92400</td>\n",
       "      <td>1.0</td>\n",
       "      <td>0.0</td>\n",
       "      <td>0.0</td>\n",
       "      <td>1.0</td>\n",
       "      <td>0.0</td>\n",
       "      <td>0.0</td>\n",
       "      <td>0.0</td>\n",
       "      <td>1.0</td>\n",
       "    </tr>\n",
       "    <tr>\n",
       "      <th>1</th>\n",
       "      <td>18</td>\n",
       "      <td>33.770</td>\n",
       "      <td>1</td>\n",
       "      <td>1725.55230</td>\n",
       "      <td>0.0</td>\n",
       "      <td>1.0</td>\n",
       "      <td>1.0</td>\n",
       "      <td>0.0</td>\n",
       "      <td>0.0</td>\n",
       "      <td>0.0</td>\n",
       "      <td>1.0</td>\n",
       "      <td>0.0</td>\n",
       "    </tr>\n",
       "    <tr>\n",
       "      <th>2</th>\n",
       "      <td>28</td>\n",
       "      <td>33.000</td>\n",
       "      <td>3</td>\n",
       "      <td>4449.46200</td>\n",
       "      <td>0.0</td>\n",
       "      <td>1.0</td>\n",
       "      <td>1.0</td>\n",
       "      <td>0.0</td>\n",
       "      <td>0.0</td>\n",
       "      <td>0.0</td>\n",
       "      <td>1.0</td>\n",
       "      <td>0.0</td>\n",
       "    </tr>\n",
       "    <tr>\n",
       "      <th>3</th>\n",
       "      <td>33</td>\n",
       "      <td>22.705</td>\n",
       "      <td>0</td>\n",
       "      <td>21984.47061</td>\n",
       "      <td>0.0</td>\n",
       "      <td>1.0</td>\n",
       "      <td>1.0</td>\n",
       "      <td>0.0</td>\n",
       "      <td>0.0</td>\n",
       "      <td>1.0</td>\n",
       "      <td>0.0</td>\n",
       "      <td>0.0</td>\n",
       "    </tr>\n",
       "    <tr>\n",
       "      <th>4</th>\n",
       "      <td>32</td>\n",
       "      <td>28.880</td>\n",
       "      <td>0</td>\n",
       "      <td>3866.85520</td>\n",
       "      <td>0.0</td>\n",
       "      <td>1.0</td>\n",
       "      <td>1.0</td>\n",
       "      <td>0.0</td>\n",
       "      <td>0.0</td>\n",
       "      <td>1.0</td>\n",
       "      <td>0.0</td>\n",
       "      <td>0.0</td>\n",
       "    </tr>\n",
       "  </tbody>\n",
       "</table>\n",
       "</div>"
      ],
      "text/plain": [
       "   age     bmi  children      charges  sex_female  sex_male  smoker_no  \\\n",
       "0   19  27.900         0  16884.92400         1.0       0.0        0.0   \n",
       "1   18  33.770         1   1725.55230         0.0       1.0        1.0   \n",
       "2   28  33.000         3   4449.46200         0.0       1.0        1.0   \n",
       "3   33  22.705         0  21984.47061         0.0       1.0        1.0   \n",
       "4   32  28.880         0   3866.85520         0.0       1.0        1.0   \n",
       "\n",
       "   smoker_yes  region_northeast  region_northwest  region_southeast  \\\n",
       "0         1.0               0.0               0.0               0.0   \n",
       "1         0.0               0.0               0.0               1.0   \n",
       "2         0.0               0.0               0.0               1.0   \n",
       "3         0.0               0.0               1.0               0.0   \n",
       "4         0.0               0.0               1.0               0.0   \n",
       "\n",
       "   region_southwest  \n",
       "0               1.0  \n",
       "1               0.0  \n",
       "2               0.0  \n",
       "3               0.0  \n",
       "4               0.0  "
      ]
     },
     "execution_count": 123,
     "metadata": {},
     "output_type": "execute_result"
    }
   ],
   "source": [
    "# top-4 rows\n",
    "insurance_data.head()"
   ]
  },
  {
   "cell_type": "code",
   "execution_count": 124,
   "metadata": {},
   "outputs": [
    {
     "data": {
      "text/html": [
       "<div>\n",
       "<style scoped>\n",
       "    .dataframe tbody tr th:only-of-type {\n",
       "        vertical-align: middle;\n",
       "    }\n",
       "\n",
       "    .dataframe tbody tr th {\n",
       "        vertical-align: top;\n",
       "    }\n",
       "\n",
       "    .dataframe thead th {\n",
       "        text-align: right;\n",
       "    }\n",
       "</style>\n",
       "<table border=\"1\" class=\"dataframe\">\n",
       "  <thead>\n",
       "    <tr style=\"text-align: right;\">\n",
       "      <th></th>\n",
       "      <th>age</th>\n",
       "      <th>bmi</th>\n",
       "      <th>children</th>\n",
       "      <th>sex_female</th>\n",
       "      <th>sex_male</th>\n",
       "      <th>smoker_no</th>\n",
       "      <th>smoker_yes</th>\n",
       "      <th>region_northeast</th>\n",
       "      <th>region_northwest</th>\n",
       "      <th>region_southeast</th>\n",
       "      <th>region_southwest</th>\n",
       "    </tr>\n",
       "  </thead>\n",
       "  <tbody>\n",
       "    <tr>\n",
       "      <th>0</th>\n",
       "      <td>19</td>\n",
       "      <td>27.900</td>\n",
       "      <td>0</td>\n",
       "      <td>1.0</td>\n",
       "      <td>0.0</td>\n",
       "      <td>0.0</td>\n",
       "      <td>1.0</td>\n",
       "      <td>0.0</td>\n",
       "      <td>0.0</td>\n",
       "      <td>0.0</td>\n",
       "      <td>1.0</td>\n",
       "    </tr>\n",
       "    <tr>\n",
       "      <th>1</th>\n",
       "      <td>18</td>\n",
       "      <td>33.770</td>\n",
       "      <td>1</td>\n",
       "      <td>0.0</td>\n",
       "      <td>1.0</td>\n",
       "      <td>1.0</td>\n",
       "      <td>0.0</td>\n",
       "      <td>0.0</td>\n",
       "      <td>0.0</td>\n",
       "      <td>1.0</td>\n",
       "      <td>0.0</td>\n",
       "    </tr>\n",
       "    <tr>\n",
       "      <th>2</th>\n",
       "      <td>28</td>\n",
       "      <td>33.000</td>\n",
       "      <td>3</td>\n",
       "      <td>0.0</td>\n",
       "      <td>1.0</td>\n",
       "      <td>1.0</td>\n",
       "      <td>0.0</td>\n",
       "      <td>0.0</td>\n",
       "      <td>0.0</td>\n",
       "      <td>1.0</td>\n",
       "      <td>0.0</td>\n",
       "    </tr>\n",
       "    <tr>\n",
       "      <th>3</th>\n",
       "      <td>33</td>\n",
       "      <td>22.705</td>\n",
       "      <td>0</td>\n",
       "      <td>0.0</td>\n",
       "      <td>1.0</td>\n",
       "      <td>1.0</td>\n",
       "      <td>0.0</td>\n",
       "      <td>0.0</td>\n",
       "      <td>1.0</td>\n",
       "      <td>0.0</td>\n",
       "      <td>0.0</td>\n",
       "    </tr>\n",
       "    <tr>\n",
       "      <th>4</th>\n",
       "      <td>32</td>\n",
       "      <td>28.880</td>\n",
       "      <td>0</td>\n",
       "      <td>0.0</td>\n",
       "      <td>1.0</td>\n",
       "      <td>1.0</td>\n",
       "      <td>0.0</td>\n",
       "      <td>0.0</td>\n",
       "      <td>1.0</td>\n",
       "      <td>0.0</td>\n",
       "      <td>0.0</td>\n",
       "    </tr>\n",
       "  </tbody>\n",
       "</table>\n",
       "</div>"
      ],
      "text/plain": [
       "   age     bmi  children  sex_female  sex_male  smoker_no  smoker_yes  \\\n",
       "0   19  27.900         0         1.0       0.0        0.0         1.0   \n",
       "1   18  33.770         1         0.0       1.0        1.0         0.0   \n",
       "2   28  33.000         3         0.0       1.0        1.0         0.0   \n",
       "3   33  22.705         0         0.0       1.0        1.0         0.0   \n",
       "4   32  28.880         0         0.0       1.0        1.0         0.0   \n",
       "\n",
       "   region_northeast  region_northwest  region_southeast  region_southwest  \n",
       "0               0.0               0.0               0.0               1.0  \n",
       "1               0.0               0.0               1.0               0.0  \n",
       "2               0.0               0.0               1.0               0.0  \n",
       "3               0.0               1.0               0.0               0.0  \n",
       "4               0.0               1.0               0.0               0.0  "
      ]
     },
     "execution_count": 124,
     "metadata": {},
     "output_type": "execute_result"
    }
   ],
   "source": [
    "# get all columns except `charges` by axis 1\n",
    "X = insurance_data.drop(\"charges\", axis=1)\n",
    "X.head()"
   ]
  },
  {
   "cell_type": "code",
   "execution_count": 125,
   "metadata": {},
   "outputs": [
    {
     "data": {
      "text/plain": [
       "(1338, 11)"
      ]
     },
     "execution_count": 125,
     "metadata": {},
     "output_type": "execute_result"
    }
   ],
   "source": [
    "# check shape of X\n",
    "X.shape"
   ]
  },
  {
   "cell_type": "code",
   "execution_count": 126,
   "metadata": {},
   "outputs": [
    {
     "data": {
      "text/plain": [
       "0    16884.92400\n",
       "1     1725.55230\n",
       "2     4449.46200\n",
       "3    21984.47061\n",
       "4     3866.85520\n",
       "Name: charges, dtype: float64"
      ]
     },
     "execution_count": 126,
     "metadata": {},
     "output_type": "execute_result"
    }
   ],
   "source": [
    "# get only `charges` column\n",
    "y = insurance_data[\"charges\"]\n",
    "y.head()"
   ]
  },
  {
   "cell_type": "code",
   "execution_count": 127,
   "metadata": {},
   "outputs": [
    {
     "data": {
      "text/plain": [
       "(1338,)"
      ]
     },
     "execution_count": 127,
     "metadata": {},
     "output_type": "execute_result"
    }
   ],
   "source": [
    "# check shape of Y\n",
    "y.shape"
   ]
  },
  {
   "attachments": {},
   "cell_type": "markdown",
   "metadata": {},
   "source": [
    "#### Split data"
   ]
  },
  {
   "cell_type": "code",
   "execution_count": 128,
   "metadata": {},
   "outputs": [
    {
     "data": {
      "text/plain": [
       "(1070, 268, 1070, 268)"
      ]
     },
     "execution_count": 128,
     "metadata": {},
     "output_type": "execute_result"
    }
   ],
   "source": [
    "# split data, 80% training set, 20% testing set\n",
    "X_train, X_test, y_train, y_test = train_test_split(X, y, test_size=0.2, random_state=42)\n",
    "\n",
    "len(X_train), len(X_test), len(y_train), len(y_test)"
   ]
  },
  {
   "cell_type": "code",
   "execution_count": 129,
   "metadata": {},
   "outputs": [],
   "source": [
    "# convert to Torch.Tensor\n",
    "X_train, X_test, y_train, y_test = torch.Tensor(np.array(X_train)), torch.Tensor(np.array(X_test)), torch.Tensor(np.array(y_train)), torch.Tensor(np.array(y_test))"
   ]
  },
  {
   "cell_type": "code",
   "execution_count": 130,
   "metadata": {},
   "outputs": [
    {
     "data": {
      "text/plain": [
       "(torch.Size([1070, 11]),\n",
       " torch.Size([268, 11]),\n",
       " torch.Size([1070]),\n",
       " torch.Size([268]))"
      ]
     },
     "execution_count": 130,
     "metadata": {},
     "output_type": "execute_result"
    }
   ],
   "source": [
    "# check shape\n",
    "X_train.shape, X_test.shape, y_train.shape, y_test.shape"
   ]
  },
  {
   "attachments": {},
   "cell_type": "markdown",
   "metadata": {},
   "source": [
    "#### Modeling"
   ]
  },
  {
   "attachments": {},
   "cell_type": "markdown",
   "metadata": {},
   "source": [
    "> https://pytorch.org/docs/stable/generated/torch.nn.parameter.Parameter.html"
   ]
  },
  {
   "cell_type": "code",
   "execution_count": 131,
   "metadata": {},
   "outputs": [],
   "source": [
    "class InsureanceRegressionNeuralNetworkV1(nn.Module):\n",
    "    def __init__(self):\n",
    "        super().__init__()\n",
    "\n",
    "        self.weights = nn.Parameter(torch.randn(size=(1, 11)), requires_grad=True)\n",
    "\n",
    "        self.bias = nn.Parameter(torch.randn(1), requires_grad=True)\n",
    "\n",
    "    def forward(self, x: torch.Tensor) -> torch.Tensor:\n",
    "        return  torch.matmul(x, self.weights.T)  + self.bias # y = x * weights.T + bias"
   ]
  },
  {
   "cell_type": "code",
   "execution_count": 132,
   "metadata": {},
   "outputs": [
    {
     "name": "stdout",
     "output_type": "stream",
     "text": [
      "weight's shape: torch.Size([1, 11])\n",
      "bias's shape: torch.Size([1])\n"
     ]
    }
   ],
   "source": [
    "model_01 = InsureanceRegressionNeuralNetworkV1()\n",
    "print(f\"weight's shape: {model_01.state_dict()['weights'].shape}\")\n",
    "print(f\"bias's shape: {model_01.state_dict()['bias'].shape}\")"
   ]
  },
  {
   "cell_type": "code",
   "execution_count": 133,
   "metadata": {},
   "outputs": [],
   "source": [
    "class InsureanceRegressionNeuralNetworkV2(nn.Module):\n",
    "    def __init__(self):\n",
    "        super().__init__()\n",
    "\n",
    "        self.linear = nn.Linear(in_features=11, out_features=1)\n",
    "    \n",
    "    def forward(self, X: torch.Tensor) -> torch.Tensor:\n",
    "        return self.linear(X)"
   ]
  },
  {
   "cell_type": "code",
   "execution_count": 134,
   "metadata": {},
   "outputs": [
    {
     "name": "stdout",
     "output_type": "stream",
     "text": [
      "weight's shape: torch.Size([1, 11])\n",
      "bias's shape: torch.Size([1])\n"
     ]
    }
   ],
   "source": [
    "model_02 = InsureanceRegressionNeuralNetworkV2()\n",
    "print(f\"weight's shape: {model_02.state_dict()['linear.weight'].shape}\")\n",
    "print(f\"bias's shape: {model_02.state_dict()['linear.bias'].shape}\")\n"
   ]
  },
  {
   "attachments": {},
   "cell_type": "markdown",
   "metadata": {},
   "source": [
    "**Model 01**"
   ]
  },
  {
   "cell_type": "code",
   "execution_count": 135,
   "metadata": {},
   "outputs": [],
   "source": [
    "# instantiate a model\n",
    "insurance_model_v1 = InsureanceRegressionNeuralNetworkV1()\n",
    "\n",
    "# tensorboard\n",
    "writer =SummaryWriter()\n",
    "\n",
    "# copy to device\n",
    "insurance_model_v1.to(device)\n",
    "\n",
    "# copy data to device\n",
    "train_data = X_train.to(device)\n",
    "train_labels = y_train.to(device)\n",
    "test_data = X_test.to(device)\n",
    "test_labels = y_test.to(device)\n",
    "\n",
    "# loss function\n",
    "loss_fn = nn.L1Loss()\n",
    "\n",
    "# optimizer \n",
    "opitmizer = torch.optim.SGD(insurance_model_v1.parameters(), lr=0.01)"
   ]
  },
  {
   "cell_type": "code",
   "execution_count": 136,
   "metadata": {},
   "outputs": [
    {
     "name": "stdout",
     "output_type": "stream",
     "text": [
      "Epoch: 0 | train loss: 13272.708984375 | test loss: 12870.671875\n",
      "Epoch: 10 | train loss: 13024.052734375 | test loss: 12623.3984375\n",
      "Epoch: 20 | train loss: 12775.3974609375 | test loss: 12376.1240234375\n",
      "Epoch: 30 | train loss: 12526.791015625 | test loss: 12128.95703125\n",
      "Epoch: 40 | train loss: 12281.4462890625 | test loss: 11885.23046875\n",
      "Epoch: 50 | train loss: 12044.142578125 | test loss: 11650.169921875\n",
      "Epoch: 60 | train loss: 11821.7255859375 | test loss: 11431.7431640625\n",
      "Epoch: 70 | train loss: 11616.7607421875 | test loss: 11231.75\n",
      "Epoch: 80 | train loss: 11428.65625 | test loss: 11048.296875\n",
      "Epoch: 90 | train loss: 11254.93359375 | test loss: 10879.9326171875\n",
      "Epoch: 100 | train loss: 11093.7724609375 | test loss: 10725.41015625\n",
      "Epoch: 110 | train loss: 10943.7353515625 | test loss: 10582.998046875\n"
     ]
    },
    {
     "name": "stderr",
     "output_type": "stream",
     "text": [
      "/home/jason/anaconda3/envs/tadac/lib/python3.8/site-packages/torch/nn/modules/loss.py:96: UserWarning: Using a target size (torch.Size([1070])) that is different to the input size (torch.Size([1070, 1])). This will likely lead to incorrect results due to broadcasting. Please ensure they have the same size.\n",
      "  return F.l1_loss(input, target, reduction=self.reduction)\n",
      "/home/jason/anaconda3/envs/tadac/lib/python3.8/site-packages/torch/nn/modules/loss.py:96: UserWarning: Using a target size (torch.Size([268])) that is different to the input size (torch.Size([268, 1])). This will likely lead to incorrect results due to broadcasting. Please ensure they have the same size.\n",
      "  return F.l1_loss(input, target, reduction=self.reduction)\n"
     ]
    },
    {
     "name": "stdout",
     "output_type": "stream",
     "text": [
      "Epoch: 120 | train loss: 10803.546875 | test loss: 10451.3896484375\n",
      "Epoch: 130 | train loss: 10672.1650390625 | test loss: 10329.4404296875\n",
      "Epoch: 140 | train loss: 10548.9296875 | test loss: 10215.9306640625\n",
      "Epoch: 150 | train loss: 10433.3701171875 | test loss: 10110.533203125\n",
      "Epoch: 160 | train loss: 10325.001953125 | test loss: 10012.923828125\n",
      "Epoch: 170 | train loss: 10223.3486328125 | test loss: 9922.6279296875\n",
      "Epoch: 180 | train loss: 10127.958984375 | test loss: 9839.1396484375\n",
      "Epoch: 190 | train loss: 10038.2998046875 | test loss: 9761.8798828125\n",
      "Epoch: 200 | train loss: 9953.9765625 | test loss: 9690.318359375\n",
      "Epoch: 210 | train loss: 9874.5146484375 | test loss: 9623.9921875\n",
      "Epoch: 220 | train loss: 9799.609375 | test loss: 9562.4130859375\n",
      "Epoch: 230 | train loss: 9728.9892578125 | test loss: 9505.3154296875\n",
      "Epoch: 240 | train loss: 9662.365234375 | test loss: 9452.2646484375\n",
      "Epoch: 250 | train loss: 9599.4677734375 | test loss: 9402.888671875\n",
      "Epoch: 260 | train loss: 9540.1865234375 | test loss: 9356.90625\n",
      "Epoch: 270 | train loss: 9484.3388671875 | test loss: 9314.220703125\n",
      "Epoch: 280 | train loss: 9431.720703125 | test loss: 9274.5771484375\n",
      "Epoch: 290 | train loss: 9382.1064453125 | test loss: 9237.640625\n",
      "Epoch: 300 | train loss: 9335.3388671875 | test loss: 9203.177734375\n",
      "Epoch: 310 | train loss: 9291.2099609375 | test loss: 9170.966796875\n",
      "Epoch: 320 | train loss: 9249.6083984375 | test loss: 9140.958984375\n",
      "Epoch: 330 | train loss: 9210.3603515625 | test loss: 9113.072265625\n",
      "Epoch: 340 | train loss: 9173.314453125 | test loss: 9087.1396484375\n",
      "Epoch: 350 | train loss: 9138.38671875 | test loss: 9062.9990234375\n",
      "Epoch: 360 | train loss: 9105.41796875 | test loss: 9040.4931640625\n",
      "Epoch: 370 | train loss: 9074.3046875 | test loss: 9019.5693359375\n",
      "Epoch: 380 | train loss: 9044.962890625 | test loss: 9000.0966796875\n",
      "Epoch: 390 | train loss: 9017.2568359375 | test loss: 8981.98828125\n",
      "Epoch: 400 | train loss: 8991.10546875 | test loss: 8965.1767578125\n",
      "Epoch: 410 | train loss: 8966.41796875 | test loss: 8949.5947265625\n",
      "Epoch: 420 | train loss: 8943.0830078125 | test loss: 8935.1181640625\n",
      "Epoch: 430 | train loss: 8921.05078125 | test loss: 8921.669921875\n",
      "Epoch: 440 | train loss: 8900.234375 | test loss: 8909.1826171875\n",
      "Epoch: 450 | train loss: 8880.5625 | test loss: 8897.5595703125\n",
      "Epoch: 460 | train loss: 8861.970703125 | test loss: 8886.77734375\n",
      "Epoch: 470 | train loss: 8844.416015625 | test loss: 8876.7568359375\n",
      "Epoch: 480 | train loss: 8827.845703125 | test loss: 8867.4765625\n",
      "Epoch: 490 | train loss: 8812.197265625 | test loss: 8858.8828125\n"
     ]
    }
   ],
   "source": [
    "# set manual seed\n",
    "torch.cuda.manual_seed(42)\n",
    "\n",
    "# num of epochs\n",
    "epochs = 500\n",
    "\n",
    "\n",
    "# start training\n",
    "for epoch in range(epochs):\n",
    "\n",
    "    # train mode\n",
    "    insurance_model_v1.train()\n",
    "\n",
    "    # forward computation\n",
    "    y_train_preds = insurance_model_v1(train_data)\n",
    "\n",
    "    # calculate loss\n",
    "    loss = loss_fn(y_train_preds, train_labels)\n",
    "\n",
    "    # add loss to tensorboar\n",
    "    writer.add_scalar(\"Loss/train\", loss, epoch)\n",
    "\n",
    "    # reset gradient descent to zero\n",
    "    opitmizer.zero_grad()\n",
    "\n",
    "    # backpropagation\n",
    "    loss.backward()\n",
    "\n",
    "    # update parameters \n",
    "    opitmizer.step()\n",
    "\n",
    "    # evaluation mode\n",
    "    insurance_model_v1.eval()\n",
    "    with torch.inference_mode():\n",
    "\n",
    "        # forward computation\n",
    "        y_test_preds = insurance_model_v1(test_data)\n",
    "\n",
    "        # calculate loss\n",
    "        loss_test = loss_fn(y_test_preds, test_labels)\n",
    "\n",
    "\n",
    "        if epoch % 10 == 0:\n",
    "            print(f\"Epoch: {epoch} | train loss: {loss} | test loss: {loss_test}\")\n",
    "\n",
    "    \n",
    "    # flush\n",
    "    writer.flush()\n",
    "    writer.close()"
   ]
  },
  {
   "attachments": {},
   "cell_type": "markdown",
   "metadata": {},
   "source": [
    "**Model 02**"
   ]
  },
  {
   "cell_type": "code",
   "execution_count": 137,
   "metadata": {},
   "outputs": [],
   "source": [
    "# instantiate a model\n",
    "insurance_model_v2 = InsureanceRegressionNeuralNetworkV2()\n",
    "\n",
    "# tensorboard\n",
    "writer =SummaryWriter()\n",
    "\n",
    "# copy to device\n",
    "insurance_model_v2.to(device)\n",
    "\n",
    "# copy data to device\n",
    "train_data = X_train.to(device)\n",
    "train_labels = y_train.to(device)\n",
    "test_data = X_test.to(device)\n",
    "test_labels = y_test.to(device)\n",
    "\n",
    "# loss function\n",
    "loss_fn = nn.L1Loss()\n",
    "\n",
    "# optimizer \n",
    "opitmizer = torch.optim.SGD(insurance_model_v2.parameters(), lr=0.01)"
   ]
  },
  {
   "cell_type": "code",
   "execution_count": 138,
   "metadata": {},
   "outputs": [
    {
     "name": "stdout",
     "output_type": "stream",
     "text": [
      "Epoch: 0 | train loss: 13351.0458984375 | test loss: 12948.7119140625\n",
      "Epoch: 10 | train loss: 13102.390625 | test loss: 12701.4375\n",
      "Epoch: 20 | train loss: 12853.734375 | test loss: 12454.1640625\n",
      "Epoch: 30 | train loss: 12605.078125 | test loss: 12206.8916015625\n",
      "Epoch: 40 | train loss: 12358.0576171875 | test loss: 11961.5087890625\n",
      "Epoch: 50 | train loss: 12117.5810546875 | test loss: 11722.900390625\n",
      "Epoch: 60 | train loss: 11890.03515625 | test loss: 11498.7392578125\n",
      "Epoch: 70 | train loss: 11679.478515625 | test loss: 11293.0361328125\n",
      "Epoch: 80 | train loss: 11486.3359375 | test loss: 11104.6630859375\n",
      "Epoch: 90 | train loss: 11308.328125 | test loss: 10931.58203125\n",
      "Epoch: 100 | train loss: 11143.33984375 | test loss: 10772.91796875\n",
      "Epoch: 110 | train loss: 10989.947265625 | test loss: 10626.787109375\n",
      "Epoch: 120 | train loss: 10846.8017578125 | test loss: 10491.9345703125\n",
      "Epoch: 130 | train loss: 10712.7099609375 | test loss: 10367.08203125\n",
      "Epoch: 140 | train loss: 10586.9736328125 | test loss: 10250.9580078125\n",
      "Epoch: 150 | train loss: 10469.0400390625 | test loss: 10143.044921875\n",
      "Epoch: 160 | train loss: 10358.4677734375 | test loss: 10043.029296875\n",
      "Epoch: 170 | train loss: 10254.732421875 | test loss: 9950.49609375\n",
      "Epoch: 180 | train loss: 10157.447265625 | test loss: 9864.9140625\n",
      "Epoch: 190 | train loss: 10066.041015625 | test loss: 9785.7490234375\n",
      "Epoch: 200 | train loss: 9980.083984375 | test loss: 9712.427734375\n",
      "Epoch: 210 | train loss: 9899.1396484375 | test loss: 9644.5224609375\n",
      "Epoch: 220 | train loss: 9822.8193359375 | test loss: 9581.4814453125\n",
      "Epoch: 230 | train loss: 9750.880859375 | test loss: 9523.0\n",
      "Epoch: 240 | train loss: 9683.0400390625 | test loss: 9468.71484375\n",
      "Epoch: 250 | train loss: 9618.98046875 | test loss: 9418.212890625\n",
      "Epoch: 260 | train loss: 9558.5791015625 | test loss: 9371.1943359375\n",
      "Epoch: 270 | train loss: 9501.66796875 | test loss: 9327.4716796875\n",
      "Epoch: 280 | train loss: 9448.068359375 | test loss: 9286.9111328125\n",
      "Epoch: 290 | train loss: 9397.517578125 | test loss: 9249.13671875\n",
      "Epoch: 300 | train loss: 9349.888671875 | test loss: 9213.9365234375\n",
      "Epoch: 310 | train loss: 9304.9345703125 | test loss: 9181.0166015625\n",
      "Epoch: 320 | train loss: 9262.5576171875 | test loss: 9150.3173828125\n",
      "Epoch: 330 | train loss: 9222.5849609375 | test loss: 9121.7734375\n",
      "Epoch: 340 | train loss: 9184.859375 | test loss: 9095.2421875\n",
      "Epoch: 350 | train loss: 9149.2763671875 | test loss: 9070.5546875\n",
      "Epoch: 360 | train loss: 9115.7021484375 | test loss: 9047.5341796875\n",
      "Epoch: 370 | train loss: 9084.015625 | test loss: 9026.1201171875\n",
      "Epoch: 380 | train loss: 9054.130859375 | test loss: 9006.208984375\n",
      "Epoch: 390 | train loss: 9025.9189453125 | test loss: 8987.6767578125\n",
      "Epoch: 400 | train loss: 8999.28515625 | test loss: 8970.4560546875\n",
      "Epoch: 410 | train loss: 8974.1455078125 | test loss: 8954.49609375\n",
      "Epoch: 420 | train loss: 8950.392578125 | test loss: 8939.6748046875\n",
      "Epoch: 430 | train loss: 8927.958984375 | test loss: 8925.9169921875\n",
      "Epoch: 440 | train loss: 8906.76953125 | test loss: 8913.1318359375\n",
      "Epoch: 450 | train loss: 8886.7421875 | test loss: 8901.2421875\n",
      "Epoch: 460 | train loss: 8867.8203125 | test loss: 8890.1943359375\n",
      "Epoch: 470 | train loss: 8849.939453125 | test loss: 8879.9423828125\n",
      "Epoch: 480 | train loss: 8833.0673828125 | test loss: 8870.4296875\n",
      "Epoch: 490 | train loss: 8817.1416015625 | test loss: 8861.62109375\n"
     ]
    }
   ],
   "source": [
    "# set manual seed\n",
    "torch.cuda.manual_seed(42)\n",
    "\n",
    "# num of epochs\n",
    "epochs = 500\n",
    "\n",
    "\n",
    "# start training\n",
    "for epoch in range(epochs):\n",
    "\n",
    "    # train mode\n",
    "    insurance_model_v2.train()\n",
    "\n",
    "    # forward computation\n",
    "    y_train_preds = insurance_model_v2(train_data)\n",
    "\n",
    "    # calculate loss\n",
    "    loss = loss_fn(y_train_preds, train_labels)\n",
    "\n",
    "    # add loss to tensorboar\n",
    "    writer.add_scalar(\"Loss/train\", loss, epoch)\n",
    "\n",
    "    # reset gradient descent to zero\n",
    "    opitmizer.zero_grad()\n",
    "\n",
    "    # backpropagation\n",
    "    loss.backward()\n",
    "\n",
    "    # update parameters \n",
    "    opitmizer.step()\n",
    "\n",
    "    # evaluation mode\n",
    "    insurance_model_v2.eval()\n",
    "    with torch.inference_mode():\n",
    "\n",
    "        # forward computation\n",
    "        y_test_preds = insurance_model_v2(test_data)\n",
    "\n",
    "        # calculate loss\n",
    "        loss_test = loss_fn(y_test_preds, test_labels)\n",
    "\n",
    "\n",
    "        if epoch % 10 == 0:\n",
    "            print(f\"Epoch: {epoch} | train loss: {loss} | test loss: {loss_test}\")\n",
    "\n",
    "    \n",
    "    # flush\n",
    "    writer.flush()\n",
    "    writer.close()"
   ]
  },
  {
   "attachments": {},
   "cell_type": "markdown",
   "metadata": {},
   "source": [
    "#### Evaluation"
   ]
  },
  {
   "cell_type": "code",
   "execution_count": 139,
   "metadata": {},
   "outputs": [
    {
     "data": {
      "text/plain": [
       "(tensor([45.0000, 25.1750,  2.0000,  1.0000,  0.0000,  1.0000,  0.0000,  1.0000,\n",
       "          0.0000,  0.0000,  0.0000]),\n",
       " tensor(9095.0684))"
      ]
     },
     "execution_count": 139,
     "metadata": {},
     "output_type": "execute_result"
    }
   ],
   "source": [
    "X_test[0], y_test[0]"
   ]
  },
  {
   "cell_type": "code",
   "execution_count": 140,
   "metadata": {},
   "outputs": [
    {
     "data": {
      "text/plain": [
       "tensor(7056.5371, device='cuda:0')"
      ]
     },
     "execution_count": 140,
     "metadata": {},
     "output_type": "execute_result"
    }
   ],
   "source": [
    "# evaluation\n",
    "# set evaluation mode\n",
    "insurance_model_v1.eval()\n",
    "with torch.inference_mode():\n",
    "    y_test_preds = insurance_model_v1(test_data[:1])\n",
    "\n",
    "\n",
    "torch.squeeze(y_test_preds)"
   ]
  },
  {
   "cell_type": "code",
   "execution_count": 141,
   "metadata": {},
   "outputs": [
    {
     "data": {
      "text/plain": [
       "tensor([7037.7954], device='cuda:0')"
      ]
     },
     "execution_count": 141,
     "metadata": {},
     "output_type": "execute_result"
    }
   ],
   "source": [
    "# evaluation\n",
    "# set evaluation mode\n",
    "insurance_model_v2.eval()\n",
    "with torch.inference_mode():\n",
    "    y_test_preds = insurance_model_v2(test_data[0])\n",
    "\n",
    "y_test_preds"
   ]
  },
  {
   "cell_type": "code",
   "execution_count": 142,
   "metadata": {},
   "outputs": [
    {
     "data": {
      "text/plain": [
       "OrderedDict([('weights',\n",
       "              tensor([[107.3608,  87.8426,   3.3782,   2.2694,   1.8225,   2.8805,   1.2901,\n",
       "                        -1.0434,  -1.5966,   0.7511,  -0.8610]], device='cuda:0')),\n",
       "             ('bias', tensor([3.0005], device='cuda:0'))])"
      ]
     },
     "execution_count": 142,
     "metadata": {},
     "output_type": "execute_result"
    }
   ],
   "source": [
    "# check trained weights and bias\n",
    "insurance_model_v1.state_dict()"
   ]
  },
  {
   "cell_type": "code",
   "execution_count": 143,
   "metadata": {},
   "outputs": [
    {
     "data": {
      "text/plain": [
       "OrderedDict([('linear.weight',\n",
       "              tensor([[107.1352,  87.5208,   3.1182,   1.2426,   1.6705,   2.3868,   0.6630,\n",
       "                         0.6825,   0.5713,   0.8077,   0.6139]], device='cuda:0')),\n",
       "             ('linear.bias', tensor([2.8286], device='cuda:0'))])"
      ]
     },
     "execution_count": 143,
     "metadata": {},
     "output_type": "execute_result"
    }
   ],
   "source": [
    "# check trained weights and bias\n",
    "insurance_model_v2.state_dict()"
   ]
  },
  {
   "cell_type": "code",
   "execution_count": 144,
   "metadata": {},
   "outputs": [],
   "source": [
    "# release models and GPU\n",
    "del insurance_model_v1\n",
    "del insurance_model_v2\n",
    "torch.cuda.empty_cache()"
   ]
  }
 ],
 "metadata": {
  "kernelspec": {
   "display_name": "tadac",
   "language": "python",
   "name": "python3"
  },
  "language_info": {
   "codemirror_mode": {
    "name": "ipython",
    "version": 3
   },
   "file_extension": ".py",
   "mimetype": "text/x-python",
   "name": "python",
   "nbconvert_exporter": "python",
   "pygments_lexer": "ipython3",
   "version": "3.8.0"
  },
  "orig_nbformat": 4
 },
 "nbformat": 4,
 "nbformat_minor": 2
}
