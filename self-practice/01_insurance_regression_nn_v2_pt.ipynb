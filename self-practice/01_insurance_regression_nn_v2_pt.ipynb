{
 "cells": [
  {
   "attachments": {},
   "cell_type": "markdown",
   "metadata": {},
   "source": [
    "**Problem**\n",
    "\n",
    "To predict the cost of medical insurance for individuals based on a number of different parameters such as, `age`, `sex`, `bmi`, `children`, `smoking_status` and `residential_region`."
   ]
  },
  {
   "cell_type": "code",
   "execution_count": 206,
   "metadata": {},
   "outputs": [
    {
     "name": "stdout",
     "output_type": "stream",
     "text": [
      "PyTorch version: 1.12.1+cu102\n",
      "Device: cuda\n",
      "Modified date: 2023-06-22 11:23:53.500802\n"
     ]
    }
   ],
   "source": [
    "# import libraties\n",
    "import torch\n",
    "import numpy as np\n",
    "import pandas as pd\n",
    "from torch import nn\n",
    "from datetime import datetime\n",
    "from sklearn.compose import make_column_transformer\n",
    "from sklearn.model_selection import train_test_split\n",
    "from sklearn.preprocessing import MinMaxScaler, OneHotEncoder, StandardScaler\n",
    "from torch.utils.tensorboard import SummaryWriter\n",
    "\n",
    "# check torch version\n",
    "print(f\"PyTorch version: {torch.__version__}\")\n",
    "\n",
    "# check GPU or CPU\n",
    "device = \"cuda\" if torch.cuda.is_available() else \"cpu\"\n",
    "print(f\"Device: {device}\")\n",
    "\n",
    "# modified date\n",
    "print(f\"Modified date: {datetime.now()}\")"
   ]
  },
  {
   "attachments": {},
   "cell_type": "markdown",
   "metadata": {},
   "source": [
    "#### Dataset"
   ]
  },
  {
   "cell_type": "code",
   "execution_count": 207,
   "metadata": {},
   "outputs": [],
   "source": [
    "# read in the insurance dataset\n",
    "raw_insurance_data = pd.read_csv(\"https://raw.githubusercontent.com/stedy/Machine-Learning-with-R-datasets/master/insurance.csv\")"
   ]
  },
  {
   "cell_type": "code",
   "execution_count": 208,
   "metadata": {},
   "outputs": [
    {
     "data": {
      "text/html": [
       "<div>\n",
       "<style scoped>\n",
       "    .dataframe tbody tr th:only-of-type {\n",
       "        vertical-align: middle;\n",
       "    }\n",
       "\n",
       "    .dataframe tbody tr th {\n",
       "        vertical-align: top;\n",
       "    }\n",
       "\n",
       "    .dataframe thead th {\n",
       "        text-align: right;\n",
       "    }\n",
       "</style>\n",
       "<table border=\"1\" class=\"dataframe\">\n",
       "  <thead>\n",
       "    <tr style=\"text-align: right;\">\n",
       "      <th></th>\n",
       "      <th>age</th>\n",
       "      <th>sex</th>\n",
       "      <th>bmi</th>\n",
       "      <th>children</th>\n",
       "      <th>smoker</th>\n",
       "      <th>region</th>\n",
       "      <th>charges</th>\n",
       "    </tr>\n",
       "  </thead>\n",
       "  <tbody>\n",
       "    <tr>\n",
       "      <th>0</th>\n",
       "      <td>19</td>\n",
       "      <td>female</td>\n",
       "      <td>27.900</td>\n",
       "      <td>0</td>\n",
       "      <td>yes</td>\n",
       "      <td>southwest</td>\n",
       "      <td>16884.92400</td>\n",
       "    </tr>\n",
       "    <tr>\n",
       "      <th>1</th>\n",
       "      <td>18</td>\n",
       "      <td>male</td>\n",
       "      <td>33.770</td>\n",
       "      <td>1</td>\n",
       "      <td>no</td>\n",
       "      <td>southeast</td>\n",
       "      <td>1725.55230</td>\n",
       "    </tr>\n",
       "    <tr>\n",
       "      <th>2</th>\n",
       "      <td>28</td>\n",
       "      <td>male</td>\n",
       "      <td>33.000</td>\n",
       "      <td>3</td>\n",
       "      <td>no</td>\n",
       "      <td>southeast</td>\n",
       "      <td>4449.46200</td>\n",
       "    </tr>\n",
       "    <tr>\n",
       "      <th>3</th>\n",
       "      <td>33</td>\n",
       "      <td>male</td>\n",
       "      <td>22.705</td>\n",
       "      <td>0</td>\n",
       "      <td>no</td>\n",
       "      <td>northwest</td>\n",
       "      <td>21984.47061</td>\n",
       "    </tr>\n",
       "    <tr>\n",
       "      <th>4</th>\n",
       "      <td>32</td>\n",
       "      <td>male</td>\n",
       "      <td>28.880</td>\n",
       "      <td>0</td>\n",
       "      <td>no</td>\n",
       "      <td>northwest</td>\n",
       "      <td>3866.85520</td>\n",
       "    </tr>\n",
       "  </tbody>\n",
       "</table>\n",
       "</div>"
      ],
      "text/plain": [
       "   age     sex     bmi  children smoker     region      charges\n",
       "0   19  female  27.900         0    yes  southwest  16884.92400\n",
       "1   18    male  33.770         1     no  southeast   1725.55230\n",
       "2   28    male  33.000         3     no  southeast   4449.46200\n",
       "3   33    male  22.705         0     no  northwest  21984.47061\n",
       "4   32    male  28.880         0     no  northwest   3866.85520"
      ]
     },
     "execution_count": 208,
     "metadata": {},
     "output_type": "execute_result"
    }
   ],
   "source": [
    "# top-4 rows\n",
    "raw_insurance_data.head()"
   ]
  },
  {
   "cell_type": "code",
   "execution_count": 209,
   "metadata": {},
   "outputs": [
    {
     "data": {
      "text/plain": [
       "((1338, 6), (1338,))"
      ]
     },
     "execution_count": 209,
     "metadata": {},
     "output_type": "execute_result"
    }
   ],
   "source": [
    "X = raw_insurance_data.drop(\"charges\", axis=1)\n",
    "y = raw_insurance_data[\"charges\"]\n",
    "\n",
    "X.shape, y.shape"
   ]
  },
  {
   "attachments": {},
   "cell_type": "markdown",
   "metadata": {},
   "source": [
    "#### Split data"
   ]
  },
  {
   "cell_type": "code",
   "execution_count": 210,
   "metadata": {},
   "outputs": [
    {
     "data": {
      "text/plain": [
       "(1070, 268, 1070, 268)"
      ]
     },
     "execution_count": 210,
     "metadata": {},
     "output_type": "execute_result"
    }
   ],
   "source": [
    "X_train, X_test, y_train, y_test = train_test_split(X, y, test_size=0.2, random_state=42)\n",
    "\n",
    "len(X_train), len(X_test), len(y_train), len(y_test)"
   ]
  },
  {
   "cell_type": "code",
   "execution_count": 211,
   "metadata": {},
   "outputs": [
    {
     "data": {
      "text/html": [
       "<div>\n",
       "<style scoped>\n",
       "    .dataframe tbody tr th:only-of-type {\n",
       "        vertical-align: middle;\n",
       "    }\n",
       "\n",
       "    .dataframe tbody tr th {\n",
       "        vertical-align: top;\n",
       "    }\n",
       "\n",
       "    .dataframe thead th {\n",
       "        text-align: right;\n",
       "    }\n",
       "</style>\n",
       "<table border=\"1\" class=\"dataframe\">\n",
       "  <thead>\n",
       "    <tr style=\"text-align: right;\">\n",
       "      <th></th>\n",
       "      <th>age</th>\n",
       "      <th>sex</th>\n",
       "      <th>bmi</th>\n",
       "      <th>children</th>\n",
       "      <th>smoker</th>\n",
       "      <th>region</th>\n",
       "    </tr>\n",
       "  </thead>\n",
       "  <tbody>\n",
       "    <tr>\n",
       "      <th>560</th>\n",
       "      <td>46</td>\n",
       "      <td>female</td>\n",
       "      <td>19.95</td>\n",
       "      <td>2</td>\n",
       "      <td>no</td>\n",
       "      <td>northwest</td>\n",
       "    </tr>\n",
       "    <tr>\n",
       "      <th>1285</th>\n",
       "      <td>47</td>\n",
       "      <td>female</td>\n",
       "      <td>24.32</td>\n",
       "      <td>0</td>\n",
       "      <td>no</td>\n",
       "      <td>northeast</td>\n",
       "    </tr>\n",
       "    <tr>\n",
       "      <th>1142</th>\n",
       "      <td>52</td>\n",
       "      <td>female</td>\n",
       "      <td>24.86</td>\n",
       "      <td>0</td>\n",
       "      <td>no</td>\n",
       "      <td>southeast</td>\n",
       "    </tr>\n",
       "    <tr>\n",
       "      <th>969</th>\n",
       "      <td>39</td>\n",
       "      <td>female</td>\n",
       "      <td>34.32</td>\n",
       "      <td>5</td>\n",
       "      <td>no</td>\n",
       "      <td>southeast</td>\n",
       "    </tr>\n",
       "    <tr>\n",
       "      <th>486</th>\n",
       "      <td>54</td>\n",
       "      <td>female</td>\n",
       "      <td>21.47</td>\n",
       "      <td>3</td>\n",
       "      <td>no</td>\n",
       "      <td>northwest</td>\n",
       "    </tr>\n",
       "  </tbody>\n",
       "</table>\n",
       "</div>"
      ],
      "text/plain": [
       "      age     sex    bmi  children smoker     region\n",
       "560    46  female  19.95         2     no  northwest\n",
       "1285   47  female  24.32         0     no  northeast\n",
       "1142   52  female  24.86         0     no  southeast\n",
       "969    39  female  34.32         5     no  southeast\n",
       "486    54  female  21.47         3     no  northwest"
      ]
     },
     "execution_count": 211,
     "metadata": {},
     "output_type": "execute_result"
    }
   ],
   "source": [
    "X_train.head()"
   ]
  },
  {
   "attachments": {},
   "cell_type": "markdown",
   "metadata": {},
   "source": [
    "#### Preprocessing (Normalization and standardization)"
   ]
  },
  {
   "cell_type": "code",
   "execution_count": 212,
   "metadata": {},
   "outputs": [],
   "source": [
    "numerical_feats = ['age', \"bmi\", \"children\"]\n",
    "categorical_feats = [\"sex\", \"smoker\", \"region\"]\n",
    "\n",
    "ct = make_column_transformer(\n",
    "    ((StandardScaler(), numerical_feats)),\n",
    "    (OneHotEncoder(), categorical_feats))\n",
    "\n",
    "\n",
    "# fit with x_train\n",
    "ct.fit(X_train)\n",
    "\n",
    "tranformed_X_train = ct.transform(X_train)\n",
    "tranformed_X_test = ct.transform(X_test)"
   ]
  },
  {
   "cell_type": "code",
   "execution_count": 213,
   "metadata": {},
   "outputs": [
    {
     "data": {
      "text/plain": [
       "((1070, 11), (268, 11))"
      ]
     },
     "execution_count": 213,
     "metadata": {},
     "output_type": "execute_result"
    }
   ],
   "source": [
    "tranformed_X_train.shape, tranformed_X_test.shape"
   ]
  },
  {
   "cell_type": "code",
   "execution_count": 214,
   "metadata": {},
   "outputs": [],
   "source": [
    "# convert to Torch.Tensor\n",
    "tranformed_X_train, tranformed_X_test, y_train, y_test = torch.Tensor(np.array(tranformed_X_train)), torch.Tensor(np.array(tranformed_X_test)), torch.Tensor(np.array(y_train)), torch.Tensor(np.array(y_test))"
   ]
  },
  {
   "attachments": {},
   "cell_type": "markdown",
   "metadata": {},
   "source": [
    "#### Modeling"
   ]
  },
  {
   "attachments": {},
   "cell_type": "markdown",
   "metadata": {},
   "source": [
    "> https://pytorch.org/docs/stable/generated/torch.nn.parameter.Parameter.html"
   ]
  },
  {
   "cell_type": "code",
   "execution_count": 215,
   "metadata": {},
   "outputs": [],
   "source": [
    "class InsureanceRegressionNeuralNetworkV1(nn.Module):\n",
    "    def __init__(self):\n",
    "        super().__init__()\n",
    "\n",
    "        self.weight = nn.Parameter(torch.randn(size=(1, 11)), requires_grad=True)\n",
    "\n",
    "        self.bias = nn.Parameter(torch.randn(1), requires_grad=True)\n",
    "\n",
    "    def forward(self, x: torch.Tensor) -> torch.Tensor:\n",
    "        return  torch.matmul(x, self.weight.T)  + self.bias # y = x * weight.T + bias"
   ]
  },
  {
   "cell_type": "code",
   "execution_count": 216,
   "metadata": {},
   "outputs": [
    {
     "name": "stdout",
     "output_type": "stream",
     "text": [
      "weight's shape: torch.Size([1, 11])\n",
      "bias's shape: torch.Size([1])\n"
     ]
    }
   ],
   "source": [
    "model_01 = InsureanceRegressionNeuralNetworkV1()\n",
    "print(f\"weight's shape: {model_01.state_dict()['weight'].shape}\")\n",
    "print(f\"bias's shape: {model_01.state_dict()['bias'].shape}\")"
   ]
  },
  {
   "cell_type": "code",
   "execution_count": 217,
   "metadata": {},
   "outputs": [],
   "source": [
    "class InsureanceRegressionNeuralNetworkV2(nn.Module):\n",
    "    def __init__(self):\n",
    "        super().__init__()\n",
    "\n",
    "        self.linear = nn.Linear(in_features=11, out_features=1)\n",
    "    \n",
    "    def forward(self, X: torch.Tensor) -> torch.Tensor:\n",
    "        return self.linear(X)"
   ]
  },
  {
   "cell_type": "code",
   "execution_count": 218,
   "metadata": {},
   "outputs": [
    {
     "name": "stdout",
     "output_type": "stream",
     "text": [
      "weight's shape: torch.Size([1, 11])\n",
      "bias's shape: torch.Size([1])\n"
     ]
    }
   ],
   "source": [
    "model_02 = InsureanceRegressionNeuralNetworkV2()\n",
    "print(f\"weight's shape: {model_02.state_dict()['linear.weight'].shape}\")\n",
    "print(f\"bias's shape: {model_02.state_dict()['linear.bias'].shape}\")"
   ]
  },
  {
   "attachments": {},
   "cell_type": "markdown",
   "metadata": {},
   "source": [
    "**Model 01**"
   ]
  },
  {
   "cell_type": "code",
   "execution_count": 219,
   "metadata": {},
   "outputs": [],
   "source": [
    "# instantiate a model\n",
    "insurance_model_v1 = InsureanceRegressionNeuralNetworkV1()\n",
    "\n",
    "# tensorboard\n",
    "writer =SummaryWriter()\n",
    "\n",
    "# copy to device\n",
    "insurance_model_v1.to(device)\n",
    "\n",
    "# copy data to device\n",
    "tranformed_X_train = tranformed_X_train.to(device)\n",
    "train_labels = y_train.to(device)\n",
    "tranformed_X_test = tranformed_X_test.to(device)\n",
    "test_labels = y_test.to(device)\n",
    "\n",
    "# loss function\n",
    "loss_fn = nn.L1Loss()\n",
    "\n",
    "# optimizer \n",
    "opitmizer = torch.optim.SGD(params=insurance_model_v1.parameters(), lr=0.01)"
   ]
  },
  {
   "cell_type": "code",
   "execution_count": 220,
   "metadata": {},
   "outputs": [
    {
     "name": "stdout",
     "output_type": "stream",
     "text": [
      "Epoch: 0 | train loss: 13346.0986328125 | test loss: 12968.00390625\n",
      "Epoch: 10 | train loss: 13345.85546875 | test loss: 12967.7607421875\n",
      "Epoch: 20 | train loss: 13345.61328125 | test loss: 12967.5185546875\n",
      "Epoch: 30 | train loss: 13345.37109375 | test loss: 12967.2763671875\n",
      "Epoch: 40 | train loss: 13345.12890625 | test loss: 12967.0341796875\n",
      "Epoch: 50 | train loss: 13344.88671875 | test loss: 12966.791015625\n",
      "Epoch: 60 | train loss: 13344.64453125 | test loss: 12966.548828125\n",
      "Epoch: 70 | train loss: 13344.4013671875 | test loss: 12966.306640625\n",
      "Epoch: 80 | train loss: 13344.1591796875 | test loss: 12966.064453125\n",
      "Epoch: 90 | train loss: 13343.916015625 | test loss: 12965.8212890625\n",
      "Epoch: 100 | train loss: 13343.6748046875 | test loss: 12965.5791015625\n",
      "Epoch: 110 | train loss: 13343.431640625 | test loss: 12965.3349609375\n",
      "Epoch: 120 | train loss: 13343.189453125 | test loss: 12965.0927734375\n"
     ]
    },
    {
     "name": "stderr",
     "output_type": "stream",
     "text": [
      "/home/jason/anaconda3/envs/tadac/lib/python3.8/site-packages/torch/nn/modules/loss.py:96: UserWarning: Using a target size (torch.Size([1070])) that is different to the input size (torch.Size([1070, 1])). This will likely lead to incorrect results due to broadcasting. Please ensure they have the same size.\n",
      "  return F.l1_loss(input, target, reduction=self.reduction)\n",
      "/home/jason/anaconda3/envs/tadac/lib/python3.8/site-packages/torch/nn/modules/loss.py:96: UserWarning: Using a target size (torch.Size([268])) that is different to the input size (torch.Size([268, 1])). This will likely lead to incorrect results due to broadcasting. Please ensure they have the same size.\n",
      "  return F.l1_loss(input, target, reduction=self.reduction)\n"
     ]
    },
    {
     "name": "stdout",
     "output_type": "stream",
     "text": [
      "Epoch: 130 | train loss: 13342.9462890625 | test loss: 12964.8505859375\n",
      "Epoch: 140 | train loss: 13342.7041015625 | test loss: 12964.6083984375\n",
      "Epoch: 150 | train loss: 13342.462890625 | test loss: 12964.3662109375\n",
      "Epoch: 160 | train loss: 13342.220703125 | test loss: 12964.123046875\n",
      "Epoch: 170 | train loss: 13341.9775390625 | test loss: 12963.87890625\n",
      "Epoch: 180 | train loss: 13341.7353515625 | test loss: 12963.63671875\n",
      "Epoch: 190 | train loss: 13341.4921875 | test loss: 12963.39453125\n",
      "Epoch: 200 | train loss: 13341.2509765625 | test loss: 12963.15234375\n",
      "Epoch: 210 | train loss: 13341.0078125 | test loss: 12962.91015625\n",
      "Epoch: 220 | train loss: 13340.765625 | test loss: 12962.66796875\n",
      "Epoch: 230 | train loss: 13340.5234375 | test loss: 12962.4248046875\n",
      "Epoch: 240 | train loss: 13340.2802734375 | test loss: 12962.181640625\n",
      "Epoch: 250 | train loss: 13340.0380859375 | test loss: 12961.9384765625\n",
      "Epoch: 260 | train loss: 13339.796875 | test loss: 12961.6962890625\n",
      "Epoch: 270 | train loss: 13339.5537109375 | test loss: 12961.4541015625\n",
      "Epoch: 280 | train loss: 13339.3115234375 | test loss: 12961.2119140625\n",
      "Epoch: 290 | train loss: 13339.0693359375 | test loss: 12960.96875\n",
      "Epoch: 300 | train loss: 13338.826171875 | test loss: 12960.7255859375\n",
      "Epoch: 310 | train loss: 13338.5849609375 | test loss: 12960.4833984375\n",
      "Epoch: 320 | train loss: 13338.341796875 | test loss: 12960.240234375\n",
      "Epoch: 330 | train loss: 13338.0986328125 | test loss: 12959.998046875\n",
      "Epoch: 340 | train loss: 13337.857421875 | test loss: 12959.755859375\n",
      "Epoch: 350 | train loss: 13337.6142578125 | test loss: 12959.5126953125\n",
      "Epoch: 360 | train loss: 13337.37109375 | test loss: 12959.2705078125\n",
      "Epoch: 370 | train loss: 13337.1298828125 | test loss: 12959.0283203125\n",
      "Epoch: 380 | train loss: 13336.88671875 | test loss: 12958.7861328125\n",
      "Epoch: 390 | train loss: 13336.6455078125 | test loss: 12958.54296875\n",
      "Epoch: 400 | train loss: 13336.4033203125 | test loss: 12958.30078125\n",
      "Epoch: 410 | train loss: 13336.16015625 | test loss: 12958.0576171875\n",
      "Epoch: 420 | train loss: 13335.91796875 | test loss: 12957.8154296875\n",
      "Epoch: 430 | train loss: 13335.6748046875 | test loss: 12957.572265625\n",
      "Epoch: 440 | train loss: 13335.4326171875 | test loss: 12957.330078125\n",
      "Epoch: 450 | train loss: 13335.1904296875 | test loss: 12957.087890625\n",
      "Epoch: 460 | train loss: 13334.9482421875 | test loss: 12956.845703125\n",
      "Epoch: 470 | train loss: 13334.7060546875 | test loss: 12956.6015625\n",
      "Epoch: 480 | train loss: 13334.462890625 | test loss: 12956.359375\n",
      "Epoch: 490 | train loss: 13334.220703125 | test loss: 12956.1162109375\n"
     ]
    }
   ],
   "source": [
    "# set manual seed\n",
    "torch.cuda.manual_seed(42)\n",
    "\n",
    "# num of epochs\n",
    "epochs = 500\n",
    "\n",
    "\n",
    "# start training\n",
    "for epoch in range(epochs):\n",
    "\n",
    "    # train mode\n",
    "    insurance_model_v1.train()\n",
    "\n",
    "    # forward computation\n",
    "    y_train_preds = insurance_model_v1(tranformed_X_train)\n",
    "\n",
    "    # calculate loss\n",
    "    loss = loss_fn(y_train_preds, train_labels)\n",
    "\n",
    "    # add loss to tensorboar\n",
    "    writer.add_scalar(\"Loss/train\", loss, epoch)\n",
    "\n",
    "    # reset gradient descent to zero\n",
    "    opitmizer.zero_grad()\n",
    "\n",
    "    # backpropagation\n",
    "    loss.backward()\n",
    "\n",
    "    # update parameters \n",
    "    opitmizer.step()\n",
    "\n",
    "    # evaluation mode\n",
    "    insurance_model_v1.eval()\n",
    "    with torch.inference_mode():\n",
    "\n",
    "        # forward computation\n",
    "        y_test_preds = insurance_model_v1(tranformed_X_test)\n",
    "\n",
    "        # calculate loss\n",
    "        loss_test = loss_fn(y_test_preds, test_labels)\n",
    "\n",
    "\n",
    "        if epoch % 10 == 0:\n",
    "            print(f\"Epoch: {epoch} | train loss: {loss} | test loss: {loss_test}\")\n",
    "\n",
    "    \n",
    "    # flush\n",
    "    writer.flush()\n",
    "    writer.close()"
   ]
  },
  {
   "attachments": {},
   "cell_type": "markdown",
   "metadata": {},
   "source": [
    "**Model 02**"
   ]
  },
  {
   "cell_type": "code",
   "execution_count": 221,
   "metadata": {},
   "outputs": [],
   "source": [
    "# instantiate a model\n",
    "insurance_model_v2 = InsureanceRegressionNeuralNetworkV2()\n",
    "\n",
    "# tensorboard\n",
    "writer =SummaryWriter()\n",
    "\n",
    "# copy to device\n",
    "insurance_model_v2.to(device)\n",
    "\n",
    "# copy data to device\n",
    "tranformed_X_train = tranformed_X_train.to(device)\n",
    "train_labels = y_train.to(device)\n",
    "tranformed_X_test = tranformed_X_test.to(device)\n",
    "test_labels = y_test.to(device)\n",
    "\n",
    "# loss function\n",
    "loss_fn = nn.L1Loss()\n",
    "\n",
    "# optimizer \n",
    "opitmizer = torch.optim.SGD(params=insurance_model_v2.parameters(), lr=0.01)"
   ]
  },
  {
   "cell_type": "code",
   "execution_count": 222,
   "metadata": {},
   "outputs": [
    {
     "name": "stdout",
     "output_type": "stream",
     "text": [
      "Epoch: 0 | train loss: 13345.896484375 | test loss: 12968.0732421875\n",
      "Epoch: 10 | train loss: 13345.6533203125 | test loss: 12967.83203125\n",
      "Epoch: 20 | train loss: 13345.4111328125 | test loss: 12967.5888671875\n",
      "Epoch: 30 | train loss: 13345.16796875 | test loss: 12967.345703125\n",
      "Epoch: 40 | train loss: 13344.9267578125 | test loss: 12967.103515625\n",
      "Epoch: 50 | train loss: 13344.68359375 | test loss: 12966.861328125\n",
      "Epoch: 60 | train loss: 13344.44140625 | test loss: 12966.6181640625\n",
      "Epoch: 70 | train loss: 13344.19921875 | test loss: 12966.375\n",
      "Epoch: 80 | train loss: 13343.95703125 | test loss: 12966.1328125\n",
      "Epoch: 90 | train loss: 13343.7138671875 | test loss: 12965.890625\n",
      "Epoch: 100 | train loss: 13343.4716796875 | test loss: 12965.6484375\n",
      "Epoch: 110 | train loss: 13343.2294921875 | test loss: 12965.40625\n",
      "Epoch: 120 | train loss: 13342.9873046875 | test loss: 12965.162109375\n",
      "Epoch: 130 | train loss: 13342.744140625 | test loss: 12964.919921875\n",
      "Epoch: 140 | train loss: 13342.5029296875 | test loss: 12964.677734375\n",
      "Epoch: 150 | train loss: 13342.259765625 | test loss: 12964.435546875\n",
      "Epoch: 160 | train loss: 13342.017578125 | test loss: 12964.193359375\n",
      "Epoch: 170 | train loss: 13341.775390625 | test loss: 12963.9501953125\n",
      "Epoch: 180 | train loss: 13341.5322265625 | test loss: 12963.7080078125\n",
      "Epoch: 190 | train loss: 13341.2900390625 | test loss: 12963.46484375\n",
      "Epoch: 200 | train loss: 13341.0478515625 | test loss: 12963.2216796875\n",
      "Epoch: 210 | train loss: 13340.8056640625 | test loss: 12962.9794921875\n",
      "Epoch: 220 | train loss: 13340.5625 | test loss: 12962.7373046875\n",
      "Epoch: 230 | train loss: 13340.3203125 | test loss: 12962.4951171875\n",
      "Epoch: 240 | train loss: 13340.0771484375 | test loss: 12962.2509765625\n",
      "Epoch: 250 | train loss: 13339.8359375 | test loss: 12962.0087890625\n",
      "Epoch: 260 | train loss: 13339.59375 | test loss: 12961.765625\n",
      "Epoch: 270 | train loss: 13339.3515625 | test loss: 12961.5234375\n",
      "Epoch: 280 | train loss: 13339.107421875 | test loss: 12961.28125\n",
      "Epoch: 290 | train loss: 13338.8662109375 | test loss: 12961.0390625\n",
      "Epoch: 300 | train loss: 13338.6240234375 | test loss: 12960.7958984375\n",
      "Epoch: 310 | train loss: 13338.3818359375 | test loss: 12960.5537109375\n",
      "Epoch: 320 | train loss: 13338.138671875 | test loss: 12960.3115234375\n",
      "Epoch: 330 | train loss: 13337.896484375 | test loss: 12960.068359375\n",
      "Epoch: 340 | train loss: 13337.6533203125 | test loss: 12959.826171875\n",
      "Epoch: 350 | train loss: 13337.412109375 | test loss: 12959.583984375\n",
      "Epoch: 360 | train loss: 13337.1689453125 | test loss: 12959.33984375\n",
      "Epoch: 370 | train loss: 13336.927734375 | test loss: 12959.09765625\n",
      "Epoch: 380 | train loss: 13336.68359375 | test loss: 12958.85546875\n",
      "Epoch: 390 | train loss: 13336.4423828125 | test loss: 12958.61328125\n",
      "Epoch: 400 | train loss: 13336.2001953125 | test loss: 12958.3701171875\n",
      "Epoch: 410 | train loss: 13335.9580078125 | test loss: 12958.126953125\n",
      "Epoch: 420 | train loss: 13335.71484375 | test loss: 12957.884765625\n",
      "Epoch: 430 | train loss: 13335.47265625 | test loss: 12957.6416015625\n",
      "Epoch: 440 | train loss: 13335.2294921875 | test loss: 12957.3994140625\n",
      "Epoch: 450 | train loss: 13334.98828125 | test loss: 12957.1572265625\n",
      "Epoch: 460 | train loss: 13334.7451171875 | test loss: 12956.9150390625\n",
      "Epoch: 470 | train loss: 13334.5029296875 | test loss: 12956.6728515625\n",
      "Epoch: 480 | train loss: 13334.259765625 | test loss: 12956.4287109375\n",
      "Epoch: 490 | train loss: 13334.0185546875 | test loss: 12956.1865234375\n"
     ]
    }
   ],
   "source": [
    "# set manual seed\n",
    "torch.cuda.manual_seed(42)\n",
    "\n",
    "# num of epochs\n",
    "epochs = 500\n",
    "\n",
    "\n",
    "# start training\n",
    "for epoch in range(epochs):\n",
    "\n",
    "    # train mode\n",
    "    insurance_model_v2.train()\n",
    "\n",
    "    # forward computation\n",
    "    y_train_preds = insurance_model_v2(tranformed_X_train)\n",
    "\n",
    "    # calculate loss\n",
    "    loss = loss_fn(y_train_preds, train_labels)\n",
    "\n",
    "    # add loss to tensorboar\n",
    "    writer.add_scalar(\"Loss/train\", loss, epoch)\n",
    "\n",
    "    # reset gradient descent to zero\n",
    "    opitmizer.zero_grad()\n",
    "\n",
    "    # backpropagation\n",
    "    loss.backward()\n",
    "\n",
    "    # update parameters \n",
    "    opitmizer.step()\n",
    "\n",
    "    # evaluation mode\n",
    "    insurance_model_v2.eval()\n",
    "    with torch.inference_mode():\n",
    "\n",
    "        # forward computation\n",
    "        y_test_preds = insurance_model_v2(tranformed_X_test)\n",
    "\n",
    "        # calculate loss\n",
    "        loss_test = loss_fn(y_test_preds, test_labels)\n",
    "\n",
    "\n",
    "        if epoch % 10 == 0:\n",
    "            print(f\"Epoch: {epoch} | train loss: {loss} | test loss: {loss_test}\")\n",
    "\n",
    "    \n",
    "    # flush\n",
    "    writer.flush()\n",
    "    writer.close()"
   ]
  },
  {
   "attachments": {},
   "cell_type": "markdown",
   "metadata": {},
   "source": [
    "#### Evaluation"
   ]
  },
  {
   "cell_type": "code",
   "execution_count": 223,
   "metadata": {},
   "outputs": [
    {
     "data": {
      "text/plain": [
       "(tensor([ 0.4011, -0.8915,  0.7343,  1.0000,  0.0000,  1.0000,  0.0000,  1.0000,\n",
       "          0.0000,  0.0000,  0.0000], device='cuda:0'),\n",
       " tensor(9095.0684))"
      ]
     },
     "execution_count": 223,
     "metadata": {},
     "output_type": "execute_result"
    }
   ],
   "source": [
    "tranformed_X_test[0], y_test[0]"
   ]
  },
  {
   "cell_type": "code",
   "execution_count": 224,
   "metadata": {},
   "outputs": [
    {
     "data": {
      "text/plain": [
       "tensor([[10.3281]], device='cuda:0')"
      ]
     },
     "execution_count": 224,
     "metadata": {},
     "output_type": "execute_result"
    }
   ],
   "source": [
    "# evaluation\n",
    "# set evaluation mode\n",
    "insurance_model_v1.eval()\n",
    "with torch.inference_mode():\n",
    "    y_test_preds = insurance_model_v1(tranformed_X_test[:1])\n",
    "\n",
    "y_test_preds"
   ]
  },
  {
   "cell_type": "code",
   "execution_count": 225,
   "metadata": {},
   "outputs": [
    {
     "data": {
      "text/plain": [
       "tensor([[12.6507]], device='cuda:0')"
      ]
     },
     "execution_count": 225,
     "metadata": {},
     "output_type": "execute_result"
    }
   ],
   "source": [
    "# evaluation\n",
    "# set evaluation mode\n",
    "insurance_model_v2.eval()\n",
    "with torch.inference_mode():\n",
    "    y_test_preds = insurance_model_v2(tranformed_X_test[:1])\n",
    "\n",
    "y_test_preds"
   ]
  },
  {
   "cell_type": "code",
   "execution_count": 226,
   "metadata": {},
   "outputs": [
    {
     "data": {
      "text/plain": [
       "OrderedDict([('weight',\n",
       "              tensor([[-1.0546,  2.2755,  0.8380,  2.7655,  1.8501,  1.8532,  1.9441,  1.0363,\n",
       "                        0.9593,  2.7931,  0.8380]], device='cuda:0')),\n",
       "             ('bias', tensor([6.5094], device='cuda:0'))])"
      ]
     },
     "execution_count": 226,
     "metadata": {},
     "output_type": "execute_result"
    }
   ],
   "source": [
    "# check trained weights and bias\n",
    "insurance_model_v1.state_dict()"
   ]
  },
  {
   "cell_type": "code",
   "execution_count": 227,
   "metadata": {},
   "outputs": [
    {
     "data": {
      "text/plain": [
       "OrderedDict([('linear.weight',\n",
       "              tensor([[-0.1602,  0.1303, -0.1746,  2.5801,  2.6252,  3.8443,  1.0082,  1.5110,\n",
       "                        1.3937,  1.3897,  1.4103]], device='cuda:0')),\n",
       "             ('linear.bias', tensor([5.0240], device='cuda:0'))])"
      ]
     },
     "execution_count": 227,
     "metadata": {},
     "output_type": "execute_result"
    }
   ],
   "source": [
    "# check trained weights and bias\n",
    "insurance_model_v2.state_dict()"
   ]
  },
  {
   "cell_type": "code",
   "execution_count": 228,
   "metadata": {},
   "outputs": [],
   "source": [
    "# release models and GPU\n",
    "del insurance_model_v1\n",
    "del insurance_model_v2\n",
    "torch.cuda.empty_cache()"
   ]
  }
 ],
 "metadata": {
  "kernelspec": {
   "display_name": "tadac",
   "language": "python",
   "name": "python3"
  },
  "language_info": {
   "codemirror_mode": {
    "name": "ipython",
    "version": 3
   },
   "file_extension": ".py",
   "mimetype": "text/x-python",
   "name": "python",
   "nbconvert_exporter": "python",
   "pygments_lexer": "ipython3",
   "version": "3.8.0"
  },
  "orig_nbformat": 4
 },
 "nbformat": 4,
 "nbformat_minor": 2
}
