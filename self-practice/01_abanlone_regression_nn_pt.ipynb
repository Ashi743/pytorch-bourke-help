{
 "cells": [
  {
   "attachments": {},
   "cell_type": "markdown",
   "metadata": {},
   "source": [
    "### Abalone Regression in Pytorch"
   ]
  },
  {
   "cell_type": "code",
   "execution_count": null,
   "metadata": {},
   "outputs": [],
   "source": [
    "# import libraries\n",
    "import torch\n",
    "import torch.nn as nn\n",
    "import matplotlib.pyplot as plt\n",
    "import pandas as pd\n",
    "import numpy as np\n",
    "from pathlib import Path\n",
    "from datetime import datetime\n",
    "from torch.utils.tensorboard import SummaryWriter\n",
    "\n",
    "# check GPUs\n",
    "device = \"cuda\" if torch.cuda.is_available() else \"cpu\"\n",
    "print(f\"Device: {device}\")\n",
    "\n",
    "# check Torch version\n",
    "print(f\"Torch version: {torch.__version__}\")\n",
    "\n",
    "# check modified date\n",
    "print(f\"Modified date: {datetime.now()}\")\n"
   ]
  },
  {
   "attachments": {},
   "cell_type": "markdown",
   "metadata": {},
   "source": [
    "#### 1. Dataset "
   ]
  },
  {
   "cell_type": "code",
   "execution_count": null,
   "metadata": {},
   "outputs": [],
   "source": [
    "abalone_data = pd.read_csv(\n",
    "    \"https://storage.googleapis.com/download.tensorflow.org/data/abalone_train.csv\",\n",
    "    names=[\"Length\", \"Diameter\", \"Height\", \"Whole weight\", \"Shucked weight\",\n",
    "           \"Viscera weight\", \"Shell weight\", \"Age\"])\n",
    "\n",
    "abalone_data.head()"
   ]
  },
  {
   "cell_type": "code",
   "execution_count": null,
   "metadata": {},
   "outputs": [],
   "source": [
    "# get data and convert to numpy\n",
    "X = abalone_data.drop(\"Age\", axis=1).to_numpy()\n",
    "X"
   ]
  },
  {
   "cell_type": "code",
   "execution_count": null,
   "metadata": {},
   "outputs": [],
   "source": [
    "# get data and convert to numpy\n",
    "y = abalone_data[\"Age\"].to_numpy()\n",
    "y"
   ]
  },
  {
   "cell_type": "code",
   "execution_count": null,
   "metadata": {},
   "outputs": [],
   "source": [
    "# split data\n",
    "split_amount = int(0.8* len(X))\n",
    "\n",
    "# 80% of dataset \n",
    "X_train, y_train = torch.Tensor(X[:split_amount]), torch.Tensor(y[:split_amount])\n",
    "\n",
    "# 20% of dataset\n",
    "X_test, y_test = torch.Tensor(X[split_amount:]), torch.Tensor(y[split_amount:])\n",
    "\n",
    "# check length\n",
    "len(X_train), len(y_train), len(X_test), len(y_test)\n"
   ]
  },
  {
   "cell_type": "code",
   "execution_count": null,
   "metadata": {},
   "outputs": [],
   "source": [
    "# check shapes of traning set\n",
    "X_train.shape, y_train.shape"
   ]
  },
  {
   "cell_type": "code",
   "execution_count": null,
   "metadata": {},
   "outputs": [],
   "source": [
    "# check shapes of test set\n",
    "X_test.shape, y_test.shape"
   ]
  },
  {
   "attachments": {},
   "cell_type": "markdown",
   "metadata": {},
   "source": [
    "#### 2. Modeling"
   ]
  },
  {
   "cell_type": "code",
   "execution_count": null,
   "metadata": {},
   "outputs": [],
   "source": [
    "class AbaloneRegressionNeuralNetwork(nn.Module):\n",
    "    def __init__(self):\n",
    "        super().__init__()\n",
    "\n",
    "        self.linear = nn.Linear(in_features=7, out_features=1)\n",
    "    \n",
    "    def forward(self, X: torch.Tensor) -> torch.Tensor:\n",
    "        return self.linear(X)"
   ]
  },
  {
   "cell_type": "code",
   "execution_count": null,
   "metadata": {},
   "outputs": [],
   "source": [
    "# initialize a model\n",
    "abalone_model = AbaloneRegressionNeuralNetwork()\n",
    "\n",
    "# copy model to device\n",
    "abalone_model.to(device)\n",
    "\n",
    "# copy data to device\n",
    "train_data = X_train.to(device)\n",
    "labels_data = y_train.to(device)\n",
    "test_data = X_test.to(device)\n",
    "labels_data = y_test.to(device)\n",
    "\n",
    "# print out weights and bias\n",
    "abalone_model.state_dict()\n",
    "\n",
    "# losses\n",
    "loss_fn = nn.L1Loss()\n",
    "\n",
    "# optimizer\n",
    "optimizer = torch.optim.SGD(params = abalone_model.parameters(), lr=0.01)"
   ]
  },
  {
   "cell_type": "code",
   "execution_count": null,
   "metadata": {},
   "outputs": [],
   "source": [
    "# start training on gpu\n",
    "\n",
    "# tensorboard\n",
    "writer = SummaryWriter()\n",
    "\n",
    "# set manual seed\n",
    "torch.cuda.manual_seed(42)\n",
    "\n",
    "# epochs\n",
    "epochs = 200\n",
    "\n",
    "for epoch in range(epochs):\n",
    "\n",
    "    ## TRAINING \n",
    "\n",
    "    # train mode\n",
    "    abalone_model.train()\n",
    "\n",
    "    # forward \n",
    "    y_preds = abalone_model(train_data)\n",
    "\n",
    "    # calculate loss\n",
    "    loss = loss_fn(y_preds, labels_data)\n",
    "\n",
    "    # writing tensorboard \n",
    "    writer.add_scalar(\"Loss/train\", loss, epoch)\n",
    "\n",
    "    # reset zero_grad\n",
    "    optimizer.zero_grad()\n",
    "\n",
    "    # backward\n",
    "    loss.backward()\n",
    "    \n",
    "    # step gradient_descent\n",
    "    optimizer.step()\n",
    "\n",
    "    # eval mode\n",
    "    abalone_model.eval()\n",
    "\n",
    "    ## EVALUATION\n",
    "    with torch.inference_mode():\n",
    "\n",
    "        # forward\n",
    "        y_test_preds = abalone_model(test_data)\n",
    "\n",
    "        # calculate loss\n",
    "        test_loss = loss_fn(y_test_preds, labels_data)\n",
    "        \n",
    "        # print out\n",
    "        if epoch % 10 == 0:\n",
    "            print(f\"Epoch: {epoch} | MAE loss: {loss} | Test loss: {test_loss}\")\n",
    "\n",
    "# to make sure all pending evens have been writien to dish \n",
    "writer.flush()\n",
    "writer.close()\n",
    "    "
   ]
  },
  {
   "attachments": {},
   "cell_type": "markdown",
   "metadata": {},
   "source": [
    "#### 3. Evaluation"
   ]
  },
  {
   "cell_type": "code",
   "execution_count": null,
   "metadata": {},
   "outputs": [],
   "source": [
    "test_data[0], y_test[0]"
   ]
  },
  {
   "cell_type": "code",
   "execution_count": null,
   "metadata": {},
   "outputs": [],
   "source": [
    "# eval mode\n",
    "abalone_model.eval()\n",
    "\n",
    "with torch.inference_mode():\n",
    "    y_test_preds = abalone_model(test_data[0])\n",
    "\n",
    "y_test_preds"
   ]
  },
  {
   "cell_type": "code",
   "execution_count": null,
   "metadata": {},
   "outputs": [],
   "source": [
    "# release models and GPU\n",
    "del abalone_model\n",
    "torch.cuda.empty_cache()"
   ]
  },
  {
   "attachments": {},
   "cell_type": "markdown",
   "metadata": {},
   "source": [
    "#### 4. Visualizing TensorBoard"
   ]
  },
  {
   "attachments": {},
   "cell_type": "markdown",
   "metadata": {},
   "source": [
    "> https://pytorch.org/tutorials/recipes/recipes/tensorboard_with_pytorch.html"
   ]
  },
  {
   "cell_type": "code",
   "execution_count": null,
   "metadata": {},
   "outputs": [],
   "source": [
    "# !tensorboard --logdir=runs"
   ]
  }
 ],
 "metadata": {
  "kernelspec": {
   "display_name": "env_agilesoda",
   "language": "python",
   "name": "python3"
  },
  "language_info": {
   "codemirror_mode": {
    "name": "ipython",
    "version": 3
   },
   "file_extension": ".py",
   "mimetype": "text/x-python",
   "name": "python",
   "nbconvert_exporter": "python",
   "pygments_lexer": "ipython3",
   "version": "3.8.0"
  },
  "orig_nbformat": 4
 },
 "nbformat": 4,
 "nbformat_minor": 2
}
