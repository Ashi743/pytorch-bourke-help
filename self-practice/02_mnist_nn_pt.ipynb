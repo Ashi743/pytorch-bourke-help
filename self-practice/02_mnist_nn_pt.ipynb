{
 "cells": [
  {
   "cell_type": "code",
   "execution_count": 17,
   "metadata": {},
   "outputs": [
    {
     "name": "stdout",
     "output_type": "stream",
     "text": [
      "PyTorch version: 1.12.1+cu102\n",
      "Device: cuda\n",
      "Created date: 2023-07-01 21:18:20\n",
      "Modified date: 2023-07-04 13:56:04\n"
     ]
    }
   ],
   "source": [
    "# import libraties\n",
    "import torch\n",
    "from torchvision.datasets import MNIST\n",
    "from torch.utils.data import DataLoader, TensorDataset\n",
    "import torch.nn as nn\n",
    "import torchvision.transforms as transforms\n",
    "import numpy as np\n",
    "from datetime import datetime\n",
    "import matplotlib.pyplot as plt\n",
    "import pandas as pd\n",
    "import warnings \n",
    "warnings.filterwarnings(\"ignore\", category=UserWarning)\n",
    "\n",
    "# check PyTorch version\n",
    "print(f\"PyTorch version: {torch.__version__}\")\n",
    "\n",
    "# check device\n",
    "device = \"cuda\" if torch.cuda.is_available() else \"cpu\"\n",
    "print(f\"Device: {device}\")\n",
    "\n",
    "# created date\n",
    "print(\"Created date: 2023-07-01 21:18:20\")\n",
    "\n",
    "# modified date\n",
    "now = datetime.now().strftime(\"%Y-%m-%d %H:%M:%S\")\n",
    "print(f\"Modified date: {now}\")"
   ]
  },
  {
   "attachments": {},
   "cell_type": "markdown",
   "metadata": {},
   "source": [
    "#### Dataset"
   ]
  },
  {
   "cell_type": "code",
   "execution_count": 18,
   "metadata": {},
   "outputs": [],
   "source": [
    "# load training dataset into a single batch to compute mean and stddev\n",
    "transform = transforms.Compose([transforms.ToTensor()])\n",
    "trainset = MNIST(root=\"../../data/MNIST/\", \n",
    "                            download= True,\n",
    "                            train=True, \n",
    "                            transform= transform)\n",
    "trainloader = DataLoader(trainset, batch_size=len(trainset),shuffle=True)\n",
    "data = next(iter(trainloader))\n",
    "mean = data[0].mean()\n",
    "stddev = data[0].std()\n"
   ]
  },
  {
   "cell_type": "code",
   "execution_count": 19,
   "metadata": {},
   "outputs": [],
   "source": [
    "# download data\n",
    "# transform\n",
    "transform = transforms.Compose([transforms.ToTensor(), transforms.Normalize(mean=mean, std=stddev)])\n",
    "\n",
    "# train set\n",
    "mnist_train = MNIST(root=\"../../data/MNIST/\", \n",
    "                            download= True,\n",
    "                            train=True, \n",
    "                            transform= transform)\n",
    "# test set\n",
    "mnist_test = MNIST(root=\"../../data/MNIST/\", \n",
    "                                  download= True,\n",
    "                                  train=False,\n",
    "                                  transform= transform)\n",
    "\n",
    "# training set\n",
    "train_data = mnist_train.train_data\n",
    "train_labels = mnist_train.train_labels\n",
    "\n",
    "# testing set\n",
    "test_data = mnist_test.test_data\n",
    "test_labels = mnist_test.test_labels"
   ]
  },
  {
   "cell_type": "code",
   "execution_count": 34,
   "metadata": {},
   "outputs": [
    {
     "name": "stdout",
     "output_type": "stream",
     "text": [
      "Shape of train data: torch.Size([60000, 28, 28])\n",
      "Shape of train labels: torch.Size([60000])\n",
      "Shape of test data: torch.Size([10000, 28, 28])\n",
      "Shape of test labels: torch.Size([10000])\n"
     ]
    }
   ],
   "source": [
    "# check train set\n",
    "print(f\"Shape of train data: {train_data.shape}\")\n",
    "print(f\"Shape of train labels: {train_labels.shape}\")\n",
    "\n",
    "# check test set\n",
    "print(f\"Shape of test data: {test_data.shape}\")\n",
    "print(f\"Shape of test labels: {test_labels.shape}\")"
   ]
  },
  {
   "cell_type": "code",
   "execution_count": 35,
   "metadata": {},
   "outputs": [
    {
     "data": {
      "text/plain": [
       "<matplotlib.image.AxesImage at 0x7ff39f456d90>"
      ]
     },
     "execution_count": 35,
     "metadata": {},
     "output_type": "execute_result"
    },
    {
     "data": {
      "image/png": "[encoded data removed]",
      "text/plain": [
       "<Figure size 640x480 with 1 Axes>"
      ]
     },
     "metadata": {},
     "output_type": "display_data"
    }
   ],
   "source": [
    "# visualize one sample\n",
    "plt.imshow(train_data[0])"
   ]
  },
  {
   "cell_type": "code",
   "execution_count": 36,
   "metadata": {},
   "outputs": [
    {
     "data": {
      "text/plain": [
       "(['0 - zero',\n",
       "  '1 - one',\n",
       "  '2 - two',\n",
       "  '3 - three',\n",
       "  '4 - four',\n",
       "  '5 - five',\n",
       "  '6 - six',\n",
       "  '7 - seven',\n",
       "  '8 - eight',\n",
       "  '9 - nine'],\n",
       " 10)"
      ]
     },
     "execution_count": 36,
     "metadata": {},
     "output_type": "execute_result"
    }
   ],
   "source": [
    "# check classes\n",
    "class_names = mnist_train.classes\n",
    "class_names, len(class_names)"
   ]
  },
  {
   "cell_type": "code",
   "execution_count": 37,
   "metadata": {},
   "outputs": [
    {
     "data": {
      "text/plain": [
       "(tensor(0, dtype=torch.uint8), tensor(255, dtype=torch.uint8))"
      ]
     },
     "execution_count": 37,
     "metadata": {},
     "output_type": "execute_result"
    }
   ],
   "source": [
    "# check max, min of train data, test data\n",
    "train_data.min(), train_data.max()"
   ]
  },
  {
   "cell_type": "code",
   "execution_count": 24,
   "metadata": {},
   "outputs": [
    {
     "data": {
      "text/plain": [
       "(tensor(0, dtype=torch.uint8), tensor(255, dtype=torch.uint8))"
      ]
     },
     "execution_count": 24,
     "metadata": {},
     "output_type": "execute_result"
    }
   ],
   "source": [
    "# check max, min of test data\n",
    "test_data.min(), test_data.max()"
   ]
  },
  {
   "attachments": {},
   "cell_type": "markdown",
   "metadata": {},
   "source": [
    "#### Modeling"
   ]
  },
  {
   "cell_type": "code",
   "execution_count": 38,
   "metadata": {},
   "outputs": [],
   "source": [
    "class MNISTNeuronNetwork(nn.Module):\n",
    "    def __init__(self) -> None:\n",
    "        super().__init__()\n",
    "\n",
    "        self.layers = nn.Sequential(\n",
    "            nn.Flatten(),\n",
    "            nn.Linear(in_features=784, out_features=256),\n",
    "            nn.ReLU(),\n",
    "            nn.Dropout(0.2),\n",
    "            nn.Linear(in_features=256, out_features=32),\n",
    "            nn.ReLU(),\n",
    "            nn.Dropout(0.2),\n",
    "            nn.Linear(in_features=32, out_features=10)\n",
    "        )\n",
    "\n",
    "    def forward(self, x):\n",
    "        return self.layers(x)"
   ]
  },
  {
   "cell_type": "code",
   "execution_count": 39,
   "metadata": {},
   "outputs": [
    {
     "name": "stdout",
     "output_type": "stream",
     "text": [
      "Epoch: 1/50 | Train loss:  0.34239 | Train acc:  0.14 | Test loss:  0.14084 | Test acc:  0.96\n",
      "Epoch: 2/50 | Train loss:  0.18759 | Train acc:  0.11 | Test loss:  0.10960 | Test acc:  0.97\n",
      "Epoch: 3/50 | Train loss:  0.15408 | Train acc:  0.10 | Test loss:  0.10055 | Test acc:  0.97\n",
      "Epoch: 4/50 | Train loss:  0.13116 | Train acc:  0.09 | Test loss:  0.09207 | Test acc:  0.97\n",
      "Epoch: 5/50 | Train loss:  0.11436 | Train acc:  0.09 | Test loss:  0.08625 | Test acc:  0.98\n",
      "Epoch: 6/50 | Train loss:  0.10683 | Train acc:  0.09 | Test loss:  0.08789 | Test acc:  0.98\n",
      "Epoch: 7/50 | Train loss:  0.10049 | Train acc:  0.10 | Test loss:  0.09737 | Test acc:  0.97\n",
      "Epoch: 8/50 | Train loss:  0.08856 | Train acc:  0.09 | Test loss:  0.09215 | Test acc:  0.98\n",
      "Epoch: 9/50 | Train loss:  0.08453 | Train acc:  0.09 | Test loss:  0.08531 | Test acc:  0.98\n",
      "Epoch: 10/50 | Train loss:  0.08134 | Train acc:  0.09 | Test loss:  0.09252 | Test acc:  0.98\n",
      "Epoch: 11/50 | Train loss:  0.07861 | Train acc:  0.09 | Test loss:  0.08592 | Test acc:  0.98\n",
      "Epoch: 12/50 | Train loss:  0.07480 | Train acc:  0.10 | Test loss:  0.09814 | Test acc:  0.98\n",
      "Epoch: 13/50 | Train loss:  0.07069 | Train acc:  0.09 | Test loss:  0.09206 | Test acc:  0.98\n",
      "Epoch: 14/50 | Train loss:  0.06490 | Train acc:  0.09 | Test loss:  0.08805 | Test acc:  0.98\n",
      "Epoch: 15/50 | Train loss:  0.06615 | Train acc:  0.10 | Test loss:  0.10124 | Test acc:  0.98\n",
      "Epoch: 16/50 | Train loss:  0.06169 | Train acc:  0.09 | Test loss:  0.08727 | Test acc:  0.98\n",
      "Epoch: 17/50 | Train loss:  0.06198 | Train acc:  0.10 | Test loss:  0.09554 | Test acc:  0.98\n",
      "Epoch: 18/50 | Train loss:  0.06084 | Train acc:  0.09 | Test loss:  0.09317 | Test acc:  0.98\n",
      "Epoch: 19/50 | Train loss:  0.05495 | Train acc:  0.10 | Test loss:  0.09501 | Test acc:  0.98\n",
      "Epoch: 20/50 | Train loss:  0.05726 | Train acc:  0.11 | Test loss:  0.11119 | Test acc:  0.98\n",
      "Epoch: 21/50 | Train loss:  0.05663 | Train acc:  0.10 | Test loss:  0.09907 | Test acc:  0.98\n",
      "Epoch: 22/50 | Train loss:  0.05584 | Train acc:  0.10 | Test loss:  0.09847 | Test acc:  0.98\n",
      "Epoch: 23/50 | Train loss:  0.05320 | Train acc:  0.10 | Test loss:  0.09797 | Test acc:  0.98\n",
      "Epoch: 24/50 | Train loss:  0.05285 | Train acc:  0.10 | Test loss:  0.10191 | Test acc:  0.98\n",
      "Epoch: 25/50 | Train loss:  0.05229 | Train acc:  0.12 | Test loss:  0.12482 | Test acc:  0.98\n",
      "Epoch: 26/50 | Train loss:  0.05047 | Train acc:  0.10 | Test loss:  0.10328 | Test acc:  0.98\n",
      "Epoch: 27/50 | Train loss:  0.04862 | Train acc:  0.10 | Test loss:  0.10321 | Test acc:  0.98\n",
      "Epoch: 28/50 | Train loss:  0.04971 | Train acc:  0.11 | Test loss:  0.10675 | Test acc:  0.98\n",
      "Epoch: 29/50 | Train loss:  0.04486 | Train acc:  0.10 | Test loss:  0.10368 | Test acc:  0.98\n",
      "Epoch: 30/50 | Train loss:  0.04818 | Train acc:  0.10 | Test loss:  0.10135 | Test acc:  0.98\n",
      "Epoch: 31/50 | Train loss:  0.04508 | Train acc:  0.11 | Test loss:  0.10869 | Test acc:  0.98\n",
      "Epoch: 32/50 | Train loss:  0.04620 | Train acc:  0.13 | Test loss:  0.13484 | Test acc:  0.98\n",
      "Epoch: 33/50 | Train loss:  0.04693 | Train acc:  0.10 | Test loss:  0.10437 | Test acc:  0.98\n",
      "Epoch: 34/50 | Train loss:  0.04363 | Train acc:  0.10 | Test loss:  0.10434 | Test acc:  0.98\n",
      "Epoch: 35/50 | Train loss:  0.04548 | Train acc:  0.11 | Test loss:  0.11232 | Test acc:  0.98\n",
      "Epoch: 36/50 | Train loss:  0.04206 | Train acc:  0.12 | Test loss:  0.11980 | Test acc:  0.98\n",
      "Epoch: 37/50 | Train loss:  0.04334 | Train acc:  0.12 | Test loss:  0.11608 | Test acc:  0.98\n",
      "Epoch: 38/50 | Train loss:  0.04389 | Train acc:  0.11 | Test loss:  0.11482 | Test acc:  0.98\n",
      "Epoch: 39/50 | Train loss:  0.04185 | Train acc:  0.12 | Test loss:  0.12230 | Test acc:  0.98\n",
      "Epoch: 40/50 | Train loss:  0.04234 | Train acc:  0.13 | Test loss:  0.12607 | Test acc:  0.98\n",
      "Epoch: 41/50 | Train loss:  0.03935 | Train acc:  0.11 | Test loss:  0.11265 | Test acc:  0.98\n",
      "Epoch: 42/50 | Train loss:  0.04205 | Train acc:  0.14 | Test loss:  0.13569 | Test acc:  0.98\n",
      "Epoch: 43/50 | Train loss:  0.04081 | Train acc:  0.14 | Test loss:  0.13613 | Test acc:  0.98\n",
      "Epoch: 44/50 | Train loss:  0.04049 | Train acc:  0.12 | Test loss:  0.11826 | Test acc:  0.98\n",
      "Epoch: 45/50 | Train loss:  0.03886 | Train acc:  0.14 | Test loss:  0.13988 | Test acc:  0.98\n",
      "Epoch: 46/50 | Train loss:  0.03702 | Train acc:  0.14 | Test loss:  0.14446 | Test acc:  0.98\n",
      "Epoch: 47/50 | Train loss:  0.03686 | Train acc:  0.13 | Test loss:  0.12958 | Test acc:  0.98\n",
      "Epoch: 48/50 | Train loss:  0.03981 | Train acc:  0.13 | Test loss:  0.13374 | Test acc:  0.98\n",
      "Epoch: 49/50 | Train loss:  0.03814 | Train acc:  0.15 | Test loss:  0.15049 | Test acc:  0.98\n",
      "Epoch: 50/50 | Train loss:  0.03876 | Train acc:  0.14 | Test loss:  0.14179 | Test acc:  0.98\n"
     ]
    }
   ],
   "source": [
    "# set seed\n",
    "torch.manual_seed(42)\n",
    "\n",
    "# create an instance of the model\n",
    "mnist_model = MNISTNeuronNetwork()\n",
    "\n",
    "# init weights\n",
    "for module in mnist_model.modules():\n",
    "    if isinstance(module, nn.Linear):\n",
    "        nn.init.xavier_uniform_(module.weight)\n",
    "        nn.init.constant_(module.bias, 0.0)\n",
    "\n",
    "# loss_fn\n",
    "loss_fn = nn.CrossEntropyLoss()\n",
    "\n",
    "# optimizer\n",
    "optimizer = torch.optim.Adam(params=mnist_model.parameters(), lr=0.001)\n",
    "\n",
    "# copy model to device\n",
    "mnist_model.to(device)\n",
    "\n",
    "# batch size\n",
    "batch_size = 16\n",
    "\n",
    "# data loader\n",
    "train_loader = DataLoader(mnist_train, batch_size=batch_size, shuffle=True)\n",
    "\n",
    "test_loader = DataLoader(mnist_test, batch_size=batch_size, shuffle=False)\n",
    "\n",
    "# epochs\n",
    "epochs = 50\n",
    "\n",
    "for epoch in range(epochs):\n",
    "\n",
    "    # accumulated train\n",
    "    accumulated_train_batches = 0\n",
    "    accumulated_train_loss = 0.0\n",
    "    accumulated_train_acc = 0.0\n",
    "\n",
    "    ### TRAINING\n",
    "    for input, target in train_loader:\n",
    "\n",
    "        # copy data to device\n",
    "        input = input.to(device)\n",
    "        target = target.to(device)\n",
    " \n",
    "        # train mode\n",
    "        mnist_model.train()\n",
    "\n",
    "        # forward pass\n",
    "        y_logits = mnist_model(input).squeeze()\n",
    "\n",
    "        # calculate loss\n",
    "        loss = loss_fn(y_logits, target)\n",
    "\n",
    "        # calculate acc\n",
    "        acc = torch.eq(target, torch.argmax(torch.softmax(y_logits, axis=1), axis= 1)).sum().item()\n",
    "\n",
    "        # accumulated losses\n",
    "        accumulated_train_loss += loss\n",
    "\n",
    "        # accumulated acc\n",
    "        accumulated_train_acc += acc\n",
    "\n",
    "        # batches\n",
    "        accumulated_train_batches += 1\n",
    "\n",
    "        # zero gradients\n",
    "        optimizer.zero_grad()\n",
    "\n",
    "        # backward propagation\n",
    "        loss.backward()\n",
    "\n",
    "        # update parameters\n",
    "        optimizer.step()\n",
    "    \n",
    "    train_loss = accumulated_train_loss / accumulated_train_batches\n",
    "    train_acc = accumulated_train_acc / (accumulated_train_batches * batch_size)\n",
    "\n",
    "    # accumulated test\n",
    "    accumulated_test_batches = 0\n",
    "    accumulated_test_loss = 0.0\n",
    "    accumulated_test_acc = 0.0\n",
    "\n",
    "    # test mode\n",
    "    mnist_model.eval()\n",
    "    with torch.inference_mode():\n",
    "\n",
    "        ### TESTING\n",
    "        for input, target in test_loader:\n",
    "\n",
    "            # copy data to device\n",
    "            input = input.to(device)\n",
    "            target = target.to(device)\n",
    "\n",
    "        \n",
    "            # forward pass\n",
    "            y_logits = mnist_model(input).squeeze()\n",
    "\n",
    "            # calculate loss\n",
    "            loss = loss_fn(y_logits, target)\n",
    "\n",
    "            # calculate acc\n",
    "            acc = torch.eq(target, torch.argmax(torch.softmax(y_logits, axis=1), axis= 1)).sum().item()\n",
    "          \n",
    "            # accumulated losses\n",
    "            accumulated_test_loss += loss\n",
    "\n",
    "            # accumulated acc\n",
    "            accumulated_test_acc += acc\n",
    "\n",
    "            # batches\n",
    "            accumulated_test_batches += 1\n",
    "        \n",
    "        test_loss = accumulated_test_loss / accumulated_test_batches\n",
    "        test_acc = accumulated_test_acc / (accumulated_test_batches * batch_size)\n",
    "\n",
    "        print(f\"Epoch: {epoch + 1}/{epochs} | Train loss: {train_loss: 0.5f} | Train acc: {test_loss: 0.2f} | Test loss: {test_loss: 0.5f} | Test acc: {test_acc: 0.2f}\")\n"
   ]
  },
  {
   "cell_type": "code",
   "execution_count": 40,
   "metadata": {},
   "outputs": [
    {
     "data": {
      "text/plain": [
       "(tensor([7, 2, 1, 0, 4]), tensor([7, 2, 1, 0, 4]))"
      ]
     },
     "execution_count": 40,
     "metadata": {},
     "output_type": "execute_result"
    }
   ],
   "source": [
    "# evaluation\n",
    "# eval mode\n",
    "mnist_model.eval()\n",
    "with torch.inference_mode():\n",
    "    y_pred_logits = mnist_model(test_data.type(torch.float32).to(device)).squeeze()\n",
    "    y_pred_probalities = torch.softmax(y_pred_logits, dim=1)\n",
    "    y_pred = torch.argmax(y_pred_probalities, dim=1)\n",
    "    y_pred_cpu = y_pred.cpu()\n",
    "\n",
    "y_pred_cpu[:5], test_labels[:5]"
   ]
  },
  {
   "cell_type": "code",
   "execution_count": 41,
   "metadata": {},
   "outputs": [
    {
     "data": {
      "image/png": "[encoded data removed]",
      "text/plain": [
       "<Figure size 640x480 with 4 Axes>"
      ]
     },
     "metadata": {},
     "output_type": "display_data"
    }
   ],
   "source": [
    "# visualization\n",
    "for i in range(1,5):\n",
    "    plt.subplot(2,2,i)\n",
    "    plt.imshow(test_data[i])\n",
    "    plt.title(class_names[test_labels[i]] + \" - \" + class_names[y_pred_cpu[i]])\n",
    "    plt.xticks([])\n",
    "    plt.yticks([])"
   ]
  },
  {
   "cell_type": "code",
   "execution_count": 57,
   "metadata": {},
   "outputs": [
    {
     "data": {
      "text/plain": [
       "tensor(0.9588, device='cuda:0')"
      ]
     },
     "execution_count": 57,
     "metadata": {},
     "output_type": "execute_result"
    }
   ],
   "source": [
    "# torchmetrics\n",
    "from torchmetrics import Accuracy\n",
    "\n",
    "torchmetrics_accuracy = Accuracy(task=\"multiclass\", num_classes=10).to(device)\n",
    "\n",
    "torchmetrics_accuracy(y_pred, test_labels.to(device))"
   ]
  }
 ],
 "metadata": {
  "kernelspec": {
   "display_name": "tadac",
   "language": "python",
   "name": "python3"
  },
  "language_info": {
   "codemirror_mode": {
    "name": "ipython",
    "version": 3
   },
   "file_extension": ".py",
   "mimetype": "text/x-python",
   "name": "python",
   "nbconvert_exporter": "python",
   "pygments_lexer": "ipython3",
   "version": "3.8.0"
  },
  "orig_nbformat": 4
 },
 "nbformat": 4,
 "nbformat_minor": 2
}
